{
 "cells": [
  {
   "cell_type": "code",
   "execution_count": 1,
   "metadata": {},
   "outputs": [],
   "source": [
    "%matplotlib inline\n",
    "\n",
    "morange = u'#ff7f0e'\n",
    "mblue = u'#1f77b4'\n",
    "mgreen = u'#2ca02c'\n",
    "mred = u'#d62728'\n",
    "mpurple = u'#9467bd'"
   ]
  },
  {
   "cell_type": "code",
   "execution_count": 2,
   "metadata": {},
   "outputs": [],
   "source": [
    "def get_snapshot_fname(redshift):\n",
    "    \n",
    "    basename_z0p00 = \"umachine_color_mock_v4_m000-499.hdf5\"\n",
    "    basename_z0p25 = \"umachine_color_mock_v4_m000-392.hdf5\"\n",
    "    basename_z0p50 = \"umachine_color_mock_v4_m000-331.hdf5\"\n",
    "    basename_z0p75 = \"umachine_color_mock_v4_m000-286.hdf5\"\n",
    "    basename_z1p00 = \"umachine_color_mock_v4_m000-253.hdf5\"\n",
    "    \n",
    "    if redshift == 0.0:\n",
    "        basename = basename_z0p00\n",
    "    elif redshift == 0.25:\n",
    "        basename = basename_z0p25\n",
    "    elif redshift == 0.5:\n",
    "        basename = basename_z0p50\n",
    "    elif redshift == 0.75:\n",
    "        basename = basename_z0p75\n",
    "    elif redshift == 1.0:\n",
    "        basename = basename_z1p00\n",
    "    else:\n",
    "        raise ValueError(\"Redshift not found\")\n",
    "    return basename\n"
   ]
  },
  {
   "cell_type": "code",
   "execution_count": 3,
   "metadata": {},
   "outputs": [
    {
     "name": "stderr",
     "output_type": "stream",
     "text": [
      "/Users/aphearin/anaconda/lib/python2.7/site-packages/h5py/__init__.py:36: FutureWarning: Conversion of the second argument of issubdtype from `float` to `np.floating` is deprecated. In future, it will be treated as `np.float64 == np.dtype(float).type`.\n",
      "  from ._conv import register_converters as _register_converters\n"
     ]
    },
    {
     "name": "stdout",
     "output_type": "stream",
     "text": [
      "['ra', 'dec', 'z', 'sm', 'ssfr', 'nd', 'restframe_extincted_sdss_abs_magr', 'restframe_extincted_sdss_gr', 'restframe_extincted_sdss_ri', 'size_kpc', 'dr7_PhotoObj_Table_ID', 'sfr_percentile_fixed_sm', 'gr_percentile_fixed_magr']\n",
      "['source_halo_id', 'target_halo_id', 'target_halo_x', 'target_halo_y', 'target_halo_z', 'target_halo_vx', 'target_halo_vy', 'target_halo_vz', 'target_halo_mass', 'host_halo_mvir', 'upid', 'mpeak', 'host_centric_x', 'host_centric_y', 'host_centric_z', 'host_centric_vx', 'host_centric_vy', 'host_centric_vz', 'obs_sm', 'obs_sfr', 'sfr_percentile', 'um_mag_r_rest', 'um_gr_rest', 'um_ri_rest', 'is_on_red_sequence_gr', 'is_on_red_sequence_ri', 'x', 'vx', 'y', 'vy', 'z', 'vz', 'lightcone_id', 'redshift', 'um_mag_g_rest']\n"
     ]
    }
   ],
   "source": [
    "import os\n",
    "\n",
    "from cosmodc2.sdss_colors import load_umachine_processed_sdss_catalog\n",
    "sdss = load_umachine_processed_sdss_catalog()\n",
    "print(sdss.keys())\n",
    "\n",
    "\n",
    "logsm_cut = 8\n",
    "Lbox = 256.\n",
    "\n",
    "import os\n",
    "dirname = \"/Volumes/simulation_data_2018/protoDC2_v4\"\n",
    "redshift = 0.0\n",
    "basename = get_snapshot_fname(redshift)\n",
    "fname = os.path.join(dirname, basename)\n",
    "\n",
    "from astropy.table import Table\n",
    "mock = Table.read(fname, path='data')\n",
    "mock['redshift'] = redshift\n",
    "mock.rename_column('restframe_extincted_sdss_abs_magr', 'um_mag_r_rest')\n",
    "mock.rename_column('restframe_extincted_sdss_gr', 'um_gr_rest')\n",
    "mock.rename_column('restframe_extincted_sdss_ri', 'um_ri_rest')\n",
    "mock['um_mag_g_rest'] = mock['um_gr_rest'] + mock['um_mag_r_rest']\n",
    "mock = mock[mock['obs_sm'] > 10**logsm_cut]\n",
    "\n",
    "print(mock.keys())\n",
    "\n",
    "Lbox_physical = Lbox/(1. + redshift)\n",
    "mock.Veff = Lbox_physical**3."
   ]
  },
  {
   "cell_type": "code",
   "execution_count": 4,
   "metadata": {},
   "outputs": [],
   "source": [
    "# import os\n",
    "# dirname = \"/Volumes/simulation_data_2018/protoDC2_v4\"\n",
    "# redshift = 0.5\n",
    "# basename = get_snapshot_fname(redshift)\n",
    "# fname = os.path.join(dirname, basename)\n",
    "\n",
    "# from astropy.table import Table\n",
    "# mock_0p5 = Table.read(fname, path='data')\n",
    "# mock_0p5['redshift'] = redshift\n",
    "# mock_0p5.rename_column('restframe_extincted_sdss_abs_magr', 'um_mag_r_rest')\n",
    "# mock_0p5.rename_column('restframe_extincted_sdss_gr', 'um_gr_rest')\n",
    "# mock_0p5.rename_column('restframe_extincted_sdss_ri', 'um_ri_rest')\n",
    "# mock_0p5['um_mag_g_rest'] = mock_0p5['um_gr_rest'] + mock_0p5['um_mag_r_rest']\n",
    "# mock_0p5 = mock_0p5[mock_0p5['obs_sm'] > 10**logsm_cut]\n",
    "\n",
    "# print(mock_0p5.keys())\n",
    "\n",
    "# Lbox_physical = Lbox/(1. + redshift)\n",
    "# mock_0p5.Veff = Lbox_physical**3."
   ]
  },
  {
   "cell_type": "code",
   "execution_count": 5,
   "metadata": {},
   "outputs": [
    {
     "name": "stdout",
     "output_type": "stream",
     "text": [
      "['source_halo_id', 'target_halo_id', 'target_halo_x', 'target_halo_y', 'target_halo_z', 'target_halo_vx', 'target_halo_vy', 'target_halo_vz', 'target_halo_mass', 'host_halo_mvir', 'upid', 'mpeak', 'host_centric_x', 'host_centric_y', 'host_centric_z', 'host_centric_vx', 'host_centric_vy', 'host_centric_vz', 'obs_sm', 'obs_sfr', 'sfr_percentile', 'um_mag_r_rest', 'um_gr_rest', 'um_ri_rest', 'is_on_red_sequence_gr', 'is_on_red_sequence_ri', 'x', 'vx', 'y', 'vy', 'z', 'vz', 'lightcone_id', 'redshift', 'um_mag_g_rest']\n"
     ]
    }
   ],
   "source": [
    "import os\n",
    "dirname = \"/Volumes/simulation_data_2018/protoDC2_v4\"\n",
    "redshift = 1.0\n",
    "basename = get_snapshot_fname(redshift)\n",
    "fname = os.path.join(dirname, basename)\n",
    "\n",
    "from astropy.table import Table\n",
    "mock_1p0 = Table.read(fname, path='data')\n",
    "mock_1p0['redshift'] = redshift\n",
    "mock_1p0.rename_column('restframe_extincted_sdss_abs_magr', 'um_mag_r_rest')\n",
    "mock_1p0.rename_column('restframe_extincted_sdss_gr', 'um_gr_rest')\n",
    "mock_1p0.rename_column('restframe_extincted_sdss_ri', 'um_ri_rest')\n",
    "mock_1p0['um_mag_g_rest'] = mock_1p0['um_gr_rest'] + mock_1p0['um_mag_r_rest']\n",
    "mock_1p0 = mock_1p0[mock_1p0['obs_sm'] > 10**logsm_cut]\n",
    "\n",
    "print(mock_1p0.keys())\n",
    "\n",
    "Lbox_physical = Lbox/(1. + redshift)\n",
    "mock_1p0.Veff = Lbox_physical**3."
   ]
  },
  {
   "cell_type": "code",
   "execution_count": 6,
   "metadata": {},
   "outputs": [],
   "source": [
    "from cosmodc2.stellar_mass_remapping import lift_high_mass_mstar\n",
    "\n",
    "new_mstar = lift_high_mass_mstar(\n",
    "        mock['mpeak'], mock['obs_sm'], mock['upid'],  mock['redshift'])\n",
    "mock['new_mstar'] = new_mstar\n",
    "    \n",
    "from cosmodc2.sdss_colors import magr_monte_carlo\n",
    "mock['new_um_mag_r_rest'] = magr_monte_carlo(\n",
    "    mock['new_mstar'], mock['upid'], mock['redshift'])\n",
    "mock['new2_um_mag_r_rest'] = magr_monte_carlo(\n",
    "    mock['new_mstar'], mock['upid'], mock['redshift'])\n"
   ]
  },
  {
   "cell_type": "code",
   "execution_count": 7,
   "metadata": {},
   "outputs": [],
   "source": [
    "new_mstar = lift_high_mass_mstar(\n",
    "        mock_1p0['mpeak'], mock_1p0['obs_sm'], mock_1p0['upid'],  mock_1p0['redshift'])\n",
    "mock_1p0['new_mstar'] = new_mstar\n",
    "    \n",
    "from cosmodc2.sdss_colors import magr_monte_carlo\n",
    "mock_1p0['new_um_mag_r_rest'] = magr_monte_carlo(\n",
    "    mock_1p0['new_mstar'], mock_1p0['upid'], mock_1p0['redshift'])\n",
    "mock_1p0['new2_um_mag_r_rest'] = magr_monte_carlo(\n",
    "    mock_1p0['new_mstar'], mock_1p0['upid'], mock_1p0['redshift'])\n"
   ]
  },
  {
   "cell_type": "code",
   "execution_count": 8,
   "metadata": {},
   "outputs": [],
   "source": [
    "from cosmodc2.sdss_colors import gr_ri_monte_carlo\n",
    "\n",
    "gr, ri, is_quiescent_ri, is_quiescent_gr = gr_ri_monte_carlo(\n",
    "    mock['new_um_mag_r_rest'], mock['sfr_percentile'], mock['redshift'])\n",
    "mock['new_um_gr_rest'] = gr\n",
    "mock['new_um_ri_rest'] = ri\n",
    "mock['new_um_is_quiescent_gr'] = is_quiescent_gr\n",
    "mock['new_um_is_quiescent_ri'] = is_quiescent_ri\n",
    "\n",
    "#  blueshift_factor_table_gr=(1., 2., 4.)\n",
    "gr, ri, is_quiescent_ri, is_quiescent_gr = gr_ri_monte_carlo(\n",
    "    mock['new_um_mag_r_rest'], mock['sfr_percentile'], mock['redshift'],\n",
    "    blueshift_factor_table_gr=(1., 2., 4.), blueshift_factor_table_ri=(1., 2., 4.))\n",
    "mock['new2_um_gr_rest'] = gr\n",
    "mock['new2_um_ri_rest'] = ri\n",
    "mock['new2_um_is_quiescent_gr'] = is_quiescent_gr\n",
    "mock['new2_um_is_quiescent_ri'] = is_quiescent_ri\n"
   ]
  },
  {
   "cell_type": "code",
   "execution_count": 9,
   "metadata": {},
   "outputs": [],
   "source": [
    "gr, ri, is_quiescent_ri, is_quiescent_gr = gr_ri_monte_carlo(\n",
    "    mock_1p0['new_um_mag_r_rest'], mock_1p0['sfr_percentile'], mock_1p0['redshift'])\n",
    "mock_1p0['new_um_gr_rest'] = gr\n",
    "mock_1p0['new_um_ri_rest'] = ri\n",
    "mock_1p0['new_um_is_quiescent_gr'] = is_quiescent_gr\n",
    "mock_1p0['new_um_is_quiescent_ri'] = is_quiescent_ri\n",
    "\n",
    "#  blueshift_factor_table_gr=(1., 2., 4.)\n",
    "gr, ri, is_quiescent_ri, is_quiescent_gr = gr_ri_monte_carlo(\n",
    "    mock_1p0['new_um_mag_r_rest'], mock_1p0['sfr_percentile'], mock_1p0['redshift'],\n",
    "    blueshift_factor_table_gr=(1., 2., 4.), blueshift_factor_table_ri=(1., 2., 4.))\n",
    "mock_1p0['new2_um_gr_rest'] = gr\n",
    "mock_1p0['new2_um_ri_rest'] = ri\n",
    "mock_1p0['new2_um_is_quiescent_gr'] = is_quiescent_gr\n",
    "mock_1p0['new2_um_is_quiescent_ri'] = is_quiescent_ri"
   ]
  },
  {
   "cell_type": "code",
   "execution_count": 10,
   "metadata": {},
   "outputs": [
    {
     "name": "stdout",
     "output_type": "stream",
     "text": [
      "['source_halo_id', 'target_halo_id', 'target_halo_x', 'target_halo_y', 'target_halo_z', 'target_halo_vx', 'target_halo_vy', 'target_halo_vz', 'target_halo_mass', 'host_halo_mvir', 'upid', 'mpeak', 'host_centric_x', 'host_centric_y', 'host_centric_z', 'host_centric_vx', 'host_centric_vy', 'host_centric_vz', 'obs_sm', 'obs_sfr', 'sfr_percentile', 'um_mag_r_rest', 'um_gr_rest', 'um_ri_rest', 'is_on_red_sequence_gr', 'is_on_red_sequence_ri', 'x', 'vx', 'y', 'vy', 'z', 'vz', 'lightcone_id', 'redshift', 'um_mag_g_rest', 'new_mstar', 'new_um_mag_r_rest', 'new2_um_mag_r_rest', 'new_um_gr_rest', 'new_um_ri_rest', 'new_um_is_quiescent_gr', 'new_um_is_quiescent_ri', 'new2_um_gr_rest', 'new2_um_ri_rest', 'new2_um_is_quiescent_gr', 'new2_um_is_quiescent_ri']\n"
     ]
    }
   ],
   "source": [
    "print(mock.keys())"
   ]
  },
  {
   "cell_type": "code",
   "execution_count": 11,
   "metadata": {},
   "outputs": [],
   "source": [
    "# mag_r_mask1 = mock['new_um_mag_r_rest'] < -19\n",
    "# mag_r_mask1 *= mock['new_um_mag_r_rest'] >= -20\n",
    "\n",
    "# mag_r_mask1_1p0 = mock_1p0['new_um_mag_r_rest'] < -20\n",
    "# mag_r_mask1_1p0 *= mock_1p0['new_um_mag_r_rest'] >= -21\n",
    "\n",
    "# fig, ax = plt.subplots(1, 1)\n",
    "\n",
    "\n",
    "# gr_bins = np.linspace(0, 1.25, 50)\n",
    "# __=ax.hist(mock['new_um_gr_rest'][mag_r_mask1], normed=True, bins=gr_bins, \n",
    "#           alpha=0.9, color=morange)\n",
    "# __=ax.hist(mock_1p0['new_um_gr_rest'][mag_r_mask1_1p0], normed=True, bins=gr_bins, \n",
    "#           alpha=0.9, color=mblue)"
   ]
  },
  {
   "cell_type": "code",
   "execution_count": 12,
   "metadata": {},
   "outputs": [],
   "source": [
    "# mag_r_mask1 = mock['new_um_mag_r_rest'] < -19\n",
    "# mag_r_mask1 *= mock['new_um_mag_r_rest'] >= -20\n",
    "\n",
    "# mag_r_mask1_1p0 = mock_1p0['new_um_mag_r_rest'] < -20\n",
    "# mag_r_mask1_1p0 *= mock_1p0['new_um_mag_r_rest'] >= -21\n",
    "\n",
    "# fig, ax = plt.subplots(1, 1)\n",
    "\n",
    "\n",
    "# ri_bins = np.linspace(0, 0.85, 100)\n",
    "# __=ax.hist(mock['new_um_ri_rest'][mag_r_mask1], normed=True, bins=ri_bins, \n",
    "#           alpha=0.9, color=morange)\n",
    "# __=ax.hist(mock_1p0['new_um_ri_rest'][mag_r_mask1_1p0], normed=True, bins=ri_bins, \n",
    "#           alpha=0.9, color=mblue)\n",
    "# xlim = ax.set_xlim(0, 0.6)"
   ]
  },
  {
   "cell_type": "code",
   "execution_count": null,
   "metadata": {},
   "outputs": [],
   "source": [
    "## Compare color evolution for "
   ]
  },
  {
   "cell_type": "code",
   "execution_count": 16,
   "metadata": {},
   "outputs": [
    {
     "data": {
      "image/png": "[encoded data removed]",
      "text/plain": [
       "<matplotlib.figure.Figure at 0x10cbc6450>"
      ]
     },
     "metadata": {},
     "output_type": "display_data"
    }
   ],
   "source": [
    "mag_r_mask1 = mock['new_um_mag_r_rest'] < -19\n",
    "mag_r_mask1 *= mock['new_um_mag_r_rest'] >= -20\n",
    "\n",
    "mag_r_mask1_1p0 = mock_1p0['new_um_mag_r_rest'] < -19\n",
    "mag_r_mask1_1p0 *= mock_1p0['new_um_mag_r_rest'] >= -20\n",
    "\n",
    "fig, (ax1, ax2) = plt.subplots(1, 2, figsize=(10, 4))\n",
    "\n",
    "\n",
    "gr_bins = np.linspace(0, 1.25, 50)\n",
    "__=ax1.hist(mock['new_um_gr_rest'][mag_r_mask1], normed=True, bins=gr_bins, \n",
    "          alpha=0.9, color=morange, label=r'${\\rm z=0}$')\n",
    "__=ax1.hist(mock_1p0['new_um_gr_rest'][mag_r_mask1_1p0], normed=True, bins=gr_bins, \n",
    "          alpha=0.9, color=mblue, label=r'${\\rm z=1}$')\n",
    "\n",
    "ri_bins = np.linspace(0, 0.85, 100)\n",
    "__=ax2.hist(mock['new_um_ri_rest'][mag_r_mask1], normed=True, bins=ri_bins, \n",
    "          alpha=0.9, color=morange, label=r'${\\rm z=0}$')\n",
    "__=ax2.hist(mock_1p0['new_um_ri_rest'][mag_r_mask1_1p0], normed=True, bins=ri_bins, \n",
    "          alpha=0.9, color=mblue, label=r'${\\rm z=1}$')\n",
    "\n",
    "xlim1 = ax1.set_xlim(0, 1.1)\n",
    "xlim2 = ax2.set_xlim(0, 0.6)\n",
    "\n",
    "xlabel1 = ax1.set_xlabel(r'${\\rm g-r}$')\n",
    "xlabel2 = ax2.set_xlabel(r'${\\rm r-i}$')\n",
    "\n",
    "legend1 = ax1.legend()\n",
    "legend2 = ax2.legend()"
   ]
  },
  {
   "cell_type": "code",
   "execution_count": 17,
   "metadata": {},
   "outputs": [
    {
     "data": {
      "image/png": "[encoded data removed]",
      "text/plain": [
       "<matplotlib.figure.Figure at 0x11a2fd490>"
      ]
     },
     "metadata": {},
     "output_type": "display_data"
    }
   ],
   "source": [
    "mag_r_mask1 = mock['new_um_mag_r_rest'] < -19\n",
    "mag_r_mask1 *= mock['new_um_mag_r_rest'] >= -20\n",
    "\n",
    "mag_r_mask1_1p0 = mock_1p0['new_um_mag_r_rest'] < -19\n",
    "mag_r_mask1_1p0 *= mock_1p0['new_um_mag_r_rest'] >= -20\n",
    "\n",
    "fig, (ax1, ax2) = plt.subplots(1, 2, figsize=(10, 4))\n",
    "\n",
    "\n",
    "gr_bins = np.linspace(0, 1.25, 50)\n",
    "__=ax1.hist(mock['new_um_gr_rest'][mag_r_mask1], normed=True, bins=gr_bins, \n",
    "          alpha=0.9, color=morange, label=r'${\\rm model\\ 1}$')\n",
    "__=ax1.hist(mock['new2_um_gr_rest'][mag_r_mask1], normed=True, bins=gr_bins, \n",
    "          alpha=0.9, color=mblue, label=r'${\\rm model\\ 2}$')\n",
    "title1 = ax1.set_title(r'${\\rm z=0}$')\n",
    "\n",
    "ri_bins = np.linspace(0, 0.85, 100)\n",
    "__=ax2.hist(mock_1p0['new_um_gr_rest'][mag_r_mask1_1p0], normed=True, bins=gr_bins, \n",
    "          alpha=0.9, color=morange, label=r'${\\rm model\\ 1}$')\n",
    "__=ax2.hist(mock_1p0['new2_um_gr_rest'][mag_r_mask1_1p0], normed=True, bins=gr_bins, \n",
    "          alpha=0.9, color=mblue, label=r'${\\rm model\\ 2}$')\n",
    "title2 = ax2.set_title(r'${\\rm z=1}$')\n",
    "\n",
    "xlim1 = ax1.set_xlim(0, 1.1)\n",
    "xlim2 = ax2.set_xlim(0, 1.1)\n",
    "\n",
    "xlabel1 = ax1.set_xlabel(r'${\\rm g-r}$')\n",
    "xlabel2 = ax2.set_xlabel(r'${\\rm g-r}$')\n",
    "\n",
    "legend1 = ax1.legend()\n",
    "legend2 = ax2.legend()"
   ]
  },
  {
   "cell_type": "code",
   "execution_count": 18,
   "metadata": {},
   "outputs": [
    {
     "data": {
      "image/png": "[encoded data removed]",
      "text/plain": [
       "<matplotlib.figure.Figure at 0x11a7a4450>"
      ]
     },
     "metadata": {},
     "output_type": "display_data"
    }
   ],
   "source": [
    "mag_r_mask1 = mock['new_um_mag_r_rest'] < -19\n",
    "mag_r_mask1 *= mock['new_um_mag_r_rest'] >= -20\n",
    "\n",
    "mag_r_mask1_1p0 = mock_1p0['new_um_mag_r_rest'] < -19\n",
    "mag_r_mask1_1p0 *= mock_1p0['new_um_mag_r_rest'] >= -20\n",
    "\n",
    "fig, (ax1, ax2) = plt.subplots(1, 2, figsize=(10, 4))\n",
    "\n",
    "\n",
    "gr_bins = np.linspace(0, 1.25, 50)\n",
    "__=ax1.hist(mock['new_um_ri_rest'][mag_r_mask1], normed=True, bins=ri_bins, \n",
    "          alpha=0.9, color=morange, label=r'${\\rm model\\ 1}$')\n",
    "__=ax1.hist(mock['new2_um_ri_rest'][mag_r_mask1], normed=True, bins=ri_bins, \n",
    "          alpha=0.9, color=mblue, label=r'${\\rm model\\ 2}$')\n",
    "title1 = ax1.set_title(r'${\\rm z=0}$')\n",
    "\n",
    "ri_bins = np.linspace(0, 0.85, 100)\n",
    "__=ax2.hist(mock_1p0['new_um_ri_rest'][mag_r_mask1_1p0], normed=True, bins=ri_bins, \n",
    "          alpha=0.9, color=morange, label=r'${\\rm model\\ 1}$')\n",
    "__=ax2.hist(mock_1p0['new2_um_ri_rest'][mag_r_mask1_1p0], normed=True, bins=ri_bins, \n",
    "          alpha=0.9, color=mblue, label=r'${\\rm model\\ 2}$')\n",
    "title2 = ax2.set_title(r'${\\rm z=1}$')\n",
    "\n",
    "xlim1 = ax1.set_xlim(0, 0.6)\n",
    "xlim2 = ax2.set_xlim(0, 0.6)\n",
    "\n",
    "xlabel1 = ax1.set_xlabel(r'${\\rm r-i}$')\n",
    "xlabel2 = ax2.set_xlabel(r'${\\rm r-i}$')\n",
    "\n",
    "legend1 = ax1.legend()\n",
    "legend2 = ax2.legend()"
   ]
  },
  {
   "cell_type": "markdown",
   "metadata": {},
   "source": [
    "## How about for bright galaxies?"
   ]
  },
  {
   "cell_type": "code",
   "execution_count": 19,
   "metadata": {},
   "outputs": [
    {
     "data": {
      "image/png": "[encoded data removed]",
      "text/plain": [
       "<matplotlib.figure.Figure at 0x11df91ed0>"
      ]
     },
     "metadata": {},
     "output_type": "display_data"
    }
   ],
   "source": [
    "mag_r_mask1 = mock['new_um_mag_r_rest'] < -21.5\n",
    "mag_r_mask1_1p0 = mock_1p0['new_um_mag_r_rest'] < -21.5\n",
    "\n",
    "fig, (ax1, ax2) = plt.subplots(1, 2, figsize=(10, 4))\n",
    "\n",
    "\n",
    "gr_bins = np.linspace(0, 1.25, 50)\n",
    "__=ax1.hist(mock['new_um_gr_rest'][mag_r_mask1], normed=True, bins=gr_bins, \n",
    "          alpha=0.9, color=morange, label=r'${\\rm z=0}$')\n",
    "__=ax1.hist(mock_1p0['new_um_gr_rest'][mag_r_mask1_1p0], normed=True, bins=gr_bins, \n",
    "          alpha=0.9, color=mblue, label=r'${\\rm z=1}$')\n",
    "\n",
    "ri_bins = np.linspace(0, 0.85, 100)\n",
    "__=ax2.hist(mock['new_um_ri_rest'][mag_r_mask1], normed=True, bins=ri_bins, \n",
    "          alpha=0.9, color=morange, label=r'${\\rm z=0}$')\n",
    "__=ax2.hist(mock_1p0['new_um_ri_rest'][mag_r_mask1_1p0], normed=True, bins=ri_bins, \n",
    "          alpha=0.9, color=mblue, label=r'${\\rm z=1}$')\n",
    "\n",
    "xlim1 = ax1.set_xlim(0, 1.1)\n",
    "xlim2 = ax2.set_xlim(0, 0.6)\n",
    "\n",
    "xlabel1 = ax1.set_xlabel(r'${\\rm g-r}$')\n",
    "xlabel2 = ax2.set_xlabel(r'${\\rm r-i}$')\n",
    "\n",
    "legend1 = ax1.legend()\n",
    "legend2 = ax2.legend()"
   ]
  },
  {
   "cell_type": "code",
   "execution_count": 20,
   "metadata": {},
   "outputs": [
    {
     "data": {
      "image/png": "[encoded data removed]",
      "text/plain": [
       "<matplotlib.figure.Figure at 0x106363e90>"
      ]
     },
     "metadata": {},
     "output_type": "display_data"
    }
   ],
   "source": [
    "mag_r_mask1 = mock['new_um_mag_r_rest'] < -21.5\n",
    "mag_r_mask1_1p0 = mock_1p0['new_um_mag_r_rest'] < -21.5\n",
    "\n",
    "fig, (ax1, ax2) = plt.subplots(1, 2, figsize=(10, 4))\n",
    "\n",
    "\n",
    "gr_bins = np.linspace(0, 1.25, 50)\n",
    "__=ax1.hist(mock['new_um_gr_rest'][mag_r_mask1], normed=True, bins=gr_bins, \n",
    "          alpha=0.9, color=morange, label=r'${\\rm model\\ 1}$')\n",
    "__=ax1.hist(mock['new2_um_gr_rest'][mag_r_mask1], normed=True, bins=gr_bins, \n",
    "          alpha=0.9, color=mblue, label=r'${\\rm model\\ 2}$')\n",
    "title1 = ax1.set_title(r'${\\rm z=0}$')\n",
    "\n",
    "ri_bins = np.linspace(0, 0.85, 100)\n",
    "__=ax2.hist(mock_1p0['new_um_gr_rest'][mag_r_mask1_1p0], normed=True, bins=gr_bins, \n",
    "          alpha=0.9, color=morange, label=r'${\\rm model\\ 1}$')\n",
    "__=ax2.hist(mock_1p0['new2_um_gr_rest'][mag_r_mask1_1p0], normed=True, bins=gr_bins, \n",
    "          alpha=0.9, color=mblue, label=r'${\\rm model\\ 2}$')\n",
    "title2 = ax2.set_title(r'${\\rm z=1}$')\n",
    "\n",
    "xlim1 = ax1.set_xlim(0, 1.1)\n",
    "xlim2 = ax2.set_xlim(0, 1.1)\n",
    "\n",
    "xlabel1 = ax1.set_xlabel(r'${\\rm g-r}$')\n",
    "xlabel2 = ax2.set_xlabel(r'${\\rm g-r}$')\n",
    "\n",
    "legend1 = ax1.legend()\n",
    "legend2 = ax2.legend()"
   ]
  },
  {
   "cell_type": "code",
   "execution_count": 21,
   "metadata": {},
   "outputs": [
    {
     "data": {
      "image/png": "[encoded data removed]",
      "text/plain": [
       "<matplotlib.figure.Figure at 0x1184a4d50>"
      ]
     },
     "metadata": {},
     "output_type": "display_data"
    }
   ],
   "source": [
    "mag_r_mask1 = mock['new_um_mag_r_rest'] < -21.5\n",
    "mag_r_mask1_1p0 = mock_1p0['new_um_mag_r_rest'] < -21.5\n",
    "\n",
    "fig, (ax1, ax2) = plt.subplots(1, 2, figsize=(10, 4))\n",
    "\n",
    "\n",
    "gr_bins = np.linspace(0, 1.25, 50)\n",
    "__=ax1.hist(mock['new_um_ri_rest'][mag_r_mask1], normed=True, bins=ri_bins, \n",
    "          alpha=0.9, color=morange, label=r'${\\rm model\\ 1}$')\n",
    "__=ax1.hist(mock['new2_um_ri_rest'][mag_r_mask1], normed=True, bins=ri_bins, \n",
    "          alpha=0.9, color=mblue, label=r'${\\rm model\\ 2}$')\n",
    "title1 = ax1.set_title(r'${\\rm z=0}$')\n",
    "\n",
    "ri_bins = np.linspace(0, 0.85, 100)\n",
    "__=ax2.hist(mock_1p0['new_um_ri_rest'][mag_r_mask1_1p0], normed=True, bins=ri_bins, \n",
    "          alpha=0.9, color=morange, label=r'${\\rm model\\ 1}$')\n",
    "__=ax2.hist(mock_1p0['new2_um_ri_rest'][mag_r_mask1_1p0], normed=True, bins=ri_bins, \n",
    "          alpha=0.9, color=mblue, label=r'${\\rm model\\ 2}$')\n",
    "title2 = ax2.set_title(r'${\\rm z=1}$')\n",
    "\n",
    "xlim1 = ax1.set_xlim(0, 0.6)\n",
    "xlim2 = ax2.set_xlim(0, 0.6)\n",
    "\n",
    "xlabel1 = ax1.set_xlabel(r'${\\rm r-i}$')\n",
    "xlabel2 = ax2.set_xlabel(r'${\\rm r-i}$')\n",
    "\n",
    "legend1 = ax1.legend()\n",
    "legend2 = ax2.legend()"
   ]
  },
  {
   "cell_type": "code",
   "execution_count": null,
   "metadata": {},
   "outputs": [],
   "source": []
  },
  {
   "cell_type": "code",
   "execution_count": null,
   "metadata": {},
   "outputs": [],
   "source": []
  }
 ],
 "metadata": {
  "kernelspec": {
   "display_name": "Python [conda root]",
   "language": "python",
   "name": "conda-root-py"
  },
  "language_info": {
   "codemirror_mode": {
    "name": "ipython",
    "version": 2
   },
   "file_extension": ".py",
   "mimetype": "text/x-python",
   "name": "python",
   "nbconvert_exporter": "python",
   "pygments_lexer": "ipython2",
   "version": "2.7.14"
  }
 },
 "nbformat": 4,
 "nbformat_minor": 2
}
