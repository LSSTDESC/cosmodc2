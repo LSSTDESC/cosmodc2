{
 "cells": [
  {
   "cell_type": "code",
   "execution_count": 1,
   "metadata": {},
   "outputs": [],
   "source": [
    "%matplotlib inline"
   ]
  },
  {
   "cell_type": "code",
   "execution_count": 2,
   "metadata": {},
   "outputs": [
    {
     "name": "stderr",
     "output_type": "stream",
     "text": [
      "/Users/aphearin/anaconda/lib/python2.7/site-packages/h5py/__init__.py:36: FutureWarning: Conversion of the second argument of issubdtype from `float` to `np.floating` is deprecated. In future, it will be treated as `np.float64 == np.dtype(float).type`.\n",
      "  from ._conv import register_converters as _register_converters\n"
     ]
    },
    {
     "name": "stdout",
     "output_type": "stream",
     "text": [
      "['ra', 'dec', 'z', 'sm', 'ssfr', 'nd', 'restframe_extincted_sdss_abs_magr', 'restframe_extincted_sdss_gr', 'restframe_extincted_sdss_ri', 'size_kpc', 'dr7_PhotoObj_Table_ID', 'sfr_percentile_fixed_sm', 'gr_percentile_fixed_magr']\n"
     ]
    }
   ],
   "source": [
    "from cosmodc2.sdss_colors import load_umachine_processed_sdss_catalog\n",
    "sdss = load_umachine_processed_sdss_catalog()\n",
    "print(sdss.keys())"
   ]
  },
  {
   "cell_type": "code",
   "execution_count": 3,
   "metadata": {},
   "outputs": [
    {
     "name": "stdout",
     "output_type": "stream",
     "text": [
      "['halo_id', 'upid', 'vpeak', 'mpeak', 'mvir', 'vmax', 'sm', 'sfr', 'obs_sm', 'obs_sfr', 'x', 'y', 'z', 'vx', 'vy', 'vz', 'hostid', 'host_halo_x', 'host_halo_y', 'host_halo_z', 'host_halo_vx', 'host_halo_vy', 'host_halo_vz', 'host_halo_mvir', 'host_centric_x', 'host_centric_y', 'host_centric_z', 'host_centric_vx', 'host_centric_vy', 'host_centric_vz', 'obs_sfr_percentile', 'sfr_percentile']\n"
     ]
    }
   ],
   "source": [
    "import os\n",
    "from astropy.table import Table\n",
    "\n",
    "#  MDPL2-based mock\n",
    "dirname = \"/Users/aphearin/work/random/0331\"\n",
    "basename = \"cutmock_1e9.hdf5\"\n",
    "fname = os.path.join(dirname, basename)\n",
    "mock = Table.read(fname, path='data')\n",
    "mock.Lbox = 500.\n",
    "print(mock.keys())"
   ]
  },
  {
   "cell_type": "code",
   "execution_count": 4,
   "metadata": {},
   "outputs": [
    {
     "name": "stdout",
     "output_type": "stream",
     "text": [
      "['halo_id', 'upid', 'vpeak', 'mpeak', 'mvir', 'vmax', 'sm', 'sfr', 'obs_sm', 'obs_sfr', 'x', 'y', 'z', 'vx', 'vy', 'vz', 'hostid', 'host_halo_x', 'host_halo_y', 'host_halo_z', 'host_halo_vx', 'host_halo_vy', 'host_halo_vz', 'host_halo_mvir', 'host_centric_x', 'host_centric_y', 'host_centric_z', 'host_centric_vx', 'host_centric_vy', 'host_centric_vz', 'obs_sfr_percentile', 'sfr_percentile']\n"
     ]
    }
   ],
   "source": [
    "print(mock.keys())"
   ]
  },
  {
   "cell_type": "code",
   "execution_count": null,
   "metadata": {},
   "outputs": [],
   "source": []
  },
  {
   "cell_type": "code",
   "execution_count": 5,
   "metadata": {},
   "outputs": [],
   "source": [
    "from cosmodc2.sdss_colors import mock_magr\n",
    "\n",
    "mock['restframe_extincted_sdss_abs_magr'] = mock_magr(\n",
    "            mock['upid'], mock['obs_sm'], mock['sfr_percentile'], \n",
    "            mock['host_halo_mvir'], sdss['sm'], sdss['sfr_percentile_fixed_sm'], \n",
    "            sdss['restframe_extincted_sdss_abs_magr'], sdss['z'])\n"
   ]
  },
  {
   "cell_type": "code",
   "execution_count": 6,
   "metadata": {},
   "outputs": [],
   "source": [
    "from cosmodc2.sdss_colors import gr_ri_monte_carlo\n",
    "\n",
    "magr = mock['restframe_extincted_sdss_abs_magr'] \n",
    "percentile = mock['sfr_percentile']\n",
    "redshift = np.zeros_like(magr)\n",
    "\n",
    "gr, ri, is_red_ri, is_red_gr = gr_ri_monte_carlo(\n",
    "    magr, percentile, redshift, local_random_scale=0.1)\n",
    "\n",
    "mock['restframe_extincted_sdss_gr'] = gr\n",
    "mock['restframe_extincted_sdss_ri'] = ri\n",
    "mock['is_red_gr'] = is_red_gr\n",
    "mock['is_red_ri'] = is_red_ri\n",
    "\n",
    "\n",
    "from cosmodc2.sdss_colors import remap_cluster_bcg_gr_ri_color\n",
    "_result = remap_cluster_bcg_gr_ri_color(\n",
    "        mock['upid'], mock['host_halo_mvir'], \n",
    "        np.copy(mock['restframe_extincted_sdss_gr']), \n",
    "        np.copy(mock['restframe_extincted_sdss_ri']), \n",
    "        mock['is_red_gr'], mock['is_red_ri'])\n",
    "gr_remapped, ri_remapped, is_red_gr_remapped, is_red_ri_remapped = _result\n",
    "\n",
    "mock['_gr_no_remap'] = np.copy(mock['restframe_extincted_sdss_gr'])\n",
    "mock['_ri_no_remap'] = np.copy(mock['restframe_extincted_sdss_ri'])\n",
    "mock['restframe_extincted_sdss_gr'] = gr_remapped\n",
    "mock['restframe_extincted_sdss_ri'] = ri_remapped\n",
    "mock['_is_red_ri_no_remap'] = np.copy(is_red_ri)\n",
    "mock['_is_red_gr_no_remap'] = np.copy(is_red_gr)\n",
    "mock['is_red_gr'] = is_red_gr_remapped\n",
    "mock['is_red_ri'] = is_red_ri_remapped\n"
   ]
  },
  {
   "cell_type": "markdown",
   "metadata": {},
   "source": [
    "## Develop remapping probability function"
   ]
  },
  {
   "cell_type": "code",
   "execution_count": 59,
   "metadata": {},
   "outputs": [],
   "source": [
    "from cosmodc2.sdss_colors.fix_cluster_lf import cluster_bcg_red_sequence_gr_ri\n",
    "from halotools.empirical_models import conditional_abunmatch\n",
    "\n",
    "def remap_satellites(mstar, gr, ri, \n",
    "                     gr_red_sequence_median, ri_red_sequence_median, \n",
    "                     gr_red_sequence_scatter, ri_red_sequence_scatter,\n",
    "                    nwin=301):\n",
    "    \"\"\"\n",
    "    \"\"\"\n",
    "    num_to_remap = len(mstar)\n",
    "    bcg_red_sequence_gr, bcg_red_sequence_ri = cluster_bcg_red_sequence_gr_ri(\n",
    "        num_to_remap, gr_red_sequence_median,\n",
    "        ri_red_sequence_median, gr_red_sequence_scatter)\n",
    "\n",
    "    input_gr = gr\n",
    "    desired_gr = bcg_red_sequence_gr\n",
    "    output_gr = conditional_abunmatch(\n",
    "        mstar, input_gr, mstar, desired_gr, nwin)\n",
    "\n",
    "    desired_ri = bcg_red_sequence_ri\n",
    "    noisy_input_gr = np.random.normal(loc=output_gr, scale=0.1)\n",
    "    output_ri = conditional_abunmatch(\n",
    "        mstar, noisy_input_gr, mstar, desired_ri, nwin)\n",
    "    return output_gr, output_ri"
   ]
  },
  {
   "cell_type": "code",
   "execution_count": 96,
   "metadata": {},
   "outputs": [],
   "source": [
    "# x1=(9, 9.75, 10.25, 11), y1=(1., 1., 1., 1.),\n",
    "#             x2=(13.75, 14, 14.5), y2=(0.0, 0.3, 0.5)\n",
    "    \n",
    "def prob_remap_cluster_satellite(upid, mstar, host_halo_mvir,\n",
    "            x1=(9, 9.75, 10.25, 11), y1=(1., 1., 1., 1.),\n",
    "            x2=(13.5, 14, 14.5), y2=(0.0, 0.5, 0.75)):\n",
    "    \"\"\"\n",
    "    \"\"\"\n",
    "    ngals = len(mstar)\n",
    "    satmask = upid != -1\n",
    "    mstar_prob = np.interp(np.log10(mstar), x1, y1)\n",
    "    mhost_prob = np.interp(np.log10(host_halo_mvir), x2, y2)\n",
    "    mstar_mask = np.random.rand(ngals) < mstar_prob\n",
    "    mhost_mask = np.random.rand(ngals) < mhost_prob\n",
    "    remapping_mask = mstar_mask & mhost_mask & satmask\n",
    "    return remapping_mask\n"
   ]
  },
  {
   "cell_type": "code",
   "execution_count": 113,
   "metadata": {},
   "outputs": [
    {
     "data": {
      "image/png": "[encoded data removed]",
      "text/plain": [
       "<matplotlib.figure.Figure at 0x11baa7650>"
      ]
     },
     "metadata": {},
     "output_type": "display_data"
    }
   ],
   "source": [
    "from cosmodc2.sdss_colors.analytical_colors import red_sequence_peak_gr, red_sequence_peak_ri\n",
    "from cosmodc2.sdss_colors.analytical_colors import red_sequence_width_gr, red_sequence_width_ri\n",
    "\n",
    "\n",
    "remapping_mask = prob_remap_cluster_satellite(mock['upid'], mock['obs_sm'],\n",
    "                        mock['host_halo_mvir'])\n",
    "\n",
    "gr_peak = red_sequence_peak_gr(mock['restframe_extincted_sdss_abs_magr'][remapping_mask])\n",
    "ri_peak = red_sequence_peak_ri(mock['restframe_extincted_sdss_abs_magr'][remapping_mask])\n",
    "gr_scatter = 0.04\n",
    "ri_scatter = 0.03\n",
    "\n",
    "mstar = mock['obs_sm'][remapping_mask]\n",
    "gr = mock['restframe_extincted_sdss_gr'][remapping_mask]\n",
    "ri = mock['restframe_extincted_sdss_ri'][remapping_mask]\n",
    "new_gr, new_ri = remap_satellites(mstar, gr, ri, gr_peak, ri_peak, gr_scatter, ri_scatter)\n",
    "\n",
    "mock['modified_gr'] = np.copy(mock['restframe_extincted_sdss_gr'])\n",
    "mock['modified_gr'][remapping_mask] = new_gr\n",
    "mock['modified_ri'] = np.copy(mock['restframe_extincted_sdss_ri'])\n",
    "mock['modified_ri'][remapping_mask] = new_ri\n",
    "\n",
    "magr_mask = mock['restframe_extincted_sdss_abs_magr'] < -19\n",
    "cenmask = mock['upid'] == -1\n",
    "cluster_halo_mask = mock['host_halo_mvir'] > 10**14\n",
    "mw_halo_mask = (mock['host_halo_mvir'] > 10**12) & (mock['host_halo_mvir'] < 10**12.5)\n",
    "\n",
    "\n",
    "fig, ax = plt.subplots(1, 1)\n",
    "\n",
    "nbins = 80\n",
    "# __=ax.hist(mock['restframe_extincted_sdss_gr'][~cenmask & mw_halo_mask & magr_mask], \n",
    "#                bins=nbins, normed=True, alpha=0.8, \n",
    "#               label=r'$z=0\\ {\\rm Milky\\ Way\\ satellites}$')\n",
    "\n",
    "__=ax.hist(mock['_gr_no_remap'][cenmask & cluster_halo_mask & magr_mask], \n",
    "               bins=nbins, normed=True, alpha=0.8, \n",
    "              label=r'${\\rm v3}$')\n",
    "\n",
    "__=ax.hist(mock['modified_gr'][cenmask & cluster_halo_mask & magr_mask], \n",
    "               bins=nbins, normed=True, alpha=0.8, \n",
    "              label=r'${\\rm v4}$')\n",
    "\n",
    "title = ax.set_title(r'${\\rm cluster\\ centrals: M_{halo} > 10^{14}M_{\\odot}}$')\n",
    "# __=ax.hist(mock['modified_gr'][~cenmask & mw_halo_mask & magr_mask], \n",
    "#                bins=nbins, normed=True, alpha=0.8, \n",
    "#               label=r'$z=0\\ {\\rm Milky\\ Way\\ satellites}$')\n",
    "\n",
    "legend = ax.legend()\n",
    "\n",
    "ylim = ax.set_ylim(0, 8.5)\n",
    "figname = 'mw_vs_cluster_central_gr_distribution_v3_vs_v4.pdf'\n",
    "fig.savefig(figname, bbox_extra_artists=[xlabel3], bbox_inches='tight')"
   ]
  },
  {
   "cell_type": "code",
   "execution_count": null,
   "metadata": {},
   "outputs": [],
   "source": []
  },
  {
   "cell_type": "code",
   "execution_count": 112,
   "metadata": {},
   "outputs": [
    {
     "data": {
      "image/png": "[encoded data removed]",
      "text/plain": [
       "<matplotlib.figure.Figure at 0x156c34110>"
      ]
     },
     "metadata": {},
     "output_type": "display_data"
    }
   ],
   "source": [
    "from cosmodc2.sdss_colors.analytical_colors import red_sequence_peak_gr, red_sequence_peak_ri\n",
    "from cosmodc2.sdss_colors.analytical_colors import red_sequence_width_gr, red_sequence_width_ri\n",
    "\n",
    "\n",
    "remapping_mask = prob_remap_cluster_satellite(mock['upid'], mock['obs_sm'],\n",
    "                        mock['host_halo_mvir'])\n",
    "\n",
    "gr_peak = red_sequence_peak_gr(mock['restframe_extincted_sdss_abs_magr'][remapping_mask])\n",
    "ri_peak = red_sequence_peak_ri(mock['restframe_extincted_sdss_abs_magr'][remapping_mask])\n",
    "gr_scatter = 0.04\n",
    "ri_scatter = 0.03\n",
    "\n",
    "mstar = mock['obs_sm'][remapping_mask]\n",
    "gr = mock['restframe_extincted_sdss_gr'][remapping_mask]\n",
    "ri = mock['restframe_extincted_sdss_ri'][remapping_mask]\n",
    "new_gr, new_ri = remap_satellites(mstar, gr, ri, gr_peak, ri_peak, gr_scatter, ri_scatter)\n",
    "\n",
    "mock['modified_gr'] = np.copy(mock['restframe_extincted_sdss_gr'])\n",
    "mock['modified_gr'][remapping_mask] = new_gr\n",
    "mock['modified_ri'] = np.copy(mock['restframe_extincted_sdss_ri'])\n",
    "mock['modified_ri'][remapping_mask] = new_ri\n",
    "\n",
    "magr_mask = mock['restframe_extincted_sdss_abs_magr'] < -19\n",
    "cenmask = mock['upid'] == -1\n",
    "cluster_halo_mask = mock['host_halo_mvir'] > 10**14\n",
    "group_halo_mask = (mock['host_halo_mvir'] > 10**13) & (mock['host_halo_mvir'] < 10**13.5)\n",
    "mw_halo_mask = (mock['host_halo_mvir'] > 10**12) & (mock['host_halo_mvir'] < 10**12.5)\n",
    "\n",
    "\n",
    "fig, (ax1, ax2) = plt.subplots(1, 2, figsize=(10, 4), sharex=True)\n",
    "\n",
    "nbins = 40\n",
    "__=ax1.hist(mock['restframe_extincted_sdss_gr'][~cenmask & mw_halo_mask & magr_mask], \n",
    "               bins=nbins, normed=True, alpha=0.8, \n",
    "              label=r'${\\rm v3}$')\n",
    "\n",
    "__=ax1.hist(mock['modified_gr'][~cenmask & mw_halo_mask & magr_mask], \n",
    "               bins=nbins, normed=True, alpha=0.8, \n",
    "              label=r'${\\rm v4}$')\n",
    "\n",
    "__=ax2.hist(mock['restframe_extincted_sdss_gr'][~cenmask & cluster_halo_mask & magr_mask], \n",
    "               bins=nbins, normed=True, alpha=0.8, \n",
    "              label=r'${\\rm v3}$')\n",
    "\n",
    "__=ax2.hist(mock['modified_gr'][~cenmask & cluster_halo_mask & magr_mask], \n",
    "               bins=nbins, normed=True, alpha=0.8, \n",
    "              label=r'${\\rm v4}$')\n",
    "\n",
    "\n",
    "legend = ax1.legend()\n",
    "legend2 = ax2.legend()\n",
    "xlabel1 = ax1.set_xlabel(r'${\\rm g-r}$')\n",
    "xlabel2 = ax2.set_xlabel(r'${\\rm g-r}$')\n",
    "title1 = ax1.set_title(r'${\\rm Milky\\ Way\\ satellites:\\ M_{r} < -19}$')\n",
    "title2 = ax2.set_title(r'${\\rm Cluster\\ satellites:\\ M_{r} < -19}$')\n",
    "\n",
    "figname = 'mw_vs_cluster_satellite_gr_distribution_v3_vs_v4.pdf'\n",
    "fig.savefig(figname, bbox_extra_artists=[xlabel3], bbox_inches='tight')"
   ]
  },
  {
   "cell_type": "code",
   "execution_count": null,
   "metadata": {},
   "outputs": [],
   "source": [
    "\n"
   ]
  },
  {
   "cell_type": "code",
   "execution_count": null,
   "metadata": {},
   "outputs": [],
   "source": []
  },
  {
   "cell_type": "code",
   "execution_count": 69,
   "metadata": {},
   "outputs": [],
   "source": [
    "from cosmodc2.sdss_colors import zehavi11_clustering\n",
    "from cosmodc2.sdss_colors.sdss_measurements import rp as rp_zehavi\n",
    "\n",
    "wp_blue18p5, wperr_blue18p5 = zehavi11_clustering(-18.5, subsample='blue')\n",
    "wp_red18p5, wperr_red18p5 = zehavi11_clustering(-18.5, subsample='red')\n",
    "\n",
    "wp_blue19p0, wperr_blue19p0 = zehavi11_clustering(-19, subsample='blue')\n",
    "wp_red19p0, wperr_red19p0 = zehavi11_clustering(-19, subsample='red')\n",
    "\n",
    "wp_blue19p5, wperr_blue19p5 = zehavi11_clustering(-19.5, subsample='blue')\n",
    "wp_red19p5, wperr_red19p5 = zehavi11_clustering(-19.5, subsample='red')\n",
    "\n",
    "wp_blue20p0, wperr_blue20p0 = zehavi11_clustering(-20, subsample='blue')\n",
    "wp_red20p0, wperr_red20p0 = zehavi11_clustering(-20, subsample='red')\n",
    "\n",
    "wp_blue20p5, wperr_blue20p5 = zehavi11_clustering(-20.5, subsample='blue')\n",
    "wp_red20p5, wperr_red20p5 = zehavi11_clustering(-20.5, subsample='red')\n",
    "\n",
    "wp_blue21p5, wperr_blue21p5 = zehavi11_clustering(-21.5, subsample='blue')\n",
    "wp_red21p5, wperr_red21p5 = zehavi11_clustering(-21.5, subsample='red')\n"
   ]
  },
  {
   "cell_type": "code",
   "execution_count": 70,
   "metadata": {},
   "outputs": [
    {
     "name": "stdout",
     "output_type": "stream",
     "text": [
      "...calculating wp for 4.00e+05 galaxies and Mr < -19.0\n",
      "...calculating wp for 4.01e+05 galaxies and Mr < -19.0\n",
      "...calculating wp for 4.00e+05 galaxies and Mr < -19.5\n",
      "...calculating wp for 4.00e+05 galaxies and Mr < -19.5\n",
      "...calculating wp for 1.68e+05 galaxies and Mr < -20.5\n",
      "...calculating wp for 2.50e+05 galaxies and Mr < -20.5\n",
      "...calculating wp for 9.49e+03 galaxies and Mr < -21.5\n",
      "...calculating wp for 3.71e+04 galaxies and Mr < -21.5\n"
     ]
    }
   ],
   "source": [
    "from cosmodc2.mock_diagnostics import zehavi_wp\n",
    "\n",
    "protoDC2_littleh = 0.7\n",
    "\n",
    "period = mock.Lbox\n",
    "x, y, z, vz = mock['x'], mock['y'], mock['z'], mock['vz']\n",
    "magr = mock['restframe_extincted_sdss_abs_magr']\n",
    "\n",
    "# rp_mids, wp_v4_18p5_blue = zehavi_wp(x, y, z, vz, \n",
    "#             period, magr, -18.5, protoDC2_littleh, \n",
    "#             subsample='blue', gr_colors=mock['restframe_extincted_sdss_gr'])\n",
    "\n",
    "# rp_mids, wp_v4_18p5_red = zehavi_wp(x, y, z, vz, \n",
    "#             period, magr, -18.5, protoDC2_littleh, \n",
    "#             subsample='red', gr_colors=mock['restframe_extincted_sdss_gr'])\n",
    "\n",
    "rp_mids, wp_v4_19p0_blue = zehavi_wp(x, y, z, vz, \n",
    "            period, magr, -19.0, protoDC2_littleh, \n",
    "            subsample='blue', gr_colors=mock['restframe_extincted_sdss_gr'])\n",
    "\n",
    "rp_mids, wp_v4_19p0_red = zehavi_wp(x, y, z, vz, \n",
    "            period, magr, -19.0, protoDC2_littleh, \n",
    "            subsample='red', gr_colors=mock['restframe_extincted_sdss_gr'])\n",
    "\n",
    "rp_mids, wp_v4_19p5_blue = zehavi_wp(x, y, z, vz, \n",
    "            period, magr, -19.5, protoDC2_littleh, \n",
    "            subsample='blue', gr_colors=mock['restframe_extincted_sdss_gr'])\n",
    "\n",
    "rp_mids, wp_v4_19p5_red = zehavi_wp(x, y, z, vz, \n",
    "            period, magr, -19.5, protoDC2_littleh, \n",
    "            subsample='red', gr_colors=mock['restframe_extincted_sdss_gr'])\n",
    "\n",
    "rp_mids, wp_v4_20p5_blue = zehavi_wp(x, y, z, vz, \n",
    "            period, magr, -20.5, protoDC2_littleh, \n",
    "            subsample='blue', gr_colors=mock['restframe_extincted_sdss_gr'])\n",
    "\n",
    "rp_mids, wp_v4_20p5_red = zehavi_wp(x, y, z, vz, \n",
    "            period, magr, -20.5, protoDC2_littleh, \n",
    "            subsample='red', gr_colors=mock['restframe_extincted_sdss_gr'])\n",
    "\n",
    "rp_mids, wp_v4_21p5_blue = zehavi_wp(x, y, z, vz, \n",
    "            period, magr, -21.5, protoDC2_littleh, \n",
    "            subsample='blue', gr_colors=mock['restframe_extincted_sdss_gr'])\n",
    "\n",
    "rp_mids, wp_v4_21p5_red = zehavi_wp(x, y, z, vz, \n",
    "            period, magr, -21.5, protoDC2_littleh, \n",
    "            subsample='red', gr_colors=mock['restframe_extincted_sdss_gr'])"
   ]
  },
  {
   "cell_type": "code",
   "execution_count": 71,
   "metadata": {},
   "outputs": [
    {
     "name": "stdout",
     "output_type": "stream",
     "text": [
      "...calculating wp for 4.00e+05 galaxies and Mr < -19.0\n",
      "...calculating wp for 4.00e+05 galaxies and Mr < -19.0\n",
      "...calculating wp for 3.99e+05 galaxies and Mr < -19.5\n",
      "...calculating wp for 4.01e+05 galaxies and Mr < -19.5\n",
      "...calculating wp for 1.68e+05 galaxies and Mr < -20.5\n",
      "...calculating wp for 2.50e+05 galaxies and Mr < -20.5\n",
      "...calculating wp for 9.46e+03 galaxies and Mr < -21.5\n",
      "...calculating wp for 3.72e+04 galaxies and Mr < -21.5\n"
     ]
    }
   ],
   "source": [
    "from cosmodc2.mock_diagnostics import zehavi_wp\n",
    "\n",
    "protoDC2_littleh = 0.7\n",
    "\n",
    "period = mock.Lbox\n",
    "x, y, z, vz = mock['x'], mock['y'], mock['z'], mock['vz']\n",
    "magr = mock['restframe_extincted_sdss_abs_magr']\n",
    "\n",
    "# rp_mids, wp_v4_18p5_blue = zehavi_wp(x, y, z, vz, \n",
    "#             period, magr, -18.5, protoDC2_littleh, \n",
    "#             subsample='blue', gr_colors=mock['restframe_extincted_sdss_gr'])\n",
    "\n",
    "# rp_mids, wp_v4_18p5_red = zehavi_wp(x, y, z, vz, \n",
    "#             period, magr, -18.5, protoDC2_littleh, \n",
    "#             subsample='red', gr_colors=mock['restframe_extincted_sdss_gr'])\n",
    "\n",
    "rp_mids, alt_wp_v4_19p0_blue = zehavi_wp(x, y, z, vz, \n",
    "            period, magr, -19.0, protoDC2_littleh, \n",
    "            subsample='blue', gr_colors=mock['modified_gr'])\n",
    "\n",
    "rp_mids, alt_wp_v4_19p0_red = zehavi_wp(x, y, z, vz, \n",
    "            period, magr, -19.0, protoDC2_littleh, \n",
    "            subsample='red', gr_colors=mock['modified_gr'])\n",
    "\n",
    "rp_mids, alt_wp_v4_19p5_blue = zehavi_wp(x, y, z, vz, \n",
    "            period, magr, -19.5, protoDC2_littleh, \n",
    "            subsample='blue', gr_colors=mock['modified_gr'])\n",
    "\n",
    "rp_mids, alt_wp_v4_19p5_red = zehavi_wp(x, y, z, vz, \n",
    "            period, magr, -19.5, protoDC2_littleh, \n",
    "            subsample='red', gr_colors=mock['modified_gr'])\n",
    "\n",
    "rp_mids, alt_wp_v4_20p5_blue = zehavi_wp(x, y, z, vz, \n",
    "            period, magr, -20.5, protoDC2_littleh, \n",
    "            subsample='blue', gr_colors=mock['modified_gr'])\n",
    "\n",
    "rp_mids, alt_wp_v4_20p5_red = zehavi_wp(x, y, z, vz, \n",
    "            period, magr, -20.5, protoDC2_littleh, \n",
    "            subsample='red', gr_colors=mock['modified_gr'])\n",
    "\n",
    "rp_mids, alt_wp_v4_21p5_blue = zehavi_wp(x, y, z, vz, \n",
    "            period, magr, -21.5, protoDC2_littleh, \n",
    "            subsample='blue', gr_colors=mock['modified_gr'])\n",
    "\n",
    "rp_mids, alt_wp_v4_21p5_red = zehavi_wp(x, y, z, vz, \n",
    "            period, magr, -21.5, protoDC2_littleh, \n",
    "            subsample='red', gr_colors=mock['modified_gr'])"
   ]
  },
  {
   "cell_type": "code",
   "execution_count": null,
   "metadata": {},
   "outputs": [],
   "source": []
  },
  {
   "cell_type": "code",
   "execution_count": 73,
   "metadata": {},
   "outputs": [
    {
     "data": {
      "image/png": "[encoded data removed]",
      "text/plain": [
       "<matplotlib.figure.Figure at 0x11c6a9850>"
      ]
     },
     "metadata": {},
     "output_type": "display_data"
    }
   ],
   "source": [
    "fig, _axes = plt.subplots(2, 2, figsize=(10, 8), sharex=True, sharey=True)\n",
    "fig.subplots_adjust(hspace=0)  #  smash top and bottom plots\n",
    "fig.subplots_adjust(wspace=0)  #  smash left and right plots\n",
    "\n",
    "((ax1, ax2), (ax3, ax4)) = _axes\n",
    "axes = ax1, ax2, ax3, ax4\n",
    "for ax in axes:\n",
    "    __=ax.loglog()\n",
    "\n",
    "#  Mr < -19.0\n",
    "__=ax1.errorbar(rp_zehavi, wp_blue19p0, np.sqrt(wperr_blue19p0), \n",
    "                fmt='.', color='blue', label=r'${\\rm SDSS}$')\n",
    "__=ax1.errorbar(rp_zehavi, wp_red19p0, np.sqrt(wperr_red19p0), \n",
    "                fmt='.', color='red')\n",
    "__=ax1.plot(rp_mids, wp_v4_19p0_blue, color='blue', label=r'$M_{\\rm r} < -19.0$')\n",
    "__=ax1.plot(rp_mids, wp_v4_19p0_red, color='red')\n",
    "\n",
    "__=ax1.plot(rp_mids, alt_wp_v4_19p0_blue, '--', color='blue', label=r'$M_{\\rm r} < -19.0$')\n",
    "__=ax1.plot(rp_mids, alt_wp_v4_19p0_red, '--', color='red')\n",
    "\n",
    "#  Mr < -19.5\n",
    "__=ax2.errorbar(rp_zehavi, wp_blue19p5, np.sqrt(wperr_blue19p5), \n",
    "                fmt='.', color='blue', label=r'${\\rm SDSS}$')\n",
    "__=ax2.errorbar(rp_zehavi, wp_red19p5, np.sqrt(wperr_red19p5), \n",
    "                fmt='.', color='red')\n",
    "__=ax2.plot(rp_mids, wp_v4_19p5_blue, color='blue', label=r'$M_{\\rm r} < -19.5$')\n",
    "__=ax2.plot(rp_mids, wp_v4_19p5_red, color='red')\n",
    "\n",
    "__=ax2.plot(rp_mids, alt_wp_v4_19p5_blue, '--', color='blue', label=r'$M_{\\rm r} < -19.5$')\n",
    "__=ax2.plot(rp_mids, alt_wp_v4_19p5_red, '--', color='red')\n",
    "\n",
    "\n",
    "#  Mr < -20.5\n",
    "__=ax3.errorbar(rp_zehavi, wp_blue20p5, np.sqrt(wperr_blue20p5), \n",
    "                fmt='.', color='blue', label=r'${\\rm SDSS}$')\n",
    "__=ax3.errorbar(rp_zehavi, wp_red20p5, np.sqrt(wperr_red20p5), \n",
    "                fmt='.', color='red')\n",
    "__=ax3.plot(rp_mids, wp_v4_20p5_blue, color='blue', label=r'$M_{\\rm r} < -20.5$')\n",
    "__=ax3.plot(rp_mids, wp_v4_20p5_red, color='red')\n",
    "\n",
    "__=ax3.plot(rp_mids, alt_wp_v4_20p5_blue, '--', color='blue', label=r'$M_{\\rm r} < -20.5$')\n",
    "__=ax3.plot(rp_mids, alt_wp_v4_20p5_red, '--', color='red')\n",
    "\n",
    "#  Mr < -21.5\n",
    "__=ax4.errorbar(rp_zehavi, wp_blue21p5, np.sqrt(wperr_blue21p5), \n",
    "                fmt='.', color='blue', label=r'${\\rm SDSS}$')\n",
    "__=ax4.errorbar(rp_zehavi, wp_red21p5, np.sqrt(wperr_red21p5), \n",
    "                fmt='.', color='red')\n",
    "__=ax4.plot(rp_mids, wp_v4_21p5_blue, color='blue', label=r'$M_{\\rm r} < -21.5$')\n",
    "__=ax4.plot(rp_mids, wp_v4_21p5_red, color='red')\n",
    "\n",
    "__=ax4.plot(rp_mids, alt_wp_v4_21p5_blue, '--', color='blue', label=r'$M_{\\rm r} < -21.5$')\n",
    "__=ax4.plot(rp_mids, alt_wp_v4_21p5_red, '--', color='red')\n",
    "\n",
    "\n",
    "xlabel3 = ax3.set_xlabel(r'${r_{\\rm p}\\ [{\\rm Mpc}]}$')\n",
    "xlabel4 = ax4.set_xlabel(r'${r_{\\rm p}\\ [{\\rm Mpc}]}$')\n",
    "\n",
    "ylabel1 = ax1.set_ylabel(r'$w_{\\rm p}({r_{\\rm p})\\ [{\\rm Mpc}]}$')\n",
    "ylabel3 = ax3.set_ylabel(r'$w_{\\rm p}({r_{\\rm p})\\ [{\\rm Mpc}]}$')\n",
    "\n",
    "for ax in axes:\n",
    "    leg = ax.legend()\n",
    "    leg.legendHandles[0].set_color('k')\n",
    "    leg.legendHandles[1].set_color('k')\n",
    "    \n"
   ]
  },
  {
   "cell_type": "code",
   "execution_count": 74,
   "metadata": {},
   "outputs": [
    {
     "data": {
      "text/plain": [
       "array([1.00925028, 1.00093716, 1.00555926, 1.00931244, 1.00746599,\n",
       "       1.00533863, 1.00693651, 1.00983614, 1.00404359, 1.00674448,\n",
       "       0.99789036, 0.98942411])"
      ]
     },
     "execution_count": 74,
     "metadata": {},
     "output_type": "execute_result"
    }
   ],
   "source": [
    "alt_wp_v4_19p5_red/wp_v4_19p5_red"
   ]
  },
  {
   "cell_type": "code",
   "execution_count": null,
   "metadata": {},
   "outputs": [],
   "source": []
  }
 ],
 "metadata": {
  "kernelspec": {
   "display_name": "Python [conda root]",
   "language": "python",
   "name": "conda-root-py"
  },
  "language_info": {
   "codemirror_mode": {
    "name": "ipython",
    "version": 2
   },
   "file_extension": ".py",
   "mimetype": "text/x-python",
   "name": "python",
   "nbconvert_exporter": "python",
   "pygments_lexer": "ipython2",
   "version": "2.7.14"
  }
 },
 "nbformat": 4,
 "nbformat_minor": 2
}
