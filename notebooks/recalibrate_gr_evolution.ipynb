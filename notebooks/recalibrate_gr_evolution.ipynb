{
 "cells": [
  {
   "cell_type": "code",
   "execution_count": 4,
   "metadata": {},
   "outputs": [],
   "source": [
    "%matplotlib inline\n",
    "morange = u'#ff7f0e'\n",
    "mblue = u'#1f77b4'\n",
    "mgreen = u'#2ca02c'\n",
    "mred = u'#d62728'\n",
    "mpurple = u'#9467bd'\n",
    "import h5py"
   ]
  },
  {
   "cell_type": "code",
   "execution_count": 16,
   "metadata": {},
   "outputs": [
    {
     "data": {
      "image/png": "[encoded data removed]",
      "text/plain": [
       "<matplotlib.figure.Figure at 0x1a1c490f10>"
      ]
     },
     "metadata": {},
     "output_type": "display_data"
    }
   ],
   "source": [
    "from cosmodc2.sdss_colors.sigmoid_g_minus_r import (\n",
    "    default_ms_peak_gr, default_red_peak_gr, \n",
    "    red_sequence_peak_gr, main_sequence_peak_gr, \n",
    "    default_ms_peak_gr_zevol, default_red_peak_gr_zevol)\n",
    "\n",
    "from cosmodc2.sdss_colors.alt_sigmoid_g_minus_r import (\n",
    "    main_sequence_peak_gr as alt_main_sequence_peak_gr)\n",
    "\n",
    "ngals = int(2e4)\n",
    "redshift = np.linspace(0, 4, ngals)\n",
    "\n",
    "\n",
    "ms_gr_mr25 = main_sequence_peak_gr(\n",
    "        np.zeros(ngals) - 25, default_ms_peak_gr, redshift, default_ms_peak_gr_zevol)\n",
    "ms_gr_mr23 = main_sequence_peak_gr(\n",
    "        np.zeros(ngals) - 23, default_ms_peak_gr, redshift, default_ms_peak_gr_zevol)\n",
    "ms_gr_mr22 = main_sequence_peak_gr(\n",
    "        np.zeros(ngals) - 22, default_ms_peak_gr, redshift, default_ms_peak_gr_zevol)\n",
    "ms_gr_mr21 = main_sequence_peak_gr(\n",
    "        np.zeros(ngals) - 21, default_ms_peak_gr, redshift, default_ms_peak_gr_zevol)\n",
    "ms_gr_mr20 = main_sequence_peak_gr(\n",
    "        np.zeros(ngals) - 20, default_ms_peak_gr, redshift, default_ms_peak_gr_zevol)\n",
    "ms_gr_mr19 = main_sequence_peak_gr(\n",
    "        np.zeros(ngals) - 19, default_ms_peak_gr, redshift, default_ms_peak_gr_zevol)\n",
    "ms_gr_mr18 = main_sequence_peak_gr(\n",
    "        np.zeros(ngals) - 18, default_ms_peak_gr, redshift, default_ms_peak_gr_zevol)\n",
    "ms_gr_mr17 = main_sequence_peak_gr(\n",
    "        np.zeros(ngals) - 17, default_ms_peak_gr, redshift, default_ms_peak_gr_zevol)\n",
    "\n",
    "alt_ms_gr_mr25 = alt_main_sequence_peak_gr(np.zeros(ngals) - 25, redshift)\n",
    "alt_ms_gr_mr23 = alt_main_sequence_peak_gr(np.zeros(ngals) - 23, redshift)\n",
    "alt_ms_gr_mr22 = alt_main_sequence_peak_gr(np.zeros(ngals) - 22, redshift)\n",
    "alt_ms_gr_mr21 = alt_main_sequence_peak_gr(np.zeros(ngals) - 21, redshift)\n",
    "alt_ms_gr_mr20 = alt_main_sequence_peak_gr(np.zeros(ngals) - 20, redshift)\n",
    "alt_ms_gr_mr19 = alt_main_sequence_peak_gr(np.zeros(ngals) - 19, redshift)\n",
    "alt_ms_gr_mr17 = alt_main_sequence_peak_gr(np.zeros(ngals) - 17, redshift)\n",
    "\n",
    "\n",
    "fig, ax = plt.subplots(1, 1)\n",
    "\n",
    "# __=ax.plot(redshift, ms_gr_mr23, color=mred, label=r'${\\rm M_{r} = -23}$')\n",
    "# __=ax.plot(redshift, ms_gr_mr22, color=morange, label=r'${\\rm M_{r} = -22}$')\n",
    "# __=ax.plot(redshift, ms_gr_mr21, color='gold', label=r'${\\rm M_{r} = -21}$')\n",
    "# __=ax.plot(redshift, ms_gr_mr20, color=mgreen, label=r'${\\rm M_{r} = -20}$')\n",
    "# __=ax.plot(redshift, ms_gr_mr19, color=mblue, label=r'${\\rm M_{r} = -19}$')\n",
    "__=ax.plot(redshift, ms_gr_mr17, color=mpurple, label=r'${\\rm M_{r} = -17}$')\n",
    "\n",
    "\n",
    "# __=ax.plot(redshift, alt_ms_gr_mr23, '--', color=mred)\n",
    "# __=ax.plot(redshift, alt_ms_gr_mr22, '--', color=morange)\n",
    "# __=ax.plot(redshift, alt_ms_gr_mr21, '--', color='gold')\n",
    "\n",
    "# __=ax.plot(redshift, alt_ms_gr_mr20, '--', color=mgreen)\n",
    "# __=ax.plot(redshift, alt_ms_gr_mr19, '--', color=mblue)\n",
    "__=ax.plot(redshift, alt_ms_gr_mr17, '--', color=mpurple)\n",
    "\n",
    "\n",
    "\n",
    "# def sigmoid(x, x0=0, k=1, ymin=0, ymax=1):\n",
    "#     \"\"\"\n",
    "#     \"\"\"\n",
    "#     height_diff = ymax-ymin\n",
    "#     return ymin + height_diff/(1 + np.exp(-k*(x-x0)))\n",
    "\n",
    "# z = redshift\n",
    "# __=ax.plot(z, sigmoid(z, x0=0.7, k=7, ymin=0.75, ymax=0.375), '--', color=mred)\n",
    "# __=ax.plot(z, sigmoid(z, x0=0.7, k=7, ymin=0.7, ymax=0.35), '--', color=mred)\n",
    "# __=ax.plot(z, sigmoid(z, x0=0.7, k=7, ymin=0.66, ymax=0.3), '--', color=morange)\n",
    "# __=ax.plot(z, sigmoid(z, x0=0.7, k=7, ymin=0.59, ymax=0.24), '--', color='gold')\n",
    "# __=ax.plot(z, sigmoid(z, x0=0.7, k=7, ymin=0.52, ymax=0.18), '--', color=mgreen)\n",
    "# __=ax.plot(z, sigmoid(z, x0=0.7, k=7, ymin=0.465, ymax=0.12), '--', color=mblue)\n",
    "# __=ax.plot(z, sigmoid(z, x0=0.7, k=7, ymin=0.4, ymax=0.05), '--', color=mpurple)\n",
    "# __=ax.plot(z, sigmoid(z, x0=0.7, k=7, ymin=0.35, ymax=0.02), '--', color='k')\n",
    "\n",
    "# marr = [-12, -17, -19, -20, -21, -22, -23, -25]\n",
    "# ymin_arr = [0.35, 0.4, 0.465, 0.52, 0.59, 0.66, 0.7, 0.75]\n",
    "# ymax_arr = [0.02, 0.05, 0.12, 0.18, 0.24, 0.3, 0.35, 0.375]\n",
    "\n",
    "ylim = ax.set_ylim(-0.05, 0.85)\n",
    "xlim = ax.set_xlim(0, 1.25)"
   ]
  },
  {
   "cell_type": "code",
   "execution_count": null,
   "metadata": {},
   "outputs": [],
   "source": []
  },
  {
   "cell_type": "code",
   "execution_count": 3,
   "metadata": {},
   "outputs": [
    {
     "data": {
      "image/png": "[encoded data removed]",
      "text/plain": [
       "<matplotlib.figure.Figure at 0x1a1b20a110>"
      ]
     },
     "metadata": {},
     "output_type": "display_data"
    }
   ],
   "source": [
    "marr = [-12, -17, -19, -20, -21, -22, -23, -25]\n",
    "ymin_arr = [0.35, 0.4, 0.465, 0.52, 0.59, 0.66, 0.7, 0.75]\n",
    "ymax_arr = [0.02, 0.05, 0.12, 0.18, 0.24, 0.3, 0.35, 0.375]\n",
    "\n",
    "fig, ax = plt.subplots(1, 1)\n",
    "\n",
    "__=ax.plot(marr, ymin_arr, color=mblue)\n",
    "__=ax.plot(marr, ymax_arr, color=mred)\n",
    "\n",
    "r = np.linspace(-27, -10, 1000)\n",
    "__=ax.plot(r, sigmoid(r, x0=-20.5, ymin=0.385, ymax=0.02, k=0.7), '--', color=morange)\n",
    "__=ax.plot(r, sigmoid(r, x0=-20.5, ymin=0.75, ymax=0.375, k=0.7), '--', color=mblue)\n",
    "\n",
    "ylim = ax.set_ylim(-0.05, 0.85)\n",
    "xlim = ax.set_xlim(-10, -26.5)"
   ]
  },
  {
   "cell_type": "code",
   "execution_count": null,
   "metadata": {},
   "outputs": [],
   "source": []
  },
  {
   "cell_type": "code",
   "execution_count": null,
   "metadata": {},
   "outputs": [],
   "source": []
  }
 ],
 "metadata": {
  "kernelspec": {
   "display_name": "Python [conda root]",
   "language": "python",
   "name": "conda-root-py"
  },
  "language_info": {
   "codemirror_mode": {
    "name": "ipython",
    "version": 2
   },
   "file_extension": ".py",
   "mimetype": "text/x-python",
   "name": "python",
   "nbconvert_exporter": "python",
   "pygments_lexer": "ipython2",
   "version": "2.7.14"
  }
 },
 "nbformat": 4,
 "nbformat_minor": 2
}
