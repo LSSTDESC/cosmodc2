{
 "cells": [
  {
   "cell_type": "code",
   "execution_count": 1,
   "metadata": {},
   "outputs": [
    {
     "name": "stderr",
     "output_type": "stream",
     "text": [
      "/Users/aphearin/anaconda/lib/python2.7/site-packages/h5py/__init__.py:36: FutureWarning: Conversion of the second argument of issubdtype from `float` to `np.floating` is deprecated. In future, it will be treated as `np.float64 == np.dtype(float).type`.\n",
      "  from ._conv import register_converters as _register_converters\n"
     ]
    },
    {
     "name": "stdout",
     "output_type": "stream",
     "text": [
      "['redshift', 'mstar', 'hostHaloMass', 'isCentral', 'mag_g', 'mag_r', 'mag_i', 'mag_g_obs', 'mag_r_obs', 'mag_i_obs', 'Lum_g', 'Lum_r', 'Lum_i', 'disk_mag_r', 'bulge_mag_r', 'lum_tot_r', 'bulge_rhalf_arcsec', 'disk_rhalf_arcsec', 'bt', 'ang_diam_dist_Mpc', 'bulge_rhalf_kpc_phys', 'disk_rhalf_kpc_phys']\n"
     ]
    }
   ],
   "source": [
    "%matplotlib inline\n",
    "\n",
    "morange = u'#ff7f0e'\n",
    "mblue = u'#1f77b4'\n",
    "mgreen = u'#2ca02c'\n",
    "mred = u'#d62728'\n",
    "mpurple = u'#9467bd'\n",
    "\n",
    "import os\n",
    "from astropy.table import Table\n",
    "v4_prerelease_dirname = \"/Users/aphearin/Dropbox/protoDC2/v4_prerelease\"\n",
    "v4_prerelease_fname = os.path.join(\n",
    "    v4_prerelease_dirname, \"v4_prerelease_no_interpolation.hdf5\")\n",
    "v4 = Table.read(v4_prerelease_fname, path='data')\n",
    "print(v4.keys())"
   ]
  },
  {
   "cell_type": "markdown",
   "metadata": {},
   "source": [
    "Reassign r-band"
   ]
  },
  {
   "cell_type": "code",
   "execution_count": 3,
   "metadata": {},
   "outputs": [],
   "source": [
    "from cosmodc2.sdss_colors import magr_monte_carlo\n",
    "\n",
    "def remap_mag_r_obs(mag_r_obs_old, mag_r_abs_old, mag_r_abs_new):\n",
    "    dmag_r = mag_r_obs_old - mag_r_abs_old\n",
    "    mag_r_obs_new = dmag_r + mag_r_abs_new\n",
    "    return mag_r_obs_new\n",
    "\n",
    "# def remap_mag_i_obs(mag_r_abs_old, mag_i_abs_old, mag_i_obs_old, mag_r_abs_new):\n",
    "#     ri_abs_old = mag_r_abs_old - mag_i_abs_old\n",
    "#     mag_i_abs_new = ri_abs_old - mag_r_abs_new\n",
    "#     dmag_i = mag_i_obs_old - mag_i_abs_old\n",
    "#     mag_i_obs_new = dmag_i + mag_i_abs_new\n",
    "#     return mag_i_abs_new, mag_i_obs_new\n",
    "\n",
    "v4['mag_r_new'] = magr_monte_carlo(v4['mstar'], v4['redshift'],\n",
    "                        boost_table=[0, -0.2, -0.5, -1.])\n",
    "v4['mag_r_obs_new'] = remap_mag_r_obs(v4['mag_r_obs'], v4['mag_r'], v4['mag_r_new'])\n",
    "\n",
    "v4['mag_r_new2'] = magr_monte_carlo(v4['mstar'], v4['redshift'],\n",
    "                        boost_table=[0, -0.2, -0.5, -1.5])\n",
    "v4['mag_r_obs_new2'] = remap_mag_r_obs(v4['mag_r_obs'], v4['mag_r'], v4['mag_r_new2'])\n"
   ]
  },
  {
   "cell_type": "markdown",
   "metadata": {},
   "source": [
    "Reassign color"
   ]
  },
  {
   "cell_type": "code",
   "execution_count": 4,
   "metadata": {},
   "outputs": [
    {
     "name": "stdout",
     "output_type": "stream",
     "text": [
      "['redshift', 'mstar', 'hostHaloMass', 'isCentral', 'mag_g', 'mag_r', 'mag_i', 'mag_g_obs', 'mag_r_obs', 'mag_i_obs', 'Lum_g', 'Lum_r', 'Lum_i', 'disk_mag_r', 'bulge_mag_r', 'lum_tot_r', 'bulge_rhalf_arcsec', 'disk_rhalf_arcsec', 'bt', 'ang_diam_dist_Mpc', 'bulge_rhalf_kpc_phys', 'disk_rhalf_kpc_phys', 'mag_r_new', 'mag_r_obs_new', 'mag_r_new2', 'mag_r_obs_new2', 'ri_new', 'gr_new', 'mag_g_abs_new', 'mag_i_abs_new', 'mag_i_obs_new']\n"
     ]
    }
   ],
   "source": [
    "from cosmodc2.sdss_colors import gr_ri_monte_carlo\n",
    "\n",
    "sfr_percentile_mock = np.random.rand(len(v4))\n",
    "\n",
    "gr, ri, is_quiescent_ri, is_quiescent_gr = gr_ri_monte_carlo(\n",
    "    v4['mag_r_new'], sfr_percentile_mock, v4['redshift'])\n",
    "\n",
    "v4['ri_new'] = ri\n",
    "v4['gr_new'] = gr\n",
    "\n",
    "v4['mag_g_abs_new'] = v4['mag_r_new'] + v4['gr_new']\n",
    "v4['mag_i_abs_new'] = v4['mag_r_new'] - v4['ri_new']\n",
    "\n",
    "dmag_i = v4['mag_i_obs'] - v4['mag_i']\n",
    "v4['mag_i_obs_new'] = dmag_i + v4['mag_i_abs_new']\n",
    "\n",
    "print(v4.keys())"
   ]
  },
  {
   "cell_type": "code",
   "execution_count": 5,
   "metadata": {},
   "outputs": [],
   "source": [
    "gr, ri, is_quiescent_ri, is_quiescent_gr = gr_ri_monte_carlo(\n",
    "    v4['mag_r_new2'], sfr_percentile_mock, v4['redshift'])\n",
    "\n",
    "v4['ri_new2'] = ri\n",
    "v4['gr_new2'] = gr\n",
    "\n",
    "v4['mag_g_abs_new2'] = v4['mag_r_new2'] + v4['gr_new2']\n",
    "v4['mag_i_abs_new2'] = v4['mag_r_new2'] - v4['ri_new2']\n",
    "\n",
    "dmag_i = v4['mag_i_obs'] - v4['mag_i']\n",
    "v4['mag_i_obs_new2'] = dmag_i + v4['mag_i_abs_new2']\n"
   ]
  },
  {
   "cell_type": "code",
   "execution_count": null,
   "metadata": {},
   "outputs": [],
   "source": []
  },
  {
   "cell_type": "code",
   "execution_count": 7,
   "metadata": {},
   "outputs": [
    {
     "data": {
      "image/png": "[encoded data removed]",
      "text/plain": [
       "<matplotlib.figure.Figure at 0x115a3eb10>"
      ]
     },
     "metadata": {},
     "output_type": "display_data"
    }
   ],
   "source": [
    "def dndmag(mag_i_apparent, mag_i_bins, sky_area):\n",
    "    magmasks = list((mag_i_apparent < m) for m in mag_i_bins)\n",
    "    counts = np.array([np.count_nonzero(mask) for mask in magmasks])\n",
    "    return counts/sky_area\n",
    "\n",
    "\n",
    "magarr = np.linspace(20, 30, 30)\n",
    "magmasks = list((v4['mag_i_obs'] < m) for m in magarr)\n",
    "counts = np.array([np.count_nonzero(mask) for mask in magmasks])\n",
    "magmasks_new = list((v4['mag_i_obs_new'] < m) for m in magarr)\n",
    "counts_new = np.array([np.count_nonzero(mask) for mask in magmasks_new])\n",
    "magmasks_new2 = list((v4['mag_i_obs_new2'] < m) for m in magarr)\n",
    "counts_new2 = np.array([np.count_nonzero(mask) for mask in magmasks_new2])\n",
    "\n",
    "sky_area = 25.\n",
    "fig, ax = plt.subplots(1, 1)\n",
    "yscale = ax.set_yscale('log')\n",
    "x1 = np.zeros(100) + 24.5\n",
    "x2 = np.zeros(100) + 27\n",
    "y = np.logspace(1, 10, 100)\n",
    "\n",
    "__=ax.fill_betweenx(y, x1, x2, alpha=0.8, color='lightgray')\n",
    "\n",
    "hsc_ordinates = [1e4, 1e5, 1e6]\n",
    "hsc_abscissa = [22, 25, 27.5]\n",
    "__=ax.plot(hsc_abscissa, hsc_ordinates, label=r'${\\rm HSC}$', color=mgreen)\n",
    "\n",
    "__=ax.plot(magarr, counts/sky_area, label=r'${\\rm v4.0}$', color=morange)\n",
    "__=ax.plot(magarr, counts_new/sky_area, label=r'${\\rm v4.1}$', color=mpurple)\n",
    "__=ax.plot(magarr, counts_new2/sky_area, label=r'${\\rm v4.1b}$', color=mblue)\n",
    "\n",
    "\n",
    "xlabel = ax.set_xlabel(r'${\\rm m_{i}}$')\n",
    "ylabel = ax.set_ylabel(r'${\\rm n(<m)\\ [deg^{-2}]}$')\n",
    "legend = ax.legend()\n",
    "ylim = ax.set_ylim(1e3, 1.5e6)\n",
    "xlim = ax.set_xlim(20, 27.5)\n",
    "\n",
    "# # figname = 'hsc_dndmag_pdc2_v4.png'\n",
    "# # fig.savefig(figname, bbox_extra_artists=[xlabel], bbox_inches='tight')"
   ]
  },
  {
   "cell_type": "code",
   "execution_count": null,
   "metadata": {},
   "outputs": [],
   "source": []
  },
  {
   "cell_type": "code",
   "execution_count": null,
   "metadata": {},
   "outputs": [],
   "source": []
  },
  {
   "cell_type": "markdown",
   "metadata": {},
   "source": [
    "# DEEP2 $dn/dz$"
   ]
  },
  {
   "cell_type": "code",
   "execution_count": 13,
   "metadata": {},
   "outputs": [
    {
     "data": {
      "image/png": "[encoded data removed]",
      "text/plain": [
       "<matplotlib.figure.Figure at 0x18a7b2e50>"
      ]
     },
     "metadata": {},
     "output_type": "display_data"
    }
   ],
   "source": [
    "fig, ax = plt.subplots(1, 1)\n",
    "\n",
    "# __=ax.hist(v4['redshift'][v4['mag_r_obs'] < 22], normed=True, bins=50)\n",
    "__=ax.hist(v4['redshift'][v4['mag_r_obs_new'] < 22], normed=True, bins=50, alpha=0.8)\n",
    "__=ax.hist(v4['redshift'][v4['mag_r_obs_new2'] < 22], normed=True, bins=50, alpha=0.8)"
   ]
  },
  {
   "cell_type": "code",
   "execution_count": null,
   "metadata": {},
   "outputs": [],
   "source": []
  },
  {
   "cell_type": "code",
   "execution_count": null,
   "metadata": {},
   "outputs": [],
   "source": []
  },
  {
   "cell_type": "code",
   "execution_count": null,
   "metadata": {},
   "outputs": [],
   "source": []
  }
 ],
 "metadata": {
  "kernelspec": {
   "display_name": "Python [conda root]",
   "language": "python",
   "name": "conda-root-py"
  },
  "language_info": {
   "codemirror_mode": {
    "name": "ipython",
    "version": 2
   },
   "file_extension": ".py",
   "mimetype": "text/x-python",
   "name": "python",
   "nbconvert_exporter": "python",
   "pygments_lexer": "ipython2",
   "version": "2.7.14"
  }
 },
 "nbformat": 4,
 "nbformat_minor": 2
}
