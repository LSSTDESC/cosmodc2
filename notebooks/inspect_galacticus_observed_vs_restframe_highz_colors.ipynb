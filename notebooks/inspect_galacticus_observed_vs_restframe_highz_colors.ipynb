{
 "cells": [
  {
   "cell_type": "code",
   "execution_count": 1,
   "metadata": {},
   "outputs": [],
   "source": [
    "%matplotlib inline\n",
    "morange = u'#ff7f0e'\n",
    "mblue = u'#1f77b4'\n",
    "mgreen = u'#2ca02c'\n",
    "mred = u'#d62728'\n",
    "mpurple = u'#9467bd'"
   ]
  },
  {
   "cell_type": "code",
   "execution_count": 2,
   "metadata": {},
   "outputs": [
    {
     "name": "stderr",
     "output_type": "stream",
     "text": [
      "/Users/aphearin/anaconda/lib/python2.7/site-packages/h5py/__init__.py:36: FutureWarning: Conversion of the second argument of issubdtype from `float` to `np.floating` is deprecated. In future, it will be treated as `np.float64 == np.dtype(float).type`.\n",
      "  from ._conv import register_converters as _register_converters\n"
     ]
    },
    {
     "name": "stdout",
     "output_type": "stream",
     "text": [
      "['isCentral', 'redshift', 'hostHaloMass', 'blackHoleMass', 'totalMassStellar', 'mag_u_rest', 'mag_u_obs', 'mag_g_rest', 'mag_g_obs', 'mag_r_rest', 'mag_r_obs', 'mag_i_rest', 'mag_i_obs', 'mag_z_rest', 'mag_z_obs']\n"
     ]
    }
   ],
   "source": [
    "simdisk_dirname = \"/Volumes/simulation_data_2018/reduced_snaps_v2\"\n",
    "nersc_dirname = \"/global/u1/a/aphearin/reduced_galacticus_snaps\"\n",
    "import os\n",
    "fname = os.path.join(simdisk_dirname, \"reduced_259_magr-16.hdf5\")\n",
    "\n",
    "from astropy.table import Table\n",
    "pdc2_v2_z1_snap = Table.read(fname, path='data')\n",
    "print(pdc2_v2_z1_snap.keys())"
   ]
  },
  {
   "cell_type": "code",
   "execution_count": 3,
   "metadata": {},
   "outputs": [
    {
     "name": "stdout",
     "output_type": "stream",
     "text": [
      "['isCentral', 'redshift', 'hostHaloMass', 'blackHoleMass', 'totalMassStellar', 'mag_u_rest', 'mag_u_obs', 'mag_g_rest', 'mag_g_obs', 'mag_r_rest', 'mag_r_obs', 'mag_i_rest', 'mag_i_obs', 'mag_z_rest', 'mag_z_obs']\n"
     ]
    }
   ],
   "source": [
    "fname = os.path.join(simdisk_dirname, \"reduced_331_magr-16.hdf5\")\n",
    "from astropy.table import Table\n",
    "pdc2_v2_z0p5_snap = Table.read(fname, path='data')\n",
    "print(pdc2_v2_z0p5_snap.keys())"
   ]
  },
  {
   "cell_type": "code",
   "execution_count": 4,
   "metadata": {},
   "outputs": [
    {
     "name": "stdout",
     "output_type": "stream",
     "text": [
      "['isCentral', 'redshift', 'hostHaloMass', 'blackHoleMass', 'totalMassStellar', 'mag_u_rest', 'mag_u_obs', 'mag_g_rest', 'mag_g_obs', 'mag_r_rest', 'mag_r_obs', 'mag_i_rest', 'mag_i_obs', 'mag_z_rest', 'mag_z_obs']\n"
     ]
    }
   ],
   "source": [
    "fname = os.path.join(simdisk_dirname, \"reduced_499_magr-16.hdf5\")\n",
    "from astropy.table import Table\n",
    "pdc2_v2_z0p0_snap = Table.read(fname, path='data')\n",
    "print(pdc2_v2_z0p0_snap.keys())"
   ]
  },
  {
   "cell_type": "code",
   "execution_count": 5,
   "metadata": {},
   "outputs": [
    {
     "name": "stdout",
     "output_type": "stream",
     "text": [
      "['um_host_halo_mvir', 'um_obs_sm', 'um_obs_sfr', 'um_redshift', 'um_sfr_percentile', 'um_upid', 'um_mpeak', 'um_restframe_extincted_sdss_abs_magr', 'um_restframe_extincted_sdss_gr', 'um_restframe_extincted_sdss_ri', 'um_is_on_red_sequence_gr', 'um_is_on_red_sequence_ri', 'isCentral', 'redshift', 'hostHaloMass', 'blackHoleMass', 'totalMassStellar', 'blackHoleAccretionRate', 'blackHoleEddingtonRatio', 'mag_u_rest', 'mag_u_obs', 'mag_g_rest', 'mag_g_obs', 'mag_r_rest', 'mag_r_obs', 'mag_i_rest', 'mag_i_obs', 'mag_z_rest', 'mag_z_obs']\n"
     ]
    }
   ],
   "source": [
    "simdisk_dirname = \"/Volumes/simulation_data_2018/protoDC2_v4p3\"\n",
    "import os\n",
    "fname = os.path.join(simdisk_dirname, \"v4.3.full.all.aph_reduced.hdf5\")\n",
    "pdc2_v4p3 = Table.read(fname, path='data')\n",
    "print(pdc2_v4p3.keys())"
   ]
  },
  {
   "cell_type": "code",
   "execution_count": null,
   "metadata": {},
   "outputs": [],
   "source": []
  },
  {
   "cell_type": "code",
   "execution_count": null,
   "metadata": {},
   "outputs": [],
   "source": []
  },
  {
   "cell_type": "code",
   "execution_count": 6,
   "metadata": {},
   "outputs": [],
   "source": [
    "# obs_r_mag_limit = 24.0\n",
    "# obs_r_mask = pdc2_v2_z1_snap['mag_r_obs'] < obs_r_mag_limit\n",
    "# ngals = np.count_nonzero(obs_r_mask)\n",
    "\n",
    "# fig, ax = plt.subplots(1, 1)\n",
    "\n",
    "# __=ax.hist(pdc2_v2_z1_snap['mag_r_rest'][obs_r_mask], bins=150, normed=True, alpha=0.8)\n",
    "# xlim = ax.set_xlim(-18, -25)"
   ]
  },
  {
   "cell_type": "code",
   "execution_count": 7,
   "metadata": {},
   "outputs": [],
   "source": [
    "# faint, bright = -20, -21\n",
    "# abs_r_mask = (pdc2_v2_z1_snap['mag_r_rest'] < faint) & (pdc2_v2_z1_snap['mag_r_rest'] >= bright)\n",
    "\n",
    "# fig, ax = plt.subplots(1, 1)\n",
    "\n",
    "# mask = abs_r_mask & obs_r_mask\n",
    "# ri_bins = np.linspace(0, 1,100)\n",
    "# __=ax.hist(pdc2_v2_z1_snap['mag_g_obs'][mask]-pdc2_v2_z1_snap['mag_r_obs'][mask], bins=ri_bins, normed=True)\n",
    "# xlim = ax.set_xlim(-0.25, 1.25)"
   ]
  },
  {
   "cell_type": "code",
   "execution_count": 8,
   "metadata": {},
   "outputs": [],
   "source": [
    "# fig, ax = plt.subplots(1, 1)\n",
    "\n",
    "# mask = abs_r_mask & obs_r_mask\n",
    "# ri_bins = np.linspace(0, 1,100)\n",
    "# # __=ax.hist(mock['mag_r_rest'][mask]-mock['mag_i_rest'][mask], bins=ri_bins, normed=True)\n",
    "# __=ax.hist(pdc2_v2_z1_snap['mag_g_rest'][mask]-pdc2_v2_z1_snap['mag_r_rest'][mask], bins=ri_bins, normed=True)\n",
    "# xlim = ax.set_xlim(-0.25, 1.25)"
   ]
  },
  {
   "cell_type": "code",
   "execution_count": 9,
   "metadata": {},
   "outputs": [
    {
     "data": {
      "image/png": "[encoded data removed]",
      "text/plain": [
       "<matplotlib.figure.Figure at 0x10ac2a290>"
      ]
     },
     "metadata": {},
     "output_type": "display_data"
    }
   ],
   "source": [
    "faint, bright = -20, -21\n",
    "obs_r_mag_limit = 24.0\n",
    "zlo, zhi = 0.85, 0.95\n",
    "\n",
    "abs_r_mask = (pdc2_v2_z1_snap['mag_r_rest'] < faint) & (pdc2_v2_z1_snap['mag_r_rest'] >= bright)\n",
    "obs_r_mask = pdc2_v2_z1_snap['mag_r_obs'] < obs_r_mag_limit\n",
    "mask = abs_r_mask & obs_r_mask\n",
    "\n",
    "abs_r_mask2 = (pdc2_v4p3['mag_r_rest'] < faint) & (pdc2_v4p3['mag_r_rest'] >= bright)\n",
    "obs_r_mask2 = pdc2_v4p3['mag_r_obs'] < obs_r_mag_limit\n",
    "redshift_mask2 = (pdc2_v4p3['redshift'] < zhi) & (pdc2_v4p3['redshift'] >= zlo)\n",
    "mask2 = abs_r_mask2 & obs_r_mask2 & redshift_mask2\n",
    "\n",
    "\n",
    "fig, _axes = plt.subplots(2, 2, figsize=(10, 8))\n",
    "((ax1, ax2), (ax3, ax4)) = _axes\n",
    "axes = ax1, ax2, ax3, ax4\n",
    "\n",
    "gr_bins = np.linspace(-0.25, 1, 150)\n",
    "ri_bins = np.linspace(-0.25, 1, 150)\n",
    "\n",
    "__=ax1.hist(pdc2_v2_z1_snap['mag_g_rest'][mask]-pdc2_v2_z1_snap['mag_r_rest'][mask], \n",
    "            bins=gr_bins, normed=True,\n",
    "           alpha=0.8, label=r'${\\rm protoDC2\\ v2}$')\n",
    "__=ax2.hist(pdc2_v2_z1_snap['mag_r_rest'][mask]-pdc2_v2_z1_snap['mag_i_rest'][mask], \n",
    "            bins=ri_bins, normed=True,\n",
    "           alpha=0.8, label=r'${\\rm protoDC2\\ v2}$')\n",
    "__=ax3.hist(pdc2_v2_z1_snap['mag_g_obs'][mask]-pdc2_v2_z1_snap['mag_r_obs'][mask], \n",
    "            bins=gr_bins, normed=True,\n",
    "           alpha=0.8, label=r'${\\rm protoDC2\\ v2}$')\n",
    "__=ax4.hist(pdc2_v2_z1_snap['mag_r_obs'][mask]-pdc2_v2_z1_snap['mag_i_obs'][mask], \n",
    "            bins=ri_bins, normed=True,\n",
    "           alpha=0.8, label=r'${\\rm protoDC2\\ v2}$')\n",
    "\n",
    "__=ax1.hist(pdc2_v4p3['mag_g_rest'][mask2]-pdc2_v4p3['mag_r_rest'][mask2], \n",
    "            bins=gr_bins, normed=True,\n",
    "           alpha=0.8, label=r'${\\rm protoDC2\\ v4.3}$')\n",
    "__=ax2.hist(pdc2_v4p3['mag_r_rest'][mask2]-pdc2_v4p3['mag_i_rest'][mask2], \n",
    "            bins=ri_bins, normed=True,\n",
    "           alpha=0.8, label=r'${\\rm protoDC2\\ v4.3}$')\n",
    "# __=ax3.hist(pdc2_v4p3['mag_g_obs'][mask2]-pdc2_v4p3['mag_r_obs'][mask2], \n",
    "#             bins=gr_bins, normed=True,\n",
    "#            alpha=0.8, label=r'${\\rm protoDC2\\ v4.3\\ z=0.9}$')\n",
    "# __=ax4.hist(pdc2_v4p3['mag_r_obs'][mask2]-pdc2_v4p3['mag_i_obs'][mask2], \n",
    "#             bins=ri_bins, normed=True,\n",
    "#            alpha=0.8, label=r'${\\rm protoDC2\\ v4.3\\ z=0.9}$')\n",
    "\n",
    "\n",
    "xlabel1 = ax1.set_xlabel(r'${\\rm g-r\\ (restframe)}$')\n",
    "xlabel2 = ax2.set_xlabel(r'${\\rm r-i\\ (restframe)}$')\n",
    "xlabel3 = ax3.set_xlabel(r'${\\rm g-r\\ (observed)}$')\n",
    "xlabel4 = ax4.set_xlabel(r'${\\rm r-i\\ (observed)}$')\n",
    "\n",
    "title1 = ax1.set_title(r'${\\rm z=0.9; m_{\\rm r} < 24}$')\n",
    "title2 = ax2.set_title(r'${\\rm z=0.9; m_{\\rm r} < 24}$')\n",
    "\n",
    "leg1 = ax1.legend(frameon=False)\n",
    "leg2 = ax2.legend(frameon=False)\n",
    "leg3 = ax3.legend(frameon=False)\n",
    "leg4 = ax4.legend(frameon=False)\n",
    "\n",
    "ylim1 = ax1.set_ylim(0, 9)\n",
    "ylim2 = ax2.set_ylim(0, 13)\n",
    "\n",
    "left  = 0.125  # the left side of the subplots of the figure\n",
    "right = 0.9    # the right side of the subplots of the figure\n",
    "bottom = 0.1   # the bottom of the subplots of the figure\n",
    "top = 0.9      # the top of the subplots of the figure\n",
    "wspace = 0.2   # the amount of width reserved for space between subplots,\n",
    "               # expressed as a fraction of the average axis width\n",
    "hspace = 0.3   # the amount of height reserved for space between subplots,\n",
    "               # expressed as a fraction of the average axis height\n",
    "plt.subplots_adjust(left=left, bottom=bottom, right=right, top=top,\n",
    "                wspace=wspace, hspace=hspace)"
   ]
  },
  {
   "cell_type": "code",
   "execution_count": null,
   "metadata": {},
   "outputs": [],
   "source": []
  },
  {
   "cell_type": "code",
   "execution_count": null,
   "metadata": {},
   "outputs": [],
   "source": []
  },
  {
   "cell_type": "code",
   "execution_count": null,
   "metadata": {},
   "outputs": [],
   "source": []
  },
  {
   "cell_type": "code",
   "execution_count": null,
   "metadata": {},
   "outputs": [],
   "source": []
  },
  {
   "cell_type": "code",
   "execution_count": null,
   "metadata": {},
   "outputs": [],
   "source": []
  },
  {
   "cell_type": "code",
   "execution_count": 17,
   "metadata": {},
   "outputs": [
    {
     "data": {
      "image/png": "[encoded data removed]",
      "text/plain": [
       "<matplotlib.figure.Figure at 0x1646dfe90>"
      ]
     },
     "metadata": {},
     "output_type": "display_data"
    }
   ],
   "source": [
    "faint, bright = -20, -21\n",
    "zlo, zhi = 0., 0.25\n",
    "\n",
    "abs_r_mask = (pdc2_v2_z0p0_snap['mag_r_rest'] < faint) & (pdc2_v2_z0p0_snap['mag_r_rest'] >= bright)\n",
    "obs_r_mask = pdc2_v2_z0p0_snap['mag_r_obs'] < obs_r_mag_limit\n",
    "mask = abs_r_mask & obs_r_mask\n",
    "\n",
    "abs_r_mask2 = (pdc2_v4p3['mag_r_rest'] < faint) & (pdc2_v4p3['mag_r_rest'] >= bright)\n",
    "obs_r_mask2 = pdc2_v4p3['mag_r_obs'] < obs_r_mag_limit\n",
    "redshift_mask2 = (pdc2_v4p3['redshift'] < zhi) & (pdc2_v4p3['redshift'] >= zlo)\n",
    "mask2 = abs_r_mask2 & obs_r_mask2 & redshift_mask2\n",
    "\n",
    "\n",
    "fig, _axes = plt.subplots(2, 2, figsize=(10, 8))\n",
    "((ax1, ax2), (ax3, ax4)) = _axes\n",
    "axes = ax1, ax2, ax3, ax4\n",
    "\n",
    "gr_bins = np.linspace(-0.25, 1, 150)\n",
    "ri_bins = np.linspace(-0.25, 1, 150)\n",
    "\n",
    "__=ax1.hist(pdc2_v2_z0p0_snap['mag_g_rest'][mask]-pdc2_v2_z0p0_snap['mag_r_rest'][mask], \n",
    "            bins=gr_bins, normed=True, alpha=0.8, label=r'${\\rm protoDC2\\ v2}$')\n",
    "__=ax2.hist(pdc2_v2_z0p0_snap['mag_r_rest'][mask]-pdc2_v2_z0p0_snap['mag_i_rest'][mask], \n",
    "            bins=ri_bins, normed=True, alpha=0.8, label=r'${\\rm protoDC2\\ v2}$')\n",
    "__=ax3.hist(pdc2_v2_z0p0_snap['mag_g_obs'][mask]-pdc2_v2_z0p0_snap['mag_r_obs'][mask], \n",
    "            bins=gr_bins, normed=True, alpha=0.8, label=r'${\\rm protoDC2\\ v2}$')\n",
    "__=ax4.hist(pdc2_v2_z0p0_snap['mag_r_obs'][mask]-pdc2_v2_z0p0_snap['mag_i_obs'][mask], \n",
    "            bins=ri_bins, normed=True, alpha=0.8, label=r'${\\rm protoDC2\\ v2}$')\n",
    "\n",
    "__=ax1.hist(pdc2_v4p3['mag_g_rest'][mask2]-pdc2_v4p3['mag_r_rest'][mask2], \n",
    "            bins=gr_bins, normed=True, alpha=0.8, label=r'${\\rm protoDC2\\ v4.3}$')\n",
    "__=ax2.hist(pdc2_v4p3['mag_r_rest'][mask2]-pdc2_v4p3['mag_i_rest'][mask2], \n",
    "            bins=ri_bins, normed=True, alpha=0.8, label=r'${\\rm protoDC2\\ v4.3}$')\n",
    "\n",
    "\n",
    "xlabel1 = ax1.set_xlabel(r'${\\rm g-r\\ (restframe)}$')\n",
    "xlabel2 = ax2.set_xlabel(r'${\\rm r-i\\ (restframe)}$')\n",
    "xlabel3 = ax3.set_xlabel(r'${\\rm g-r\\ (observed)}$')\n",
    "xlabel4 = ax4.set_xlabel(r'${\\rm r-i\\ (observed)}$')\n",
    "\n",
    "title1 = ax1.set_title(r'${\\rm z=0; -21 < M_{\\rm r} < -20}$')\n",
    "title2 = ax2.set_title(r'${\\rm z=0; -21 < M_{\\rm r} < -20}$')\n",
    "\n",
    "leg1 = ax1.legend(frameon=False)\n",
    "leg2 = ax2.legend(frameon=False)\n",
    "leg3 = ax3.legend(frameon=False)\n",
    "leg4 = ax4.legend(frameon=False)\n",
    "\n",
    "ylim1 = ax1.set_ylim(0, 9)\n",
    "ylim2 = ax2.set_ylim(0, 13)\n",
    "\n",
    "xmin, xmax = 0, 1.1\n",
    "xmin2, xmax2 = 0, 0.6\n",
    "xlim1 = ax1.set_xlim(xmin, xmax)\n",
    "xlim2 = ax2.set_xlim(xmin2, xmax2)\n",
    "xlim3 = ax3.set_xlim(xmin, xmax)\n",
    "xlim4 = ax4.set_xlim(xmin2, xmax2)\n",
    "\n",
    "left  = 0.125  # the left side of the subplots of the figure\n",
    "right = 0.9    # the right side of the subplots of the figure\n",
    "bottom = 0.1   # the bottom of the subplots of the figure\n",
    "top = 0.9      # the top of the subplots of the figure\n",
    "wspace = 0.2   # the amount of width reserved for space between subplots,\n",
    "               # expressed as a fraction of the average axis width\n",
    "hspace = 0.3   # the amount of height reserved for space between subplots,\n",
    "               # expressed as a fraction of the average axis height\n",
    "plt.subplots_adjust(left=left, bottom=bottom, right=right, top=top,\n",
    "                wspace=wspace, hspace=hspace)"
   ]
  },
  {
   "cell_type": "markdown",
   "metadata": {},
   "source": []
  },
  {
   "cell_type": "code",
   "execution_count": null,
   "metadata": {},
   "outputs": [],
   "source": []
  },
  {
   "cell_type": "code",
   "execution_count": 27,
   "metadata": {},
   "outputs": [
    {
     "data": {
      "image/png": "[encoded data removed]",
      "text/plain": [
       "<matplotlib.figure.Figure at 0x16ad52cd0>"
      ]
     },
     "metadata": {},
     "output_type": "display_data"
    }
   ],
   "source": [
    "zlo, zhi = 0., 0.25\n",
    "galacticus_mock = pdc2_v2_z0p0_snap\n",
    "\n",
    "\n",
    "abs_r_mask2 = (pdc2_v4p3['mag_r_rest'] < faint) & (pdc2_v4p3['mag_r_rest'] >= bright)\n",
    "obs_r_mask2 = pdc2_v4p3['mag_r_obs'] < obs_r_mag_limit\n",
    "redshift_mask2 = (pdc2_v4p3['redshift'] < zhi) & (pdc2_v4p3['redshift'] >= zlo)\n",
    "mask2 = abs_r_mask2 & obs_r_mask2 & redshift_mask2\n",
    "\n",
    "\n",
    "fig, _axes = plt.subplots(2, 2, figsize=(10, 8))\n",
    "((ax1, ax2), (ax3, ax4)) = _axes\n",
    "axes = ax1, ax2, ax3, ax4\n",
    "\n",
    "gr_bins = np.linspace(-0.25, 1, 150)\n",
    "ri_bins = np.linspace(-0.25, 1, 150)\n",
    "\n",
    "faint, bright = -18.5, -19.5\n",
    "abs_r_mask = (galacticus_mock['mag_r_rest'] < faint) & (galacticus_mock['mag_r_rest'] >= bright)\n",
    "abs_r_mask2 = (pdc2_v4p3['mag_r_rest'] < faint) & (pdc2_v4p3['mag_r_rest'] >= bright)\n",
    "__=ax1.hist(galacticus_mock['mag_g_rest'][abs_r_mask]-galacticus_mock['mag_r_rest'][abs_r_mask], \n",
    "            bins=gr_bins, normed=True, alpha=0.8, label=r'${\\rm protoDC2\\ v2}$')\n",
    "__=ax1.hist(pdc2_v4p3['mag_g_rest'][abs_r_mask2]-pdc2_v4p3['mag_r_rest'][abs_r_mask2], \n",
    "            bins=gr_bins, normed=True, alpha=0.8, label=r'${\\rm protoDC2\\ v4.3}$')\n",
    "\n",
    "faint, bright = -19.5, -20.5\n",
    "abs_r_mask = (galacticus_mock['mag_r_rest'] < faint) & (galacticus_mock['mag_r_rest'] >= bright)\n",
    "abs_r_mask2 = (pdc2_v4p3['mag_r_rest'] < faint) & (pdc2_v4p3['mag_r_rest'] >= bright)\n",
    "__=ax2.hist(galacticus_mock['mag_g_rest'][abs_r_mask]-galacticus_mock['mag_r_rest'][abs_r_mask], \n",
    "            bins=gr_bins, normed=True, alpha=0.8, label=r'${\\rm protoDC2\\ v2}$')\n",
    "__=ax2.hist(pdc2_v4p3['mag_g_rest'][abs_r_mask2]-pdc2_v4p3['mag_r_rest'][abs_r_mask2], \n",
    "            bins=gr_bins, normed=True, alpha=0.8, label=r'${\\rm protoDC2\\ v4.3}$')\n",
    "\n",
    "faint, bright = -20.5, -21.5\n",
    "abs_r_mask = (galacticus_mock['mag_r_rest'] < faint) & (galacticus_mock['mag_r_rest'] >= bright)\n",
    "abs_r_mask2 = (pdc2_v4p3['mag_r_rest'] < faint) & (pdc2_v4p3['mag_r_rest'] >= bright)\n",
    "__=ax3.hist(galacticus_mock['mag_g_rest'][abs_r_mask]-galacticus_mock['mag_r_rest'][abs_r_mask], \n",
    "            bins=gr_bins, normed=True, alpha=0.8, label=r'${\\rm protoDC2\\ v2}$')\n",
    "__=ax3.hist(pdc2_v4p3['mag_g_rest'][abs_r_mask2]-pdc2_v4p3['mag_r_rest'][abs_r_mask2], \n",
    "            bins=gr_bins, normed=True, alpha=0.8, label=r'${\\rm protoDC2\\ v4.3}$')\n",
    "\n",
    "\n",
    "faint, bright = -21.5, -np.inf\n",
    "abs_r_mask = (galacticus_mock['mag_r_rest'] < faint) & (galacticus_mock['mag_r_rest'] >= bright)\n",
    "abs_r_mask2 = (pdc2_v4p3['mag_r_rest'] < faint) & (pdc2_v4p3['mag_r_rest'] >= bright)\n",
    "__=ax4.hist(galacticus_mock['mag_g_rest'][abs_r_mask]-galacticus_mock['mag_r_rest'][abs_r_mask], \n",
    "            bins=gr_bins, normed=True, alpha=0.8, label=r'${\\rm protoDC2\\ v2}$')\n",
    "__=ax4.hist(pdc2_v4p3['mag_g_rest'][abs_r_mask2]-pdc2_v4p3['mag_r_rest'][abs_r_mask2], \n",
    "            bins=gr_bins, normed=True, alpha=0.8, label=r'${\\rm protoDC2\\ v4.3}$')\n",
    "\n",
    "# __=ax2.hist(galacticus_mock['mag_r_rest'][mask]-galacticus_mock['mag_i_rest'][mask], \n",
    "#             bins=ri_bins, normed=True, alpha=0.8, label=r'${\\rm protoDC2\\ v2}$')\n",
    "# __=ax3.hist(galacticus_mock['mag_g_obs'][mask]-galacticus_mock['mag_r_obs'][mask], \n",
    "#             bins=gr_bins, normed=True, alpha=0.8, label=r'${\\rm protoDC2\\ v2}$')\n",
    "# __=ax4.hist(galacticus_mock['mag_r_obs'][mask]-galacticus_mock['mag_i_obs'][mask], \n",
    "#             bins=ri_bins, normed=True, alpha=0.8, label=r'${\\rm protoDC2\\ v2}$')\n",
    "\n",
    "leg1 = ax1.legend()\n",
    "leg2 = ax2.legend()\n",
    "leg3 = ax3.legend()\n",
    "leg4 = ax4.legend()\n",
    "\n",
    "title1 = ax1.set_title(r'${\\rm z=0; -21 < M_{\\rm r} < -20}$')\n",
    "title2 = ax2.set_title(r'${\\rm z=0; -21 < M_{\\rm r} < -20}$')\n",
    "\n",
    "ylim1 = ax1.set_ylim(0, 6)\n",
    "ylim2 = ax2.set_ylim(0, 5)\n",
    "ylim3 = ax3.set_ylim(0, 6)\n",
    "# ylim4 = ax4.set_ylim(0, 13)\n",
    "\n",
    "xmin, xmax = 0, 1.1\n",
    "xlim1 = ax1.set_xlim(xmin, xmax)\n",
    "xlim2 = ax2.set_xlim(xmin, xmax)\n",
    "xlim3 = ax3.set_xlim(xmin, xmax)\n",
    "xlim4 = ax4.set_xlim(xmin, xmax)\n"
   ]
  },
  {
   "cell_type": "code",
   "execution_count": null,
   "metadata": {},
   "outputs": [],
   "source": []
  },
  {
   "cell_type": "code",
   "execution_count": null,
   "metadata": {},
   "outputs": [],
   "source": []
  },
  {
   "cell_type": "code",
   "execution_count": null,
   "metadata": {},
   "outputs": [],
   "source": []
  },
  {
   "cell_type": "code",
   "execution_count": null,
   "metadata": {},
   "outputs": [],
   "source": []
  }
 ],
 "metadata": {
  "kernelspec": {
   "display_name": "Python [default]",
   "language": "python",
   "name": "python2"
  },
  "language_info": {
   "codemirror_mode": {
    "name": "ipython",
    "version": 2
   },
   "file_extension": ".py",
   "mimetype": "text/x-python",
   "name": "python",
   "nbconvert_exporter": "python",
   "pygments_lexer": "ipython2",
   "version": "2.7.14"
  }
 },
 "nbformat": 4,
 "nbformat_minor": 2
}
