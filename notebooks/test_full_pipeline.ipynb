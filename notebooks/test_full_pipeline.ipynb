{
 "cells": [
  {
   "cell_type": "code",
   "execution_count": 1,
   "metadata": {},
   "outputs": [],
   "source": [
    "%matplotlib inline"
   ]
  },
  {
   "cell_type": "code",
   "execution_count": 2,
   "metadata": {},
   "outputs": [],
   "source": [
    "import os"
   ]
  },
  {
   "cell_type": "code",
   "execution_count": 3,
   "metadata": {},
   "outputs": [],
   "source": [
    "dirname = \"/Volumes/NbodyDisk1/UniverseMachine/protoDC2_v3_mocks/um_z0p1_color_mock\"\n",
    "umachine_z0p1_color_mock_fname = os.path.join(dirname, \"um_z0p1_color_mock.hdf5\")"
   ]
  },
  {
   "cell_type": "code",
   "execution_count": 4,
   "metadata": {},
   "outputs": [],
   "source": [
    "dirname = \"/Volumes/NbodyDisk1/UniverseMachine/protoDC2_v3_mocks/fof_halos\"\n",
    "basename_list = (\"fof_halos_a1.00.hdf5\", \n",
    "                 \"fof_halos_a0.744123.hdf5\", \"fof_halos_a0.399872.hdf5\")\n",
    "alphaQ_halos_fname_list = list(os.path.join(dirname, basename) \n",
    "                               for basename in basename_list)\n",
    "\n",
    "for fname in alphaQ_halos_fname_list:\n",
    "    assert os.path.isfile(fname)"
   ]
  },
  {
   "cell_type": "code",
   "execution_count": 5,
   "metadata": {},
   "outputs": [],
   "source": [
    "dirname = \"/Volumes/NbodyDisk1/UniverseMachine/protoDC2_v3_mocks/um_snaps\"\n",
    "basename_list = (\"sfr_catalog_1.002310.hdf5\", \n",
    "                 \"sfr_catalog_0.744123.hdf5\", \"sfr_catalog_0.399872.hdf5\")\n",
    "umachine_mstar_ssfr_mock_fname_list = list(os.path.join(dirname, basename) \n",
    "                               for basename in basename_list)\n",
    "\n",
    "for fname in umachine_mstar_ssfr_mock_fname_list:\n",
    "    assert os.path.isfile(fname)"
   ]
  },
  {
   "cell_type": "code",
   "execution_count": 6,
   "metadata": {},
   "outputs": [],
   "source": [
    "dirname = \"/Volumes/NbodyDisk1/UniverseMachine/protoDC2_v3_mocks/bpl_halos\"\n",
    "basename_list = (\"hlist_1.00231.hdf5\", \"hlist_0.74412.hdf5\", \"hlist_0.39987.hdf5\")\n",
    "bpl_halos_fname_list = list(os.path.join(dirname, basename) \n",
    "                               for basename in basename_list)\n",
    "\n",
    "for fname in bpl_halos_fname_list:\n",
    "    assert os.path.isfile(fname)"
   ]
  },
  {
   "cell_type": "code",
   "execution_count": 7,
   "metadata": {},
   "outputs": [],
   "source": [
    "dirname = \"/Volumes/NbodyDisk1/UniverseMachine/protoDC2_v3_mocks/protoDC2_testing_snaps\"\n",
    "basename_list = [\"protoDC2_1.00231.hdf5\", \"protoDC2_0.744123.hdf5\", \"protoDC2_0.399872.hdf5\"]\n",
    "output_color_mock_fname_list = list(os.path.join(dirname, basename) \n",
    "                               for basename in basename_list)"
   ]
  },
  {
   "cell_type": "code",
   "execution_count": 8,
   "metadata": {},
   "outputs": [],
   "source": [
    "redshift_list = [0.0, 1./0.744123-1., 1./0.399872-1.]"
   ]
  },
  {
   "cell_type": "code",
   "execution_count": 9,
   "metadata": {},
   "outputs": [
    {
     "name": "stderr",
     "output_type": "stream",
     "text": [
      "/Users/aphearin/anaconda/lib/python2.7/site-packages/h5py/__init__.py:36: FutureWarning: Conversion of the second argument of issubdtype from `float` to `np.floating` is deprecated. In future, it will be treated as `np.float64 == np.dtype(float).type`.\n",
      "  from ._conv import register_converters as _register_converters\n"
     ]
    },
    {
     "name": "stdout",
     "output_type": "stream",
     "text": [
      "\n",
      "...loading z = 0.000 catalogs into memory\n",
      "          Computing host-centric positions for UniverseMachine galaxies\n",
      "          Computing galaxy--halo correspondence for UniverseMachine galaxies/halos\n",
      "\n",
      "          Matching z=0.1 color mock to z=0.000 mock\n",
      "          Matching AlphaQ halos to Bolshoi-Planck halos\n",
      "          Mapping z=0.000 galaxies to AlphaQ halos\n",
      "          Assembling z=0.000 output snapshot mock\n",
      "          Writing to disk\n",
      "Snapshot creation runtime = 9.69 minutes\n",
      "\n",
      "...loading z = 0.344 catalogs into memory\n",
      "          Computing host-centric positions for UniverseMachine galaxies\n",
      "          Computing galaxy--halo correspondence for UniverseMachine galaxies/halos\n",
      "\n",
      "          Matching z=0.1 color mock to z=0.344 mock\n",
      "          Matching AlphaQ halos to Bolshoi-Planck halos\n",
      "          Mapping z=0.344 galaxies to AlphaQ halos\n",
      "          Assembling z=0.344 output snapshot mock\n",
      "          Writing to disk\n"
     ]
    },
    {
     "ename": "IOError",
     "evalue": "File exists: /Volumes/NbodyDisk1/UniverseMachine/protoDC2_v3_mocks/protoDC2_testing_snaps/protoDC2_0.744123.hdf5",
     "output_type": "error",
     "traceback": [
      "\u001b[0;31m---------------------------------------------------------------------------\u001b[0m",
      "\u001b[0;31mIOError\u001b[0m                                   Traceback (most recent call last)",
      "\u001b[0;32m<ipython-input-9-ac5e35376c97>\u001b[0m in \u001b[0;36m<module>\u001b[0;34m()\u001b[0m\n\u001b[1;32m      3\u001b[0m write_snapshot_mocks_to_disk(umachine_z0p1_color_mock_fname, alphaQ_halos_fname_list,\n\u001b[1;32m      4\u001b[0m             \u001b[0mumachine_mstar_ssfr_mock_fname_list\u001b[0m\u001b[0;34m,\u001b[0m \u001b[0mbpl_halos_fname_list\u001b[0m\u001b[0;34m,\u001b[0m\u001b[0;34m\u001b[0m\u001b[0m\n\u001b[0;32m----> 5\u001b[0;31m             output_color_mock_fname_list, redshift_list)\n\u001b[0m\u001b[1;32m      6\u001b[0m \u001b[0;31m# alphaQ_halos, umachine_mock, bpl_halos = _x\u001b[0m\u001b[0;34m\u001b[0m\u001b[0;34m\u001b[0m\u001b[0m\n",
      "\u001b[0;32m/Users/aphearin/work/repositories/python/cosmodc2/build/lib/cosmodc2/generate_snapshot_collection.py\u001b[0m in \u001b[0;36mwrite_snapshot_mocks_to_disk\u001b[0;34m(umachine_z0p1_color_mock_fname, alphaQ_halos_fname_list, umachine_mstar_ssfr_mock_fname_list, bpl_halos_fname_list, output_color_mock_fname_list, redshift_list, overwrite)\u001b[0m\n\u001b[1;32m    224\u001b[0m         \u001b[0;31m########################################################################\u001b[0m\u001b[0;34m\u001b[0m\u001b[0;34m\u001b[0m\u001b[0m\n\u001b[1;32m    225\u001b[0m         \u001b[0;32mprint\u001b[0m\u001b[0;34m(\u001b[0m\u001b[0;34m\"          Writing to disk\"\u001b[0m\u001b[0;34m)\u001b[0m\u001b[0;34m\u001b[0m\u001b[0m\n\u001b[0;32m--> 226\u001b[0;31m         \u001b[0moutput_snapshot_mock\u001b[0m\u001b[0;34m.\u001b[0m\u001b[0mwrite\u001b[0m\u001b[0;34m(\u001b[0m\u001b[0moutput_color_mock_fname\u001b[0m\u001b[0;34m,\u001b[0m \u001b[0mpath\u001b[0m\u001b[0;34m=\u001b[0m\u001b[0;34m'data'\u001b[0m\u001b[0;34m,\u001b[0m \u001b[0moverwrite\u001b[0m\u001b[0;34m=\u001b[0m\u001b[0moverwrite\u001b[0m\u001b[0;34m)\u001b[0m\u001b[0;34m\u001b[0m\u001b[0m\n\u001b[0m\u001b[1;32m    227\u001b[0m \u001b[0;34m\u001b[0m\u001b[0m\n\u001b[1;32m    228\u001b[0m         \u001b[0mold_time_stamp\u001b[0m \u001b[0;34m=\u001b[0m \u001b[0mtime\u001b[0m\u001b[0;34m(\u001b[0m\u001b[0;34m)\u001b[0m\u001b[0;34m\u001b[0m\u001b[0m\n",
      "\u001b[0;32m/Users/aphearin/anaconda/lib/python2.7/site-packages/astropy/table/table.pyc\u001b[0m in \u001b[0;36mwrite\u001b[0;34m(self, *args, **kwargs)\u001b[0m\n\u001b[1;32m   2546\u001b[0m         \u001b[0mpassed\u001b[0m \u001b[0mthrough\u001b[0m \u001b[0mto\u001b[0m \u001b[0mthe\u001b[0m \u001b[0munderlying\u001b[0m \u001b[0mdata\u001b[0m \u001b[0mreader\u001b[0m \u001b[0;34m(\u001b[0m\u001b[0me\u001b[0m\u001b[0;34m.\u001b[0m\u001b[0mg\u001b[0m\u001b[0;34m.\u001b[0m \u001b[0;34m`\u001b[0m\u001b[0;34m~\u001b[0m\u001b[0mastropy\u001b[0m\u001b[0;34m.\u001b[0m\u001b[0mio\u001b[0m\u001b[0;34m.\u001b[0m\u001b[0mascii\u001b[0m\u001b[0;34m.\u001b[0m\u001b[0mwrite\u001b[0m\u001b[0;34m`\u001b[0m\u001b[0;34m)\u001b[0m\u001b[0;34m.\u001b[0m\u001b[0;34m\u001b[0m\u001b[0m\n\u001b[1;32m   2547\u001b[0m         \"\"\"\n\u001b[0;32m-> 2548\u001b[0;31m         \u001b[0mio_registry\u001b[0m\u001b[0;34m.\u001b[0m\u001b[0mwrite\u001b[0m\u001b[0;34m(\u001b[0m\u001b[0mself\u001b[0m\u001b[0;34m,\u001b[0m \u001b[0;34m*\u001b[0m\u001b[0margs\u001b[0m\u001b[0;34m,\u001b[0m \u001b[0;34m**\u001b[0m\u001b[0mkwargs\u001b[0m\u001b[0;34m)\u001b[0m\u001b[0;34m\u001b[0m\u001b[0m\n\u001b[0m\u001b[1;32m   2549\u001b[0m \u001b[0;34m\u001b[0m\u001b[0m\n\u001b[1;32m   2550\u001b[0m     \u001b[0;32mdef\u001b[0m \u001b[0mcopy\u001b[0m\u001b[0;34m(\u001b[0m\u001b[0mself\u001b[0m\u001b[0;34m,\u001b[0m \u001b[0mcopy_data\u001b[0m\u001b[0;34m=\u001b[0m\u001b[0mTrue\u001b[0m\u001b[0;34m)\u001b[0m\u001b[0;34m:\u001b[0m\u001b[0;34m\u001b[0m\u001b[0m\n",
      "\u001b[0;32m/Users/aphearin/anaconda/lib/python2.7/site-packages/astropy/io/registry.pyc\u001b[0m in \u001b[0;36mwrite\u001b[0;34m(data, *args, **kwargs)\u001b[0m\n\u001b[1;32m    579\u001b[0m \u001b[0;34m\u001b[0m\u001b[0m\n\u001b[1;32m    580\u001b[0m     \u001b[0mwriter\u001b[0m \u001b[0;34m=\u001b[0m \u001b[0mget_writer\u001b[0m\u001b[0;34m(\u001b[0m\u001b[0mformat\u001b[0m\u001b[0;34m,\u001b[0m \u001b[0mdata\u001b[0m\u001b[0;34m.\u001b[0m\u001b[0m__class__\u001b[0m\u001b[0;34m)\u001b[0m\u001b[0;34m\u001b[0m\u001b[0m\n\u001b[0;32m--> 581\u001b[0;31m     \u001b[0mwriter\u001b[0m\u001b[0;34m(\u001b[0m\u001b[0mdata\u001b[0m\u001b[0;34m,\u001b[0m \u001b[0;34m*\u001b[0m\u001b[0margs\u001b[0m\u001b[0;34m,\u001b[0m \u001b[0;34m**\u001b[0m\u001b[0mkwargs\u001b[0m\u001b[0;34m)\u001b[0m\u001b[0;34m\u001b[0m\u001b[0m\n\u001b[0m\u001b[1;32m    582\u001b[0m \u001b[0;34m\u001b[0m\u001b[0m\n\u001b[1;32m    583\u001b[0m \u001b[0;34m\u001b[0m\u001b[0m\n",
      "\u001b[0;32m/Users/aphearin/anaconda/lib/python2.7/site-packages/astropy/io/misc/hdf5.pyc\u001b[0m in \u001b[0;36mwrite_table_hdf5\u001b[0;34m(table, output, path, compression, append, overwrite, serialize_meta)\u001b[0m\n\u001b[1;32m    234\u001b[0m                 \u001b[0mos\u001b[0m\u001b[0;34m.\u001b[0m\u001b[0mremove\u001b[0m\u001b[0;34m(\u001b[0m\u001b[0moutput\u001b[0m\u001b[0;34m)\u001b[0m\u001b[0;34m\u001b[0m\u001b[0m\n\u001b[1;32m    235\u001b[0m             \u001b[0;32melse\u001b[0m\u001b[0;34m:\u001b[0m\u001b[0;34m\u001b[0m\u001b[0m\n\u001b[0;32m--> 236\u001b[0;31m                 \u001b[0;32mraise\u001b[0m \u001b[0mIOError\u001b[0m\u001b[0;34m(\u001b[0m\u001b[0;34m\"File exists: {0}\"\u001b[0m\u001b[0;34m.\u001b[0m\u001b[0mformat\u001b[0m\u001b[0;34m(\u001b[0m\u001b[0moutput\u001b[0m\u001b[0;34m)\u001b[0m\u001b[0;34m)\u001b[0m\u001b[0;34m\u001b[0m\u001b[0m\n\u001b[0m\u001b[1;32m    237\u001b[0m \u001b[0;34m\u001b[0m\u001b[0m\n\u001b[1;32m    238\u001b[0m         \u001b[0;31m# Open the file for appending or writing\u001b[0m\u001b[0;34m\u001b[0m\u001b[0;34m\u001b[0m\u001b[0m\n",
      "\u001b[0;31mIOError\u001b[0m: File exists: /Volumes/NbodyDisk1/UniverseMachine/protoDC2_v3_mocks/protoDC2_testing_snaps/protoDC2_0.744123.hdf5"
     ]
    }
   ],
   "source": [
    "from cosmodc2.generate_snapshot_collection import write_snapshot_mocks_to_disk\n",
    "\n",
    "write_snapshot_mocks_to_disk(umachine_z0p1_color_mock_fname, alphaQ_halos_fname_list,\n",
    "            umachine_mstar_ssfr_mock_fname_list, bpl_halos_fname_list,\n",
    "            output_color_mock_fname_list, redshift_list, overwrite=True)\n",
    "# alphaQ_halos, umachine_mock, bpl_halos = _x"
   ]
  },
  {
   "cell_type": "code",
   "execution_count": null,
   "metadata": {},
   "outputs": [],
   "source": [
    "# from galsampler.cython_kernels import galaxy_selection_kernel\n",
    "# source_galaxy_indx = np.array(galaxy_selection_kernel(\n",
    "#     alphaQ_halos['first_galaxy_index'].astype('i8'),\n",
    "#     alphaQ_halos['richness'].astype('i4'), alphaQ_halos['richness'].sum()))\n"
   ]
  },
  {
   "cell_type": "code",
   "execution_count": null,
   "metadata": {},
   "outputs": [],
   "source": [
    "# len(source_galaxy_indx)"
   ]
  },
  {
   "cell_type": "code",
   "execution_count": null,
   "metadata": {},
   "outputs": [],
   "source": [
    "# np.sum(alphaQ_halos['richness'])"
   ]
  },
  {
   "cell_type": "code",
   "execution_count": null,
   "metadata": {},
   "outputs": [],
   "source": [
    "# source_galaxy_indx.min(), source_galaxy_indx.max()"
   ]
  },
  {
   "cell_type": "code",
   "execution_count": null,
   "metadata": {},
   "outputs": [],
   "source": [
    "# len(umachine_mock)"
   ]
  },
  {
   "cell_type": "code",
   "execution_count": null,
   "metadata": {},
   "outputs": [],
   "source": []
  }
 ],
 "metadata": {
  "kernelspec": {
   "display_name": "Python [conda root]",
   "language": "python",
   "name": "conda-root-py"
  },
  "language_info": {
   "codemirror_mode": {
    "name": "ipython",
    "version": 2
   },
   "file_extension": ".py",
   "mimetype": "text/x-python",
   "name": "python",
   "nbconvert_exporter": "python",
   "pygments_lexer": "ipython2",
   "version": "2.7.14"
  }
 },
 "nbformat": 4,
 "nbformat_minor": 2
}
