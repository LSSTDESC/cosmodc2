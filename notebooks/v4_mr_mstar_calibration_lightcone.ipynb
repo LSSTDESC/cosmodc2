{
 "cells": [
  {
   "cell_type": "code",
   "execution_count": 1,
   "metadata": {},
   "outputs": [],
   "source": [
    "%matplotlib inline\n",
    "\n",
    "morange = u'#ff7f0e'\n",
    "mblue = u'#1f77b4'\n",
    "mgreen = u'#2ca02c'\n",
    "mred = u'#d62728'\n",
    "mpurple = u'#9467bd'"
   ]
  },
  {
   "cell_type": "code",
   "execution_count": 2,
   "metadata": {},
   "outputs": [],
   "source": [
    "def update_rest_rband(um_r_rest_old, r_rest_old, um_r_rest_new):\n",
    "    \"\"\"\n",
    "    \"\"\"\n",
    "    dr = r_rest_old - um_r_rest_old\n",
    "    return um_r_rest_new + dr\n",
    "\n",
    "def update_observed_rband(r_obs_old, r_rest_old, r_rest_new):\n",
    "    \"\"\"\n",
    "    \"\"\"\n",
    "    dr = r_obs_old - r_rest_old\n",
    "    return r_rest_new + dr\n"
   ]
  },
  {
   "cell_type": "code",
   "execution_count": null,
   "metadata": {},
   "outputs": [],
   "source": []
  },
  {
   "cell_type": "code",
   "execution_count": null,
   "metadata": {},
   "outputs": [],
   "source": []
  },
  {
   "cell_type": "code",
   "execution_count": null,
   "metadata": {},
   "outputs": [],
   "source": []
  },
  {
   "cell_type": "code",
   "execution_count": 3,
   "metadata": {},
   "outputs": [
    {
     "name": "stderr",
     "output_type": "stream",
     "text": [
      "/Users/aphearin/anaconda/lib/python2.7/site-packages/h5py/__init__.py:36: FutureWarning: Conversion of the second argument of issubdtype from `float` to `np.floating` is deprecated. In future, it will be treated as `np.float64 == np.dtype(float).type`.\n",
      "  from ._conv import register_converters as _register_converters\n"
     ]
    },
    {
     "name": "stdout",
     "output_type": "stream",
     "text": [
      "['um_host_halo_mvir', 'um_obs_sm', 'um_obs_sfr', 'um_redshift', 'um_sfr_percentile', 'um_upid', 'um_mpeak', 'um_mag_r_rest', 'um_gr_rest', 'um_ri_rest', 'um_is_on_red_sequence_gr', 'um_is_on_red_sequence_ri', 'isCentral', 'redshift', 'hostHaloMass', 'mag_g_rest', 'mag_g_obs', 'mag_r_rest', 'mag_r_obs', 'mag_i_rest', 'mag_i_obs', 'mag_z_rest', 'mag_z_obs', 'um_mag_g_rest', 'um_mag_i_rest']\n"
     ]
    }
   ],
   "source": [
    "import os\n",
    "dirname = \"/Volumes/simulation_data_2018/protoDC2_v4\"\n",
    "basename = \"v4.1.dust136.1substep.all.aph_reduced.hdf5\"\n",
    "\n",
    "fname = os.path.join(dirname, basename)\n",
    "\n",
    "from astropy.table import Table\n",
    "mock = Table.read(fname, path='data')\n",
    "\n",
    "mock.rename_column('um_restframe_extincted_sdss_abs_magr', 'um_mag_r_rest')\n",
    "mock.rename_column('um_restframe_extincted_sdss_gr', 'um_gr_rest')\n",
    "mock.rename_column('um_restframe_extincted_sdss_ri', 'um_ri_rest')\n",
    "mock['um_mag_g_rest'] = mock['um_gr_rest'] + mock['um_mag_r_rest']\n",
    "mock['um_mag_i_rest'] = mock['um_mag_r_rest'] - mock['um_ri_rest']\n",
    "print(mock.keys())"
   ]
  },
  {
   "cell_type": "code",
   "execution_count": 4,
   "metadata": {},
   "outputs": [],
   "source": [
    "from cosmodc2.stellar_mass_remapping import lift_high_mass_mstar\n",
    "\n",
    "mock['new_mstar'] = lift_high_mass_mstar(\n",
    "        mock['um_mpeak'], mock['um_obs_sm'], mock['redshift'], \n",
    "        z_table=[0.35, 0.5, 1], \n",
    "        slope_table=[0.5, 0.65, 0.8], pivot_table=[13.25, 13, 12.5])"
   ]
  },
  {
   "cell_type": "code",
   "execution_count": 5,
   "metadata": {},
   "outputs": [],
   "source": [
    "from cosmodc2.sdss_colors import magr_monte_carlo\n",
    "\n",
    "mock['new_um_mag_r_rest'] = magr_monte_carlo(mock['new_mstar'], mock['redshift'])"
   ]
  },
  {
   "cell_type": "code",
   "execution_count": 6,
   "metadata": {},
   "outputs": [],
   "source": [
    "#  Estimate the new restframe Galacticus r-band\n",
    "mock['new_mag_r_rest'] = update_rest_rband(\n",
    "    mock['um_mag_r_rest'], mock['mag_r_rest'], mock['new_um_mag_r_rest'])\n",
    "\n",
    "#  Estimate the new observed Galacticus r-band\n",
    "mock['new_mag_r_obs'] = update_observed_rband(\n",
    "    mock['mag_r_obs'], mock['mag_r_rest'], mock['new_mag_r_rest'])\n",
    "\n",
    "#  Estimate the new observed UniverseMachine r-band\n",
    "mock['new_um_mag_r_obs'] = update_observed_rband(\n",
    "    mock['mag_r_obs'], mock['mag_r_rest'], mock['new_um_mag_r_rest'])\n"
   ]
  },
  {
   "cell_type": "code",
   "execution_count": null,
   "metadata": {},
   "outputs": [],
   "source": []
  },
  {
   "cell_type": "code",
   "execution_count": 7,
   "metadata": {},
   "outputs": [
    {
     "data": {
      "image/png": "[encoded data removed]",
      "text/plain": [
       "<matplotlib.figure.Figure at 0x15316df90>"
      ]
     },
     "metadata": {},
     "output_type": "display_data"
    }
   ],
   "source": [
    "fname = \"/Users/aphearin/Desktop/deep2_data.txt\"\n",
    "X = np.loadtxt(fname)\n",
    "z = X[:, 0]\n",
    "dndz = X[:, 1]\n",
    "\n",
    "fig, ax = plt.subplots(1, 1)\n",
    "\n",
    "rmask_old = mock['mag_r_obs'] < 22\n",
    "rmask_new = mock['new_mag_r_obs'] < 22\n",
    "__=ax.hist(mock['redshift'][rmask_new], normed=True, bins=50, alpha=0.8, \n",
    "           label=r'${\\rm v4.2}$', color=mblue)\n",
    "__=ax.hist(mock['redshift'][rmask_old], normed=True, bins=50, alpha=0.8,\n",
    "          label=r'${\\rm v4.1}$', color=morange)\n",
    "\n",
    "__=ax.plot(z, dndz, color='k')\n",
    "\n",
    "legend = ax.legend()\n",
    "xlabel = ax.set_xlabel(r'${\\rm redshift}$')\n",
    "ylabel = ax.set_ylabel(r'${\\rm dn/dz}$')\n"
   ]
  },
  {
   "cell_type": "code",
   "execution_count": null,
   "metadata": {},
   "outputs": [],
   "source": []
  },
  {
   "cell_type": "code",
   "execution_count": null,
   "metadata": {},
   "outputs": [],
   "source": []
  }
 ],
 "metadata": {
  "kernelspec": {
   "display_name": "Python [conda root]",
   "language": "python",
   "name": "conda-root-py"
  },
  "language_info": {
   "codemirror_mode": {
    "name": "ipython",
    "version": 2
   },
   "file_extension": ".py",
   "mimetype": "text/x-python",
   "name": "python",
   "nbconvert_exporter": "python",
   "pygments_lexer": "ipython2",
   "version": "2.7.14"
  }
 },
 "nbformat": 4,
 "nbformat_minor": 2
}
