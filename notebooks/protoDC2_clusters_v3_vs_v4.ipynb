{
 "cells": [
  {
   "cell_type": "code",
   "execution_count": 1,
   "metadata": {},
   "outputs": [],
   "source": [
    "%matplotlib inline"
   ]
  },
  {
   "cell_type": "code",
   "execution_count": 2,
   "metadata": {},
   "outputs": [
    {
     "name": "stderr",
     "output_type": "stream",
     "text": [
      "/Users/aphearin/anaconda/lib/python2.7/site-packages/h5py/__init__.py:36: FutureWarning: Conversion of the second argument of issubdtype from `float` to `np.floating` is deprecated. In future, it will be treated as `np.float64 == np.dtype(float).type`.\n",
      "  from ._conv import register_converters as _register_converters\n"
     ]
    },
    {
     "name": "stdout",
     "output_type": "stream",
     "text": [
      "['ra', 'dec', 'z', 'sm', 'ssfr', 'nd', 'restframe_extincted_sdss_abs_magr', 'restframe_extincted_sdss_gr', 'restframe_extincted_sdss_ri', 'size_kpc', 'dr7_PhotoObj_Table_ID', 'sfr_percentile_fixed_sm', 'gr_percentile_fixed_magr']\n"
     ]
    }
   ],
   "source": [
    "from cosmodc2.sdss_colors import load_umachine_processed_sdss_catalog\n",
    "sdss = load_umachine_processed_sdss_catalog()\n",
    "print(sdss.keys())"
   ]
  },
  {
   "cell_type": "code",
   "execution_count": 3,
   "metadata": {},
   "outputs": [
    {
     "name": "stdout",
     "output_type": "stream",
     "text": [
      "['halo_id', 'upid', 'vpeak', 'mpeak', 'mvir', 'vmax', 'sm', 'sfr', 'obs_sm', 'obs_sfr', 'x', 'y', 'z', 'vx', 'vy', 'vz', 'hostid', 'host_halo_x', 'host_halo_y', 'host_halo_z', 'host_halo_vx', 'host_halo_vy', 'host_halo_vz', 'host_halo_mvir', 'host_centric_x', 'host_centric_y', 'host_centric_z', 'host_centric_vx', 'host_centric_vy', 'host_centric_vz', 'obs_sfr_percentile', 'sfr_percentile']\n"
     ]
    }
   ],
   "source": [
    "import os\n",
    "from astropy.table import Table\n",
    "\n",
    "#  MDPL2-based mock\n",
    "dirname = \"/Users/aphearin/work/random/0331\"\n",
    "basename = \"cutmock_1e9.hdf5\"\n",
    "fname = os.path.join(dirname, basename)\n",
    "mock = Table.read(fname, path='data')\n",
    "mock.Lbox = 500.\n",
    "\n",
    "#  Bpl-based mock\n",
    "# dirname = \"/Users/aphearin/work/random/0331\"\n",
    "# basename = \"testing_bpl_based_v4.hdf5\"\n",
    "# fname = os.path.join(dirname, basename)\n",
    "# mock = Table.read(fname, path='data')\n",
    "# mock.Lbox = 250.\n",
    "\n",
    "print(mock.keys())"
   ]
  },
  {
   "cell_type": "code",
   "execution_count": 4,
   "metadata": {},
   "outputs": [],
   "source": [
    "from cosmodc2.sdss_colors import mock_magr\n",
    "\n",
    "mock['restframe_extincted_sdss_abs_magr'] = mock_magr(\n",
    "            mock['upid'], mock['obs_sm'], mock['sfr_percentile'], \n",
    "            mock['host_halo_mvir'], sdss['sm'], sdss['sfr_percentile_fixed_sm'], \n",
    "            sdss['restframe_extincted_sdss_abs_magr'], sdss['z'])\n"
   ]
  },
  {
   "cell_type": "code",
   "execution_count": 5,
   "metadata": {},
   "outputs": [],
   "source": [
    "from cosmodc2.sdss_colors import mock_magr_from_sdss_draws\n",
    "\n",
    "\n",
    "mstar_mock = mock['obs_sm']\n",
    "sfr_percentile_mock = mock['sfr_percentile']\n",
    "magr_sdss = sdss['restframe_extincted_sdss_abs_magr']\n",
    "redshift_sdss = sdss['z']\n",
    "logsm_sdss = sdss['sm'] \n",
    "sfr_percentile_sdss = sdss['sfr_percentile_fixed_sm']\n",
    "\n",
    "mock['v3_magr'] = mock_magr_from_sdss_draws(mstar_mock, sfr_percentile_mock,\n",
    "          logsm_sdss, sfr_percentile_sdss, magr_sdss, redshift_sdss)"
   ]
  },
  {
   "cell_type": "code",
   "execution_count": 37,
   "metadata": {},
   "outputs": [
    {
     "data": {
      "image/png": "[encoded data removed]",
      "text/plain": [
       "<matplotlib.figure.Figure at 0x1228d9910>"
      ]
     },
     "metadata": {},
     "output_type": "display_data"
    }
   ],
   "source": [
    "cenmask = mock['upid'] == -1\n",
    "cluster_halo_mask = mock['host_halo_mvir'] > 10**14\n",
    "\n",
    "fig, ax = plt.subplots(1, 1)\n",
    "\n",
    "morange = u'#ff7f0e'\n",
    "mblue = u'#1f77b4'\n",
    "\n",
    "nbins = 50\n",
    "__=ax.hist(mock['v3_magr'][cluster_halo_mask & cenmask], color=mblue, \n",
    "          bins=nbins, normed=True, alpha=0.8, label=r'${\\rm v3\\ centrals}$')\n",
    "\n",
    "__=ax.hist(mock['restframe_extincted_sdss_abs_magr'][cluster_halo_mask & cenmask], \n",
    "           color=morange, bins=nbins, normed=True, alpha=0.8,\n",
    "           label=r'${\\rm v4\\ centrals}$')\n",
    "\n",
    "\n",
    "xlim = ax.set_xlim(-20, -25)\n",
    "ylim = ax.set_ylim(0, 2.5)\n",
    "legend = ax.legend()\n",
    "xlabel = ax.set_xlabel(r'${\\rm M_{\\rm r}}$')\n",
    "title = ax.set_title(r'$M_{\\rm halo} > 10^{14}M_{\\odot}$')\n",
    "\n",
    "figname = 'cluster_bcg_lf_v3_vs_v4.pdf'\n",
    "fig.savefig(figname, bbox_extra_artists=[xlabel], bbox_inches='tight')"
   ]
  },
  {
   "cell_type": "code",
   "execution_count": null,
   "metadata": {},
   "outputs": [],
   "source": []
  }
 ],
 "metadata": {
  "kernelspec": {
   "display_name": "Python [conda root]",
   "language": "python",
   "name": "conda-root-py"
  },
  "language_info": {
   "codemirror_mode": {
    "name": "ipython",
    "version": 2
   },
   "file_extension": ".py",
   "mimetype": "text/x-python",
   "name": "python",
   "nbconvert_exporter": "python",
   "pygments_lexer": "ipython2",
   "version": "2.7.14"
  }
 },
 "nbformat": 4,
 "nbformat_minor": 2
}
