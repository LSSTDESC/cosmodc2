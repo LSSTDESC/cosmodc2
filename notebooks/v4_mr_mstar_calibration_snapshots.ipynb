{
 "cells": [
  {
   "cell_type": "code",
   "execution_count": 1,
   "metadata": {},
   "outputs": [],
   "source": [
    "%matplotlib inline\n",
    "\n",
    "morange = u'#ff7f0e'\n",
    "mblue = u'#1f77b4'\n",
    "mgreen = u'#2ca02c'\n",
    "mred = u'#d62728'\n",
    "mpurple = u'#9467bd'"
   ]
  },
  {
   "cell_type": "code",
   "execution_count": 2,
   "metadata": {},
   "outputs": [
    {
     "name": "stderr",
     "output_type": "stream",
     "text": [
      "/Users/aphearin/anaconda/lib/python2.7/site-packages/h5py/__init__.py:36: FutureWarning: Conversion of the second argument of issubdtype from `float` to `np.floating` is deprecated. In future, it will be treated as `np.float64 == np.dtype(float).type`.\n",
      "  from ._conv import register_converters as _register_converters\n"
     ]
    },
    {
     "name": "stdout",
     "output_type": "stream",
     "text": [
      "['source_halo_id', 'target_halo_id', 'target_halo_x', 'target_halo_y', 'target_halo_z', 'target_halo_vx', 'target_halo_vy', 'target_halo_vz', 'target_halo_mass', 'host_halo_mvir', 'upid', 'mpeak', 'host_centric_x', 'host_centric_y', 'host_centric_z', 'host_centric_vx', 'host_centric_vy', 'host_centric_vz', 'obs_sm', 'obs_sfr', 'sfr_percentile', 'um_mag_r_rest', 'um_gr_rest', 'um_ri_rest', 'is_on_red_sequence_gr', 'is_on_red_sequence_ri', 'x', 'vx', 'y', 'vy', 'z', 'vz', 'lightcone_id', 'redshift', 'um_mag_g_rest']\n"
     ]
    }
   ],
   "source": [
    "import os\n",
    "dirname = \"/Volumes/simulation_data_2018/protoDC2_v4\"\n",
    "basename_z0p00 = \"umachine_color_mock_v4_m000-499.hdf5\"\n",
    "basename_z0p25 = \"umachine_color_mock_v4_m000-392.hdf5\"\n",
    "basename_z0p50 = \"umachine_color_mock_v4_m000-331.hdf5\"\n",
    "basename_z0p75 = \"umachine_color_mock_v4_m000-286.hdf5\"\n",
    "basename_z1p00 = \"umachine_color_mock_v4_m000-253.hdf5\"\n",
    "\n",
    "redshift = 0.0\n",
    "if redshift == 0.0:\n",
    "    basename = basename_z0p00\n",
    "elif redshift == 0.25:\n",
    "    basename = basename_z0p25\n",
    "elif redshift == 0.5:\n",
    "    basename = basename_z0p50\n",
    "elif redshift == 0.75:\n",
    "    basename = basename_z0p75\n",
    "elif redshift == 1.0:\n",
    "    basename = basename_z1p00\n",
    "\n",
    "\n",
    "Lbox = 256.\n",
    "Lbox_physical = Lbox/(1. + redshift)\n",
    "Veff = Lbox_physical**3.\n",
    "\n",
    "\n",
    "fname = os.path.join(dirname, basename)\n",
    "\n",
    "from astropy.table import Table\n",
    "mock = Table.read(fname, path='data')\n",
    "mock['redshift'] = redshift\n",
    "mock.rename_column('restframe_extincted_sdss_abs_magr', 'um_mag_r_rest')\n",
    "mock.rename_column('restframe_extincted_sdss_gr', 'um_gr_rest')\n",
    "mock.rename_column('restframe_extincted_sdss_ri', 'um_ri_rest')\n",
    "mock['um_mag_g_rest'] = mock['um_gr_rest'] + mock['um_mag_r_rest']\n",
    "\n",
    "print(mock.keys())"
   ]
  },
  {
   "cell_type": "code",
   "execution_count": null,
   "metadata": {},
   "outputs": [],
   "source": []
  },
  {
   "cell_type": "code",
   "execution_count": 3,
   "metadata": {},
   "outputs": [],
   "source": [
    "logsm_cut = 8\n",
    "mock = mock[mock['obs_sm'] > 10**logsm_cut]"
   ]
  },
  {
   "cell_type": "code",
   "execution_count": null,
   "metadata": {},
   "outputs": [],
   "source": []
  },
  {
   "cell_type": "code",
   "execution_count": 4,
   "metadata": {},
   "outputs": [],
   "source": [
    "brightest_rband = -24.64\n",
    "def update_rest_rband(um_r_rest_old, r_rest_old, um_r_rest_new):\n",
    "    \"\"\"\n",
    "    \"\"\"\n",
    "    dr = r_rest_old - um_r_rest_old\n",
    "    new_rest_rband = um_r_rest_new + dr\n",
    "    return np.where(new_rest_rband < brightest_rband, brightest_rband, new_rest_rband)\n"
   ]
  },
  {
   "cell_type": "code",
   "execution_count": 5,
   "metadata": {},
   "outputs": [],
   "source": [
    "from cosmodc2.sdss_colors import v4_paint_colors_onto_umachine_snaps as gogogo\n",
    "\n",
    "result = gogogo(mock['mpeak'], mock['obs_sm'], mock['upid'], \n",
    "       mock['redshift'], mock['sfr_percentile'])\n",
    "new_mstar, new_magr_rest, gr_mock, ri_mock, is_red_ri_mock, is_red_gr_mock = result\n",
    "\n",
    "mock['new_mstar'] = new_mstar\n",
    "mock['new_um_mag_r_rest'] = new_magr_rest\n",
    "mock['new_um_gr_rest'] = gr_mock\n",
    "mock['new_um_ri_rest'] = ri_mock\n",
    "mock['is_on_red_sequence_ri'] = is_red_ri_mock\n",
    "mock['is_on_red_sequence_gr'] = is_red_gr_mock\n"
   ]
  },
  {
   "cell_type": "code",
   "execution_count": 6,
   "metadata": {},
   "outputs": [],
   "source": [
    "mock['new2_um_mag_r_rest'] = mock['new_um_mag_r_rest']\n",
    "mock['new2_um_gr_rest'] = mock['new_um_gr_rest']\n",
    "mock['new2_um_ri_rest'] = mock['new_um_ri_rest']\n"
   ]
  },
  {
   "cell_type": "code",
   "execution_count": 7,
   "metadata": {},
   "outputs": [],
   "source": []
  },
  {
   "cell_type": "code",
   "execution_count": 8,
   "metadata": {},
   "outputs": [],
   "source": []
  },
  {
   "cell_type": "code",
   "execution_count": 9,
   "metadata": {},
   "outputs": [],
   "source": [
    "# from cosmodc2.stellar_mass_remapping import lift_high_mass_mstar\n",
    "\n",
    "# new_mstar = lift_high_mass_mstar(\n",
    "#         mock['mpeak'], mock['obs_sm'], mock['upid'],  mock['redshift'])\n",
    "# mock['new_mstar'] = new_mstar\n",
    "    \n",
    "# from cosmodc2.sdss_colors import magr_monte_carlo\n",
    "\n",
    "# mock['new_um_mag_r_rest'] = magr_monte_carlo(\n",
    "#     mock['new_mstar'], mock['upid'], mock['redshift'])\n",
    "\n",
    "# from cosmodc2.sdss_colors import gr_ri_monte_carlo\n",
    "\n",
    "# gr_mock, ri_mock, is_red_ri_mock, is_red_gr_mock = gr_ri_monte_carlo(\n",
    "#     mock['new_um_mag_r_rest'], mock['sfr_percentile'], \n",
    "#     mock['redshift'], local_random_scale=0.1)\n",
    "\n",
    "# mock['new_um_gr_rest'] = np.copy(gr_mock)\n",
    "# mock['new_um_ri_rest'] = np.copy(ri_mock)\n",
    "\n",
    "# mock['new_is_on_red_sequence_gr'] = is_red_gr_mock\n",
    "# mock['new_is_on_red_sequence_ri'] = is_red_ri_mock\n"
   ]
  },
  {
   "cell_type": "code",
   "execution_count": null,
   "metadata": {},
   "outputs": [],
   "source": []
  },
  {
   "cell_type": "code",
   "execution_count": null,
   "metadata": {},
   "outputs": [],
   "source": []
  },
  {
   "cell_type": "code",
   "execution_count": 12,
   "metadata": {},
   "outputs": [
    {
     "data": {
      "image/png": "[encoded data removed]",
      "text/plain": [
       "<matplotlib.figure.Figure at 0x119639f90>"
      ]
     },
     "metadata": {},
     "output_type": "display_data"
    }
   ],
   "source": [
    "nbins = 30\n",
    "magr_bins = np.linspace(-16.5, -22.5, nbins)\n",
    "magr_mids = 0.5*(magr_bins[:-1] + magr_bins[1:])\n",
    "\n",
    "fsat1 = np.zeros(nbins-1)\n",
    "fsat2 = np.zeros(nbins-1)\n",
    "fsat3 = np.zeros(nbins-1)\n",
    "\n",
    "for i, magr_high, magr_low in zip(range(nbins), magr_bins[:-1], magr_bins[1:]):\n",
    "    magr_mask = (mock['new_um_mag_r_rest'] >= magr_low)\n",
    "    magr_mask *= (mock['new_um_mag_r_rest'] < magr_high)    \n",
    "    fsat1[i] = np.mean(mock['upid'][magr_mask] != -1)\n",
    "\n",
    "#     magr_mask = (mock['new2_um_mag_r_rest'] >= magr_low)\n",
    "#     magr_mask *= (mock['new2_um_mag_r_rest'] < magr_high)    \n",
    "#     fsat2[i] = np.mean(mock['upid'][magr_mask] != -1)\n",
    "\n",
    "#     magr_mask = (mock['new3_um_mag_r_rest'] >= magr_low)\n",
    "#     magr_mask *= (mock['new3_um_mag_r_rest'] < magr_high)    \n",
    "#     fsat3[i] = np.mean(mock['upid'][magr_mask] != -1)\n",
    "\n",
    "fig, ax = plt.subplots(1, 1)\n",
    "\n",
    "__=ax.plot(magr_mids, fsat1)\n",
    "# __=ax.plot(magr_mids, fsat2)\n",
    "# __=ax.plot(magr_mids, fsat3)\n",
    "\n",
    "xlim = ax.set_xlim(-17, -25)\n",
    "ylim = ax.set_ylim(0, 1)"
   ]
  },
  {
   "cell_type": "code",
   "execution_count": null,
   "metadata": {},
   "outputs": [],
   "source": []
  },
  {
   "cell_type": "code",
   "execution_count": null,
   "metadata": {},
   "outputs": [],
   "source": []
  },
  {
   "cell_type": "code",
   "execution_count": null,
   "metadata": {},
   "outputs": [],
   "source": []
  },
  {
   "cell_type": "code",
   "execution_count": 13,
   "metadata": {},
   "outputs": [
    {
     "data": {
      "image/png": "[encoded data removed]",
      "text/plain": [
       "<matplotlib.figure.Figure at 0x10ef67890>"
      ]
     },
     "metadata": {},
     "output_type": "display_data"
    }
   ],
   "source": [
    "logsm_bins = np.linspace(9, 12.5, 25)\n",
    "logsm_mids = 0.5*(logsm_bins[:-1] + logsm_bins[1:])\n",
    "sm_bins = 10**logsm_bins\n",
    "sm_mids = 10**logsm_mids\n",
    "\n",
    "smf_old = np.zeros_like(logsm_mids)\n",
    "smf_new = np.zeros_like(logsm_mids)\n",
    "\n",
    "for i, sm_low, sm_high in zip(range(len(logsm_mids)), sm_bins[:-1], sm_bins[1:]):\n",
    "    orig_sm_mask = (mock['obs_sm'] > sm_low) & (mock['obs_sm'] < sm_high)\n",
    "    new_sm_mask = (mock['new_mstar'] > sm_low) & (mock['new_mstar'] < sm_high)\n",
    "    smf_old[i] = np.count_nonzero(orig_sm_mask)/Veff\n",
    "    smf_new[i] = np.count_nonzero(new_sm_mask)/Veff\n",
    "    \n",
    "fig, ax = plt.subplots(1, 1)\n",
    "\n",
    "__=ax.loglog()\n",
    "\n",
    "__=ax.errorbar(sm_mids, smf_new, 0.3*smf_new, fmt='.', \n",
    "               label=r'${\\rm v4.2}$', color=mblue)\n",
    "__=ax.errorbar(sm_mids, smf_old, 0.3*smf_old, fmt='.', \n",
    "               label=r'${\\rm v4.1}$', color=morange)\n",
    "\n",
    "ylim = ax.set_ylim(1e-8, 0.5)\n",
    "legend = ax.legend()\n",
    "\n",
    "xlabel = ax.set_xlabel(r'${\\rm M_{\\ast}\\ [M_{\\odot}]}$')\n",
    "ylabel = ax.set_ylabel(r'$\\phi({\\rm M_{\\ast}})$')\n",
    "title = ax.set_title(r'$z=0.5\\ {\\rm stellar\\ mass\\ function\\ recalibration}$')\n",
    "\n",
    "figname = 'smf_recalibration_v4p2.pdf'\n",
    "# fig.savefig(figname, bbox_extra_artists=[xlabel, ylabel], bbox_inches='tight')"
   ]
  },
  {
   "cell_type": "code",
   "execution_count": 14,
   "metadata": {},
   "outputs": [
    {
     "name": "stdout",
     "output_type": "stream",
     "text": [
      "['source_halo_id', 'target_halo_id', 'target_halo_x', 'target_halo_y', 'target_halo_z', 'target_halo_vx', 'target_halo_vy', 'target_halo_vz', 'target_halo_mass', 'host_halo_mvir', 'upid', 'mpeak', 'host_centric_x', 'host_centric_y', 'host_centric_z', 'host_centric_vx', 'host_centric_vy', 'host_centric_vz', 'obs_sm', 'obs_sfr', 'sfr_percentile', 'um_mag_r_rest', 'um_gr_rest', 'um_ri_rest', 'is_on_red_sequence_gr', 'is_on_red_sequence_ri', 'x', 'vx', 'y', 'vy', 'z', 'vz', 'lightcone_id', 'redshift', 'um_mag_g_rest', 'new_mstar', 'new_um_mag_r_rest', 'new_um_gr_rest', 'new_um_ri_rest', 'new2_um_mag_r_rest', 'new2_um_gr_rest', 'new2_um_ri_rest']\n"
     ]
    }
   ],
   "source": [
    "print(mock.keys())"
   ]
  },
  {
   "cell_type": "code",
   "execution_count": null,
   "metadata": {},
   "outputs": [],
   "source": []
  },
  {
   "cell_type": "code",
   "execution_count": null,
   "metadata": {},
   "outputs": [],
   "source": []
  },
  {
   "cell_type": "markdown",
   "metadata": {},
   "source": [
    "## Compare cumulative number density to Zehavi+11"
   ]
  },
  {
   "cell_type": "code",
   "execution_count": 15,
   "metadata": {},
   "outputs": [
    {
     "data": {
      "image/png": "[encoded data removed]",
      "text/plain": [
       "<matplotlib.figure.Figure at 0x118a53250>"
      ]
     },
     "metadata": {},
     "output_type": "display_data"
    }
   ],
   "source": [
    "from cosmodc2.sdss_colors import zehavi11_cumulative_nd\n",
    "lumthresh_h1p0, cumnd_sdss = zehavi11_cumulative_nd()\n",
    "\n",
    "from cosmodc2.mock_diagnostics import cumulative_nd\n",
    "\n",
    "volume_v4 = Lbox**3.\n",
    "protoDC2_littleh = 0.7\n",
    "cumnd_pdc2_v4p2 = cumulative_nd(mock['new_um_mag_r_rest'], \n",
    "                           volume_v4, protoDC2_littleh, lumthresh_h1p0)\n",
    "cumnd_pdc2_v4p2b = cumulative_nd(mock['new2_um_mag_r_rest'], \n",
    "                           volume_v4, protoDC2_littleh, lumthresh_h1p0)\n",
    "cumnd_pdc2_v4p1 = cumulative_nd(mock['um_mag_r_rest'], \n",
    "                           volume_v4, protoDC2_littleh, lumthresh_h1p0)\n",
    "\n",
    "fig, (ax1, ax2) = plt.subplots(1, 2, figsize=(10, 4), sharex=True)\n",
    "\n",
    "__=ax1.plot(lumthresh_h1p0, np.log10(cumnd_sdss), label=r'${\\rm Zehavi+11}$', color=mgreen)\n",
    "__=ax1.plot(lumthresh_h1p0, np.log10(cumnd_pdc2_v4p1), \n",
    "            label=r'${\\rm protoDC2\\ v4.1}$', color=morange)\n",
    "__=ax1.plot(lumthresh_h1p0, np.log10(cumnd_pdc2_v4p2), \n",
    "            label=r'${\\rm protoDC2\\ v4.2}$', color=mblue)\n",
    "\n",
    "fracdiff_pdc2_v4p1 = (cumnd_pdc2_v4p1 - cumnd_sdss)/cumnd_sdss\n",
    "fracdiff_pdc2_v4p2 = (cumnd_pdc2_v4p2 - cumnd_sdss)/cumnd_sdss\n",
    "fracdiff_pdc2_v4p2b = (cumnd_pdc2_v4p2b - cumnd_sdss)/cumnd_sdss\n",
    "\n",
    "__=ax2.plot(lumthresh_h1p0, fracdiff_pdc2_v4p1, \n",
    "            label=r'${\\rm protoDC2\\ v4.1}$', color=morange)\n",
    "__=ax2.plot(lumthresh_h1p0, fracdiff_pdc2_v4p2, \n",
    "            label=r'${\\rm protoDC2\\ v4.2}$', color=mblue)\n",
    "__=ax2.plot(lumthresh_h1p0, fracdiff_pdc2_v4p2b, \n",
    "            label=r'${\\rm protoDC2\\ v4.2b}$', color=mgreen)\n",
    "__=ax2.plot(np.linspace(-100, 100, 100), np.zeros(100), ':', color='k')\n",
    "\n",
    "legend = ax1.legend()\n",
    "xlabel = ax1.set_xlabel(r'${\\rm M_{r}}$')\n",
    "xlabel2 = ax2.set_xlabel(r'${\\rm M_{r}}$')\n",
    "ylabel2 = ax2.set_ylabel(r'${\\rm fractional\\ error}$')\n",
    "ylabel = ax1.set_ylabel(r'$n(<{\\rm M_r})\\ [(h/{\\rm Mpc})^3]$')\n",
    "title1 = ax1.set_title(r'${\\rm cumulative\\ number\\ density\\ test}$')\n",
    "title2 = ax2.set_title(r'${\\rm cumulative\\ number\\ density\\ test}$')\n",
    "ax2.yaxis.tick_right()  \n",
    "xlim1 = ax1.set_xlim(-18, -22.3)\n",
    "ylim2 = ax2.set_ylim(-1, 1)\n"
   ]
  },
  {
   "cell_type": "code",
   "execution_count": null,
   "metadata": {},
   "outputs": [],
   "source": []
  },
  {
   "cell_type": "code",
   "execution_count": null,
   "metadata": {},
   "outputs": [],
   "source": []
  },
  {
   "cell_type": "markdown",
   "metadata": {},
   "source": [
    "## Compare luminosity threshold clustering to Zehavi+11"
   ]
  },
  {
   "cell_type": "code",
   "execution_count": null,
   "metadata": {},
   "outputs": [],
   "source": []
  },
  {
   "cell_type": "code",
   "execution_count": 16,
   "metadata": {},
   "outputs": [
    {
     "name": "stdout",
     "output_type": "stream",
     "text": [
      "...calculating wp for 1.00e+05 galaxies and Mr < -19.0\n",
      "...calculating wp for 9.97e+04 galaxies and Mr < -19.5\n",
      "...calculating wp for 1.00e+05 galaxies and Mr < -20.0\n",
      "...calculating wp for 5.10e+04 galaxies and Mr < -20.5\n",
      "...calculating wp for 1.88e+04 galaxies and Mr < -21.0\n",
      "...calculating wp for 4.78e+03 galaxies and Mr < -21.5\n",
      "...calculating wp for 9.11e+02 galaxies and Mr < -22.0\n"
     ]
    }
   ],
   "source": [
    "from cosmodc2.mock_diagnostics import zehavi_wp\n",
    "\n",
    "period = Lbox\n",
    "x, y, z, vz = mock['x'], mock['y'], mock['z'], mock['vz']\n",
    "magr = mock['new_um_mag_r_rest']\n",
    "\n",
    "rp_mids, wp_v4_19p0 = zehavi_wp(x, y, z, vz, \n",
    "            period, magr, -19.0, protoDC2_littleh)\n",
    "rp_mids, wp_v4_19p5 = zehavi_wp(x, y, z, vz, \n",
    "            period, magr, -19.5, protoDC2_littleh)\n",
    "rp_mids, wp_v4_20p0 = zehavi_wp(x, y, z, vz, \n",
    "            period, magr, -20.0, protoDC2_littleh)\n",
    "rp_mids, wp_v4_20p5 = zehavi_wp(x, y, z, vz, \n",
    "            period, magr, -20.5, protoDC2_littleh)\n",
    "rp_mids, wp_v4_21p0 = zehavi_wp(x, y, z, vz, \n",
    "            period, magr, -21.0, protoDC2_littleh)\n",
    "rp_mids, wp_v4_21p5 = zehavi_wp(x, y, z, vz, \n",
    "            period, magr, -21.5, protoDC2_littleh)\n",
    "rp_mids, wp_v4_22p0 = zehavi_wp(x, y, z, vz, \n",
    "            period, magr, -22.0, protoDC2_littleh)\n"
   ]
  },
  {
   "cell_type": "code",
   "execution_count": 17,
   "metadata": {},
   "outputs": [
    {
     "name": "stdout",
     "output_type": "stream",
     "text": [
      "...calculating wp for 9.97e+04 galaxies and Mr < -19.0\n",
      "...calculating wp for 9.97e+04 galaxies and Mr < -19.5\n",
      "...calculating wp for 9.99e+04 galaxies and Mr < -20.0\n",
      "...calculating wp for 5.10e+04 galaxies and Mr < -20.5\n",
      "...calculating wp for 1.88e+04 galaxies and Mr < -21.0\n",
      "...calculating wp for 4.78e+03 galaxies and Mr < -21.5\n",
      "...calculating wp for 9.11e+02 galaxies and Mr < -22.0\n"
     ]
    }
   ],
   "source": [
    "from cosmodc2.mock_diagnostics import zehavi_wp\n",
    "\n",
    "period = Lbox\n",
    "x, y, z, vz = mock['x'], mock['y'], mock['z'], mock['vz']\n",
    "magr = mock['new2_um_mag_r_rest']\n",
    "\n",
    "rp_mids, wp_v4b_19p0 = zehavi_wp(x, y, z, vz, \n",
    "            period, magr, -19.0, protoDC2_littleh)\n",
    "rp_mids, wp_v4b_19p5 = zehavi_wp(x, y, z, vz, \n",
    "            period, magr, -19.5, protoDC2_littleh)\n",
    "rp_mids, wp_v4b_20p0 = zehavi_wp(x, y, z, vz, \n",
    "            period, magr, -20.0, protoDC2_littleh)\n",
    "rp_mids, wp_v4b_20p5 = zehavi_wp(x, y, z, vz, \n",
    "            period, magr, -20.5, protoDC2_littleh)\n",
    "rp_mids, wp_v4b_21p0 = zehavi_wp(x, y, z, vz, \n",
    "            period, magr, -21.0, protoDC2_littleh)\n",
    "rp_mids, wp_v4b_21p5 = zehavi_wp(x, y, z, vz, \n",
    "            period, magr, -21.5, protoDC2_littleh)\n",
    "rp_mids, wp_v4b_22p0 = zehavi_wp(x, y, z, vz, \n",
    "            period, magr, -22.0, protoDC2_littleh)\n"
   ]
  },
  {
   "cell_type": "code",
   "execution_count": 20,
   "metadata": {},
   "outputs": [
    {
     "data": {
      "image/png": "[encoded data removed]",
      "text/plain": [
       "<matplotlib.figure.Figure at 0x11d27dd90>"
      ]
     },
     "metadata": {},
     "output_type": "display_data"
    }
   ],
   "source": [
    "from cosmodc2.sdss_colors.sdss_measurements import rp as rp_zehavi\n",
    "from cosmodc2.sdss_colors import zehavi11_clustering\n",
    "\n",
    "wp_zehavi_18p5 = zehavi11_clustering(-18.5)\n",
    "wp_zehavi_19p0 = zehavi11_clustering(-19.0)\n",
    "wp_zehavi_19p5 = zehavi11_clustering(-19.5)\n",
    "wp_zehavi_20p0 = zehavi11_clustering(-20.0)\n",
    "wp_zehavi_20p5 = zehavi11_clustering(-20.5)\n",
    "wp_zehavi_21p0 = zehavi11_clustering(-21.0)\n",
    "wp_zehavi_21p5 = zehavi11_clustering(-21.5)\n",
    "wp_zehavi_22p0 = zehavi11_clustering(-21.5)\n",
    "\n",
    "fig, _axes = plt.subplots(2, 2, figsize=(10, 8), sharex=True, sharey=True)\n",
    "fig.subplots_adjust(hspace=0)\n",
    "fig.subplots_adjust(wspace=0)\n",
    "\n",
    "((ax1, ax2), (ax3, ax4)) = _axes\n",
    "axes = ax1, ax2, ax3, ax4\n",
    "for ax in axes:\n",
    "    __=ax.loglog()\n",
    "\n",
    "\n",
    "__=ax1.plot(rp_mids, wp_v4_19p0,  color='k', label=r'${\\rm M_{r} < -19}$')\n",
    "__=ax1.plot(rp_mids, wp_v4b_19p0,  color=mred, label=r'${\\rm M_{r} < -19}$')\n",
    "__=ax1.errorbar(rp_zehavi, wp_zehavi_19p0, 0.2*wp_zehavi_19p0, \n",
    "               fmt='.', color='blue')\n",
    "\n",
    "# __=ax2.plot(rp_mids, wp_v4_19p5,  color='k', label=r'${\\rm M_{r} < -19.5}$')\n",
    "# __=ax2.plot(rp_mids, wp_v4b_19p5,  color=mred, label=r'${\\rm M_{r} < -19.5}$')\n",
    "# __=ax2.errorbar(rp_zehavi, wp_zehavi_19p5, 0.2*wp_zehavi_19p5, \n",
    "#                fmt='.', color='blue')\n",
    "__=ax2.plot(rp_mids, wp_v4_20p0,  color='k', label=r'${\\rm M_{r} < -20.0}$')\n",
    "__=ax2.plot(rp_mids, wp_v4b_20p0,  color=mred, label=r'${\\rm M_{r} < -20.0}$')\n",
    "__=ax2.errorbar(rp_zehavi, wp_zehavi_20p0, 0.2*wp_zehavi_20p0, \n",
    "               fmt='.', color='blue')\n",
    "\n",
    "# __=ax3.plot(rp_mids, wp_v4_20p5,  color='k', label=r'${\\rm M_{r} < -20.5}$')\n",
    "# __=ax3.plot(rp_mids, wp_v4b_20p5,  color=mred, label=r'${\\rm M_{r} < -20.5}$')\n",
    "# __=ax3.errorbar(rp_zehavi, wp_zehavi_20p5, 0.2*wp_zehavi_20p5, \n",
    "#                fmt='.', color='blue')\n",
    "__=ax3.plot(rp_mids, wp_v4_21p0,  color='k', label=r'${\\rm M_{r} < -21.0}$')\n",
    "__=ax3.plot(rp_mids, wp_v4b_21p0,  color=mred, label=r'${\\rm M_{r} < -21.0}$')\n",
    "__=ax3.errorbar(rp_zehavi, wp_zehavi_21p0, 0.2*wp_zehavi_20p5, \n",
    "               fmt='.', color='blue')\n",
    "\n",
    "\n",
    "__=ax4.plot(rp_mids, wp_v4_21p5,  color='k', label=r'${\\rm M_{r} < -21.5}$')\n",
    "__=ax4.plot(rp_mids, wp_v4b_21p5,  color=mred, label=r'${\\rm M_{r} < -21.5}$')\n",
    "__=ax4.errorbar(rp_zehavi, wp_zehavi_21p5, 0.2*wp_zehavi_21p5, \n",
    "               fmt='.', color='blue')\n",
    "# __=ax4.plot(rp_mids[1:], wp_v4_22p0[1:],  color='k', label=r'${\\rm M_{r} < -22}$')\n",
    "# __=ax4.plot(rp_mids[1:], wp_v4b_22p0[1:],  color=mred, label=r'${\\rm M_{r} < -22}$')\n",
    "# __=ax4.errorbar(rp_zehavi, wp_zehavi_22p0, 0.2*wp_zehavi_22p0, \n",
    "#                fmt='.', color='blue')\n",
    "\n",
    "for ax in axes:\n",
    "    leg = ax.legend()\n",
    "\n",
    "title1 = ax1.set_title(r'${\\rm protoDC2-v4\\ clustering\\ vs.\\ SDSS}$')\n",
    "title2 = ax2.set_title(r'${\\rm protoDC2-v4\\ clustering\\ vs.\\ SDSS}$')\n",
    "\n",
    "xlabel3 = ax3.set_xlabel(r'${\\rm r_p\\ [Mpc]}$')\n",
    "xlabel4 = ax4.set_xlabel(r'${\\rm r_p\\ [Mpc]}$')\n",
    "ylabel1 = ax1.set_ylabel(r'${\\rm w_p(r_p)\\ [Mpc]}$')\n",
    "ylabel3 = ax3.set_ylabel(r'${\\rm w_p(r_p)\\ [Mpc]}$')\n",
    "\n",
    "__=ax1.set_xticklabels([''])\n",
    "__=ax2.set_xticklabels([''])\n",
    "\n",
    "# figname = 'tmp_clustering.pdf'\n",
    "# fig.savefig(figname, bbox_extra_artists=[xlabel, ylabel], bbox_inches='tight')"
   ]
  },
  {
   "cell_type": "code",
   "execution_count": null,
   "metadata": {},
   "outputs": [],
   "source": []
  },
  {
   "cell_type": "code",
   "execution_count": null,
   "metadata": {},
   "outputs": [],
   "source": []
  },
  {
   "cell_type": "raw",
   "metadata": {},
   "source": []
  }
 ],
 "metadata": {
  "kernelspec": {
   "display_name": "Python [conda root]",
   "language": "python",
   "name": "conda-root-py"
  },
  "language_info": {
   "codemirror_mode": {
    "name": "ipython",
    "version": 2
   },
   "file_extension": ".py",
   "mimetype": "text/x-python",
   "name": "python",
   "nbconvert_exporter": "python",
   "pygments_lexer": "ipython2",
   "version": "2.7.14"
  }
 },
 "nbformat": 4,
 "nbformat_minor": 2
}
