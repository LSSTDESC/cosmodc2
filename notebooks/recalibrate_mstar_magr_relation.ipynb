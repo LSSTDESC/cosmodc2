{
 "cells": [
  {
   "cell_type": "code",
   "execution_count": 1,
   "metadata": {},
   "outputs": [],
   "source": [
    "%matplotlib inline"
   ]
  },
  {
   "cell_type": "code",
   "execution_count": 2,
   "metadata": {},
   "outputs": [
    {
     "name": "stderr",
     "output_type": "stream",
     "text": [
      "/Users/aphearin/anaconda/lib/python2.7/site-packages/h5py/__init__.py:36: FutureWarning: Conversion of the second argument of issubdtype from `float` to `np.floating` is deprecated. In future, it will be treated as `np.float64 == np.dtype(float).type`.\n",
      "  from ._conv import register_converters as _register_converters\n"
     ]
    }
   ],
   "source": [
    "import os\n",
    "from astropy.table import Table\n",
    "\n",
    "#  MDPL2-based mock\n",
    "dirname = \"/Users/aphearin/work/random/0331\"\n",
    "basename = \"cutmock_1e9.hdf5\"\n",
    "fname = os.path.join(dirname, basename)\n",
    "mock = Table.read(fname, path='data')\n",
    "mask = mock['x'] < 200\n",
    "mask *= mock['y'] < 200\n",
    "mask *= mock['z'] < 200\n",
    "mock = mock[mask]\n",
    "mock.Lbox = 200.\n"
   ]
  },
  {
   "cell_type": "code",
   "execution_count": 3,
   "metadata": {},
   "outputs": [
    {
     "name": "stdout",
     "output_type": "stream",
     "text": [
      "['redshift', 'mstar', 'hostHaloMass', 'isCentral', 'mag_g', 'mag_r', 'mag_i', 'mag_g_obs', 'mag_r_obs', 'mag_i_obs', 'Lum_g', 'Lum_r', 'Lum_i', 'disk_mag_r', 'bulge_mag_r', 'lum_tot_r', 'bulge_rhalf_arcsec', 'disk_rhalf_arcsec', 'bt', 'ang_diam_dist_Mpc', 'bulge_rhalf_kpc_phys', 'disk_rhalf_kpc_phys']\n"
     ]
    }
   ],
   "source": [
    "morange = u'#ff7f0e'\n",
    "mblue = u'#1f77b4'\n",
    "mgreen = u'#2ca02c'\n",
    "mred = u'#d62728'\n",
    "mpurple = u'#9467bd'\n",
    "\n",
    "import os\n",
    "from astropy.table import Table\n",
    "v4_prerelease_dirname = \"/Users/aphearin/Dropbox/protoDC2/v4_prerelease\"\n",
    "v4_prerelease_fname = os.path.join(\n",
    "    v4_prerelease_dirname, \"v4_prerelease_no_interpolation.hdf5\")\n",
    "v4 = Table.read(v4_prerelease_fname, path='data')\n",
    "print(v4.keys())"
   ]
  },
  {
   "cell_type": "code",
   "execution_count": 4,
   "metadata": {},
   "outputs": [
    {
     "name": "stdout",
     "output_type": "stream",
     "text": [
      "['ra', 'dec', 'z', 'sm', 'ssfr', 'nd', 'restframe_extincted_sdss_abs_magr', 'restframe_extincted_sdss_gr', 'restframe_extincted_sdss_ri', 'size_kpc', 'dr7_PhotoObj_Table_ID', 'sfr_percentile_fixed_sm', 'gr_percentile_fixed_magr']\n"
     ]
    }
   ],
   "source": [
    "from cosmodc2.sdss_colors import load_umachine_processed_sdss_catalog\n",
    "sdss = load_umachine_processed_sdss_catalog()\n",
    "print(sdss.keys())"
   ]
  },
  {
   "cell_type": "code",
   "execution_count": 12,
   "metadata": {},
   "outputs": [
    {
     "name": "stdout",
     "output_type": "stream",
     "text": [
      "['redshift', 'mstar', 'hostHaloMass', 'isCentral', 'mag_g', 'mag_r', 'mag_i', 'mag_g_obs', 'mag_r_obs', 'mag_i_obs', 'Lum_g', 'Lum_r', 'Lum_i', 'disk_mag_r', 'bulge_mag_r', 'lum_tot_r', 'bulge_rhalf_arcsec', 'disk_rhalf_arcsec', 'bt', 'ang_diam_dist_Mpc', 'bulge_rhalf_kpc_phys', 'disk_rhalf_kpc_phys', 'mag_r_new', 'mag_r_obs_new', 'ri_new', 'gr_new', 'mag_g_abs_new', 'mag_i_abs_new', 'mag_i_obs_new']\n"
     ]
    }
   ],
   "source": [
    "from cosmodc2.sdss_colors import magr_monte_carlo\n",
    "\n",
    "def remap_mag_r_obs(mag_r_obs_old, mag_r_abs_old, mag_r_abs_new):\n",
    "    dmag_r = mag_r_obs_old - mag_r_abs_old\n",
    "    mag_r_obs_new = dmag_r + mag_r_abs_new\n",
    "    return mag_r_obs_new\n",
    "\n",
    "def remap_mag_i_obs(mag_r_abs_old, mag_i_abs_old, mag_i_obs_old, mag_r_abs_new):\n",
    "    ri_abs_old = mag_r_abs_old - mag_i_abs_old\n",
    "    mag_i_abs_new = ri_abs_old - mag_r_abs_new\n",
    "    dmag_i = mag_i_obs_old - mag_i_abs_old\n",
    "    mag_i_obs_new = dmag_i + mag_i_abs_new\n",
    "    return mag_i_abs_new, mag_i_obs_new\n",
    "\n",
    "v4['mag_r_new'] = magr_monte_carlo(v4['mstar'], v4['redshift'],\n",
    "                        boost_table=[0, -0.2, -0.5, -1.])\n",
    "v4['mag_r_obs_new'] = remap_mag_r_obs(v4['mag_r_obs'], v4['mag_r'], v4['mag_r_new'])\n",
    "\n",
    "mag_i_abs_new, mag_i_obs_new = remap_mag_i_obs(\n",
    "    v4['mag_r'], v4['mag_i'], v4['mag_i_obs'], v4['mag_r_new'])\n",
    "\n",
    "from cosmodc2.sdss_colors import gr_ri_monte_carlo\n",
    "\n",
    "sfr_percentile_mock = np.random.rand(len(v4))\n",
    "\n",
    "gr, ri, is_quiescent_ri, is_quiescent_gr = gr_ri_monte_carlo(\n",
    "    v4['mag_r_new'], sfr_percentile_mock, v4['redshift'])\n",
    "\n",
    "v4['ri_new'] = ri\n",
    "v4['gr_new'] = gr\n",
    "\n",
    "v4['mag_g_abs_new'] = v4['mag_r_new'] + v4['gr_new']\n",
    "v4['mag_i_abs_new'] = v4['mag_r_new'] - v4['ri_new']\n",
    "\n",
    "dmag_i = v4['mag_i_obs'] - v4['mag_i']\n",
    "v4['mag_i_obs_new'] = dmag_i + v4['mag_i_abs_new']\n",
    "\n",
    "print(v4.keys())"
   ]
  },
  {
   "cell_type": "code",
   "execution_count": null,
   "metadata": {},
   "outputs": [],
   "source": []
  },
  {
   "cell_type": "markdown",
   "metadata": {},
   "source": [
    "## HSC cumulative LF validation test "
   ]
  },
  {
   "cell_type": "code",
   "execution_count": 13,
   "metadata": {},
   "outputs": [
    {
     "data": {
      "image/png": "[encoded data removed]",
      "text/plain": [
       "<matplotlib.figure.Figure at 0x1119751d0>"
      ]
     },
     "metadata": {},
     "output_type": "display_data"
    }
   ],
   "source": [
    "magarr = np.linspace(20, 30, 30)\n",
    "magmasks = list((v4['mag_i_obs'] < m) for m in magarr)\n",
    "counts = np.array([np.count_nonzero(mask) for mask in magmasks])\n",
    "magmasks_new = list((v4['mag_i_obs_new'] < m) for m in magarr)\n",
    "counts_new = np.array([np.count_nonzero(mask) for mask in magmasks_new])\n",
    "\n",
    "sky_area = 25.\n",
    "fig, ax = plt.subplots(1, 1)\n",
    "yscale = ax.set_yscale('log')\n",
    "\n",
    "hsc_ordinates = [1e4, 1e5, 1e6]\n",
    "hsc_abscissa = [22, 25, 27.5]\n",
    "__=ax.plot(hsc_abscissa, hsc_ordinates, label=r'${\\rm HSC}$', color=mgreen)\n",
    "\n",
    "__=ax.plot(magarr, counts/sky_area, label=r'${\\rm v4\\ prerelease}$', color=morange)\n",
    "__=ax.plot(magarr, counts_new/sky_area, label=r'${\\rm v4}$', color=mpurple)\n",
    "\n",
    "xlabel = ax.set_xlabel(r'${\\rm m_{i}}$')\n",
    "ylabel = ax.set_ylabel(r'${\\rm n(<m)\\ [deg^{-2}]}$')\n",
    "legend = ax.legend()\n",
    "ylim = ax.set_ylim(1e3, 1.5e6)\n",
    "xlim = ax.set_xlim(22, 28)\n"
   ]
  },
  {
   "cell_type": "markdown",
   "metadata": {},
   "source": [
    "## Compare cumulative number density to Zehavi+11"
   ]
  },
  {
   "cell_type": "code",
   "execution_count": 14,
   "metadata": {},
   "outputs": [
    {
     "ename": "KeyError",
     "evalue": "'mag_r_new'",
     "output_type": "error",
     "traceback": [
      "\u001b[0;31m---------------------------------------------------------------------------\u001b[0m",
      "\u001b[0;31mKeyError\u001b[0m                                  Traceback (most recent call last)",
      "\u001b[0;32m<ipython-input-14-9711463636b0>\u001b[0m in \u001b[0;36m<module>\u001b[0;34m()\u001b[0m\n\u001b[1;32m      6\u001b[0m \u001b[0mvolume_v4\u001b[0m \u001b[0;34m=\u001b[0m \u001b[0mmock\u001b[0m\u001b[0;34m.\u001b[0m\u001b[0mLbox\u001b[0m\u001b[0;34m**\u001b[0m\u001b[0;36m3.\u001b[0m\u001b[0;34m\u001b[0m\u001b[0m\n\u001b[1;32m      7\u001b[0m \u001b[0mprotoDC2_littleh\u001b[0m \u001b[0;34m=\u001b[0m \u001b[0;36m0.7\u001b[0m\u001b[0;34m\u001b[0m\u001b[0m\n\u001b[0;32m----> 8\u001b[0;31m cumnd_pdc2_v4 = cumulative_nd(mock['mag_r_new'], \n\u001b[0m\u001b[1;32m      9\u001b[0m                            volume_v4, protoDC2_littleh, lumthresh_h1p0)\n\u001b[1;32m     10\u001b[0m cumnd_pdc2_v4_new2 = cumulative_nd(mock['mag_r_new2'], \n",
      "\u001b[0;32m/Users/aphearin/anaconda/lib/python2.7/site-packages/astropy/table/table.pyc\u001b[0m in \u001b[0;36m__getitem__\u001b[0;34m(self, item)\u001b[0m\n\u001b[1;32m   1220\u001b[0m     \u001b[0;32mdef\u001b[0m \u001b[0m__getitem__\u001b[0m\u001b[0;34m(\u001b[0m\u001b[0mself\u001b[0m\u001b[0;34m,\u001b[0m \u001b[0mitem\u001b[0m\u001b[0;34m)\u001b[0m\u001b[0;34m:\u001b[0m\u001b[0;34m\u001b[0m\u001b[0m\n\u001b[1;32m   1221\u001b[0m         \u001b[0;32mif\u001b[0m \u001b[0misinstance\u001b[0m\u001b[0;34m(\u001b[0m\u001b[0mitem\u001b[0m\u001b[0;34m,\u001b[0m \u001b[0msix\u001b[0m\u001b[0;34m.\u001b[0m\u001b[0mstring_types\u001b[0m\u001b[0;34m)\u001b[0m\u001b[0;34m:\u001b[0m\u001b[0;34m\u001b[0m\u001b[0m\n\u001b[0;32m-> 1222\u001b[0;31m             \u001b[0;32mreturn\u001b[0m \u001b[0mself\u001b[0m\u001b[0;34m.\u001b[0m\u001b[0mcolumns\u001b[0m\u001b[0;34m[\u001b[0m\u001b[0mitem\u001b[0m\u001b[0;34m]\u001b[0m\u001b[0;34m\u001b[0m\u001b[0m\n\u001b[0m\u001b[1;32m   1223\u001b[0m         \u001b[0;32melif\u001b[0m \u001b[0misinstance\u001b[0m\u001b[0;34m(\u001b[0m\u001b[0mitem\u001b[0m\u001b[0;34m,\u001b[0m \u001b[0;34m(\u001b[0m\u001b[0mint\u001b[0m\u001b[0;34m,\u001b[0m \u001b[0mnp\u001b[0m\u001b[0;34m.\u001b[0m\u001b[0minteger\u001b[0m\u001b[0;34m)\u001b[0m\u001b[0;34m)\u001b[0m\u001b[0;34m:\u001b[0m\u001b[0;34m\u001b[0m\u001b[0m\n\u001b[1;32m   1224\u001b[0m             \u001b[0;32mreturn\u001b[0m \u001b[0mself\u001b[0m\u001b[0;34m.\u001b[0m\u001b[0mRow\u001b[0m\u001b[0;34m(\u001b[0m\u001b[0mself\u001b[0m\u001b[0;34m,\u001b[0m \u001b[0mitem\u001b[0m\u001b[0;34m)\u001b[0m\u001b[0;34m\u001b[0m\u001b[0m\n",
      "\u001b[0;32m/Users/aphearin/anaconda/lib/python2.7/site-packages/astropy/table/table.pyc\u001b[0m in \u001b[0;36m__getitem__\u001b[0;34m(self, item)\u001b[0m\n\u001b[1;32m    107\u001b[0m         \"\"\"\n\u001b[1;32m    108\u001b[0m         \u001b[0;32mif\u001b[0m \u001b[0misinstance\u001b[0m\u001b[0;34m(\u001b[0m\u001b[0mitem\u001b[0m\u001b[0;34m,\u001b[0m \u001b[0msix\u001b[0m\u001b[0;34m.\u001b[0m\u001b[0mstring_types\u001b[0m\u001b[0;34m)\u001b[0m\u001b[0;34m:\u001b[0m\u001b[0;34m\u001b[0m\u001b[0m\n\u001b[0;32m--> 109\u001b[0;31m             \u001b[0;32mreturn\u001b[0m \u001b[0mOrderedDict\u001b[0m\u001b[0;34m.\u001b[0m\u001b[0m__getitem__\u001b[0m\u001b[0;34m(\u001b[0m\u001b[0mself\u001b[0m\u001b[0;34m,\u001b[0m \u001b[0mitem\u001b[0m\u001b[0;34m)\u001b[0m\u001b[0;34m\u001b[0m\u001b[0m\n\u001b[0m\u001b[1;32m    110\u001b[0m         \u001b[0;32melif\u001b[0m \u001b[0misinstance\u001b[0m\u001b[0;34m(\u001b[0m\u001b[0mitem\u001b[0m\u001b[0;34m,\u001b[0m \u001b[0;34m(\u001b[0m\u001b[0mint\u001b[0m\u001b[0;34m,\u001b[0m \u001b[0mnp\u001b[0m\u001b[0;34m.\u001b[0m\u001b[0minteger\u001b[0m\u001b[0;34m)\u001b[0m\u001b[0;34m)\u001b[0m\u001b[0;34m:\u001b[0m\u001b[0;34m\u001b[0m\u001b[0m\n\u001b[1;32m    111\u001b[0m             \u001b[0;32mreturn\u001b[0m \u001b[0mself\u001b[0m\u001b[0;34m.\u001b[0m\u001b[0mvalues\u001b[0m\u001b[0;34m(\u001b[0m\u001b[0;34m)\u001b[0m\u001b[0;34m[\u001b[0m\u001b[0mitem\u001b[0m\u001b[0;34m]\u001b[0m\u001b[0;34m\u001b[0m\u001b[0m\n",
      "\u001b[0;31mKeyError\u001b[0m: 'mag_r_new'"
     ]
    }
   ],
   "source": [
    "from cosmodc2.sdss_colors import zehavi11_cumulative_nd\n",
    "lumthresh_h1p0, cumnd_sdss = zehavi11_cumulative_nd()\n",
    "\n",
    "from cosmodc2.mock_diagnostics import cumulative_nd\n",
    "\n",
    "volume_v4 = mock.Lbox**3.\n",
    "protoDC2_littleh = 0.7\n",
    "cumnd_pdc2_v4 = cumulative_nd(mock['mag_r_new'], \n",
    "                           volume_v4, protoDC2_littleh, lumthresh_h1p0)\n",
    "cumnd_pdc2_v4_new2 = cumulative_nd(mock['mag_r_new2'], \n",
    "                           volume_v4, protoDC2_littleh, lumthresh_h1p0)\n"
   ]
  },
  {
   "cell_type": "code",
   "execution_count": null,
   "metadata": {},
   "outputs": [],
   "source": [
    "fig, (ax1, ax2) = plt.subplots(1, 2, figsize=(10, 4), sharex=True)\n",
    "\n",
    "__=ax1.plot(lumthresh_h1p0, np.log10(cumnd_sdss), label=r'${\\rm Zehavi+11}$', color=mgreen)\n",
    "__=ax1.plot(lumthresh_h1p0, np.log10(cumnd_pdc2_v4), \n",
    "            label=r'${\\rm v4}$', color=mblue)\n",
    "__=ax1.plot(lumthresh_h1p0, np.log10(cumnd_pdc2_v4_new2), \n",
    "            label=r'${\\rm v4\\ alt}$', color=mpurple)\n",
    "\n",
    "fracdiff_pdc2_v4 = (cumnd_pdc2_v4 - cumnd_sdss)/cumnd_sdss\n",
    "fracdiff_pdc2_v4_new2 = (cumnd_pdc2_v4_new2 - cumnd_sdss)/cumnd_sdss\n",
    "\n",
    "__=ax2.plot(lumthresh_h1p0, fracdiff_pdc2_v4, \n",
    "            label=r'${\\rm v4}$', color=mblue)\n",
    "__=ax2.plot(lumthresh_h1p0, fracdiff_pdc2_v4_new2, \n",
    "            label=r'${\\rm v4\\ alt}$', color=mpurple)\n",
    "__=ax2.plot(np.linspace(-100, 100, 100), np.zeros(100), ':', color='k')\n",
    "\n",
    "legend = ax1.legend()\n",
    "legend2 = ax2.legend()\n",
    "xlabel = ax1.set_xlabel(r'${\\rm M_{r}}$')\n",
    "xlabel2 = ax2.set_xlabel(r'${\\rm M_{r}}$')\n",
    "ylabel2 = ax2.set_ylabel(r'${\\rm fractional\\ error}$')\n",
    "ylabel = ax1.set_ylabel(r'$n(<{\\rm M_r})\\ [(h/{\\rm Mpc})^3]$')\n",
    "title1 = ax1.set_title(r'${\\rm z=0\\ luminosity\\ function\\ test}$')\n",
    "title2 = ax2.set_title(r'${\\rm z=0\\ luminosity\\ function\\ test}$')\n",
    "ax2.yaxis.tick_right()  \n",
    "xlim1 = ax1.set_xlim(-18, -22.3)\n",
    "ylim2 = ax2.set_ylim(-1, 1)\n",
    "\n",
    "figname = 'v4_hsc_recalibration_zehavi11_nd.pdf'\n",
    "fig.savefig(figname, bbox_extra_artists=[xlabel, ylabel], bbox_inches='tight')"
   ]
  },
  {
   "cell_type": "code",
   "execution_count": null,
   "metadata": {},
   "outputs": [],
   "source": []
  },
  {
   "cell_type": "code",
   "execution_count": null,
   "metadata": {},
   "outputs": [],
   "source": []
  },
  {
   "cell_type": "code",
   "execution_count": null,
   "metadata": {},
   "outputs": [],
   "source": []
  },
  {
   "cell_type": "code",
   "execution_count": null,
   "metadata": {},
   "outputs": [],
   "source": []
  },
  {
   "cell_type": "code",
   "execution_count": null,
   "metadata": {},
   "outputs": [],
   "source": [
    "from cosmodc2.mock_diagnostics import zehavi_wp\n",
    "\n",
    "period = mock.Lbox\n",
    "x, y, z, vz = mock['x'], mock['y'], mock['z'], mock['vz']\n",
    "\n",
    "magr = mock['mag_r_new']\n",
    "rp_mids, wp_v4_19p0_new = zehavi_wp(x, y, z, vz, \n",
    "            period, magr, -19.0, protoDC2_littleh)\n",
    "rp_mids, wp_v4_19p5_new = zehavi_wp(x, y, z, vz, \n",
    "            period, magr, -19.5, protoDC2_littleh)\n",
    "rp_mids, wp_v4_20p5_new = zehavi_wp(x, y, z, vz, \n",
    "            period, magr, -20.5, protoDC2_littleh)\n",
    "rp_mids, wp_v4_21p5_new = zehavi_wp(x, y, z, vz, \n",
    "            period, magr, -21.5, protoDC2_littleh)\n"
   ]
  },
  {
   "cell_type": "code",
   "execution_count": null,
   "metadata": {},
   "outputs": [],
   "source": [
    "magr = mock['mag_r_new2']\n",
    "rp_mids, wp_v4_19p0_new2 = zehavi_wp(x, y, z, vz, \n",
    "            period, magr, -19.0, protoDC2_littleh)\n",
    "rp_mids, wp_v4_19p5_new2 = zehavi_wp(x, y, z, vz, \n",
    "            period, magr, -19.5, protoDC2_littleh)\n",
    "rp_mids, wp_v4_20p5_new2 = zehavi_wp(x, y, z, vz, \n",
    "            period, magr, -20.5, protoDC2_littleh)\n",
    "rp_mids, wp_v4_21p5_new2 = zehavi_wp(x, y, z, vz, \n",
    "            period, magr, -21.5, protoDC2_littleh)\n"
   ]
  },
  {
   "cell_type": "code",
   "execution_count": null,
   "metadata": {},
   "outputs": [],
   "source": [
    "from cosmodc2.sdss_colors.sdss_measurements import rp as rp_zehavi\n",
    "from cosmodc2.sdss_colors import zehavi11_clustering\n",
    "\n",
    "wp_zehavi_18p5 = zehavi11_clustering(-18.5)\n",
    "wp_zehavi_19p0 = zehavi11_clustering(-19.0)\n",
    "wp_zehavi_19p5 = zehavi11_clustering(-19.5)\n",
    "wp_zehavi_20p0 = zehavi11_clustering(-20.0)\n",
    "wp_zehavi_20p5 = zehavi11_clustering(-20.5)\n",
    "wp_zehavi_21p0 = zehavi11_clustering(-21.0)\n",
    "wp_zehavi_21p5 = zehavi11_clustering(-21.5)\n",
    "\n",
    "fig, _axes = plt.subplots(2, 2, figsize=(10, 8), sharex=True, sharey=True)\n",
    "fig.subplots_adjust(hspace=0)\n",
    "fig.subplots_adjust(wspace=0)\n",
    "\n",
    "((ax1, ax2), (ax3, ax4)) = _axes\n",
    "axes = ax1, ax2, ax3, ax4\n",
    "for ax in axes:\n",
    "    __=ax.loglog()\n",
    "\n",
    "\n",
    "__=ax1.plot(rp_mids, wp_v4_19p0_new,  color=mblue, label=r'${\\rm v4\\ M_{r} < -19}$')\n",
    "__=ax1.plot(rp_mids, wp_v4_19p0_new2,  color=mpurple, label=r'${\\rm v4\\ alt}$')\n",
    "__=ax1.errorbar(rp_zehavi, wp_zehavi_19p0, 0.2*wp_zehavi_19p0, \n",
    "               fmt='.', color='blue')\n",
    "\n",
    "__=ax2.plot(rp_mids, wp_v4_19p5_new,  color=mblue, label=r'${\\rm v4\\ M_{r} < -19.5}$')\n",
    "__=ax2.plot(rp_mids, wp_v4_19p5_new2,  color=mpurple, label=r'${\\rm v4\\ alt}$')\n",
    "__=ax2.errorbar(rp_zehavi, wp_zehavi_19p5, 0.2*wp_zehavi_19p5, \n",
    "               fmt='.', color='blue')\n",
    "\n",
    "__=ax3.plot(rp_mids, wp_v4_20p5_new,  color=mblue, label=r'${\\rm v4\\ M_{r} < -20.5}$')\n",
    "__=ax3.plot(rp_mids, wp_v4_20p5_new2,  color=mpurple, label=r'${\\rm v4\\ alt}$')\n",
    "__=ax3.errorbar(rp_zehavi, wp_zehavi_20p5, 0.2*wp_zehavi_20p5, \n",
    "               fmt='.', color='blue')\n",
    "\n",
    "__=ax4.plot(rp_mids, wp_v4_21p5_new,  color=mblue, label=r'${\\rm v4\\ M_{r} < -21.5}$')\n",
    "__=ax4.plot(rp_mids, wp_v4_21p5_new2,  color=mpurple, label=r'${\\rm v4\\ alt}$')\n",
    "__=ax4.errorbar(rp_zehavi, wp_zehavi_21p5, 0.2*wp_zehavi_21p5, \n",
    "               fmt='.', color='blue')\n",
    "\n",
    "for ax in axes:\n",
    "    leg = ax.legend()\n",
    "\n",
    "title1 = ax1.set_title(r'${\\rm protoDC2-v4\\ clustering\\ vs.\\ SDSS}$')\n",
    "title2 = ax2.set_title(r'${\\rm protoDC2-v4\\ clustering\\ vs.\\ SDSS}$')\n",
    "\n",
    "xlabel3 = ax3.set_xlabel(r'${\\rm r_p\\ [Mpc]}$')\n",
    "xlabel4 = ax4.set_xlabel(r'${\\rm r_p\\ [Mpc]}$')\n",
    "ylabel1 = ax1.set_ylabel(r'${\\rm w_p(r_p)\\ [Mpc]}$')\n",
    "ylabel3 = ax3.set_ylabel(r'${\\rm w_p(r_p)\\ [Mpc]}$')\n",
    "\n",
    "__=ax1.set_xticklabels([''])\n",
    "__=ax2.set_xticklabels([''])\n",
    "\n",
    "figname = 'v4_hsc_recalibration_zehavi11_wp.pdf'\n",
    "fig.savefig(figname, bbox_extra_artists=[xlabel, ylabel], bbox_inches='tight')"
   ]
  },
  {
   "cell_type": "code",
   "execution_count": null,
   "metadata": {},
   "outputs": [],
   "source": []
  },
  {
   "cell_type": "code",
   "execution_count": null,
   "metadata": {},
   "outputs": [],
   "source": [
    "print(mock.keys())"
   ]
  },
  {
   "cell_type": "code",
   "execution_count": null,
   "metadata": {},
   "outputs": [],
   "source": [
    "cenmask = mock['upid'] == -1\n",
    "\n",
    "fig, (ax1, ax2) = plt.subplots(1, 2, figsize=(10, 4))\n",
    "xscale1 = ax1.set_xscale('log')\n",
    "\n",
    "__=ax1.scatter(mock['mvir'][cenmask][::100], mock['mag_r_new'][cenmask][::100], s=0.1,\n",
    "              color='gray')\n",
    "\n",
    "mw_halo_mask = (mock['mvir'] > 10**11.75) & (mock['mvir'] < 10**12.25)\n",
    "group_halo_mask = (mock['mvir'] > 10**13.) & (mock['mvir'] < 10**13.5)\n",
    "cluster_halo_mask = (mock['mvir'] > 10**14.) \n",
    "\n",
    "\n",
    "from scipy.stats import gaussian_kde \n",
    "\n",
    "mw_halo_kde = gaussian_kde(mock['mag_r_new2'][cenmask & mw_halo_mask])\n",
    "group_halo_kde = gaussian_kde(mock['mag_r_new2'][cenmask & group_halo_mask])\n",
    "cluster_halo_kde = gaussian_kde(mock['mag_r_new2'][cenmask & cluster_halo_mask])\n",
    "\n",
    "magr_array = np.linspace(-25, -16, 100)\n",
    "\n",
    "mw_halo_pdf = mw_halo_kde.evaluate(magr_array)\n",
    "group_halo_pdf = group_halo_kde.evaluate(magr_array)\n",
    "cluster_halo_pdf = cluster_halo_kde.evaluate(magr_array)\n",
    "\n",
    "__=ax2.fill(magr_array, mw_halo_pdf, color=mblue, alpha=0.8, \n",
    "           label=r'${\\rm M_{halo}\\approx10^{12}M_{\\odot}}$')\n",
    "__=ax2.fill(magr_array, group_halo_pdf, color=mgreen, alpha=0.8,\n",
    "           label=r'${\\rm M_{halo}\\approx10^{13.25}M_{\\odot}}$')\n",
    "__=ax2.fill(magr_array, cluster_halo_pdf, color=mred, alpha=0.8,\n",
    "           label=r'${\\rm M_{halo}>10^{14}M_{\\odot}}$')\n",
    "\n",
    "xlim1 = ax1.set_xlim(1e10, 1e14)\n",
    "ylim1 = ax1.set_ylim(-17, -23.5)\n",
    "xlabel1 = ax1.set_xlabel(r'${\\rm M_{vir}}$')\n",
    "ylabel1 = ax1.set_ylabel(r'${\\rm M_{r}}$')\n",
    "\n",
    "xlim2 = ax2.set_xlim(-18, -25)\n",
    "ylim2 = ax2.set_ylim(0, 1.35)\n",
    "xlabel2 = ax2.set_xlabel(r'${\\rm M_{r}}$')\n",
    "\n",
    "title1 = ax1.set_title(r'${\\rm z=0\\ mass}$-${\\rm to}$-${\\rm light\\ ratio}$')\n",
    "title2 = ax2.set_title(r'${\\rm z=0\\ central\\ galaxy\\ CLF}$')\n",
    "legend2 = ax2.legend()\n",
    "\n",
    "figname = 'v4_hsc_recalibration_clf_z0.pdf'\n",
    "fig.savefig(figname, bbox_extra_artists=[xlabel1, ylabel1], bbox_inches='tight')"
   ]
  },
  {
   "cell_type": "code",
   "execution_count": null,
   "metadata": {},
   "outputs": [],
   "source": []
  },
  {
   "cell_type": "code",
   "execution_count": null,
   "metadata": {},
   "outputs": [],
   "source": []
  },
  {
   "cell_type": "code",
   "execution_count": null,
   "metadata": {},
   "outputs": [],
   "source": []
  }
 ],
 "metadata": {
  "kernelspec": {
   "display_name": "Python [conda root]",
   "language": "python",
   "name": "conda-root-py"
  },
  "language_info": {
   "codemirror_mode": {
    "name": "ipython",
    "version": 2
   },
   "file_extension": ".py",
   "mimetype": "text/x-python",
   "name": "python",
   "nbconvert_exporter": "python",
   "pygments_lexer": "ipython2",
   "version": "2.7.14"
  }
 },
 "nbformat": 4,
 "nbformat_minor": 2
}
