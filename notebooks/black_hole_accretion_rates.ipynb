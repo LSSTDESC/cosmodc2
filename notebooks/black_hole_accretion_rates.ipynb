{
 "cells": [
  {
   "cell_type": "code",
   "execution_count": 11,
   "metadata": {},
   "outputs": [],
   "source": [
    "%matplotlib inline\n",
    "\n",
    "morange = u'#ff7f0e'\n",
    "mblue = u'#1f77b4'\n",
    "mgreen = u'#2ca02c'\n",
    "mred = u'#d62728'\n",
    "mpurple = u'#9467bd'"
   ]
  },
  {
   "cell_type": "code",
   "execution_count": 2,
   "metadata": {},
   "outputs": [
    {
     "name": "stderr",
     "output_type": "stream",
     "text": [
      "/Users/aphearin/anaconda/lib/python2.7/site-packages/h5py/__init__.py:36: FutureWarning: Conversion of the second argument of issubdtype from `float` to `np.floating` is deprecated. In future, it will be treated as `np.float64 == np.dtype(float).type`.\n",
      "  from ._conv import register_converters as _register_converters\n"
     ]
    },
    {
     "name": "stdout",
     "output_type": "stream",
     "text": [
      "['ra', 'dec', 'z', 'sm', 'ssfr', 'nd', 'restframe_extincted_sdss_abs_magr', 'restframe_extincted_sdss_gr', 'restframe_extincted_sdss_ri', 'size_kpc', 'dr7_PhotoObj_Table_ID', 'sfr_percentile_fixed_sm', 'gr_percentile_fixed_magr']\n"
     ]
    }
   ],
   "source": [
    "from cosmodc2.sdss_colors import load_umachine_processed_sdss_catalog\n",
    "sdss = load_umachine_processed_sdss_catalog()\n",
    "print(sdss.keys())"
   ]
  },
  {
   "cell_type": "code",
   "execution_count": 3,
   "metadata": {},
   "outputs": [],
   "source": [
    "import os\n",
    "from astropy.table import Table\n",
    "\n",
    "#  MDPL2-based mock\n",
    "dirname = \"/Users/aphearin/work/random/0331\"\n",
    "basename = \"cutmock_1e9.hdf5\"\n",
    "fname = os.path.join(dirname, basename)\n",
    "mock = Table.read(fname, path='data')\n",
    "mock.Lbox = 500.\n"
   ]
  },
  {
   "cell_type": "markdown",
   "metadata": {},
   "source": [
    "## Assign black hole mass"
   ]
  },
  {
   "cell_type": "code",
   "execution_count": 4,
   "metadata": {},
   "outputs": [],
   "source": [
    "from cosmodc2.black_hole_modeling import monte_carlo_black_hole_mass\n",
    "\n",
    "mock['bt'] = np.random.rand(len(mock))\n",
    "mock['bulge_mass'] = mock['obs_sm']*mock['bt']\n",
    "mock['bh_mass'] = monte_carlo_black_hole_mass(mock['bulge_mass'])"
   ]
  },
  {
   "cell_type": "code",
   "execution_count": 6,
   "metadata": {},
   "outputs": [],
   "source": []
  },
  {
   "cell_type": "code",
   "execution_count": 12,
   "metadata": {},
   "outputs": [
    {
     "data": {
      "image/png": "[encoded data removed]",
      "text/plain": [
       "<matplotlib.figure.Figure at 0x11abe1510>"
      ]
     },
     "metadata": {},
     "output_type": "display_data"
    }
   ],
   "source": [
    "eddington_ratio_z0, accretion_rate_z0 = monte_carlo_bh_acc_rate(\n",
    "    0., mock['bh_mass'], mock['sfr_percentile'])\n",
    "eddington_ratio_z1, accretion_rate_z1 = monte_carlo_bh_acc_rate(\n",
    "    1., mock['bh_mass'], mock['sfr_percentile'])\n",
    "eddington_ratio_z2, accretion_rate_z2 = monte_carlo_bh_acc_rate(\n",
    "    2., mock['bh_mass'], mock['sfr_percentile'])\n",
    "\n",
    "fig, ax = plt.subplots(1, 1)\n",
    "\n",
    "__=ax.hist(np.log10(eddington_ratio_z0), bins=100, normed=True, \n",
    "           alpha=0.8, color=mblue, label=r'${\\rm z=0}$')\n",
    "__=ax.hist(np.log10(eddington_ratio_z1), bins=100, normed=True, \n",
    "           alpha=0.8, color=mgreen, label=r'${\\rm z=1}$')\n",
    "__=ax.hist(np.log10(eddington_ratio_z2), bins=100, normed=True, \n",
    "           alpha=0.8, color=mred, label=r'${\\rm z=2}$')\n",
    "\n",
    "legend = ax.legend()\n",
    "xlabel = ax.set_xlabel(r'${\\rm \\log \\lambda_{Edd}}$')\n",
    "xlim = ax.set_xlim(-4.5, 0)\n",
    "\n",
    "figname = 'black_hole_eddington_ratios_redshift_evolution.pdf'\n",
    "fig.savefig(figname, bbox_extra_artists=[xlabel], bbox_inches='tight')"
   ]
  },
  {
   "cell_type": "code",
   "execution_count": null,
   "metadata": {},
   "outputs": [],
   "source": []
  },
  {
   "cell_type": "code",
   "execution_count": null,
   "metadata": {},
   "outputs": [],
   "source": [
    "from cosmodc2.black_hole_modeling import monte_carlo_bh_acc_rate\n",
    "\n",
    "redshift = 0.\n",
    "eddington_ratio, accretion_rate = monte_carlo_bh_acc_rate(\n",
    "    redshift, mock['bh_mass'], mock['sfr_percentile'])\n",
    "mock['eddington_ratio'] = eddington_ratio\n",
    "mock['bh_acc_rate'] = accretion_rate"
   ]
  },
  {
   "cell_type": "code",
   "execution_count": null,
   "metadata": {},
   "outputs": [],
   "source": []
  },
  {
   "cell_type": "code",
   "execution_count": null,
   "metadata": {},
   "outputs": [],
   "source": []
  },
  {
   "cell_type": "code",
   "execution_count": null,
   "metadata": {},
   "outputs": [],
   "source": []
  },
  {
   "cell_type": "markdown",
   "metadata": {},
   "source": [
    "### Plot redshift-dependence"
   ]
  },
  {
   "cell_type": "code",
   "execution_count": 15,
   "metadata": {},
   "outputs": [
    {
     "data": {
      "image/png": "[encoded data removed]",
      "text/plain": [
       "<matplotlib.figure.Figure at 0x11dc07ed0>"
      ]
     },
     "metadata": {},
     "output_type": "display_data"
    }
   ],
   "source": [
    "sm_mask = mock['obs_sm'] > 10**10\n",
    "sm_mask *= mock['obs_sm'] < 10**10.5\n",
    "eddington_ratio_z0, accretion_rate_z0 = monte_carlo_bh_acc_rate(\n",
    "    0., mock['bh_mass'], mock['sfr_percentile'])\n",
    "eddington_ratio_z1, accretion_rate_z1 = monte_carlo_bh_acc_rate(\n",
    "    1., mock['bh_mass'], mock['sfr_percentile'])\n",
    "eddington_ratio_z2, accretion_rate_z2 = monte_carlo_bh_acc_rate(\n",
    "    2., mock['bh_mass'], mock['sfr_percentile'])\n",
    "\n",
    "fig, ax = plt.subplots(1, 1)\n",
    "\n",
    "__=ax.hist(np.log10(accretion_rate_z0[sm_mask]), bins=100, normed=True, \n",
    "           alpha=0.8, label=r'${\\rm z=0}$', color=mblue)\n",
    "__=ax.hist(np.log10(accretion_rate_z1[sm_mask]), bins=100, normed=True, \n",
    "           alpha=0.8, label=r'${\\rm z=1}$', color=mgreen)\n",
    "__=ax.hist(np.log10(accretion_rate_z2[sm_mask]), bins=100, normed=True, \n",
    "           alpha=0.8, label=r'${\\rm z=2}$', color=mred)\n",
    "\n",
    "title = ax.set_title(r'${\\rm M_{\\ast}\\approx10^{10.5}M_{\\odot}$}')\n",
    "xlabel = ax.set_xlabel(r'${\\rm dM_{BH}/dt\\ [M_{\\odot}/yr]}$')\n",
    "legend = ax.legend()\n",
    "\n",
    "xlim = ax.set_xlim(-6, 0)\n",
    "__=ax.set_xticks((-6, -4, -2, 0))\n",
    "xticklabels = (r'$10^{-6}$', r'$10^{-4}$', r'$10^{-2}$', r'$10^{0}$')\n",
    "__=ax.set_xticklabels(xticklabels)\n",
    "\n",
    "figname = 'black_hole_accretion_rates_v4_redshift_evolution.pdf'\n",
    "fig.savefig(figname, bbox_extra_artists=[xlabel], bbox_inches='tight')"
   ]
  },
  {
   "cell_type": "markdown",
   "metadata": {},
   "source": [
    "### Plot color-dependence"
   ]
  },
  {
   "cell_type": "code",
   "execution_count": 18,
   "metadata": {},
   "outputs": [
    {
     "data": {
      "image/png": "[encoded data removed]",
      "text/plain": [
       "<matplotlib.figure.Figure at 0x11dc96ad0>"
      ]
     },
     "metadata": {},
     "output_type": "display_data"
    }
   ],
   "source": [
    "sm_mask = mock['obs_sm'] > 10**10\n",
    "sm_mask *= mock['obs_sm'] < 10**10.5\n",
    "median_sfr = np.median(mock['obs_sfr'][sm_mask])\n",
    "\n",
    "sfr_mask1 = mock['obs_sfr'] < median_sfr\n",
    "mask1 = sm_mask & sfr_mask1\n",
    "sfr_mask2 = mock['obs_sfr'] > median_sfr\n",
    "mask2 = sm_mask & sfr_mask2\n",
    "\n",
    "eddington_ratio_z0, accretion_rate_z0 = monte_carlo_bh_acc_rate(\n",
    "    0., mock['bh_mass'], mock['sfr_percentile'])\n",
    "\n",
    "fig, ax = plt.subplots(1, 1)\n",
    "\n",
    "__=ax.hist(np.log10(accretion_rate_z0[mask1]), bins=100, normed=True, \n",
    "           alpha=0.8, label=r'${\\rm z=0\\ red\\ galaxies}$', color=mred)\n",
    "__=ax.hist(np.log10(accretion_rate_z0[mask2]), bins=100, normed=True, \n",
    "           alpha=0.8, label=r'${\\rm z=0\\ blue\\ galaxies}$', color=mblue)\n",
    "\n",
    "ylim = ax.set_ylim(0, 0.8)\n",
    "title = ax.set_title(r'${\\rm M_{\\ast}\\approx10^{10.5}M_{\\odot}$}')\n",
    "xlabel = ax.set_xlabel(r'${\\rm dM_{BH}/dt\\ [M_{\\odot}/yr]}$')\n",
    "legend = ax.legend()\n",
    "\n",
    "xlim = ax.set_xlim(-7, -2)\n",
    "__=ax.set_xticks((-6, -4, -2))\n",
    "xticklabels = (r'$10^{-6}$', r'$10^{-4}$', r'$10^{-2}$')\n",
    "__=ax.set_xticklabels(xticklabels)\n",
    "\n",
    "figname = 'black_hole_accretion_rates_v4_sfr_dependence.pdf'\n",
    "fig.savefig(figname, bbox_extra_artists=[xlabel], bbox_inches='tight')"
   ]
  },
  {
   "cell_type": "markdown",
   "metadata": {},
   "source": [
    "### Plot mass-dependence"
   ]
  },
  {
   "cell_type": "code",
   "execution_count": 20,
   "metadata": {},
   "outputs": [
    {
     "data": {
      "image/png": "[encoded data removed]",
      "text/plain": [
       "<matplotlib.figure.Figure at 0x11fdaeed0>"
      ]
     },
     "metadata": {},
     "output_type": "display_data"
    }
   ],
   "source": [
    "mask1 = (mock['obs_sm'] > 10**9.75) & (mock['obs_sm'] < 10**10)\n",
    "mask2 = (mock['obs_sm'] > 10**10.5) & (mock['obs_sm'] < 10**10.75)\n",
    "mask3 = (mock['obs_sm'] > 10**11.25) #& (mock['obs_sm'] < 10**10)\n",
    "\n",
    "eddington_ratio_z0, accretion_rate_z0 = monte_carlo_bh_acc_rate(\n",
    "    0., mock['bh_mass'], mock['sfr_percentile'])\n",
    "\n",
    "fig, ax = plt.subplots(1, 1)\n",
    "\n",
    "__=ax.hist(np.log10(accretion_rate_z0[mask1]), bins=100, normed=True, \n",
    "           alpha=0.8, label=r'${\\rm M_{\\ast}\\approx10^{9.75}M_{\\odot}}$')\n",
    "__=ax.hist(np.log10(accretion_rate_z0[mask2]), bins=100, normed=True, \n",
    "           alpha=0.8, label=r'${\\rm M_{\\ast}\\approx10^{10.5}M_{\\odot}}$')\n",
    "__=ax.hist(np.log10(accretion_rate_z0[mask3]), bins=100, normed=True, \n",
    "           alpha=0.8, label=r'${\\rm M_{\\ast}\\approx10^{11.25}M_{\\odot}}$')\n",
    "\n",
    "title = ax.set_title(r'${\\rm z=0}$')\n",
    "xlabel = ax.set_xlabel(r'${\\rm dM_{BH}/dt\\ [M_{\\odot}/yr]}$')\n",
    "legend = ax.legend()\n",
    "\n",
    "ylim = ax.set_ylim(0, 1.25)\n",
    "xlim = ax.set_xlim(-7, 0)\n",
    "__=ax.set_xticks((-6, -4, -2, 0))\n",
    "xticklabels = (r'$10^{-6}$', r'$10^{-4}$', r'$10^{-2}$', r'$10^{0}$')\n",
    "__=ax.set_xticklabels(xticklabels)\n",
    "\n",
    "figname = 'black_hole_accretion_rates_v4_mstar_dependence.pdf'\n",
    "fig.savefig(figname, bbox_extra_artists=[xlabel], bbox_inches='tight')"
   ]
  },
  {
   "cell_type": "code",
   "execution_count": null,
   "metadata": {},
   "outputs": [],
   "source": []
  },
  {
   "cell_type": "code",
   "execution_count": null,
   "metadata": {},
   "outputs": [],
   "source": []
  },
  {
   "cell_type": "code",
   "execution_count": null,
   "metadata": {},
   "outputs": [],
   "source": []
  },
  {
   "cell_type": "code",
   "execution_count": null,
   "metadata": {},
   "outputs": [],
   "source": []
  }
 ],
 "metadata": {
  "kernelspec": {
   "display_name": "Python [conda root]",
   "language": "python",
   "name": "conda-root-py"
  },
  "language_info": {
   "codemirror_mode": {
    "name": "ipython",
    "version": 2
   },
   "file_extension": ".py",
   "mimetype": "text/x-python",
   "name": "python",
   "nbconvert_exporter": "python",
   "pygments_lexer": "ipython2",
   "version": "2.7.14"
  }
 },
 "nbformat": 4,
 "nbformat_minor": 2
}
