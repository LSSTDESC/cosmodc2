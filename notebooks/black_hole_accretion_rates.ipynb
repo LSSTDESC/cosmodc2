{
 "cells": [
  {
   "cell_type": "code",
   "execution_count": 1,
   "metadata": {},
   "outputs": [],
   "source": [
    "%matplotlib inline"
   ]
  },
  {
   "cell_type": "code",
   "execution_count": 3,
   "metadata": {},
   "outputs": [
    {
     "name": "stderr",
     "output_type": "stream",
     "text": [
      "/Users/aphearin/anaconda/lib/python2.7/site-packages/h5py/__init__.py:36: FutureWarning: Conversion of the second argument of issubdtype from `float` to `np.floating` is deprecated. In future, it will be treated as `np.float64 == np.dtype(float).type`.\n",
      "  from ._conv import register_converters as _register_converters\n"
     ]
    },
    {
     "name": "stdout",
     "output_type": "stream",
     "text": [
      "['ra', 'dec', 'z', 'sm', 'ssfr', 'nd', 'restframe_extincted_sdss_abs_magr', 'restframe_extincted_sdss_gr', 'restframe_extincted_sdss_ri', 'size_kpc', 'dr7_PhotoObj_Table_ID', 'sfr_percentile_fixed_sm', 'gr_percentile_fixed_magr']\n"
     ]
    }
   ],
   "source": [
    "from cosmodc2.sdss_colors import load_umachine_processed_sdss_catalog\n",
    "sdss = load_umachine_processed_sdss_catalog()\n",
    "print(sdss.keys())"
   ]
  },
  {
   "cell_type": "code",
   "execution_count": 4,
   "metadata": {},
   "outputs": [],
   "source": [
    "import os\n",
    "from astropy.table import Table\n",
    "\n",
    "#  MDPL2-based mock\n",
    "dirname = \"/Users/aphearin/work/random/0331\"\n",
    "basename = \"cutmock_1e9.hdf5\"\n",
    "fname = os.path.join(dirname, basename)\n",
    "mock = Table.read(fname, path='data')\n",
    "mock.Lbox = 500.\n"
   ]
  },
  {
   "cell_type": "code",
   "execution_count": 5,
   "metadata": {},
   "outputs": [],
   "source": [
    "from cosmodc2.sdss_colors import mock_magr\n",
    "\n",
    "mock['restframe_extincted_sdss_abs_magr'] = mock_magr(\n",
    "            mock['upid'], mock['obs_sm'], mock['sfr_percentile'], \n",
    "            mock['host_halo_mvir'], sdss['sm'], sdss['sfr_percentile_fixed_sm'], \n",
    "            sdss['restframe_extincted_sdss_abs_magr'], sdss['z'])\n"
   ]
  },
  {
   "cell_type": "code",
   "execution_count": 6,
   "metadata": {},
   "outputs": [],
   "source": [
    "from cosmodc2.sdss_colors import gr_ri_monte_carlo\n",
    "\n",
    "magr = mock['restframe_extincted_sdss_abs_magr'] \n",
    "percentile = mock['sfr_percentile']\n",
    "redshift = np.zeros_like(magr)\n",
    "\n",
    "gr, ri, is_red_ri, is_red_gr = gr_ri_monte_carlo(\n",
    "    magr, percentile, redshift, local_random_scale=0.1)\n",
    "\n",
    "mock['restframe_extincted_sdss_gr'] = gr\n",
    "mock['restframe_extincted_sdss_ri'] = ri\n",
    "mock['is_red_gr'] = is_red_gr\n",
    "mock['is_red_ri'] = is_red_ri\n",
    "\n",
    "\n",
    "from cosmodc2.sdss_colors import remap_cluster_bcg_gr_ri_color\n",
    "_result = remap_cluster_bcg_gr_ri_color(\n",
    "        mock['upid'], mock['host_halo_mvir'], \n",
    "        np.copy(mock['restframe_extincted_sdss_gr']), \n",
    "        np.copy(mock['restframe_extincted_sdss_ri']), \n",
    "        mock['is_red_gr'], mock['is_red_ri'])\n",
    "gr_remapped, ri_remapped, is_red_gr_remapped, is_red_ri_remapped = _result\n",
    "\n",
    "mock['_gr_no_remap'] = np.copy(mock['restframe_extincted_sdss_gr'])\n",
    "mock['_ri_no_remap'] = np.copy(mock['restframe_extincted_sdss_ri'])\n",
    "mock['restframe_extincted_sdss_gr'] = gr_remapped\n",
    "mock['restframe_extincted_sdss_ri'] = ri_remapped\n",
    "mock['_is_red_ri_no_remap'] = np.copy(is_red_ri)\n",
    "mock['_is_red_gr_no_remap'] = np.copy(is_red_gr)\n",
    "mock['is_red_gr'] = is_red_gr_remapped\n",
    "mock['is_red_ri'] = is_red_ri_remapped\n"
   ]
  },
  {
   "cell_type": "code",
   "execution_count": 7,
   "metadata": {},
   "outputs": [],
   "source": [
    "from cosmodc2.sdss_colors.fix_cluster_lf import cluster_bcg_red_sequence_gr_ri\n",
    "from halotools.empirical_models import conditional_abunmatch\n",
    "\n",
    "\n",
    "def prob_remap_cluster_satellite(upid, mstar, host_halo_mvir,\n",
    "            x1=(9, 9.75, 10.25, 11), y1=(1., 1., 1., 1.),\n",
    "            x2=(13.5, 14, 14.5), y2=(0.0, 0.5, 0.75)):\n",
    "    \"\"\"\n",
    "    \"\"\"\n",
    "    ngals = len(mstar)\n",
    "    satmask = upid != -1\n",
    "    mstar_prob = np.interp(np.log10(mstar), x1, y1)\n",
    "    mhost_prob = np.interp(np.log10(host_halo_mvir), x2, y2)\n",
    "    mstar_mask = np.random.rand(ngals) < mstar_prob\n",
    "    mhost_mask = np.random.rand(ngals) < mhost_prob\n",
    "    remapping_mask = mstar_mask & mhost_mask & satmask\n",
    "    return remapping_mask\n",
    "\n",
    "\n",
    "def remap_satellites(mstar, gr, ri, \n",
    "                     gr_red_sequence_median, ri_red_sequence_median, \n",
    "                     gr_red_sequence_scatter, ri_red_sequence_scatter,\n",
    "                    nwin=301):\n",
    "    \"\"\"\n",
    "    \"\"\"\n",
    "    num_to_remap = len(mstar)\n",
    "    bcg_red_sequence_gr, bcg_red_sequence_ri = cluster_bcg_red_sequence_gr_ri(\n",
    "        num_to_remap, gr_red_sequence_median,\n",
    "        ri_red_sequence_median, gr_red_sequence_scatter)\n",
    "\n",
    "    input_gr = gr\n",
    "    desired_gr = bcg_red_sequence_gr\n",
    "    output_gr = conditional_abunmatch(\n",
    "        mstar, input_gr, mstar, desired_gr, nwin)\n",
    "\n",
    "    desired_ri = bcg_red_sequence_ri\n",
    "    noisy_input_gr = np.random.normal(loc=output_gr, scale=0.1)\n",
    "    output_ri = conditional_abunmatch(\n",
    "        mstar, noisy_input_gr, mstar, desired_ri, nwin)\n",
    "    return output_gr, output_ri"
   ]
  },
  {
   "cell_type": "code",
   "execution_count": 8,
   "metadata": {},
   "outputs": [],
   "source": [
    "from cosmodc2.sdss_colors.analytical_colors import red_sequence_peak_gr, red_sequence_peak_ri\n",
    "from cosmodc2.sdss_colors.analytical_colors import red_sequence_width_gr, red_sequence_width_ri\n",
    "\n",
    "remapping_mask = prob_remap_cluster_satellite(mock['upid'], mock['obs_sm'],\n",
    "                        mock['host_halo_mvir'])\n",
    "\n",
    "gr_peak = red_sequence_peak_gr(mock['restframe_extincted_sdss_abs_magr'][remapping_mask])\n",
    "ri_peak = red_sequence_peak_ri(mock['restframe_extincted_sdss_abs_magr'][remapping_mask])\n",
    "gr_scatter = 0.04\n",
    "ri_scatter = 0.03\n",
    "\n",
    "mstar = mock['obs_sm'][remapping_mask]\n",
    "gr = mock['restframe_extincted_sdss_gr'][remapping_mask]\n",
    "ri = mock['restframe_extincted_sdss_ri'][remapping_mask]\n",
    "new_gr, new_ri = remap_satellites(mstar, gr, ri, gr_peak, ri_peak, gr_scatter, ri_scatter)\n",
    "\n",
    "mock['restframe_extincted_sdss_gr'][remapping_mask] = new_gr\n",
    "mock['restframe_extincted_sdss_ri'][remapping_mask] = new_ri\n"
   ]
  },
  {
   "cell_type": "code",
   "execution_count": 11,
   "metadata": {},
   "outputs": [
    {
     "data": {
      "text/plain": [
       "True"
      ]
     },
     "execution_count": 11,
     "metadata": {},
     "output_type": "execute_result"
    }
   ],
   "source": [
    "'sfr_percentile' in mock.keys()"
   ]
  },
  {
   "cell_type": "code",
   "execution_count": 9,
   "metadata": {},
   "outputs": [],
   "source": []
  },
  {
   "cell_type": "code",
   "execution_count": 12,
   "metadata": {},
   "outputs": [],
   "source": []
  },
  {
   "cell_type": "code",
   "execution_count": 16,
   "metadata": {},
   "outputs": [],
   "source": [
    "from cosmodc2.black_hole_modeling import bh_mass_from_bulge_mass\n",
    "mock['bt'] = np.random.rand(len(mock))\n",
    "mock['bh_mass'] = bh_mass_from_bulge_mass(mock['obs_sm']*mock['bt'])"
   ]
  },
  {
   "cell_type": "code",
   "execution_count": 57,
   "metadata": {},
   "outputs": [],
   "source": [
    "from cosmodc2.black_hole_modeling import monte_carlo_specific_bh_acc_rate\n",
    "mock['log_eddington_ratio'] = monte_carlo_specific_bh_acc_rate(0., mock['sfr_percentile'])\n",
    "mock['bh_acc_rate'] = mock['bh_mass']*(10**mock['log_eddington_ratio'])"
   ]
  },
  {
   "cell_type": "code",
   "execution_count": 81,
   "metadata": {},
   "outputs": [
    {
     "data": {
      "image/png": "[encoded data removed]",
      "text/plain": [
       "<matplotlib.figure.Figure at 0x125101550>"
      ]
     },
     "metadata": {},
     "output_type": "display_data"
    }
   ],
   "source": [
    "sm_mask = (mock['obs_sm'] > 10**9.5) & (mock['obs_sm'] < 10**10)\n",
    "sm_mask2 = (mock['obs_sm'] > 10**10.5) & (mock['obs_sm'] < 10**10.75)\n",
    "sm_mask3 = (mock['obs_sm'] > 10**11.25) & (mock['obs_sm'] < 10**11.5)\n",
    "\n",
    "\n",
    "fig, ax = plt.subplots(1, 1)\n",
    "\n",
    "__=ax.hist(np.log10(mock['bh_acc_rate'][sm_mask]), bins=150, normed=True,\n",
    "          alpha=0.8, color='blue', label=r'${\\rm M_{\\ast}\\approx 10^{9.75}M_{\\odot}}$')\n",
    "\n",
    "__=ax.hist(np.log10(mock['bh_acc_rate'][sm_mask2]), bins=150, normed=True,\n",
    "          alpha=0.8, color='green', label=r'${\\rm M_{\\ast}\\approx 10^{10.5}M_{\\odot}}$')\n",
    "\n",
    "__=ax.hist(np.log10(mock['bh_acc_rate'][sm_mask3]), bins=150, normed=True,\n",
    "          alpha=0.8, color='red', label=r'${\\rm M_{\\ast}\\approx 10^{11.25}M_{\\odot}}$')\n",
    "\n",
    "xtick_labels = (r\"$10^{4}$\", r\"$10^{5}$\", r\"$10^{6}$\", \n",
    "                r\"$10^{7}$\", r\"$10^{8}$\", r\"$10^{9}$\", r\"$10^{10}$\")\n",
    "\n",
    "ax.set_xticklabels(xtick_labels)\n",
    "\n",
    "xlabel = ax.set_xlabel(r'${{\\rm dM_{BH}/dt}\\ [{\\rm M_{\\odot}/Gyr}]}$')\n",
    "title = ax.set_title(r'${\\rm v4\\ Black\\ Hole\\ Accretion\\ Rates}$')\n",
    "xlim = ax.set_xlim(4, 10)\n",
    "legend = ax.legend()\n",
    "\n",
    "figname = 'black_hole_accretion_rates.pdf'\n",
    "fig.savefig(figname, bbox_extra_artists=[xlabel], bbox_inches='tight')"
   ]
  },
  {
   "cell_type": "code",
   "execution_count": null,
   "metadata": {},
   "outputs": [],
   "source": [
    "\n"
   ]
  },
  {
   "cell_type": "code",
   "execution_count": null,
   "metadata": {},
   "outputs": [],
   "source": [
    "\n"
   ]
  },
  {
   "cell_type": "code",
   "execution_count": null,
   "metadata": {},
   "outputs": [],
   "source": []
  }
 ],
 "metadata": {
  "kernelspec": {
   "display_name": "Python [conda root]",
   "language": "python",
   "name": "conda-root-py"
  },
  "language_info": {
   "codemirror_mode": {
    "name": "ipython",
    "version": 2
   },
   "file_extension": ".py",
   "mimetype": "text/x-python",
   "name": "python",
   "nbconvert_exporter": "python",
   "pygments_lexer": "ipython2",
   "version": "2.7.14"
  }
 },
 "nbformat": 4,
 "nbformat_minor": 2
}
