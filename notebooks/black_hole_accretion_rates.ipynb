{
 "cells": [
  {
   "cell_type": "code",
   "execution_count": 1,
   "metadata": {},
   "outputs": [],
   "source": [
    "%matplotlib inline"
   ]
  },
  {
   "cell_type": "code",
   "execution_count": 2,
   "metadata": {},
   "outputs": [
    {
     "name": "stderr",
     "output_type": "stream",
     "text": [
      "/Users/aphearin/anaconda/lib/python2.7/site-packages/h5py/__init__.py:36: FutureWarning: Conversion of the second argument of issubdtype from `float` to `np.floating` is deprecated. In future, it will be treated as `np.float64 == np.dtype(float).type`.\n",
      "  from ._conv import register_converters as _register_converters\n"
     ]
    },
    {
     "name": "stdout",
     "output_type": "stream",
     "text": [
      "['ra', 'dec', 'z', 'sm', 'ssfr', 'nd', 'restframe_extincted_sdss_abs_magr', 'restframe_extincted_sdss_gr', 'restframe_extincted_sdss_ri', 'size_kpc', 'dr7_PhotoObj_Table_ID', 'sfr_percentile_fixed_sm', 'gr_percentile_fixed_magr']\n"
     ]
    }
   ],
   "source": [
    "from cosmodc2.sdss_colors import load_umachine_processed_sdss_catalog\n",
    "sdss = load_umachine_processed_sdss_catalog()\n",
    "print(sdss.keys())"
   ]
  },
  {
   "cell_type": "code",
   "execution_count": 3,
   "metadata": {},
   "outputs": [],
   "source": [
    "import os\n",
    "from astropy.table import Table\n",
    "\n",
    "#  MDPL2-based mock\n",
    "dirname = \"/Users/aphearin/work/random/0331\"\n",
    "basename = \"cutmock_1e9.hdf5\"\n",
    "fname = os.path.join(dirname, basename)\n",
    "mock = Table.read(fname, path='data')\n",
    "mock.Lbox = 500.\n"
   ]
  },
  {
   "cell_type": "code",
   "execution_count": 4,
   "metadata": {},
   "outputs": [],
   "source": [
    "from cosmodc2.sdss_colors import mock_magr\n",
    "\n",
    "mock['restframe_extincted_sdss_abs_magr'] = mock_magr(\n",
    "            mock['upid'], mock['obs_sm'], mock['sfr_percentile'], \n",
    "            mock['host_halo_mvir'], sdss['sm'], sdss['sfr_percentile_fixed_sm'], \n",
    "            sdss['restframe_extincted_sdss_abs_magr'], sdss['z'])\n"
   ]
  },
  {
   "cell_type": "code",
   "execution_count": 5,
   "metadata": {},
   "outputs": [],
   "source": [
    "from cosmodc2.sdss_colors import gr_ri_monte_carlo\n",
    "\n",
    "magr = mock['restframe_extincted_sdss_abs_magr'] \n",
    "percentile = mock['sfr_percentile']\n",
    "redshift = np.zeros_like(magr)\n",
    "\n",
    "gr, ri, is_red_ri, is_red_gr = gr_ri_monte_carlo(\n",
    "    magr, percentile, redshift, local_random_scale=0.1)\n",
    "\n",
    "mock['restframe_extincted_sdss_gr'] = gr\n",
    "mock['restframe_extincted_sdss_ri'] = ri\n",
    "mock['is_red_gr'] = is_red_gr\n",
    "mock['is_red_ri'] = is_red_ri\n",
    "\n",
    "\n",
    "from cosmodc2.sdss_colors import remap_cluster_bcg_gr_ri_color\n",
    "_result = remap_cluster_bcg_gr_ri_color(\n",
    "        mock['upid'], mock['host_halo_mvir'], \n",
    "        np.copy(mock['restframe_extincted_sdss_gr']), \n",
    "        np.copy(mock['restframe_extincted_sdss_ri']), \n",
    "        mock['is_red_gr'], mock['is_red_ri'])\n",
    "gr_remapped, ri_remapped, is_red_gr_remapped, is_red_ri_remapped = _result\n",
    "\n",
    "mock['_gr_no_remap'] = np.copy(mock['restframe_extincted_sdss_gr'])\n",
    "mock['_ri_no_remap'] = np.copy(mock['restframe_extincted_sdss_ri'])\n",
    "mock['restframe_extincted_sdss_gr'] = gr_remapped\n",
    "mock['restframe_extincted_sdss_ri'] = ri_remapped\n",
    "mock['_is_red_ri_no_remap'] = np.copy(is_red_ri)\n",
    "mock['_is_red_gr_no_remap'] = np.copy(is_red_gr)\n",
    "mock['is_red_gr'] = is_red_gr_remapped\n",
    "mock['is_red_ri'] = is_red_ri_remapped\n"
   ]
  },
  {
   "cell_type": "code",
   "execution_count": 6,
   "metadata": {},
   "outputs": [],
   "source": [
    "from cosmodc2.sdss_colors.fix_cluster_lf import cluster_bcg_red_sequence_gr_ri\n",
    "from halotools.empirical_models import conditional_abunmatch\n",
    "\n",
    "\n",
    "def prob_remap_cluster_satellite(upid, mstar, host_halo_mvir,\n",
    "            x1=(9, 9.75, 10.25, 11), y1=(1., 1., 1., 1.),\n",
    "            x2=(13.5, 14, 14.5), y2=(0.0, 0.5, 0.75)):\n",
    "    \"\"\"\n",
    "    \"\"\"\n",
    "    ngals = len(mstar)\n",
    "    satmask = upid != -1\n",
    "    mstar_prob = np.interp(np.log10(mstar), x1, y1)\n",
    "    mhost_prob = np.interp(np.log10(host_halo_mvir), x2, y2)\n",
    "    mstar_mask = np.random.rand(ngals) < mstar_prob\n",
    "    mhost_mask = np.random.rand(ngals) < mhost_prob\n",
    "    remapping_mask = mstar_mask & mhost_mask & satmask\n",
    "    return remapping_mask\n",
    "\n",
    "\n",
    "def remap_satellites(mstar, gr, ri, \n",
    "                     gr_red_sequence_median, ri_red_sequence_median, \n",
    "                     gr_red_sequence_scatter, ri_red_sequence_scatter,\n",
    "                    nwin=301):\n",
    "    \"\"\"\n",
    "    \"\"\"\n",
    "    num_to_remap = len(mstar)\n",
    "    bcg_red_sequence_gr, bcg_red_sequence_ri = cluster_bcg_red_sequence_gr_ri(\n",
    "        num_to_remap, gr_red_sequence_median,\n",
    "        ri_red_sequence_median, gr_red_sequence_scatter)\n",
    "\n",
    "    input_gr = gr\n",
    "    desired_gr = bcg_red_sequence_gr\n",
    "    output_gr = conditional_abunmatch(\n",
    "        mstar, input_gr, mstar, desired_gr, nwin)\n",
    "\n",
    "    desired_ri = bcg_red_sequence_ri\n",
    "    noisy_input_gr = np.random.normal(loc=output_gr, scale=0.1)\n",
    "    output_ri = conditional_abunmatch(\n",
    "        mstar, noisy_input_gr, mstar, desired_ri, nwin)\n",
    "    return output_gr, output_ri"
   ]
  },
  {
   "cell_type": "code",
   "execution_count": 7,
   "metadata": {},
   "outputs": [],
   "source": [
    "from cosmodc2.sdss_colors.analytical_colors import red_sequence_peak_gr, red_sequence_peak_ri\n",
    "from cosmodc2.sdss_colors.analytical_colors import red_sequence_width_gr, red_sequence_width_ri\n",
    "\n",
    "remapping_mask = prob_remap_cluster_satellite(mock['upid'], mock['obs_sm'],\n",
    "                        mock['host_halo_mvir'])\n",
    "\n",
    "gr_peak = red_sequence_peak_gr(mock['restframe_extincted_sdss_abs_magr'][remapping_mask])\n",
    "ri_peak = red_sequence_peak_ri(mock['restframe_extincted_sdss_abs_magr'][remapping_mask])\n",
    "gr_scatter = 0.04\n",
    "ri_scatter = 0.03\n",
    "\n",
    "mstar = mock['obs_sm'][remapping_mask]\n",
    "gr = mock['restframe_extincted_sdss_gr'][remapping_mask]\n",
    "ri = mock['restframe_extincted_sdss_ri'][remapping_mask]\n",
    "new_gr, new_ri = remap_satellites(mstar, gr, ri, gr_peak, ri_peak, gr_scatter, ri_scatter)\n",
    "\n",
    "mock['restframe_extincted_sdss_gr'][remapping_mask] = new_gr\n",
    "mock['restframe_extincted_sdss_ri'][remapping_mask] = new_ri\n"
   ]
  },
  {
   "cell_type": "markdown",
   "metadata": {},
   "source": [
    "## Assign black hole mass"
   ]
  },
  {
   "cell_type": "code",
   "execution_count": 8,
   "metadata": {},
   "outputs": [],
   "source": [
    "from cosmodc2.black_hole_modeling import bh_mass_from_bulge_mass\n",
    "mock['bt'] = np.random.rand(len(mock))\n",
    "median_bh_mass = bh_mass_from_bulge_mass(mock['obs_sm']*mock['bt'])\n",
    "mock['bh_mass'] = 10**np.random.normal(loc=np.log10(median_bh_mass), scale=0.3)"
   ]
  },
  {
   "cell_type": "code",
   "execution_count": null,
   "metadata": {},
   "outputs": [],
   "source": []
  },
  {
   "cell_type": "code",
   "execution_count": 23,
   "metadata": {},
   "outputs": [
    {
     "data": {
      "image/png": "[encoded data removed]",
      "text/plain": [
       "<matplotlib.figure.Figure at 0x11d592ad0>"
      ]
     },
     "metadata": {},
     "output_type": "display_data"
    }
   ],
   "source": [
    "from cosmodc2.black_hole_modeling import monte_carlo_specific_bh_acc_rate\n",
    "eddington_ratio_z0 = monte_carlo_specific_bh_acc_rate(0., mock['sfr_percentile'])\n",
    "eddington_ratio_z1 = monte_carlo_specific_bh_acc_rate(1., mock['sfr_percentile'])\n",
    "eddington_ratio_z2 = monte_carlo_specific_bh_acc_rate(2., mock['sfr_percentile'])\n",
    "\n",
    "fig, ax = plt.subplots(1, 1)\n",
    "\n",
    "__=ax.hist(np.log10(eddington_ratio_z0), bins=100, normed=True, \n",
    "           alpha=0.8, color='blue', label=r'${\\rm z=0}$')\n",
    "__=ax.hist(np.log10(eddington_ratio_z1), bins=100, normed=True, \n",
    "           alpha=0.8, color='green', label=r'${\\rm z=1}$')\n",
    "__=ax.hist(np.log10(eddington_ratio_z2), bins=100, normed=True, \n",
    "           alpha=0.8, color='red', label=r'${\\rm z=2}$')\n",
    "\n",
    "legend = ax.legend()\n",
    "xlabel = ax.set_xlabel(r'${\\rm \\log \\lambda_{Edd}}$')\n",
    "xlim = ax.set_xlim(-4.5, 0)\n",
    "\n",
    "figname = 'black_hole_eddington_ratios_redshift_evolution.pdf'\n",
    "fig.savefig(figname, bbox_extra_artists=[xlabel], bbox_inches='tight')"
   ]
  },
  {
   "cell_type": "code",
   "execution_count": null,
   "metadata": {},
   "outputs": [],
   "source": []
  },
  {
   "cell_type": "markdown",
   "metadata": {},
   "source": [
    "### Plot redshift-dependence"
   ]
  },
  {
   "cell_type": "code",
   "execution_count": 88,
   "metadata": {},
   "outputs": [
    {
     "data": {
      "image/png": "[encoded data removed]",
      "text/plain": [
       "<matplotlib.figure.Figure at 0x121298190>"
      ]
     },
     "metadata": {},
     "output_type": "display_data"
    }
   ],
   "source": [
    "sm_mask = mock['obs_sm'] > 10**10\n",
    "sm_mask *= mock['obs_sm'] < 10**10.5\n",
    "bh_rate_z0 = mock['bh_mass']*eddington_ratio_z0/45./1e6\n",
    "bh_rate_z1 = mock['bh_mass']*eddington_ratio_z1/45./1e6\n",
    "bh_rate_z2 = mock['bh_mass']*eddington_ratio_z2/45./1e6\n",
    "\n",
    "fig, ax = plt.subplots(1, 1)\n",
    "\n",
    "__=ax.hist(np.log10(bh_rate_z0[sm_mask]), bins=100, normed=True, \n",
    "           alpha=0.8, label=r'${\\rm z=0}$')\n",
    "__=ax.hist(np.log10(bh_rate_z1[sm_mask]), bins=100, normed=True, \n",
    "           alpha=0.8, label=r'${\\rm z=1}$')\n",
    "__=ax.hist(np.log10(bh_rate_z2[sm_mask]), bins=100, normed=True, \n",
    "           alpha=0.8, label=r'${\\rm z=2}$')\n",
    "\n",
    "title = ax.set_title(r'${\\rm M_{\\ast}\\approx10^{10.5}M_{\\odot}$}')\n",
    "xlabel = ax.set_xlabel(r'${\\rm dM_{BH}/dt\\ [M_{\\odot}/yr]}$')\n",
    "legend = ax.legend()\n",
    "\n",
    "xlim = ax.set_xlim(-6, 0)\n",
    "__=ax.set_xticks((-6, -4, -2, 0))\n",
    "xticklabels = (r'$10^{-6}$', r'$10^{-4}$', r'$10^{-2}$', r'$10^{0}$')\n",
    "__=ax.set_xticklabels(xticklabels)\n",
    "\n",
    "figname = 'black_hole_accretion_rates_v4_redshift_evolution.pdf'\n",
    "fig.savefig(figname, bbox_extra_artists=[xlabel], bbox_inches='tight')"
   ]
  },
  {
   "cell_type": "markdown",
   "metadata": {},
   "source": [
    "### Plot color-dependence"
   ]
  },
  {
   "cell_type": "code",
   "execution_count": 89,
   "metadata": {},
   "outputs": [
    {
     "data": {
      "image/png": "[encoded data removed]",
      "text/plain": [
       "<matplotlib.figure.Figure at 0x168bbd890>"
      ]
     },
     "metadata": {},
     "output_type": "display_data"
    }
   ],
   "source": [
    "sm_mask = mock['obs_sm'] > 10**10\n",
    "sm_mask *= mock['obs_sm'] < 10**10.5\n",
    "median_sfr = np.median(mock['obs_sfr'][sm_mask])\n",
    "\n",
    "sfr_mask1 = mock['obs_sfr'] < median_sfr\n",
    "mask1 = sm_mask & sfr_mask1\n",
    "sfr_mask2 = mock['obs_sfr'] > median_sfr\n",
    "mask2 = sm_mask & sfr_mask2\n",
    "\n",
    "fig, ax = plt.subplots(1, 1)\n",
    "\n",
    "__=ax.hist(np.log10(bh_rate_z0[mask1]), bins=100, normed=True, \n",
    "           alpha=0.8, label=r'${\\rm z=0\\ red\\ galaxies}$')\n",
    "__=ax.hist(np.log10(bh_rate_z0[mask2]), bins=100, normed=True, \n",
    "           alpha=0.8, label=r'${\\rm z=0\\ blue\\ galaxies}$')\n",
    "\n",
    "ylim = ax.set_ylim(0, 0.8)\n",
    "title = ax.set_title(r'${\\rm M_{\\ast}\\approx10^{10.5}M_{\\odot}$}')\n",
    "xlabel = ax.set_xlabel(r'${\\rm dM_{BH}/dt\\ [M_{\\odot}/yr]}$')\n",
    "legend = ax.legend()\n",
    "\n",
    "xlim = ax.set_xlim(-7, -2)\n",
    "__=ax.set_xticks((-6, -4, -2))\n",
    "xticklabels = (r'$10^{-6}$', r'$10^{-4}$', r'$10^{-2}$')\n",
    "__=ax.set_xticklabels(xticklabels)\n",
    "\n",
    "figname = 'black_hole_accretion_rates_v4_sfr_dependence.pdf'\n",
    "fig.savefig(figname, bbox_extra_artists=[xlabel], bbox_inches='tight')"
   ]
  },
  {
   "cell_type": "markdown",
   "metadata": {},
   "source": [
    "### Plot mass-dependence"
   ]
  },
  {
   "cell_type": "code",
   "execution_count": 99,
   "metadata": {},
   "outputs": [
    {
     "data": {
      "image/png": "[encoded data removed]",
      "text/plain": [
       "<matplotlib.figure.Figure at 0x11e1ff3d0>"
      ]
     },
     "metadata": {},
     "output_type": "display_data"
    }
   ],
   "source": [
    "mask1 = (mock['obs_sm'] > 10**9.75) & (mock['obs_sm'] < 10**10)\n",
    "mask2 = (mock['obs_sm'] > 10**10.5) & (mock['obs_sm'] < 10**10.75)\n",
    "mask3 = (mock['obs_sm'] > 10**11.25) #& (mock['obs_sm'] < 10**10)\n",
    "\n",
    "mask2 = sm_mask & sfr_mask2\n",
    "\n",
    "fig, ax = plt.subplots(1, 1)\n",
    "\n",
    "__=ax.hist(np.log10(bh_rate_z0[mask1]), bins=100, normed=True, \n",
    "           alpha=0.8, label=r'${\\rm M_{\\ast}\\approx10^{9.75}M_{\\odot}}$')\n",
    "__=ax.hist(np.log10(bh_rate_z0[mask2]), bins=100, normed=True, \n",
    "           alpha=0.8, label=r'${\\rm M_{\\ast}\\approx10^{10.5}M_{\\odot}}$')\n",
    "__=ax.hist(np.log10(bh_rate_z0[mask3]), bins=100, normed=True, \n",
    "           alpha=0.8, label=r'${\\rm M_{\\ast}\\approx10^{11.25}M_{\\odot}}$')\n",
    "\n",
    "title = ax.set_title(r'${\\rm z=0}$')\n",
    "xlabel = ax.set_xlabel(r'${\\rm dM_{BH}/dt\\ [M_{\\odot}/yr]}$')\n",
    "legend = ax.legend()\n",
    "\n",
    "ylim = ax.set_ylim(0, 1.25)\n",
    "xlim = ax.set_xlim(-7, 0)\n",
    "__=ax.set_xticks((-6, -4, -2, 0))\n",
    "xticklabels = (r'$10^{-6}$', r'$10^{-4}$', r'$10^{-2}$', r'$10^{0}$')\n",
    "__=ax.set_xticklabels(xticklabels)\n",
    "\n",
    "figname = 'black_hole_accretion_rates_v4_mstar_dependence.pdf'\n",
    "fig.savefig(figname, bbox_extra_artists=[xlabel], bbox_inches='tight')"
   ]
  },
  {
   "cell_type": "code",
   "execution_count": 115,
   "metadata": {},
   "outputs": [
    {
     "data": {
      "image/png": "[encoded data removed]",
      "text/plain": [
       "<matplotlib.figure.Figure at 0x11d218b10>"
      ]
     },
     "metadata": {},
     "output_type": "display_data"
    }
   ],
   "source": [
    "fig, ax = plt.subplots(1, 1)\n",
    "x = np.linspace(0, 1, 100)\n",
    "__a=ax.plot(x, x)\n",
    "__b=ax.plot(x, 2*x)\n",
    "__c=ax.plot(x, 3*x)\n",
    "__d=ax.plot(x, 4*x)\n",
    "__e=ax.plot(x, 5*x)\n"
   ]
  },
  {
   "cell_type": "code",
   "execution_count": 114,
   "metadata": {},
   "outputs": [],
   "source": [
    "mpurple = __f[0]._color"
   ]
  },
  {
   "cell_type": "code",
   "execution_count": 112,
   "metadata": {},
   "outputs": [],
   "source": []
  },
  {
   "cell_type": "code",
   "execution_count": null,
   "metadata": {},
   "outputs": [],
   "source": []
  }
 ],
 "metadata": {
  "kernelspec": {
   "display_name": "Python [conda root]",
   "language": "python",
   "name": "conda-root-py"
  },
  "language_info": {
   "codemirror_mode": {
    "name": "ipython",
    "version": 2
   },
   "file_extension": ".py",
   "mimetype": "text/x-python",
   "name": "python",
   "nbconvert_exporter": "python",
   "pygments_lexer": "ipython2",
   "version": "2.7.14"
  }
 },
 "nbformat": 4,
 "nbformat_minor": 2
}
