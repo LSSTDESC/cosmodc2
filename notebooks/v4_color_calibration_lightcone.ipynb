{
 "cells": [
  {
   "cell_type": "code",
   "execution_count": 1,
   "metadata": {},
   "outputs": [],
   "source": [
    "%matplotlib inline\n",
    "\n",
    "morange = u'#ff7f0e'\n",
    "mblue = u'#1f77b4'\n",
    "mgreen = u'#2ca02c'\n",
    "mred = u'#d62728'\n",
    "mpurple = u'#9467bd'"
   ]
  },
  {
   "cell_type": "code",
   "execution_count": 2,
   "metadata": {},
   "outputs": [],
   "source": [
    "brightest_rband = -24.64\n",
    "brightest_rband = -np.inf\n",
    "def apply_um_galacticus_matching_error(um_rest_old, rest_old, um_rest_new):\n",
    "    \"\"\"\n",
    "    \"\"\"\n",
    "    mag_r_error = rest_old - um_rest_old\n",
    "    rest_new = um_rest_new + mag_r_error\n",
    "    return np.where(rest_new < brightest_rband, brightest_rband, rest_new)\n",
    "\n",
    "def update_observed_rband(r_obs_old, r_rest_old, r_rest_new):\n",
    "    \"\"\"\n",
    "    \"\"\"\n",
    "    dr = r_obs_old - r_rest_old\n",
    "    return r_rest_new + dr\n",
    "\n",
    "def update_mag_i_obs(ri_rest_old, mag_i_rest_old, mag_i_obs_old, mag_r_rest_new):\n",
    "    mag_i_rest_new = mag_r_rest_new - ri_rest_old\n",
    "    kcorrection_i = mag_i_obs_old - mag_i_rest_old\n",
    "    mag_i_obs_new = kcorrection_i + mag_i_rest_new\n",
    "    return mag_i_rest_new, mag_i_obs_new\n"
   ]
  },
  {
   "cell_type": "code",
   "execution_count": 3,
   "metadata": {},
   "outputs": [
    {
     "name": "stderr",
     "output_type": "stream",
     "text": [
      "/Users/aphearin/anaconda/lib/python2.7/site-packages/h5py/__init__.py:36: FutureWarning: Conversion of the second argument of issubdtype from `float` to `np.floating` is deprecated. In future, it will be treated as `np.float64 == np.dtype(float).type`.\n",
      "  from ._conv import register_converters as _register_converters\n"
     ]
    },
    {
     "name": "stdout",
     "output_type": "stream",
     "text": [
      "['um_host_halo_mvir', 'um_obs_sm', 'um_obs_sfr', 'um_redshift', 'um_sfr_percentile', 'um_upid', 'um_mpeak', 'um_mag_r_rest', 'um_gr_rest', 'um_ri_rest', 'um_is_on_red_sequence_gr', 'um_is_on_red_sequence_ri', 'isCentral', 'redshift', 'hostHaloMass', 'mag_g_rest', 'mag_g_obs', 'mag_r_rest', 'mag_r_obs', 'mag_i_rest', 'mag_i_obs', 'mag_z_rest', 'mag_z_obs', 'um_mag_g_rest', 'um_mag_i_rest']\n"
     ]
    }
   ],
   "source": [
    "import os\n",
    "dirname = \"/Volumes/simulation_data_2018/protoDC2_v4\"\n",
    "basename = \"v4.1.dust136.1substep.all.aph_reduced.hdf5\"\n",
    "\n",
    "fname = os.path.join(dirname, basename)\n",
    "\n",
    "from astropy.table import Table\n",
    "mock = Table.read(fname, path='data')\n",
    "\n",
    "mock.rename_column('um_restframe_extincted_sdss_abs_magr', 'um_mag_r_rest')\n",
    "mock.rename_column('um_restframe_extincted_sdss_gr', 'um_gr_rest')\n",
    "mock.rename_column('um_restframe_extincted_sdss_ri', 'um_ri_rest')\n",
    "mock['um_mag_g_rest'] = mock['um_gr_rest'] + mock['um_mag_r_rest']\n",
    "mock['um_mag_i_rest'] = mock['um_mag_r_rest'] - mock['um_ri_rest']\n",
    "print(mock.keys())"
   ]
  },
  {
   "cell_type": "code",
   "execution_count": null,
   "metadata": {},
   "outputs": [],
   "source": []
  },
  {
   "cell_type": "code",
   "execution_count": 5,
   "metadata": {},
   "outputs": [],
   "source": [
    "from cosmodc2.stellar_mass_remapping import lift_high_mass_mstar\n",
    "\n",
    "new_mstar = lift_high_mass_mstar(\n",
    "        mock['um_mpeak'], mock['um_obs_sm'], mock['um_upid'],  mock['redshift'])\n",
    "mock['new_um_mstar'] = new_mstar\n",
    "    \n",
    "from cosmodc2.sdss_colors import magr_monte_carlo\n",
    "mock['new_um_mag_r_rest'] = magr_monte_carlo(\n",
    "    mock['new_um_mstar'], mock['um_upid'], mock['redshift'])\n",
    "mock['new2_um_mag_r_rest'] = magr_monte_carlo(\n",
    "    mock['new_um_mstar'], mock['um_upid'], mock['redshift'])\n",
    "\n",
    "#  Estimate the new restframe Galacticus r-band\n",
    "mock['new_mag_r_rest'] = apply_um_galacticus_matching_error(\n",
    "    mock['um_mag_r_rest'], mock['mag_r_rest'], mock['new_um_mag_r_rest'])\n",
    "mock['new2_mag_r_rest'] = apply_um_galacticus_matching_error(\n",
    "    mock['um_mag_r_rest'], mock['mag_r_rest'], mock['new2_um_mag_r_rest'])\n",
    "\n",
    "# #  Estimate the new observed Galacticus r-band\n",
    "mock['new_mag_r_obs'] = update_observed_rband(\n",
    "    mock['mag_r_obs'], mock['mag_r_rest'], mock['new_um_mag_r_rest'])\n",
    "mock['new2_mag_r_obs'] = update_observed_rband(\n",
    "    mock['mag_r_obs'], mock['mag_r_rest'], mock['new2_um_mag_r_rest'])\n"
   ]
  },
  {
   "cell_type": "code",
   "execution_count": null,
   "metadata": {},
   "outputs": [],
   "source": []
  },
  {
   "cell_type": "code",
   "execution_count": null,
   "metadata": {},
   "outputs": [],
   "source": []
  },
  {
   "cell_type": "code",
   "execution_count": null,
   "metadata": {},
   "outputs": [],
   "source": []
  },
  {
   "cell_type": "code",
   "execution_count": null,
   "metadata": {},
   "outputs": [],
   "source": []
  },
  {
   "cell_type": "code",
   "execution_count": 6,
   "metadata": {},
   "outputs": [],
   "source": [
    "\n",
    "# #  Estimate the new observed UniverseMachine i-band\n",
    "_mag_i_rest_new, _mag_i_obs_new = update_mag_i_obs(\n",
    "    mock['um_ri_rest'], mock['um_mag_i_rest'], \n",
    "    mock['mag_i_obs'], mock['new_um_mag_r_rest'])\n",
    "mock['new_mag_i_obs'] = _mag_i_obs_new\n",
    "mock['new_mag_i_rest'] = _mag_i_rest_new\n",
    "\n",
    "_mag_i_rest_new2, _mag_i_obs_new2 = update_mag_i_obs(\n",
    "    mock['um_ri_rest'], mock['um_mag_i_rest'], \n",
    "    mock['mag_i_obs'], mock['new2_um_mag_r_rest'])\n",
    "mock['new2_mag_i_obs'] = _mag_i_obs_new2\n",
    "mock['new2_mag_i_rest'] = _mag_i_rest_new2"
   ]
  },
  {
   "cell_type": "code",
   "execution_count": null,
   "metadata": {},
   "outputs": [],
   "source": []
  },
  {
   "cell_type": "code",
   "execution_count": null,
   "metadata": {},
   "outputs": [],
   "source": []
  }
 ],
 "metadata": {
  "kernelspec": {
   "display_name": "Python [conda root]",
   "language": "python",
   "name": "conda-root-py"
  },
  "language_info": {
   "codemirror_mode": {
    "name": "ipython",
    "version": 2
   },
   "file_extension": ".py",
   "mimetype": "text/x-python",
   "name": "python",
   "nbconvert_exporter": "python",
   "pygments_lexer": "ipython2",
   "version": "2.7.14"
  }
 },
 "nbformat": 4,
 "nbformat_minor": 2
}
