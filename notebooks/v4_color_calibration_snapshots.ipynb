{
 "cells": [
  {
   "cell_type": "code",
   "execution_count": 1,
   "metadata": {},
   "outputs": [],
   "source": [
    "%matplotlib inline\n",
    "\n",
    "morange = u'#ff7f0e'\n",
    "mblue = u'#1f77b4'\n",
    "mgreen = u'#2ca02c'\n",
    "mred = u'#d62728'\n",
    "mpurple = u'#9467bd'"
   ]
  },
  {
   "cell_type": "markdown",
   "metadata": {},
   "source": [
    "# Load mock and data into memory"
   ]
  },
  {
   "cell_type": "code",
   "execution_count": 2,
   "metadata": {},
   "outputs": [
    {
     "name": "stderr",
     "output_type": "stream",
     "text": [
      "/Users/aphearin/anaconda/lib/python2.7/site-packages/h5py/__init__.py:36: FutureWarning: Conversion of the second argument of issubdtype from `float` to `np.floating` is deprecated. In future, it will be treated as `np.float64 == np.dtype(float).type`.\n",
      "  from ._conv import register_converters as _register_converters\n"
     ]
    },
    {
     "name": "stdout",
     "output_type": "stream",
     "text": [
      "['source_halo_id', 'target_halo_id', 'target_halo_x', 'target_halo_y', 'target_halo_z', 'target_halo_vx', 'target_halo_vy', 'target_halo_vz', 'target_halo_mass', 'host_halo_mvir', 'upid', 'mpeak', 'host_centric_x', 'host_centric_y', 'host_centric_z', 'host_centric_vx', 'host_centric_vy', 'host_centric_vz', 'obs_sm', 'obs_sfr', 'sfr_percentile', 'um_mag_r_rest', 'um_gr_rest', 'um_ri_rest', 'is_on_red_sequence_gr', 'is_on_red_sequence_ri', 'x', 'vx', 'y', 'vy', 'z', 'vz', 'lightcone_id', 'redshift', 'um_mag_g_rest']\n"
     ]
    }
   ],
   "source": [
    "from cosmodc2.sdss_colors import load_umachine_processed_sdss_catalog\n",
    "sdss = load_umachine_processed_sdss_catalog()\n",
    "# print(sdss.keys())\n",
    "\n",
    "import os\n",
    "dirname = \"/Volumes/simulation_data_2018/protoDC2_v4\"\n",
    "basename_z0p00 = \"umachine_color_mock_v4_m000-499.hdf5\"\n",
    "basename_z0p25 = \"umachine_color_mock_v4_m000-392.hdf5\"\n",
    "basename_z0p50 = \"umachine_color_mock_v4_m000-331.hdf5\"\n",
    "basename_z0p75 = \"umachine_color_mock_v4_m000-286.hdf5\"\n",
    "basename_z1p00 = \"umachine_color_mock_v4_m000-253.hdf5\"\n",
    "\n",
    "redshift = 0.0\n",
    "if redshift == 0.0:\n",
    "    basename = basename_z0p00\n",
    "elif redshift == 0.25:\n",
    "    basename = basename_z0p25\n",
    "elif redshift == 0.5:\n",
    "    basename = basename_z0p50\n",
    "elif redshift == 0.75:\n",
    "    basename = basename_z0p75\n",
    "elif redshift == 1.0:\n",
    "    basename = basename_z1p00\n",
    "\n",
    "\n",
    "Lbox = 256.\n",
    "Lbox_physical = Lbox/(1. + redshift)\n",
    "Veff = Lbox_physical**3.\n",
    "\n",
    "\n",
    "fname = os.path.join(dirname, basename)\n",
    "\n",
    "from astropy.table import Table\n",
    "mock = Table.read(fname, path='data')\n",
    "mock['redshift'] = redshift\n",
    "mock.rename_column('restframe_extincted_sdss_abs_magr', 'um_mag_r_rest')\n",
    "mock.rename_column('restframe_extincted_sdss_gr', 'um_gr_rest')\n",
    "mock.rename_column('restframe_extincted_sdss_ri', 'um_ri_rest')\n",
    "mock['um_mag_g_rest'] = mock['um_gr_rest'] + mock['um_mag_r_rest']\n",
    "\n",
    "print(mock.keys())"
   ]
  },
  {
   "cell_type": "code",
   "execution_count": 3,
   "metadata": {},
   "outputs": [],
   "source": [
    "logsm_cut = 8\n",
    "mock = mock[mock['obs_sm'] > 10**logsm_cut]"
   ]
  },
  {
   "cell_type": "markdown",
   "metadata": {},
   "source": [
    "# Remodel rest-frame $M_{\\rm g}, M_{\\rm i}, M_{\\rm i},$ and also $M_{\\ast}$ at high-mass "
   ]
  },
  {
   "cell_type": "markdown",
   "metadata": {},
   "source": [
    "Just do it all at once in the cell below"
   ]
  },
  {
   "cell_type": "code",
   "execution_count": null,
   "metadata": {},
   "outputs": [],
   "source": [
    "# from cosmodc2.sdss_colors.v4_sdss_assign_gri import (\n",
    "#     assign_mstar_and_restframe_sdss_gri as remap)\n",
    "\n",
    "# fuzzy_redshift = np.random.normal(loc=mock['redshift'], scale=0.05)\n",
    "# fuzzy_redshift = np.where(fuzzy_redshift < 0, 0, fuzzy_redshift)\n",
    "\n",
    "# _result = remap(mock['mpeak'], mock['upid'], mock['obs_sm'], mock['sfr_percentile'],\n",
    "#             mock['host_halo_mvir'], fuzzy_redshift)\n",
    "\n",
    "# new_mstar, magr, gr_mock, ri_mock, is_red_gr_mock, is_red_ri_mock = _result\n",
    "\n",
    "# mock['new_mstar'] = new_mstar\n",
    "# mock['new_um_mag_r_rest'] = magr\n",
    "# mock['new_um_gr_rest'] = gr_mock\n",
    "# mock['new_um_ri_rest'] = ri_mock\n",
    "# mock['new_is_on_red_sequence_gr'] = is_red_gr_mock\n",
    "# mock['new_is_on_red_sequence_ri'] = is_red_ri_mock\n",
    "\n",
    "# mock['new2_um_mag_r_rest'] = magr\n",
    "# mock['new2_um_gr_rest'] = gr_mock\n",
    "# mock['new2_um_ri_rest'] = ri_mock\n"
   ]
  },
  {
   "cell_type": "code",
   "execution_count": 4,
   "metadata": {},
   "outputs": [],
   "source": [
    "from cosmodc2.sdss_colors import v4_paint_colors_onto_umachine_snaps as gogogo\n",
    "\n",
    "result = gogogo(mock['mpeak'], mock['obs_sm'], mock['upid'], \n",
    "       mock['redshift'], mock['sfr_percentile'])\n",
    "new_mstar, new_magr_rest, gr_mock, ri_mock, is_red_ri_mock, is_red_gr_mock = result\n",
    "\n",
    "mock['new_mstar'] = new_mstar\n",
    "mock['new_um_mag_r_rest'] = new_magr_rest\n",
    "mock['new_um_gr_rest'] = gr_mock\n",
    "mock['new_um_ri_rest'] = ri_mock\n",
    "mock['is_on_red_sequence_ri'] = is_red_ri_mock\n",
    "mock['is_on_red_sequence_gr'] = is_red_gr_mock\n"
   ]
  },
  {
   "cell_type": "code",
   "execution_count": 5,
   "metadata": {},
   "outputs": [],
   "source": [
    "mock['new2_um_mag_r_rest'] = mock['new_um_mag_r_rest']\n",
    "mock['new2_um_gr_rest'] = mock['new_um_gr_rest']\n",
    "mock['new2_um_ri_rest'] = mock['new_um_ri_rest']\n"
   ]
  },
  {
   "cell_type": "markdown",
   "metadata": {},
   "source": [
    "### Model $M_{\\ast}$ and $M_{\\rm r}$"
   ]
  },
  {
   "cell_type": "code",
   "execution_count": 6,
   "metadata": {},
   "outputs": [],
   "source": [
    "# from cosmodc2.stellar_mass_remapping import lift_high_mass_mstar\n",
    "\n",
    "# mock['new_mstar'] = lift_high_mass_mstar(\n",
    "#         mock['mpeak'], mock['obs_sm'], mock['upid'], mock['redshift'])\n",
    "\n",
    "# from cosmodc2.sdss_colors import magr_monte_carlo\n",
    "\n",
    "# mock['new_um_mag_r_rest'] = magr_monte_carlo(\n",
    "#     mock['new_mstar'], mock['redshift'], mock['upid'])\n",
    "\n",
    "# mock['new2_um_mag_r_rest'] = mock['new_um_mag_r_rest']"
   ]
  },
  {
   "cell_type": "code",
   "execution_count": 7,
   "metadata": {},
   "outputs": [],
   "source": [
    "# from cosmodc2.stellar_mass_remapping import lift_high_mass_mstar\n",
    "\n",
    "# new_mstar = lift_high_mass_mstar(\n",
    "#         mock['mpeak'], mock['obs_sm'], mock['upid'],  mock['redshift'])\n",
    "# mock['new_mstar'] = new_mstar\n",
    "    \n",
    "# from cosmodc2.sdss_colors import magr_monte_carlo\n",
    "# mock['new_um_mag_r_rest'] = magr_monte_carlo(\n",
    "#     mock['new_mstar'], mock['upid'], mock['redshift'])\n",
    "# mock['new2_um_mag_r_rest'] = magr_monte_carlo(\n",
    "#     mock['new_mstar'], mock['upid'], mock['redshift'], beta_z0_satellites=2.85)\n"
   ]
  },
  {
   "cell_type": "markdown",
   "metadata": {},
   "source": [
    "### Model ${\\rm g-r}$ and ${\\rm r-i}$"
   ]
  },
  {
   "cell_type": "code",
   "execution_count": 8,
   "metadata": {},
   "outputs": [],
   "source": [
    "# from cosmodc2.sdss_colors import gr_ri_monte_carlo\n",
    "\n",
    "# gr_mock, ri_mock, is_red_ri_mock, is_red_gr_mock = gr_ri_monte_carlo(\n",
    "#     mock['new_um_mag_r_rest'], mock['sfr_percentile'], \n",
    "#     mock['redshift'], local_random_scale=0.1)\n",
    "\n",
    "# mock['new_um_gr_rest'] = np.copy(gr_mock)\n",
    "# mock['new_um_ri_rest'] = np.copy(ri_mock)\n",
    "\n",
    "# mock['is_on_red_sequence_gr'] = is_red_gr_mock\n",
    "# mock['is_on_red_sequence_ri'] = is_red_ri_mock\n"
   ]
  },
  {
   "cell_type": "code",
   "execution_count": 9,
   "metadata": {},
   "outputs": [],
   "source": [
    "# from cosmodc2.sdss_colors import gr_ri_monte_carlo\n",
    "\n",
    "# gr_mock2, ri_mock2, is_red_ri_mock, is_red_gr_mock = gr_ri_monte_carlo(\n",
    "#     mock['new2_um_mag_r_rest'], mock['sfr_percentile'], \n",
    "#     mock['redshift'], local_random_scale=0.1)\n",
    "\n",
    "# mock['new2_um_gr_rest'] = np.copy(gr_mock2)\n",
    "# mock['new2_um_ri_rest'] = np.copy(ri_mock2)\n"
   ]
  },
  {
   "cell_type": "markdown",
   "metadata": {},
   "source": [
    "### Model cluster centrals"
   ]
  },
  {
   "cell_type": "code",
   "execution_count": 10,
   "metadata": {},
   "outputs": [],
   "source": [
    "# from cosmodc2.sdss_colors import remap_cluster_bcg_gr_ri_color\n",
    "\n",
    "# _result = remap_cluster_bcg_gr_ri_color(\n",
    "#         mock['upid'], mock['host_halo_mvir'],\n",
    "#         np.copy(mock['new_um_gr_rest']), np.copy(mock['new_um_ri_rest']), \n",
    "#         mock['is_on_red_sequence_gr'], mock['is_on_red_sequence_ri'])\n",
    "# gr_mock, ri_mock, is_red_gr_mock, is_red_ri_mock = _result\n",
    "\n",
    "# mock['new_um_gr_rest'] = gr_mock\n",
    "# mock['new_um_ri_rest'] = ri_mock\n",
    "# mock['is_on_red_sequence_gr'] = is_red_gr_mock\n",
    "# mock['is_on_red_sequence_ri'] = is_red_ri_mock"
   ]
  },
  {
   "cell_type": "code",
   "execution_count": 11,
   "metadata": {},
   "outputs": [],
   "source": [
    "# from cosmodc2.sdss_colors import remap_cluster_bcg_gr_ri_color\n",
    "\n",
    "# _result = remap_cluster_bcg_gr_ri_color(\n",
    "#         mock['upid'], mock['host_halo_mvir'],\n",
    "#         np.copy(mock['new2_um_gr_rest']), np.copy(mock['new2_um_ri_rest']), \n",
    "#         mock['is_on_red_sequence_gr'], mock['is_on_red_sequence_ri'])\n",
    "# gr_mock2, ri_mock2, __, __ = _result\n",
    "\n",
    "# mock['new2_um_gr_rest'] = gr_mock2\n",
    "# mock['new2_um_ri_rest'] = ri_mock2\n"
   ]
  },
  {
   "cell_type": "markdown",
   "metadata": {},
   "source": [
    "### Model cluster satellites"
   ]
  },
  {
   "cell_type": "code",
   "execution_count": 12,
   "metadata": {},
   "outputs": [],
   "source": [
    "# from cosmodc2.sdss_colors import remap_cluster_satellite_gr_ri_color\n",
    "\n",
    "# _result = remap_cluster_satellite_gr_ri_color(\n",
    "#         mock['upid'], mock['new_mstar'], mock['host_halo_mvir'], \n",
    "#         mock['new_um_mag_r_rest'], np.copy(mock['new_um_gr_rest']), \n",
    "#         np.copy(mock['new_um_ri_rest']),\n",
    "#         mock['is_on_red_sequence_gr'], mock['is_on_red_sequence_ri'])\n",
    "\n",
    "# gr_mock, ri_mock, is_red_gr_mock, is_red_ri_mock = _result\n",
    "\n",
    "# mock['new_um_gr_rest'] = gr_mock\n",
    "# mock['new_um_ri_rest'] = ri_mock\n",
    "# mock['is_on_red_sequence_gr'] = is_red_gr_mock\n",
    "# mock['is_on_red_sequence_ri'] = is_red_ri_mock"
   ]
  },
  {
   "cell_type": "code",
   "execution_count": 13,
   "metadata": {},
   "outputs": [],
   "source": [
    "# from cosmodc2.sdss_colors import remap_cluster_satellite_gr_ri_color\n",
    "\n",
    "# _result = remap_cluster_satellite_gr_ri_color(\n",
    "#         mock['upid'], mock['new_mstar'], mock['host_halo_mvir'], \n",
    "#         mock['new2_um_mag_r_rest'], np.copy(mock['new2_um_gr_rest']), \n",
    "#         np.copy(mock['new2_um_ri_rest']),\n",
    "#         mock['is_on_red_sequence_gr'], mock['is_on_red_sequence_ri'])\n",
    "\n",
    "# gr_mock2, ri_mock2, __, __ = _result\n",
    "\n",
    "# mock['new2_um_gr_rest'] = gr_mock2\n",
    "# mock['new2_um_ri_rest'] = ri_mock2\n"
   ]
  },
  {
   "cell_type": "code",
   "execution_count": null,
   "metadata": {},
   "outputs": [],
   "source": []
  },
  {
   "cell_type": "markdown",
   "metadata": {},
   "source": [
    "## Compare one-point functions to SDSS color distributions"
   ]
  },
  {
   "cell_type": "code",
   "execution_count": 14,
   "metadata": {},
   "outputs": [
    {
     "data": {
      "image/png": "[encoded data removed]",
      "text/plain": [
       "<matplotlib.figure.Figure at 0x1131117d0>"
      ]
     },
     "metadata": {},
     "output_type": "display_data"
    }
   ],
   "source": [
    "npts = int(1e6)\n",
    "\n",
    "from cosmodc2.sdss_colors.sdss_completeness_model import retrieve_sdss_sample_mask\n",
    "\n",
    "magr_max = -18.\n",
    "magr_min = magr_max - 0.3\n",
    "mask = retrieve_sdss_sample_mask(\n",
    "    sdss['z'], sdss['restframe_extincted_sdss_abs_magr'], magr_min, magr_max)\n",
    "sdss_sample_gr18 = sdss['restframe_extincted_sdss_gr'][mask]\n",
    "mock_mask = (mock['new_um_mag_r_rest'] < magr_max)\n",
    "mock_mask *= (mock['new_um_mag_r_rest'] > magr_min)\n",
    "mock_sample_gr18 = mock['new_um_gr_rest'][mock_mask]\n",
    "mock_sample_gr18_alt = mock['new2_um_gr_rest'][mock_mask]\n",
    "\n",
    "magr_max = -19.5\n",
    "magr_min = magr_max - 0.3\n",
    "mask = retrieve_sdss_sample_mask(\n",
    "    sdss['z'], sdss['restframe_extincted_sdss_abs_magr'], magr_min, magr_max)\n",
    "sdss_sample_gr19p5 = sdss['restframe_extincted_sdss_gr'][mask]\n",
    "mock_mask = (mock['new_um_mag_r_rest'] < magr_max)\n",
    "mock_mask *= (mock['new_um_mag_r_rest'] > magr_min)\n",
    "mock_sample_gr19p5 = mock['new_um_gr_rest'][mock_mask]\n",
    "mock_sample_gr19p5_alt = mock['new2_um_gr_rest'][mock_mask]\n",
    "\n",
    "magr_max = -21.\n",
    "magr_min = magr_max - 0.3\n",
    "mask = retrieve_sdss_sample_mask(\n",
    "    sdss['z'], sdss['restframe_extincted_sdss_abs_magr'], magr_min, magr_max)\n",
    "sdss_sample_gr21 = sdss['restframe_extincted_sdss_gr'][mask]\n",
    "mock_mask = (mock['new_um_mag_r_rest'] < magr_max)\n",
    "mock_mask *= (mock['new_um_mag_r_rest'] > magr_min)\n",
    "mock_sample_gr21 = mock['new_um_gr_rest'][mock_mask]\n",
    "mock_sample_gr21_alt = mock['new2_um_gr_rest'][mock_mask]\n",
    "\n",
    "magr_max = -22.5\n",
    "magr_min = magr_max - 0.3\n",
    "mask = retrieve_sdss_sample_mask(\n",
    "    sdss['z'], sdss['restframe_extincted_sdss_abs_magr'], magr_min, magr_max)\n",
    "sdss_sample_gr22p5 = sdss['restframe_extincted_sdss_gr'][mask]\n",
    "mock_mask = (mock['new_um_mag_r_rest'] < magr_max)\n",
    "mock_mask *= (mock['new_um_mag_r_rest'] > magr_min)\n",
    "mock_sample_gr22p5 = mock['new_um_gr_rest'][mock_mask]\n",
    "mock_sample_gr22p5_alt = mock['new2_um_gr_rest'][mock_mask]\n",
    "\n",
    "\n",
    "fig, _axes = plt.subplots(2, 2, figsize=(10, 8))\n",
    "\n",
    "((ax1, ax2), (ax3, ax4)) = _axes\n",
    "axes = ax1, ax2, ax3, ax4\n",
    "\n",
    "nbins = 40\n",
    "\n",
    "__=ax1.hist(sdss_sample_gr18, bins=nbins, alpha=0.8, normed=True, \n",
    "            label=r'${\\rm SDSS}$', color='gray')\n",
    "# __=ax1.hist(mock_sample_gr18, bins=nbins, alpha=0.8, normed=True, \n",
    "#             color=morange, label=r'${\\rm protoDC2\\ v4.1}$')\n",
    "__=ax1.hist(mock_sample_gr18_alt, bins=nbins, alpha=0.8, normed=True, \n",
    "            color=mblue, label=r'${\\rm v4.2}$')\n",
    "\n",
    "__=ax2.hist(sdss_sample_gr19p5, bins=nbins, alpha=0.8, normed=True, \n",
    "            label=r'${\\rm SDSS}$', color='gray')\n",
    "# __=ax2.hist(mock_sample_gr19p5, bins=nbins, alpha=0.8, normed=True, \n",
    "#             color=morange, label=r'${\\rm protoDC2\\ v4.1}$')\n",
    "__=ax2.hist(mock_sample_gr19p5_alt, bins=nbins, alpha=0.8, normed=True, \n",
    "            color=mblue, label=r'${\\rm v4.2}$')\n",
    "\n",
    "__=ax3.hist(sdss_sample_gr21, bins=nbins, alpha=0.8, normed=True, \n",
    "            label=r'${\\rm SDSS}$', color='gray')\n",
    "# __=ax3.hist(mock_sample_gr21, bins=nbins, alpha=0.8, normed=True, \n",
    "#             color=morange, label=r'${\\rm protoDC2\\ v4.1}$')\n",
    "__=ax3.hist(mock_sample_gr21_alt, bins=nbins, alpha=0.8, normed=True, \n",
    "            color=mblue, label=r'${\\rm v4.2}$')\n",
    "\n",
    "__=ax4.hist(sdss_sample_gr22p5, bins=nbins, alpha=0.8, normed=True, \n",
    "            label=r'${\\rm SDSS}$', color='gray')\n",
    "# __=ax4.hist(mock_sample_gr22p5, bins=nbins, alpha=0.8, normed=True, \n",
    "#             color=morange, label=r'${\\rm protoDC2\\ v4.1}$')\n",
    "__=ax4.hist(mock_sample_gr22p5_alt, bins=nbins, alpha=0.8, normed=True, \n",
    "            color=mblue, label=r'${\\rm v4.2}$')\n",
    "\n",
    "for ax in axes:\n",
    "    xlim = ax.set_xlim(0, 1.25)\n",
    "    leg = ax.legend()\n",
    "\n",
    "ax1.set_xticklabels([''])\n",
    "ax2.set_xticklabels([''])\n",
    "title1 = ax1.set_title(r'$M_{\\rm r} \\approx -18$')\n",
    "title2 = ax2.set_title(r'$M_{\\rm r} \\approx -19.5$')\n",
    "title3 = ax3.set_title(r'$M_{\\rm r} \\approx -21$')\n",
    "title4 = ax4.set_title(r'$M_{\\rm r} \\approx -22.5$')\n",
    "xlabel3 = ax3.set_xlabel(r'${\\rm g-r}$')\n",
    "xlabel4 = ax4.set_xlabel(r'${\\rm g-r}$')\n"
   ]
  },
  {
   "cell_type": "code",
   "execution_count": null,
   "metadata": {},
   "outputs": [],
   "source": []
  },
  {
   "cell_type": "code",
   "execution_count": 15,
   "metadata": {},
   "outputs": [
    {
     "data": {
      "image/png": "[encoded data removed]",
      "text/plain": [
       "<matplotlib.figure.Figure at 0x1131110d0>"
      ]
     },
     "metadata": {},
     "output_type": "display_data"
    }
   ],
   "source": [
    "npts = int(1e6)\n",
    "\n",
    "from cosmodc2.sdss_colors.sdss_completeness_model import retrieve_sdss_sample_mask\n",
    "\n",
    "magr_max = -18.\n",
    "magr_min = magr_max - 0.3\n",
    "mask = retrieve_sdss_sample_mask(\n",
    "    sdss['z'], sdss['restframe_extincted_sdss_abs_magr'], magr_min, magr_max)\n",
    "sdss_sample_ri18 = sdss['restframe_extincted_sdss_ri'][mask]\n",
    "mock_mask = (mock['new_um_mag_r_rest'] < magr_max)\n",
    "mock_mask *= (mock['new_um_mag_r_rest'] > magr_min)\n",
    "mock_sample_ri18 = mock['new_um_ri_rest'][mock_mask]\n",
    "mock_sample_ri18_alt = mock['new2_um_ri_rest'][mock_mask]\n",
    "\n",
    "magr_max = -19.5\n",
    "magr_min = magr_max - 0.3\n",
    "mask = retrieve_sdss_sample_mask(\n",
    "    sdss['z'], sdss['restframe_extincted_sdss_abs_magr'], magr_min, magr_max)\n",
    "sdss_sample_ri19p5 = sdss['restframe_extincted_sdss_ri'][mask]\n",
    "mock_mask = (mock['new_um_mag_r_rest'] < magr_max)\n",
    "mock_mask *= (mock['new_um_mag_r_rest'] > magr_min)\n",
    "mock_sample_ri19p5 = mock['new_um_ri_rest'][mock_mask]\n",
    "mock_sample_ri19p5_alt = mock['new2_um_ri_rest'][mock_mask]\n",
    "\n",
    "magr_max = -21.\n",
    "magr_min = magr_max - 0.3\n",
    "mask = retrieve_sdss_sample_mask(\n",
    "    sdss['z'], sdss['restframe_extincted_sdss_abs_magr'], magr_min, magr_max)\n",
    "sdss_sample_ri21 = sdss['restframe_extincted_sdss_ri'][mask]\n",
    "mock_mask = (mock['new_um_mag_r_rest'] < magr_max)\n",
    "mock_mask *= (mock['new_um_mag_r_rest'] > magr_min)\n",
    "mock_sample_ri21 = mock['new_um_ri_rest'][mock_mask]\n",
    "mock_sample_ri21_alt = mock['new2_um_ri_rest'][mock_mask]\n",
    "\n",
    "magr_max = -22.5\n",
    "magr_min = magr_max - 0.3\n",
    "mask = retrieve_sdss_sample_mask(\n",
    "    sdss['z'], sdss['restframe_extincted_sdss_abs_magr'], magr_min, magr_max)\n",
    "sdss_sample_ri22p5 = sdss['restframe_extincted_sdss_ri'][mask]\n",
    "mock_mask = (mock['new_um_mag_r_rest'] < magr_max)\n",
    "mock_mask *= (mock['new_um_mag_r_rest'] > magr_min)\n",
    "mock_sample_ri22p5 = mock['new_um_ri_rest'][mock_mask]\n",
    "mock_sample_ri22p5_alt = mock['new2_um_ri_rest'][mock_mask]\n",
    "\n",
    "\n",
    "fig, _axes = plt.subplots(2, 2, figsize=(10, 8))\n",
    "\n",
    "((ax1, ax2), (ax3, ax4)) = _axes\n",
    "axes = ax1, ax2, ax3, ax4\n",
    "\n",
    "nbins = 40\n",
    "\n",
    "__=ax1.hist(sdss_sample_ri18, bins=nbins, alpha=0.8, normed=True, \n",
    "            label=r'${\\rm SDSS}$', color='gray')\n",
    "# __=ax1.hist(mock_sample_ri18, bins=nbins, alpha=0.8, normed=True, \n",
    "#             color=morange, label=r'${\\rm v4.1}$')\n",
    "__=ax1.hist(mock_sample_ri18_alt, bins=nbins, alpha=0.8, normed=True, \n",
    "            color=mblue, label=r'${\\rm v4.2}$')\n",
    "\n",
    "__=ax2.hist(sdss_sample_ri19p5, bins=nbins, alpha=0.8, normed=True, \n",
    "            label=r'${\\rm SDSS}$', color='gray')\n",
    "# __=ax2.hist(mock_sample_ri19p5, bins=nbins, alpha=0.8, normed=True, \n",
    "#             color=morange, label=r'${\\rm v4.1}$')\n",
    "__=ax2.hist(mock_sample_ri19p5_alt, bins=nbins, alpha=0.8, normed=True, \n",
    "            color=mblue, label=r'${\\rm v4.2}$')\n",
    "\n",
    "__=ax3.hist(sdss_sample_ri21, bins=nbins, alpha=0.8, normed=True, \n",
    "            label=r'${\\rm SDSS}$', color='gray')\n",
    "# __=ax3.hist(mock_sample_ri21, bins=nbins, alpha=0.8, normed=True, \n",
    "#             color=morange, label=r'${\\rm v4.1}$')\n",
    "__=ax3.hist(mock_sample_ri21_alt, bins=nbins, alpha=0.8, normed=True, \n",
    "            color=mblue, label=r'${\\rm v4.2}$')\n",
    "\n",
    "__=ax4.hist(sdss_sample_ri22p5, bins=nbins, alpha=0.8, normed=True, \n",
    "            label=r'${\\rm SDSS}$', color='gray')\n",
    "# __=ax4.hist(mock_sample_ri22p5, bins=nbins, alpha=0.8, normed=True, \n",
    "#             color=morange, label=r'${\\rm v4.1}$')\n",
    "__=ax4.hist(mock_sample_ri22p5_alt, bins=nbins, alpha=0.8, normed=True, \n",
    "            color=mblue, label=r'${\\rm v4.2}$')\n",
    "\n",
    "for ax in axes:\n",
    "    xlim = ax.set_xlim(-0.1, 0.6)\n",
    "    leg = ax.legend()\n",
    "\n",
    "ax1.set_xticklabels([''])\n",
    "ax2.set_xticklabels([''])\n",
    "title1 = ax1.set_title(r'$M_{\\rm r} \\approx -18$')\n",
    "title2 = ax2.set_title(r'$M_{\\rm r} \\approx -19.5$')\n",
    "title3 = ax3.set_title(r'$M_{\\rm r} \\approx -21$')\n",
    "title4 = ax4.set_title(r'$M_{\\rm r} \\approx -22.5$')\n",
    "xlabel3 = ax3.set_xlabel(r'${\\rm r-i}$')\n",
    "xlabel4 = ax4.set_xlabel(r'${\\rm r-i}$')\n"
   ]
  },
  {
   "cell_type": "code",
   "execution_count": null,
   "metadata": {},
   "outputs": [],
   "source": []
  },
  {
   "cell_type": "code",
   "execution_count": null,
   "metadata": {},
   "outputs": [],
   "source": []
  },
  {
   "cell_type": "code",
   "execution_count": null,
   "metadata": {},
   "outputs": [],
   "source": []
  },
  {
   "cell_type": "code",
   "execution_count": null,
   "metadata": {},
   "outputs": [],
   "source": []
  },
  {
   "cell_type": "markdown",
   "metadata": {},
   "source": [
    "## Compare color-dependent clustering to Zehavi+11"
   ]
  },
  {
   "cell_type": "code",
   "execution_count": 16,
   "metadata": {},
   "outputs": [],
   "source": [
    "from cosmodc2.sdss_colors import zehavi11_clustering\n",
    "from cosmodc2.sdss_colors.sdss_measurements import rp as rp_zehavi\n"
   ]
  },
  {
   "cell_type": "code",
   "execution_count": 17,
   "metadata": {},
   "outputs": [],
   "source": [
    "wp_blue19p0, wperr_blue19p0 = zehavi11_clustering(-19, subsample='blue')\n",
    "wp_red19p0, wperr_red19p0 = zehavi11_clustering(-19, subsample='red')\n",
    "\n",
    "wp_blue20p0, wperr_blue20p0 = zehavi11_clustering(-20, subsample='blue')\n",
    "wp_red20p0, wperr_red20p0 = zehavi11_clustering(-20, subsample='red')\n",
    "\n",
    "wp_blue20p5, wperr_blue20p5 = zehavi11_clustering(-20.5, subsample='blue')\n",
    "wp_red20p5, wperr_red20p5 = zehavi11_clustering(-20.5, subsample='red')\n",
    "\n",
    "wp_blue21p0, wperr_blue21p0 = zehavi11_clustering(-21, subsample='blue')\n",
    "wp_red21p0, wperr_red21p0 = zehavi11_clustering(-21, subsample='red')\n",
    "\n",
    "wp_blue21p5, wperr_blue21p5 = zehavi11_clustering(-21.5, subsample='blue')\n",
    "wp_red21p5, wperr_red21p5 = zehavi11_clustering(-21.5, subsample='red')\n"
   ]
  },
  {
   "cell_type": "code",
   "execution_count": 18,
   "metadata": {},
   "outputs": [
    {
     "name": "stdout",
     "output_type": "stream",
     "text": [
      "...calculating wp for 5.72e+04 galaxies and Mr < -20.0\n",
      "...calculating wp for 4.67e+04 galaxies and Mr < -20.0\n",
      "...calculating wp for 1.00e+05 galaxies and Mr < -19.0\n",
      "...calculating wp for 8.10e+04 galaxies and Mr < -19.0\n",
      "...calculating wp for 2.17e+04 galaxies and Mr < -20.5\n",
      "...calculating wp for 2.93e+04 galaxies and Mr < -20.5\n",
      "...calculating wp for 5.12e+03 galaxies and Mr < -21.0\n",
      "...calculating wp for 1.37e+04 galaxies and Mr < -21.0\n",
      "...calculating wp for 7.11e+02 galaxies and Mr < -21.5\n",
      "...calculating wp for 4.07e+03 galaxies and Mr < -21.5\n"
     ]
    }
   ],
   "source": [
    "from cosmodc2.mock_diagnostics import zehavi_wp\n",
    "\n",
    "protoDC2_littleh = 0.7\n",
    "period = Lbox\n",
    "x, y, z, vz = mock['x'], mock['y'], mock['z'], mock['vz']\n",
    "magr = mock['new_um_mag_r_rest']\n",
    "\n",
    "rp_mids, wp_v4_20p0_blue = zehavi_wp(x, y, z, vz, \n",
    "            period, magr, -20.0, protoDC2_littleh, \n",
    "            subsample='blue', gr_colors=mock['new_um_gr_rest'])\n",
    "\n",
    "rp_mids, wp_v4_20p0_red = zehavi_wp(x, y, z, vz, \n",
    "            period, magr, -20.0, protoDC2_littleh, \n",
    "            subsample='red', gr_colors=mock['new_um_gr_rest'])\n",
    "\n",
    "rp_mids, wp_v4_19p0_blue = zehavi_wp(x, y, z, vz, \n",
    "            period, magr, -19.0, protoDC2_littleh, \n",
    "            subsample='blue', gr_colors=mock['new_um_gr_rest'])\n",
    "\n",
    "rp_mids, wp_v4_19p0_red = zehavi_wp(x, y, z, vz, \n",
    "            period, magr, -19.0, protoDC2_littleh, \n",
    "            subsample='red', gr_colors=mock['new_um_gr_rest'])\n",
    "\n",
    "rp_mids, wp_v4_20p5_blue = zehavi_wp(x, y, z, vz, \n",
    "            period, magr, -20.5, protoDC2_littleh, \n",
    "            subsample='blue', gr_colors=mock['new_um_gr_rest'])\n",
    "\n",
    "rp_mids, wp_v4_20p5_red = zehavi_wp(x, y, z, vz, \n",
    "            period, magr, -20.5, protoDC2_littleh, \n",
    "            subsample='red', gr_colors=mock['new_um_gr_rest'])\n",
    "\n",
    "rp_mids, wp_v4_21p0_blue = zehavi_wp(x, y, z, vz, \n",
    "            period, magr, -21.0, protoDC2_littleh, \n",
    "            subsample='blue', gr_colors=mock['new_um_gr_rest'])\n",
    "\n",
    "rp_mids, wp_v4_21p0_red = zehavi_wp(x, y, z, vz, \n",
    "            period, magr, -21.0, protoDC2_littleh, \n",
    "            subsample='red', gr_colors=mock['new_um_gr_rest'])\n",
    "\n",
    "rp_mids, wp_v4_21p5_blue = zehavi_wp(x, y, z, vz, \n",
    "            period, magr, -21.5, protoDC2_littleh, \n",
    "            subsample='blue', gr_colors=mock['new_um_gr_rest'])\n",
    "\n",
    "rp_mids, wp_v4_21p5_red = zehavi_wp(x, y, z, vz, \n",
    "            period, magr, -21.5, protoDC2_littleh, \n",
    "            subsample='red', gr_colors=mock['new_um_gr_rest'])"
   ]
  },
  {
   "cell_type": "code",
   "execution_count": 19,
   "metadata": {},
   "outputs": [
    {
     "name": "stdout",
     "output_type": "stream",
     "text": [
      "...calculating wp for 5.72e+04 galaxies and Mr < -20.0\n",
      "...calculating wp for 4.67e+04 galaxies and Mr < -20.0\n",
      "...calculating wp for 9.97e+04 galaxies and Mr < -19.0\n",
      "...calculating wp for 8.10e+04 galaxies and Mr < -19.0\n",
      "...calculating wp for 2.17e+04 galaxies and Mr < -20.5\n",
      "...calculating wp for 2.93e+04 galaxies and Mr < -20.5\n",
      "...calculating wp for 5.12e+03 galaxies and Mr < -21.0\n",
      "...calculating wp for 1.37e+04 galaxies and Mr < -21.0\n",
      "...calculating wp for 7.11e+02 galaxies and Mr < -21.5\n",
      "...calculating wp for 4.07e+03 galaxies and Mr < -21.5\n"
     ]
    }
   ],
   "source": [
    "from cosmodc2.mock_diagnostics import zehavi_wp\n",
    "\n",
    "protoDC2_littleh = 0.7\n",
    "period = Lbox\n",
    "x, y, z, vz = mock['x'], mock['y'], mock['z'], mock['vz']\n",
    "magr = mock['new2_um_mag_r_rest']\n",
    "\n",
    "rp_mids, wp_v4b_20p0_blue = zehavi_wp(x, y, z, vz, \n",
    "            period, magr, -20.0, protoDC2_littleh, \n",
    "            subsample='blue', gr_colors=mock['new2_um_gr_rest'])\n",
    "\n",
    "rp_mids, wp_v4b_20p0_red = zehavi_wp(x, y, z, vz, \n",
    "            period, magr, -20.0, protoDC2_littleh, \n",
    "            subsample='red', gr_colors=mock['new2_um_gr_rest'])\n",
    "\n",
    "rp_mids, wp_v4b_19p0_blue = zehavi_wp(x, y, z, vz, \n",
    "            period, magr, -19.0, protoDC2_littleh, \n",
    "            subsample='blue', gr_colors=mock['new2_um_gr_rest'])\n",
    "\n",
    "rp_mids, wp_v4b_19p0_red = zehavi_wp(x, y, z, vz, \n",
    "            period, magr, -19.0, protoDC2_littleh, \n",
    "            subsample='red', gr_colors=mock['new2_um_gr_rest'])\n",
    "\n",
    "rp_mids, wp_v4b_20p5_blue = zehavi_wp(x, y, z, vz, \n",
    "            period, magr, -20.5, protoDC2_littleh, \n",
    "            subsample='blue', gr_colors=mock['new2_um_gr_rest'])\n",
    "\n",
    "rp_mids, wp_v4b_20p5_red = zehavi_wp(x, y, z, vz, \n",
    "            period, magr, -20.5, protoDC2_littleh, \n",
    "            subsample='red', gr_colors=mock['new2_um_gr_rest'])\n",
    "\n",
    "rp_mids, wp_v4b_21p0_blue = zehavi_wp(x, y, z, vz, \n",
    "            period, magr, -21.0, protoDC2_littleh, \n",
    "            subsample='blue', gr_colors=mock['new2_um_gr_rest'])\n",
    "\n",
    "rp_mids, wp_v4b_21p0_red = zehavi_wp(x, y, z, vz, \n",
    "            period, magr, -21.0, protoDC2_littleh, \n",
    "            subsample='red', gr_colors=mock['new2_um_gr_rest'])\n",
    "\n",
    "rp_mids, wp_v4b_21p5_blue = zehavi_wp(x, y, z, vz, \n",
    "            period, magr, -21.5, protoDC2_littleh, \n",
    "            subsample='blue', gr_colors=mock['new2_um_gr_rest'])\n",
    "\n",
    "rp_mids, wp_v4b_21p5_red = zehavi_wp(x, y, z, vz, \n",
    "            period, magr, -21.5, protoDC2_littleh, \n",
    "            subsample='red', gr_colors=mock['new2_um_gr_rest'])"
   ]
  },
  {
   "cell_type": "code",
   "execution_count": null,
   "metadata": {},
   "outputs": [],
   "source": []
  },
  {
   "cell_type": "code",
   "execution_count": 20,
   "metadata": {},
   "outputs": [
    {
     "data": {
      "image/png": "[encoded data removed]",
      "text/plain": [
       "<matplotlib.figure.Figure at 0x11482f750>"
      ]
     },
     "metadata": {},
     "output_type": "display_data"
    }
   ],
   "source": [
    "fig, _axes = plt.subplots(2, 2, figsize=(10, 8), sharex=True, sharey=True)\n",
    "fig.subplots_adjust(hspace=0)  #  smash top and bottom plots\n",
    "fig.subplots_adjust(wspace=0)  #  smash left and right plots\n",
    "\n",
    "((ax1, ax2), (ax3, ax4)) = _axes\n",
    "axes = ax1, ax2, ax3, ax4\n",
    "for ax in axes:\n",
    "    __=ax.loglog()\n",
    "\n",
    "__=ax1.errorbar(rp_zehavi, wp_blue19p0, np.sqrt(wperr_blue19p0), \n",
    "                fmt='.', color='blue', label=r'${\\rm SDSS}$')\n",
    "__=ax1.errorbar(rp_zehavi, wp_red19p0, np.sqrt(wperr_red19p0), \n",
    "                fmt='.', color='red')\n",
    "__=ax1.plot(rp_mids, wp_v4_19p0_blue, color='blue', label=r'$M_{\\rm r} < -19.0$')\n",
    "__=ax1.plot(rp_mids, wp_v4_19p0_red, color='red')\n",
    "# __=ax1.plot(rp_mids, wp_v4b_19p0_blue, '--', color='blue')\n",
    "# __=ax1.plot(rp_mids, wp_v4b_19p0_red, '--', color='red')\n",
    "\n",
    "\n",
    "__=ax2.errorbar(rp_zehavi, wp_blue20p0, np.sqrt(wperr_blue20p0), \n",
    "                fmt='.', color='blue', label=r'${\\rm SDSS}$')\n",
    "__=ax2.errorbar(rp_zehavi, wp_red20p0, np.sqrt(wperr_red20p0), \n",
    "                fmt='.', color='red')\n",
    "__=ax2.plot(rp_mids, wp_v4_20p0_blue, color='blue', label=r'$M_{\\rm r} < -20.0$')\n",
    "__=ax2.plot(rp_mids, wp_v4_20p0_red, color='red')\n",
    "# __=ax2.plot(rp_mids, wp_v4b_20p0_blue, '--', color='blue')\n",
    "# __=ax2.plot(rp_mids, wp_v4b_20p0_red, '--', color='red')\n",
    "\n",
    "__=ax3.errorbar(rp_zehavi, wp_blue20p5, np.sqrt(wperr_blue20p5), \n",
    "                fmt='.', color='blue', label=r'${\\rm SDSS}$')\n",
    "__=ax3.errorbar(rp_zehavi, wp_red20p5, np.sqrt(wperr_red20p5), \n",
    "                fmt='.', color='red')\n",
    "__=ax3.plot(rp_mids, wp_v4_20p5_blue, color='blue', label=r'$M_{\\rm r} < -20.5$')\n",
    "__=ax3.plot(rp_mids, wp_v4_20p5_red, color='red')\n",
    "# __=ax3.plot(rp_mids, wp_v4b_20p5_blue, '--', color='blue')\n",
    "# __=ax3.plot(rp_mids, wp_v4b_20p5_red, '--', color='red')\n",
    "\n",
    "# __=ax4.errorbar(rp_zehavi, wp_blue21p5, np.sqrt(wperr_blue21p5), \n",
    "#                 fmt='.', color='blue', label=r'${\\rm SDSS}$')\n",
    "# __=ax4.errorbar(rp_zehavi, wp_red21p5, np.sqrt(wperr_red21p5), \n",
    "#                 fmt='.', color='red')\n",
    "# __=ax4.plot(rp_mids, wp_v4_21p5_blue, color='blue', label=r'$M_{\\rm r} < -21.5$')\n",
    "# __=ax4.plot(rp_mids, wp_v4_21p5_red, color='red')\n",
    "# __=ax4.plot(rp_mids, wp_v4b_21p5_blue, '--', color='blue')\n",
    "# __=ax4.plot(rp_mids, wp_v4b_21p5_red, '--', color='red')\n",
    "\n",
    "__=ax4.errorbar(rp_zehavi, wp_blue21p0, np.sqrt(wperr_blue21p0), \n",
    "                fmt='.', color='blue', label=r'${\\rm SDSS}$')\n",
    "__=ax4.errorbar(rp_zehavi, wp_red21p0, np.sqrt(wperr_red21p0), \n",
    "                fmt='.', color='red')\n",
    "__=ax4.plot(rp_mids, wp_v4_21p0_blue, color='blue', label=r'$M_{\\rm r} < -21.0$')\n",
    "__=ax4.plot(rp_mids, wp_v4_21p0_red, color='red')\n",
    "# __=ax4.plot(rp_mids, wp_v4b_21p0_blue, '--', color='blue')\n",
    "# __=ax4.plot(rp_mids, wp_v4b_21p0_red, '--', color='red')\n",
    "\n",
    "\n",
    "xlabel3 = ax3.set_xlabel(r'${r_{\\rm p}\\ [{\\rm Mpc}]}$')\n",
    "xlabel4 = ax4.set_xlabel(r'${r_{\\rm p}\\ [{\\rm Mpc}]}$')\n",
    "\n",
    "ylabel1 = ax1.set_ylabel(r'$w_{\\rm p}({r_{\\rm p})\\ [{\\rm Mpc}]}$')\n",
    "ylabel3 = ax3.set_ylabel(r'$w_{\\rm p}({r_{\\rm p})\\ [{\\rm Mpc}]}$')\n",
    "\n",
    "for ax in axes:\n",
    "    leg = ax.legend()\n",
    "    leg.legendHandles[0].set_color('k')\n",
    "    leg.legendHandles[1].set_color('k')\n",
    "    \n",
    "ylim = ax1.set_ylim(1, 4000)\n"
   ]
  },
  {
   "cell_type": "code",
   "execution_count": null,
   "metadata": {},
   "outputs": [],
   "source": [
    "print(mock.keys())"
   ]
  },
  {
   "cell_type": "code",
   "execution_count": null,
   "metadata": {},
   "outputs": [],
   "source": [
    "mask = mock['new_um_mag_r_rest']<-21.5\n",
    "# mask *= mock['is_on_red_sequence_gr'] ==  False\n",
    "# np.count_nonzero(mask)\n",
    "\n",
    "np.mean(mock['is_on_red_sequence_gr'][mask])"
   ]
  },
  {
   "cell_type": "code",
   "execution_count": null,
   "metadata": {},
   "outputs": [],
   "source": []
  },
  {
   "cell_type": "code",
   "execution_count": null,
   "metadata": {},
   "outputs": [],
   "source": []
  },
  {
   "cell_type": "code",
   "execution_count": null,
   "metadata": {},
   "outputs": [],
   "source": []
  },
  {
   "cell_type": "code",
   "execution_count": null,
   "metadata": {},
   "outputs": [],
   "source": []
  }
 ],
 "metadata": {
  "kernelspec": {
   "display_name": "Python [conda root]",
   "language": "python",
   "name": "conda-root-py"
  },
  "language_info": {
   "codemirror_mode": {
    "name": "ipython",
    "version": 2
   },
   "file_extension": ".py",
   "mimetype": "text/x-python",
   "name": "python",
   "nbconvert_exporter": "python",
   "pygments_lexer": "ipython2",
   "version": "2.7.14"
  }
 },
 "nbformat": 4,
 "nbformat_minor": 2
}
