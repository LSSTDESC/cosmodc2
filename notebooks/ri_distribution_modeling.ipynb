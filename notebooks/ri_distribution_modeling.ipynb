{
 "cells": [
  {
   "cell_type": "code",
   "execution_count": 1,
   "metadata": {},
   "outputs": [],
   "source": [
    "%matplotlib inline"
   ]
  },
  {
   "cell_type": "code",
   "execution_count": 2,
   "metadata": {},
   "outputs": [
    {
     "name": "stderr",
     "output_type": "stream",
     "text": [
      "/Users/aphearin/anaconda/lib/python2.7/site-packages/h5py/__init__.py:36: FutureWarning: Conversion of the second argument of issubdtype from `float` to `np.floating` is deprecated. In future, it will be treated as `np.float64 == np.dtype(float).type`.\n",
      "  from ._conv import register_converters as _register_converters\n"
     ]
    },
    {
     "name": "stdout",
     "output_type": "stream",
     "text": [
      "['ra', 'dec', 'z', 'sm', 'ssfr', 'nd', 'restframe_extincted_sdss_abs_magr', 'restframe_extincted_sdss_gr', 'restframe_extincted_sdss_ri', 'size_kpc', 'dr7_PhotoObj_Table_ID', 'sfr_percentile_fixed_sm', 'gr_percentile_fixed_magr']\n"
     ]
    }
   ],
   "source": [
    "from cosmodc2.sdss_colors import load_umachine_processed_sdss_catalog\n",
    "sdss = load_umachine_processed_sdss_catalog()\n",
    "print(sdss.keys())"
   ]
  },
  {
   "cell_type": "code",
   "execution_count": 3,
   "metadata": {},
   "outputs": [],
   "source": [
    "def red_sequence_width(magr, \n",
    "        x=[-22.5, -21, -20, -18, -15], \n",
    "        y=[0.025, 0.03, 0.03, 0.025, 0.025]):\n",
    "#     return np.interp(magr, x, y)\n",
    "    c2, c1, c0 = np.polyfit(x, y, deg=2)\n",
    "    return c0 + c1*magr + c2*magr**2 \n",
    "\n",
    "def main_sequence_width(magr, \n",
    "        x=[-22.5, -21, -20, -18, -15], \n",
    "        y=[0.025, 0.065, 0.065, 0.06, 0.06]):\n",
    "#     return np.interp(magr, x, y)\n",
    "    c2, c1, c0 = np.polyfit(x, y, deg=2)\n",
    "    return c0 + c1*magr + c2*magr**2 \n",
    "\n",
    "def red_sequence_peak(magr, \n",
    "    x=[-22.5, -21, -20, -19.5, -19, -18, -15], \n",
    "    y=[0.435, 0.41, 0.4, 0.385, 0.375, 0.35, 0.31]):\n",
    "#     return np.interp(magr, x, y)\n",
    "    c2, c1, c0 = np.polyfit(x, np.log(y), deg=2)\n",
    "    return np.exp(c0 + c1*magr + c2*magr**2)\n",
    "\n",
    "def main_sequence_peak(magr, \n",
    "    x=[-22.5, -21, -20, -19, -18, -15], \n",
    "    y=[0.4, 0.35, 0.3, 0.25, 0.215, 0.185]):\n",
    "#     return np.interp(magr, x, y)\n",
    "    c2, c1, c0 = np.polyfit(x, np.log(y), deg=2)\n",
    "    return np.exp(c0 + c1*magr + c2*magr**2)\n",
    "\n",
    "def quiescent_fraction(magr,\n",
    "    x=[-22.5, -21, -20, -19.5, -19, -18.5, -18, -15], \n",
    "    y=[0.8, 0.65, 0.60, 0.465, 0.42, 0.35, 0.15, 0.1]):\n",
    "    return np.interp(magr, x, y)\n",
    "#     c3, c2, c1, c0 = np.polyfit(x, np.log(y), deg=3)\n",
    "#     return np.exp(c0 + c1*magr + c2*magr**2, c3*magr**3)\n",
    "\n",
    "from astropy.utils.misc import NumpyRNGContext \n",
    "\n",
    "def r_minus_i(magr, seed=None):\n",
    "    magr = np.atleast_1d(magr)\n",
    "    \n",
    "    ngals = len(magr)    \n",
    "    with NumpyRNGContext(seed):\n",
    "        is_quiescent = np.random.rand(ngals) < quiescent_fraction(magr)\n",
    "        \n",
    "    red_sequence = np.random.normal(\n",
    "        loc=red_sequence_peak(magr[is_quiescent]), \n",
    "        scale=red_sequence_width(magr[is_quiescent]))\n",
    "    star_forming_sequence = np.random.normal(\n",
    "        loc=main_sequence_peak(magr[~is_quiescent]), \n",
    "        scale=main_sequence_width(magr[~is_quiescent]))\n",
    "    \n",
    "    result = np.zeros(ngals).astype('f4')\n",
    "    result[is_quiescent] = red_sequence\n",
    "    result[~is_quiescent] = star_forming_sequence\n",
    "    return result"
   ]
  },
  {
   "cell_type": "code",
   "execution_count": 4,
   "metadata": {},
   "outputs": [
    {
     "data": {
      "text/plain": [
       "0.41723089174860173"
      ]
     },
     "execution_count": 4,
     "metadata": {},
     "output_type": "execute_result"
    }
   ],
   "source": [
    "main_sequence_peak(-22.5)"
   ]
  },
  {
   "cell_type": "code",
   "execution_count": null,
   "metadata": {},
   "outputs": [],
   "source": []
  },
  {
   "cell_type": "code",
   "execution_count": 5,
   "metadata": {},
   "outputs": [
    {
     "data": {
      "image/png": "[encoded data removed]",
      "text/plain": [
       "<matplotlib.figure.Figure at 0x11233ef90>"
      ]
     },
     "metadata": {},
     "output_type": "display_data"
    }
   ],
   "source": [
    "npts = int(1e6)\n",
    "\n",
    "from cosmodc2.sdss_colors.sdss_completeness_model import retrieve_sdss_sample_mask\n",
    "\n",
    "magr_max = -18.5\n",
    "\n",
    "magr_min = magr_max - 0.3\n",
    "mask = retrieve_sdss_sample_mask(sdss['z'], sdss['restframe_extincted_sdss_abs_magr'], \n",
    "                          magr_min, magr_max)\n",
    "sdss_sample_ri = sdss['restframe_extincted_sdss_ri'][mask]\n",
    "\n",
    "r = np.zeros(npts) + magr_max\n",
    "\n",
    "ri = r_minus_i(r)\n",
    "\n",
    "fig, ax = plt.subplots(1, 1)\n",
    "\n",
    "nbins = 45\n",
    "xmin, xmax = -0.1, 0.5\n",
    "bins = np.linspace(xmin, xmax, nbins)\n",
    "__=ax.hist(sdss_sample_ri, bins=bins, alpha=0.8, normed=True)\n",
    "__=ax.hist(ri, bins=bins, alpha=0.8, normed=True, color='red')\n",
    "\n",
    "# ylim = ax.set_ylim(0, 5)\n",
    "xlim = ax.set_xlim(xmin, xmax)"
   ]
  },
  {
   "cell_type": "code",
   "execution_count": null,
   "metadata": {},
   "outputs": [],
   "source": []
  },
  {
   "cell_type": "code",
   "execution_count": null,
   "metadata": {},
   "outputs": [],
   "source": []
  },
  {
   "cell_type": "code",
   "execution_count": 14,
   "metadata": {},
   "outputs": [
    {
     "data": {
      "image/png": "[encoded data removed]",
      "text/plain": [
       "<matplotlib.figure.Figure at 0x11e270dd0>"
      ]
     },
     "metadata": {},
     "output_type": "display_data"
    }
   ],
   "source": [
    "from cosmodc2.sdss_colors.sdss_completeness_model import retrieve_sdss_sample_mask\n",
    "\n",
    "magr_max = -18.\n",
    "magr_min = magr_max - 0.3\n",
    "mask = retrieve_sdss_sample_mask(\n",
    "    sdss['z'], sdss['restframe_extincted_sdss_abs_magr'], magr_min, magr_max)\n",
    "sdss_sample_ri18 = sdss['restframe_extincted_sdss_ri'][mask]\n",
    "ri18 = r_minus_i(np.zeros(npts) + magr_max)\n",
    "\n",
    "magr_max = -19.5\n",
    "magr_min = magr_max - 0.3\n",
    "mask = retrieve_sdss_sample_mask(\n",
    "    sdss['z'], sdss['restframe_extincted_sdss_abs_magr'], magr_min, magr_max)\n",
    "sdss_sample_ri19p5 = sdss['restframe_extincted_sdss_ri'][mask]\n",
    "ri19p5 = r_minus_i(np.zeros(npts) + magr_max)\n",
    "\n",
    "magr_max = -21.\n",
    "magr_min = magr_max - 0.3\n",
    "mask = retrieve_sdss_sample_mask(\n",
    "    sdss['z'], sdss['restframe_extincted_sdss_abs_magr'], magr_min, magr_max)\n",
    "sdss_sample_ri21 = sdss['restframe_extincted_sdss_ri'][mask]\n",
    "ri21 = r_minus_i(np.zeros(npts) + magr_max)\n",
    "\n",
    "magr_max = -22.5\n",
    "magr_min = magr_max - 0.3\n",
    "mask = retrieve_sdss_sample_mask(\n",
    "    sdss['z'], sdss['restframe_extincted_sdss_abs_magr'], magr_min, magr_max)\n",
    "sdss_sample_ri22p5 = sdss['restframe_extincted_sdss_ri'][mask]\n",
    "ri22p5 = r_minus_i(np.zeros(npts) + magr_max)\n",
    "\n",
    "\n",
    "fig, _axes = plt.subplots(2, 2, figsize=(10, 8))\n",
    "\n",
    "((ax1, ax2), (ax3, ax4)) = _axes\n",
    "axes = ax1, ax2, ax3, ax4\n",
    "\n",
    "nbins = 40\n",
    "\n",
    "__=ax1.hist(sdss_sample_ri18, bins=nbins, alpha=0.8, normed=True, label=r'${\\rm SDSS}$')\n",
    "__=ax1.hist(ri18, bins=nbins, alpha=0.8, normed=True, \n",
    "            color='red', label=r'${\\rm protoDC2\\ v4}$')\n",
    "\n",
    "__=ax2.hist(sdss_sample_ri19p5, bins=nbins, alpha=0.8, normed=True, label=r'${\\rm SDSS}$')\n",
    "__=ax2.hist(ri19p5, bins=nbins, alpha=0.8, normed=True, \n",
    "            color='red', label=r'${\\rm protoDC2\\ v4}$')\n",
    "\n",
    "__=ax3.hist(sdss_sample_ri21, bins=nbins, alpha=0.8, normed=True, label=r'${\\rm SDSS}$')\n",
    "__=ax3.hist(ri21, bins=nbins, alpha=0.8, normed=True, \n",
    "            color='red', label=r'${\\rm protoDC2\\ v4}$')\n",
    "\n",
    "__=ax4.hist(sdss_sample_ri22p5, bins=nbins, alpha=0.8, normed=True, label=r'${\\rm SDSS}$')\n",
    "__=ax4.hist(ri22p5, bins=nbins, alpha=0.8, normed=True, \n",
    "            color='red', label=r'${\\rm protoDC2\\ v4}$')\n",
    "\n",
    "for ax in axes:\n",
    "    xlim = ax.set_xlim(-0.1, 0.6)\n",
    "    leg = ax.legend()\n",
    "\n",
    "ax1.set_xticklabels([''])\n",
    "ax2.set_xticklabels([''])\n",
    "title1 = ax1.set_title(r'$M_{\\rm r} \\approx -18$')\n",
    "title2 = ax2.set_title(r'$M_{\\rm r} \\approx -19.5$')\n",
    "title3 = ax3.set_title(r'$M_{\\rm r} \\approx -21$')\n",
    "title4 = ax4.set_title(r'$M_{\\rm r} \\approx -22.5$')\n",
    "xlabel3 = ax3.set_xlabel(r'${\\rm r-i}$')\n",
    "xlabel4 = ax4.set_xlabel(r'${\\rm r-i}$')\n",
    "\n",
    "figname = 'sdss_ri_distribution_vs_pdc2v4.pdf'\n",
    "fig.savefig(figname, bbox_extra_artists=[xlabel3], bbox_inches='tight')"
   ]
  },
  {
   "cell_type": "code",
   "execution_count": 15,
   "metadata": {},
   "outputs": [
    {
     "data": {
      "image/png": "[encoded data removed]",
      "text/plain": [
       "<matplotlib.figure.Figure at 0x11eb6b1d0>"
      ]
     },
     "metadata": {},
     "output_type": "display_data"
    }
   ],
   "source": [
    "npts = int(1e6)\n",
    "\n",
    "fig, ax = plt.subplots(1, 1)\n",
    "\n",
    "nbins = 100\n",
    "__=ax.hist(r_minus_i(np.zeros(npts) + -14), bins=nbins, normed=True, \n",
    "           alpha=0.8, color='purple', label=r'${M_{\\rm r} = -14}$')\n",
    "__=ax.hist(r_minus_i(np.zeros(npts) + -18), bins=nbins, normed=True, \n",
    "           alpha=0.8, color='blue', label=r'${M_{\\rm r} = -18}$')\n",
    "__=ax.hist(r_minus_i(np.zeros(npts) + -20), bins=nbins, normed=True, \n",
    "           alpha=0.8, color='green', label=r'${M_{\\rm r} = -20}$')\n",
    "__=ax.hist(r_minus_i(np.zeros(npts) + -21.5), bins=nbins, normed=True, \n",
    "           alpha=0.8, color='orange', label=r'${M_{\\rm r} = -21.5}$')\n",
    "__=ax.hist(r_minus_i(np.zeros(npts) + -23), bins=nbins, normed=True, \n",
    "           alpha=0.8, color='red', label=r'${M_{\\rm r} = -23}$')\n",
    "\n",
    "xlim = ax.set_xlim(-0., 0.6)\n",
    "legend = ax.legend()\n",
    "xlabel = ax.set_xlabel(r'${\\rm r - i}$')\n",
    "ylabel = ax.set_ylabel(r'${\\rm PDF}$')\n",
    "title = ax.set_title(r'${\\rm protoDC2\\ v4:\\ z=0}$')\n",
    "\n",
    "figname = 'analytical_ri_distribution_pdc2v4.pdf'\n",
    "fig.savefig(figname, bbox_extra_artists=[xlabel, ylabel], bbox_inches='tight')"
   ]
  },
  {
   "cell_type": "code",
   "execution_count": null,
   "metadata": {},
   "outputs": [],
   "source": []
  },
  {
   "cell_type": "code",
   "execution_count": null,
   "metadata": {},
   "outputs": [],
   "source": []
  }
 ],
 "metadata": {
  "kernelspec": {
   "display_name": "Python [conda root]",
   "language": "python",
   "name": "conda-root-py"
  },
  "language_info": {
   "codemirror_mode": {
    "name": "ipython",
    "version": 2
   },
   "file_extension": ".py",
   "mimetype": "text/x-python",
   "name": "python",
   "nbconvert_exporter": "python",
   "pygments_lexer": "ipython2",
   "version": "2.7.14"
  }
 },
 "nbformat": 4,
 "nbformat_minor": 2
}
