{
 "cells": [
  {
   "cell_type": "code",
   "execution_count": 1,
   "metadata": {},
   "outputs": [],
   "source": [
    "%matplotlib inline"
   ]
  },
  {
   "cell_type": "code",
   "execution_count": 2,
   "metadata": {},
   "outputs": [
    {
     "name": "stderr",
     "output_type": "stream",
     "text": [
      "/Users/aphearin/anaconda/lib/python2.7/site-packages/h5py/__init__.py:36: FutureWarning: Conversion of the second argument of issubdtype from `float` to `np.floating` is deprecated. In future, it will be treated as `np.float64 == np.dtype(float).type`.\n",
      "  from ._conv import register_converters as _register_converters\n"
     ]
    },
    {
     "name": "stdout",
     "output_type": "stream",
     "text": [
      "['ra', 'dec', 'z', 'sm', 'ssfr', 'nd', 'restframe_extincted_sdss_abs_magr', 'restframe_extincted_sdss_gr', 'restframe_extincted_sdss_ri', 'size_kpc', 'dr7_PhotoObj_Table_ID', 'sfr_percentile_fixed_sm', 'gr_percentile_fixed_magr']\n"
     ]
    }
   ],
   "source": [
    "from cosmodc2.sdss_colors import load_umachine_processed_sdss_catalog\n",
    "sdss = load_umachine_processed_sdss_catalog()\n",
    "print(sdss.keys())"
   ]
  },
  {
   "cell_type": "code",
   "execution_count": 3,
   "metadata": {},
   "outputs": [
    {
     "name": "stdout",
     "output_type": "stream",
     "text": [
      "['halo_id', 'upid', 'vpeak', 'mpeak', 'mvir', 'vmax', 'sm', 'sfr', 'obs_sm', 'obs_sfr', 'x', 'y', 'z', 'vx', 'vy', 'vz', 'hostid', 'host_halo_x', 'host_halo_y', 'host_halo_z', 'host_halo_vx', 'host_halo_vy', 'host_halo_vz', 'host_halo_mvir', 'host_centric_x', 'host_centric_y', 'host_centric_z', 'host_centric_vx', 'host_centric_vy', 'host_centric_vz', 'obs_sfr_percentile', 'sfr_percentile']\n"
     ]
    }
   ],
   "source": [
    "import os\n",
    "from astropy.table import Table\n",
    "\n",
    "#  MDPL2-based mock\n",
    "dirname = \"/Users/aphearin/work/random/0331\"\n",
    "basename = \"cutmock_1e9.hdf5\"\n",
    "fname = os.path.join(dirname, basename)\n",
    "mock = Table.read(fname, path='data')\n",
    "mock.Lbox = 500.\n",
    "\n",
    "#  Bpl-based mock\n",
    "# dirname = \"/Users/aphearin/work/random/0331\"\n",
    "# basename = \"testing_bpl_based_v4.hdf5\"\n",
    "# fname = os.path.join(dirname, basename)\n",
    "# mock = Table.read(fname, path='data')\n",
    "# mock.Lbox = 250.\n",
    "\n",
    "print(mock.keys())"
   ]
  },
  {
   "cell_type": "markdown",
   "metadata": {},
   "source": [
    "## Map $M_{\\rm r}$ onto every galaxy based on its $M_{\\ast}$ "
   ]
  },
  {
   "cell_type": "code",
   "execution_count": 4,
   "metadata": {},
   "outputs": [],
   "source": [
    "from cosmodc2.sdss_colors import mock_magr\n",
    "\n",
    "mock['restframe_extincted_sdss_abs_magr'] = mock_magr(\n",
    "            mock['upid'], mock['obs_sm'], mock['sfr_percentile'], \n",
    "            mock['host_halo_mvir'], sdss['sm'], sdss['sfr_percentile_fixed_sm'], \n",
    "            sdss['restframe_extincted_sdss_abs_magr'], sdss['z'])\n"
   ]
  },
  {
   "cell_type": "markdown",
   "metadata": {},
   "source": [
    "## Map ${\\rm g-r}$ and ${\\rm r-i}$ onto every galaxy "
   ]
  },
  {
   "cell_type": "code",
   "execution_count": 5,
   "metadata": {},
   "outputs": [],
   "source": [
    "from cosmodc2.sdss_colors import gr_ri_monte_carlo"
   ]
  },
  {
   "cell_type": "code",
   "execution_count": 45,
   "metadata": {},
   "outputs": [],
   "source": [
    "magr = mock['restframe_extincted_sdss_abs_magr'] \n",
    "percentile = mock['sfr_percentile']\n",
    "redshift = np.zeros_like(magr)\n",
    "\n",
    "gr, ri, is_red_ri, is_red_gr = gr_ri_monte_carlo(\n",
    "    magr, percentile, redshift, local_random_scale=0.1, nonlocal_random_fraction=0.05)\n",
    "\n",
    "mock['gr'] = gr\n",
    "mock['ri'] = ri\n",
    "mock['is_red_ri'] = is_red_ri\n",
    "mock['is_red_gr'] = is_red_gr"
   ]
  },
  {
   "cell_type": "code",
   "execution_count": null,
   "metadata": {},
   "outputs": [],
   "source": []
  },
  {
   "cell_type": "markdown",
   "metadata": {},
   "source": [
    "## Inspect cluster halo colors"
   ]
  },
  {
   "cell_type": "code",
   "execution_count": 46,
   "metadata": {},
   "outputs": [],
   "source": [
    "import cosmodc2.sdss_colors.fix_cluster_lf\n",
    "__=reload(cosmodc2.sdss_colors.fix_cluster_lf)\n",
    "_module = cosmodc2.sdss_colors.fix_cluster_lf"
   ]
  },
  {
   "cell_type": "code",
   "execution_count": 47,
   "metadata": {},
   "outputs": [],
   "source": [
    "from cosmodc2.sdss_colors import remap_cluster_bcg_gr_color\n",
    "\n",
    "upid = np.copy(mock['upid'])\n",
    "host_halo_mvir = np.copy(mock['host_halo_mvir'])\n",
    "gr = np.copy(mock['gr'])\n",
    "mock['_gr_no_remap'] = np.copy(gr)\n",
    "mock['gr'] = _module.remap_cluster_bcg_gr_color(upid, host_halo_mvir, gr,\n",
    "                        red_sequence_median=0.95)\n"
   ]
  },
  {
   "cell_type": "code",
   "execution_count": 48,
   "metadata": {},
   "outputs": [
    {
     "data": {
      "image/png": "[encoded data removed]",
      "text/plain": [
       "<matplotlib.figure.Figure at 0x11f04d650>"
      ]
     },
     "metadata": {},
     "output_type": "display_data"
    }
   ],
   "source": [
    "magr_mask = mock['restframe_extincted_sdss_abs_magr'] < -19\n",
    "cenmask = mock['upid'] == -1\n",
    "cluster_halo_mask = mock['host_halo_mvir'] > 10**14\n",
    "\n",
    "\n",
    "fig, ax = plt.subplots(1, 1)\n",
    "\n",
    "# __=ax.hist(mock['gr'][~cenmask & cluster_halo_mask & magr_mask], \n",
    "#                bins=40, normed=True, alpha=0.8, \n",
    "#               label=r'${\\rm satellites:}\\ M_{\\rm halo}>10^{14}M_{\\odot}$')\n",
    "__=ax.hist(mock['_gr_no_remap'][cenmask & cluster_halo_mask & magr_mask], \n",
    "               bins=40, normed=True, alpha=0.8, \n",
    "              label=r'${\\rm centrals:}\\ M_{\\rm halo}>10^{14}M_{\\odot}$')\n",
    "__=ax.hist(mock['gr'][cenmask & cluster_halo_mask & magr_mask], \n",
    "               bins=40, normed=True, alpha=0.8, \n",
    "              label=r'${\\rm modified\\ centrals:}\\ M_{\\rm halo}>10^{14}M_{\\odot}$')\n",
    "\n",
    "legend = ax.legend()\n",
    "\n",
    "# ylim = ax.set_ylim(0, 16)\n",
    "xlabel = ax.set_xlabel(r'${\\rm g-r}$')\n",
    "ylabel = ax.set_ylabel(r'${\\rm PDF}$')"
   ]
  },
  {
   "cell_type": "code",
   "execution_count": null,
   "metadata": {},
   "outputs": [],
   "source": []
  },
  {
   "cell_type": "code",
   "execution_count": null,
   "metadata": {},
   "outputs": [],
   "source": []
  },
  {
   "cell_type": "code",
   "execution_count": null,
   "metadata": {},
   "outputs": [],
   "source": []
  },
  {
   "cell_type": "code",
   "execution_count": null,
   "metadata": {},
   "outputs": [],
   "source": []
  },
  {
   "cell_type": "code",
   "execution_count": null,
   "metadata": {},
   "outputs": [],
   "source": []
  },
  {
   "cell_type": "code",
   "execution_count": null,
   "metadata": {},
   "outputs": [],
   "source": []
  },
  {
   "cell_type": "code",
   "execution_count": null,
   "metadata": {},
   "outputs": [],
   "source": []
  },
  {
   "cell_type": "code",
   "execution_count": null,
   "metadata": {},
   "outputs": [],
   "source": []
  },
  {
   "cell_type": "markdown",
   "metadata": {},
   "source": [
    "## Compare color-dependent clustering to Zehavi+11"
   ]
  },
  {
   "cell_type": "code",
   "execution_count": 36,
   "metadata": {},
   "outputs": [],
   "source": [
    "from cosmodc2.sdss_colors import zehavi11_clustering\n",
    "from cosmodc2.sdss_colors.sdss_measurements import rp as rp_zehavi\n",
    "\n",
    "wp_blue18p5, wperr_blue18p5 = zehavi11_clustering(-18.5, subsample='blue')\n",
    "wp_red18p5, wperr_red18p5 = zehavi11_clustering(-18.5, subsample='red')\n",
    "\n",
    "wp_blue19p0, wperr_blue19p0 = zehavi11_clustering(-19, subsample='blue')\n",
    "wp_red19p0, wperr_red19p0 = zehavi11_clustering(-19, subsample='red')\n",
    "\n",
    "wp_blue19p5, wperr_blue19p5 = zehavi11_clustering(-19.5, subsample='blue')\n",
    "wp_red19p5, wperr_red19p5 = zehavi11_clustering(-19.5, subsample='red')\n",
    "\n",
    "wp_blue20p0, wperr_blue20p0 = zehavi11_clustering(-20, subsample='blue')\n",
    "wp_red20p0, wperr_red20p0 = zehavi11_clustering(-20, subsample='red')\n",
    "\n",
    "wp_blue20p5, wperr_blue20p5 = zehavi11_clustering(-20.5, subsample='blue')\n",
    "wp_red20p5, wperr_red20p5 = zehavi11_clustering(-20.5, subsample='red')\n",
    "\n",
    "wp_blue21p5, wperr_blue21p5 = zehavi11_clustering(-21.5, subsample='blue')\n",
    "wp_red21p5, wperr_red21p5 = zehavi11_clustering(-21.5, subsample='red')\n"
   ]
  },
  {
   "cell_type": "code",
   "execution_count": 34,
   "metadata": {},
   "outputs": [
    {
     "name": "stdout",
     "output_type": "stream",
     "text": [
      "...calculating wp for 4.00e+05 galaxies and Mr < -18.5\n",
      "...calculating wp for 4.01e+05 galaxies and Mr < -18.5\n",
      "...calculating wp for 4.00e+05 galaxies and Mr < -19.0\n",
      "...calculating wp for 4.00e+05 galaxies and Mr < -19.0\n",
      "...calculating wp for 4.00e+05 galaxies and Mr < -19.5\n",
      "...calculating wp for 4.00e+05 galaxies and Mr < -19.5\n",
      "...calculating wp for 1.69e+05 galaxies and Mr < -20.5\n",
      "...calculating wp for 2.50e+05 galaxies and Mr < -20.5\n",
      "...calculating wp for 9.66e+03 galaxies and Mr < -21.5\n",
      "...calculating wp for 3.71e+04 galaxies and Mr < -21.5\n"
     ]
    }
   ],
   "source": [
    "from cosmodc2.mock_diagnostics import zehavi_wp\n",
    "\n",
    "protoDC2_littleh = 0.7\n",
    "\n",
    "period = mock.Lbox\n",
    "x, y, z, vz = mock['x'], mock['y'], mock['z'], mock['vz']\n",
    "magr = mock['restframe_extincted_sdss_abs_magr']\n",
    "\n",
    "rp_mids, wp_v4_18p5_blue = zehavi_wp(x, y, z, vz, \n",
    "            period, magr, -18.5, protoDC2_littleh, \n",
    "            subsample='blue', gr_colors=mock['gr'])\n",
    "\n",
    "rp_mids, wp_v4_18p5_red = zehavi_wp(x, y, z, vz, \n",
    "            period, magr, -18.5, protoDC2_littleh, \n",
    "            subsample='red', gr_colors=mock['gr'])\n",
    "\n",
    "rp_mids, wp_v4_19p0_blue = zehavi_wp(x, y, z, vz, \n",
    "            period, magr, -19.0, protoDC2_littleh, \n",
    "            subsample='blue', gr_colors=mock['gr'])\n",
    "\n",
    "rp_mids, wp_v4_19p0_red = zehavi_wp(x, y, z, vz, \n",
    "            period, magr, -19.0, protoDC2_littleh, \n",
    "            subsample='red', gr_colors=mock['gr'])\n",
    "\n",
    "rp_mids, wp_v4_19p5_blue = zehavi_wp(x, y, z, vz, \n",
    "            period, magr, -19.5, protoDC2_littleh, \n",
    "            subsample='blue', gr_colors=mock['gr'])\n",
    "\n",
    "rp_mids, wp_v4_19p5_red = zehavi_wp(x, y, z, vz, \n",
    "            period, magr, -19.5, protoDC2_littleh, \n",
    "            subsample='red', gr_colors=mock['gr'])\n",
    "\n",
    "rp_mids, wp_v4_20p5_blue = zehavi_wp(x, y, z, vz, \n",
    "            period, magr, -20.5, protoDC2_littleh, \n",
    "            subsample='blue', gr_colors=mock['gr'])\n",
    "\n",
    "rp_mids, wp_v4_20p5_red = zehavi_wp(x, y, z, vz, \n",
    "            period, magr, -20.5, protoDC2_littleh, \n",
    "            subsample='red', gr_colors=mock['gr'])\n",
    "\n",
    "rp_mids, wp_v4_21p5_blue = zehavi_wp(x, y, z, vz, \n",
    "            period, magr, -21.5, protoDC2_littleh, \n",
    "            subsample='blue', gr_colors=mock['gr'])\n",
    "\n",
    "rp_mids, wp_v4_21p5_red = zehavi_wp(x, y, z, vz, \n",
    "            period, magr, -21.5, protoDC2_littleh, \n",
    "            subsample='red', gr_colors=mock['gr'])\n"
   ]
  },
  {
   "cell_type": "code",
   "execution_count": 42,
   "metadata": {},
   "outputs": [
    {
     "data": {
      "image/png": "[encoded data removed]",
      "text/plain": [
       "<matplotlib.figure.Figure at 0x11f0f97d0>"
      ]
     },
     "metadata": {},
     "output_type": "display_data"
    }
   ],
   "source": [
    "fig, _axes = plt.subplots(2, 2, figsize=(10, 8))\n",
    "((ax1, ax2), (ax3, ax4)) = _axes\n",
    "axes = ax1, ax2, ax3, ax4\n",
    "for ax in axes:\n",
    "    __=ax.loglog()\n",
    "\n",
    "__=ax1.errorbar(rp_zehavi, wp_blue19p0, np.sqrt(wperr_blue19p0), fmt='.', color='blue')\n",
    "__=ax1.errorbar(rp_zehavi, wp_red19p0, np.sqrt(wperr_red19p0), fmt='.', color='red')\n",
    "__=ax1.plot(rp_mids, wp_v4_19p0_blue, color='blue')\n",
    "__=ax1.plot(rp_mids, wp_v4_19p0_red, color='red')\n",
    "\n",
    "__=ax2.errorbar(rp_zehavi, wp_blue19p5, np.sqrt(wperr_blue19p5), fmt='.', color='blue')\n",
    "__=ax2.errorbar(rp_zehavi, wp_red19p5, np.sqrt(wperr_red19p5), fmt='.', color='red')\n",
    "__=ax2.plot(rp_mids, wp_v4_19p5_blue, color='blue')\n",
    "__=ax2.plot(rp_mids, wp_v4_19p5_red, color='red')\n",
    "\n",
    "__=ax3.errorbar(rp_zehavi, wp_blue20p5, np.sqrt(wperr_blue20p5), fmt='.', color='blue')\n",
    "__=ax3.errorbar(rp_zehavi, wp_red20p5, np.sqrt(wperr_red20p5), fmt='.', color='red')\n",
    "__=ax3.plot(rp_mids, wp_v4_20p5_blue, color='blue')\n",
    "__=ax3.plot(rp_mids, wp_v4_20p5_red, color='red')\n",
    "\n",
    "__=ax4.errorbar(rp_zehavi, wp_blue21p5, np.sqrt(wperr_blue21p5), fmt='.', color='blue')\n",
    "__=ax4.errorbar(rp_zehavi, wp_red21p5, np.sqrt(wperr_red21p5), fmt='.', color='red')\n",
    "__=ax4.plot(rp_mids, wp_v4_21p5_blue, color='blue')\n",
    "__=ax4.plot(rp_mids, wp_v4_21p5_red, color='red')\n",
    "\n",
    "\n"
   ]
  },
  {
   "cell_type": "code",
   "execution_count": null,
   "metadata": {},
   "outputs": [],
   "source": []
  },
  {
   "cell_type": "code",
   "execution_count": null,
   "metadata": {},
   "outputs": [],
   "source": []
  },
  {
   "cell_type": "code",
   "execution_count": null,
   "metadata": {},
   "outputs": [],
   "source": []
  },
  {
   "cell_type": "code",
   "execution_count": null,
   "metadata": {},
   "outputs": [],
   "source": []
  },
  {
   "cell_type": "code",
   "execution_count": null,
   "metadata": {},
   "outputs": [],
   "source": []
  },
  {
   "cell_type": "code",
   "execution_count": null,
   "metadata": {},
   "outputs": [],
   "source": []
  },
  {
   "cell_type": "code",
   "execution_count": null,
   "metadata": {},
   "outputs": [],
   "source": []
  },
  {
   "cell_type": "code",
   "execution_count": null,
   "metadata": {},
   "outputs": [],
   "source": []
  }
 ],
 "metadata": {
  "kernelspec": {
   "display_name": "Python [conda root]",
   "language": "python",
   "name": "conda-root-py"
  },
  "language_info": {
   "codemirror_mode": {
    "name": "ipython",
    "version": 2
   },
   "file_extension": ".py",
   "mimetype": "text/x-python",
   "name": "python",
   "nbconvert_exporter": "python",
   "pygments_lexer": "ipython2",
   "version": "2.7.14"
  }
 },
 "nbformat": 4,
 "nbformat_minor": 2
}
