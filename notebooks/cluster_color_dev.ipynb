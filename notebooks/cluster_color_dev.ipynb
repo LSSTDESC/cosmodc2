{
 "cells": [
  {
   "cell_type": "code",
   "execution_count": 1,
   "metadata": {},
   "outputs": [],
   "source": [
    "%matplotlib inline"
   ]
  },
  {
   "cell_type": "code",
   "execution_count": 2,
   "metadata": {},
   "outputs": [
    {
     "name": "stderr",
     "output_type": "stream",
     "text": [
      "/Users/aphearin/anaconda/lib/python2.7/site-packages/h5py/__init__.py:36: FutureWarning: Conversion of the second argument of issubdtype from `float` to `np.floating` is deprecated. In future, it will be treated as `np.float64 == np.dtype(float).type`.\n",
      "  from ._conv import register_converters as _register_converters\n"
     ]
    },
    {
     "name": "stdout",
     "output_type": "stream",
     "text": [
      "['ra', 'dec', 'z', 'sm', 'ssfr', 'nd', 'restframe_extincted_sdss_abs_magr', 'restframe_extincted_sdss_gr', 'restframe_extincted_sdss_ri', 'size_kpc', 'dr7_PhotoObj_Table_ID', 'sfr_percentile_fixed_sm', 'gr_percentile_fixed_magr']\n"
     ]
    }
   ],
   "source": [
    "from cosmodc2.sdss_colors import load_umachine_processed_sdss_catalog\n",
    "sdss = load_umachine_processed_sdss_catalog()\n",
    "print(sdss.keys())"
   ]
  },
  {
   "cell_type": "code",
   "execution_count": 3,
   "metadata": {},
   "outputs": [
    {
     "name": "stdout",
     "output_type": "stream",
     "text": [
      "['halo_id', 'upid', 'vpeak', 'mpeak', 'mvir', 'vmax', 'sm', 'sfr', 'obs_sm', 'obs_sfr', 'x', 'y', 'z', 'vx', 'vy', 'vz', 'hostid', 'host_halo_x', 'host_halo_y', 'host_halo_z', 'host_halo_vx', 'host_halo_vy', 'host_halo_vz', 'host_halo_mvir', 'host_centric_x', 'host_centric_y', 'host_centric_z', 'host_centric_vx', 'host_centric_vy', 'host_centric_vz', 'obs_sfr_percentile', 'sfr_percentile']\n"
     ]
    }
   ],
   "source": [
    "import os\n",
    "from astropy.table import Table\n",
    "\n",
    "#  MDPL2-based mock\n",
    "dirname = \"/Users/aphearin/work/random/0331\"\n",
    "basename = \"cutmock_1e9.hdf5\"\n",
    "fname = os.path.join(dirname, basename)\n",
    "mock = Table.read(fname, path='data')\n",
    "mock.Lbox = 500.\n",
    "\n",
    "#  Bpl-based mock\n",
    "# dirname = \"/Users/aphearin/work/random/0331\"\n",
    "# basename = \"testing_bpl_based_v4.hdf5\"\n",
    "# fname = os.path.join(dirname, basename)\n",
    "# mock = Table.read(fname, path='data')\n",
    "# mock.Lbox = 250.\n",
    "\n",
    "print(mock.keys())"
   ]
  },
  {
   "cell_type": "markdown",
   "metadata": {},
   "source": [
    "## Map $M_{\\rm r}$ onto every galaxy based on its $M_{\\ast}$ "
   ]
  },
  {
   "cell_type": "code",
   "execution_count": 4,
   "metadata": {},
   "outputs": [],
   "source": [
    "from cosmodc2.sdss_colors import mock_magr\n",
    "\n",
    "mock['restframe_extincted_sdss_abs_magr'] = mock_magr(\n",
    "            mock['upid'], mock['obs_sm'], mock['sfr_percentile'], \n",
    "            mock['host_halo_mvir'], sdss['sm'], sdss['sfr_percentile_fixed_sm'], \n",
    "            sdss['restframe_extincted_sdss_abs_magr'], sdss['z'])\n"
   ]
  },
  {
   "cell_type": "markdown",
   "metadata": {},
   "source": [
    "## Map ${\\rm g-r}$ and ${\\rm r-i}$ onto every galaxy "
   ]
  },
  {
   "cell_type": "code",
   "execution_count": 6,
   "metadata": {},
   "outputs": [],
   "source": [
    "from cosmodc2.sdss_colors import gr_ri_monte_carlo\n",
    "\n",
    "magr = mock['restframe_extincted_sdss_abs_magr'] \n",
    "percentile = mock['sfr_percentile']\n",
    "redshift = np.zeros_like(magr)\n",
    "\n",
    "gr, ri, is_red_ri, is_red_gr = gr_ri_monte_carlo(\n",
    "    magr, percentile, redshift, local_random_scale=0.1, nonlocal_random_fraction=0.05)\n",
    "\n",
    "mock['gr'] = gr\n",
    "mock['ri'] = ri\n",
    "mock['is_red_ri'] = is_red_ri\n",
    "mock['is_red_gr'] = is_red_gr"
   ]
  },
  {
   "cell_type": "code",
   "execution_count": 17,
   "metadata": {},
   "outputs": [],
   "source": [
    "from cosmodc2.sdss_colors import remap_cluster_bcg_gr_ri_color\n",
    "\n",
    "gr_remapped, ri_remapped = remap_cluster_bcg_gr_ri_color(mock['upid'], mock['host_halo_mvir'], \n",
    "                              np.copy(mock['gr']), np.copy(mock['ri']))\n",
    "\n",
    "mock['_gr_no_remap'] = np.copy(mock['gr'])\n",
    "mock['_ri_no_remap'] = np.copy(mock['ri'])\n",
    "mock['gr'] = gr_remapped\n",
    "mock['ri'] = ri_remapped"
   ]
  },
  {
   "cell_type": "code",
   "execution_count": null,
   "metadata": {},
   "outputs": [],
   "source": []
  },
  {
   "cell_type": "code",
   "execution_count": null,
   "metadata": {},
   "outputs": [],
   "source": []
  },
  {
   "cell_type": "markdown",
   "metadata": {},
   "source": [
    "## Inspect cluster halo colors"
   ]
  },
  {
   "cell_type": "code",
   "execution_count": 18,
   "metadata": {},
   "outputs": [
    {
     "data": {
      "image/png": "[encoded data removed]",
      "text/plain": [
       "<matplotlib.figure.Figure at 0x117ee3f10>"
      ]
     },
     "metadata": {},
     "output_type": "display_data"
    }
   ],
   "source": [
    "magr_mask = mock['restframe_extincted_sdss_abs_magr'] < -19\n",
    "cenmask = mock['upid'] == -1\n",
    "cluster_halo_mask = mock['host_halo_mvir'] > 10**14\n",
    "\n",
    "fig, ax = plt.subplots(1, 1)\n",
    "\n",
    "nbins = 80\n",
    "# __=ax.hist(mock['gr'][~cenmask & cluster_halo_mask & magr_mask], \n",
    "#                bins=nbins, normed=True, alpha=0.8, \n",
    "#               label=r'${\\rm satellites}$')\n",
    "__=ax.hist(mock['_gr_no_remap'][cenmask & cluster_halo_mask & magr_mask], \n",
    "               bins=nbins, normed=True, alpha=0.8, \n",
    "              label=r'${\\rm v3\\ centrals}$')\n",
    "__=ax.hist(mock['gr'][cenmask & cluster_halo_mask & magr_mask], \n",
    "               bins=nbins, normed=True, alpha=0.8, \n",
    "              label=r'${\\rm v4\\ centrals}$')\n",
    "\n",
    "legend = ax.legend()\n",
    "\n",
    "# ylim = ax.set_ylim(0, 16)\n",
    "xlim = ax.set_xlim(0.25, 1.2)\n",
    "xlabel = ax.set_xlabel(r'${\\rm g-r}$')\n",
    "ylabel = ax.set_ylabel(r'${\\rm PDF}$')\n",
    "\n",
    "_title = r'$M_{\\rm r} < -19;\\ M_{\\rm halo}>10^{14}M_{\\odot}; z=0$'\n",
    "title = ax.set_title(_title)"
   ]
  },
  {
   "cell_type": "code",
   "execution_count": 28,
   "metadata": {},
   "outputs": [
    {
     "data": {
      "image/png": "[encoded data removed]",
      "text/plain": [
       "<matplotlib.figure.Figure at 0x11a3f4f10>"
      ]
     },
     "metadata": {},
     "output_type": "display_data"
    }
   ],
   "source": [
    "fig, ax = plt.subplots(1, 1)\n",
    "\n",
    "# __=ax.scatter(mock['gr'][cenmask & cluster_halo_mask & magr_mask],\n",
    "#               mock['ri'][cenmask & cluster_halo_mask & magr_mask], s=0.1, \n",
    "#               label=r'${\\rm v3\\ centrals}$', color='red')\n",
    "\n",
    "__=ax.scatter(mock['_gr_no_remap'][cenmask & cluster_halo_mask & magr_mask],\n",
    "              mock['_ri_no_remap'][cenmask & cluster_halo_mask & magr_mask], s=0.25, \n",
    "              label=r'${\\rm v3\\ centrals}$')\n",
    "\n",
    "__=ax.scatter(mock['gr'][cenmask & cluster_halo_mask & magr_mask],\n",
    "              mock['ri'][cenmask & cluster_halo_mask & magr_mask], s=0.25, \n",
    "              label=r'${\\rm v4\\ centrals}$')\n",
    "\n",
    "xlim = ax.set_xlim(0., 1.25)\n",
    "ylim = ax.set_ylim(0., 0.6)\n",
    "xlabel = ax.set_xlabel(r'${\\rm g-r}$')\n",
    "ylabel = ax.set_ylabel(r'${\\rm r-i}$')\n",
    "_title = r'$M_{\\rm r} < -19;\\ M_{\\rm halo}>10^{14}M_{\\odot}; z=0$'\n",
    "title = ax.set_title(_title)"
   ]
  },
  {
   "cell_type": "code",
   "execution_count": null,
   "metadata": {},
   "outputs": [],
   "source": []
  },
  {
   "cell_type": "code",
   "execution_count": null,
   "metadata": {},
   "outputs": [],
   "source": [
    "magr_mask = mock['restframe_extincted_sdss_abs_magr'] < -19\n",
    "cenmask = mock['upid'] == -1\n",
    "cluster_halo_mask = mock['host_halo_mvir'] > 10**14\n",
    "\n",
    "fig, ax = plt.subplots(1, 1)\n",
    "\n",
    "nbins = 80\n",
    "__=ax.hist(mock['gr'][~cenmask & cluster_halo_mask & magr_mask], \n",
    "               bins=nbins, normed=True, alpha=0.8, \n",
    "              label=r'${\\rm satellites}$')\n",
    "__=ax.hist(mock['_gr_no_remap'][cenmask & cluster_halo_mask & magr_mask], \n",
    "               bins=nbins, normed=True, alpha=0.8, \n",
    "              label=r'${\\rm v3\\ centrals}$')\n",
    "__=ax.hist(mock['gr'][cenmask & cluster_halo_mask & magr_mask], \n",
    "               bins=nbins, normed=True, alpha=0.8, \n",
    "              label=r'${\\rm centrals}$')\n",
    "\n",
    "legend = ax.legend()\n",
    "\n",
    "# ylim = ax.set_ylim(0, 16)\n",
    "xlim = ax.set_xlim(0.25, 1.2)\n",
    "xlabel = ax.set_xlabel(r'${\\rm g-r}$')\n",
    "ylabel = ax.set_ylabel(r'${\\rm PDF}$')\n",
    "\n",
    "_title = r'$M_{\\rm r} < -19;\\ M_{\\rm halo}>10^{14}M_{\\odot}; z=0$'\n",
    "title = ax.set_title(_title)"
   ]
  },
  {
   "cell_type": "code",
   "execution_count": null,
   "metadata": {},
   "outputs": [],
   "source": []
  },
  {
   "cell_type": "code",
   "execution_count": null,
   "metadata": {},
   "outputs": [],
   "source": [
    "print(sdss.keys())\n",
    "\n",
    "mask = sdss['restframe_extincted_sdss_abs_magr'] < -22\n",
    "\n",
    "fig, ax = plt.subplots(1, 1)\n",
    "\n",
    "__=ax.hist(sdss['restframe_extincted_sdss_ri'][mask], bins=100, normed=True)\n",
    "histmax = __[0].max()\n",
    "center = 0.44\n",
    "__=ax.plot(np.zeros(100) + center, np.linspace(0, histmax, 100), '--', color='k')\n",
    "xlim = ax.set_xlim(0, 0.75)"
   ]
  },
  {
   "cell_type": "code",
   "execution_count": null,
   "metadata": {},
   "outputs": [],
   "source": []
  },
  {
   "cell_type": "code",
   "execution_count": null,
   "metadata": {},
   "outputs": [],
   "source": [
    "from scipy.linalg import eigh\n",
    "from scipy.stats import norm\n",
    "\n",
    "def cluster_bcg_red_sequence(num_samples, gr_median, ri_median, scatter):\n",
    "    \"\"\"\n",
    "    \"\"\"\n",
    "    cov = np.array([\n",
    "            [5.50, 1.50],\n",
    "            [1.50,  1.25]\n",
    "        ])\n",
    "    cov = (scatter**2)*cov/np.linalg.det(cov)\n",
    "\n",
    "    # We need a matrix `c` for which `c*c^T = cov`.  \n",
    "    # Construct c, so c*c^T = cov.\n",
    "    evals, evecs = eigh(cov)\n",
    "    c = np.dot(evecs, np.diag(np.sqrt(evals)))\n",
    "\n",
    "    # Generate samples from independent normally distributed random\n",
    "    # variables (with mean 0 and std. dev. 1).\n",
    "    x = norm.rvs(size=(2, num_samples))\n",
    "\n",
    "    # Convert the data to correlated random variables. \n",
    "    y = np.dot(c, x)\n",
    "    gr, ri = y[0] + gr_median, y[1] + ri_median\n",
    "    return gr, ri\n"
   ]
  },
  {
   "cell_type": "code",
   "execution_count": null,
   "metadata": {},
   "outputs": [],
   "source": [
    "\n"
   ]
  },
  {
   "cell_type": "code",
   "execution_count": null,
   "metadata": {},
   "outputs": [],
   "source": []
  },
  {
   "cell_type": "code",
   "execution_count": null,
   "metadata": {},
   "outputs": [],
   "source": []
  },
  {
   "cell_type": "code",
   "execution_count": null,
   "metadata": {},
   "outputs": [],
   "source": []
  },
  {
   "cell_type": "code",
   "execution_count": null,
   "metadata": {},
   "outputs": [],
   "source": []
  },
  {
   "cell_type": "code",
   "execution_count": null,
   "metadata": {},
   "outputs": [],
   "source": [
    "from scipy.linalg import eigh\n",
    "from scipy.stats import norm\n",
    "\n",
    "gr_red_sequence_median=0.95\n",
    "gr_red_sequence_scatter=0.04\n",
    "ri_red_sequence_median=0.44\n",
    "ri_red_sequence_scatter=0.03\n",
    "\n",
    "num_samples = int(1e4)\n",
    "\n",
    "cov = np.array([\n",
    "        [5.50, 1.50],\n",
    "        [1.50,  1.25]\n",
    "    ])\n",
    "scatter = 0.05\n",
    "cov = (scatter**2)*cov/np.linalg.det(cov)\n",
    "\n",
    "# Generate samples from three independent normally distributed random\n",
    "# variables (with mean 0 and std. dev. 1).\n",
    "x = norm.rvs(size=(cov.shape[0], num_samples))\n",
    "\n",
    "# We need a matrix `c` for which `c*c^T = cov`.  \n",
    "# We can construct `c` from the eigenvectors and eigenvalues.\n",
    "evals, evecs = eigh(cov)\n",
    "# Construct c, so c*c^T = cov.\n",
    "c = np.dot(evecs, np.diag(np.sqrt(evals)))\n",
    "\n",
    "# Convert the data to correlated random variables. \n",
    "y = np.dot(c, x)\n",
    "gr, ri = y[0] + gr_red_sequence_median, y[1] + ri_red_sequence_median\n",
    "\n",
    "\n",
    "fig, ax = plt.subplots(1, 1)\n",
    "\n",
    "__=ax.scatter(gr, ri, s=0.1)\n",
    "# __=ax.scatter(gr, ri_new, s=0.1)\n",
    "\n",
    "xlim = ax.set_xlim(0., 1.2)\n",
    "ylim = ax.set_ylim(0.25, 0.7)\n",
    "\n",
    "xlabel = ax.set_xlabel(r'${\\rm g-r}$')\n",
    "ylabel = ax.set_ylabel(r'${\\rm r-i}$')"
   ]
  },
  {
   "cell_type": "code",
   "execution_count": null,
   "metadata": {},
   "outputs": [],
   "source": [
    "np.std(ri)"
   ]
  },
  {
   "cell_type": "code",
   "execution_count": null,
   "metadata": {},
   "outputs": [],
   "source": []
  },
  {
   "cell_type": "code",
   "execution_count": null,
   "metadata": {},
   "outputs": [],
   "source": []
  },
  {
   "cell_type": "code",
   "execution_count": null,
   "metadata": {},
   "outputs": [],
   "source": [
    "x = norm.rvs(size=(cov.shape[0], num_samples), random_state=43)\n",
    "x2 = norm.rvs(size=(cov.shape[0], num_samples), random_state=43)\n"
   ]
  },
  {
   "cell_type": "code",
   "execution_count": null,
   "metadata": {},
   "outputs": [],
   "source": [
    "evec1 = np.array((1., 0.))\n",
    "scatter_gr, scatter_ri = 0.04, 0.04\n",
    "eval1, eval2 = scatter_gr**2, scatter_ri**2\n",
    "\n",
    "evec1 /= np.sqrt((np.sum(evec1**2)))\n",
    "evec2 = np.array((-evec1[1], evec1[0]))\n",
    "evecs = np.array([evec1, evec2])\n",
    "evals = np.array((eval1, eval2))\n",
    "c = np.dot(evecs, np.diag(np.sqrt(evals)))\n",
    "\n",
    "cov = np.dot(c, c.T)\n",
    "\n",
    "num_samples = int(1e4)\n",
    "x = norm.rvs(size=(cov.shape[0], num_samples), random_state=43)\n",
    "\n",
    "y = np.dot(c, x)\n",
    "gr, ri = y[0] + gr_red_sequence_median, y[1] + ri_red_sequence_median\n",
    "\n",
    "fig, ax = plt.subplots(1, 1)\n",
    "\n",
    "__=ax.scatter(gr, ri, s=0.1)\n",
    "# __=ax.scatter(gr, ri_new, s=0.1)\n",
    "\n",
    "xlim = ax.set_xlim(0., 1.2)\n",
    "ylim = ax.set_ylim(0.25, 0.7)\n",
    "\n",
    "xlabel = ax.set_xlabel(r'${\\rm g-r}$')\n",
    "ylabel = ax.set_ylabel(r'${\\rm r-i}$')"
   ]
  },
  {
   "cell_type": "code",
   "execution_count": null,
   "metadata": {},
   "outputs": [],
   "source": [
    "np.std(gr)"
   ]
  },
  {
   "cell_type": "code",
   "execution_count": null,
   "metadata": {},
   "outputs": [],
   "source": [
    "np.sqrt(scatter_gr**2. + scatter_ri**2.)"
   ]
  },
  {
   "cell_type": "code",
   "execution_count": null,
   "metadata": {},
   "outputs": [],
   "source": []
  },
  {
   "cell_type": "code",
   "execution_count": null,
   "metadata": {},
   "outputs": [],
   "source": [
    "from halotools.empirical_models import conditional_abunmatch\n",
    "nwin = 201\n",
    "ngals = len(gr)\n",
    "uran = np.random.rand(ngals)\n",
    "\n",
    "noise = np.random.normal(loc=ri, scale=0.1)\n",
    "ri_new = conditional_abunmatch(uran, gr + noise, uran, ri, nwin)"
   ]
  },
  {
   "cell_type": "code",
   "execution_count": null,
   "metadata": {},
   "outputs": [],
   "source": [
    "fig, ax = plt.subplots(1, 1)\n",
    "\n",
    "__=ax.scatter(gr, ri, s=0.1)\n",
    "__=ax.scatter(gr, ri_new, s=0.1)\n",
    "\n",
    "# xlim = ax.set_xlim(0., 1.2)\n",
    "# ylim = ax.set_ylim(0.25, 0.7)\n",
    "\n",
    "xlabel = ax.set_xlabel(r'${\\rm g-r}$')\n",
    "ylabel = ax.set_ylabel(r'${\\rm r-i}$')"
   ]
  },
  {
   "cell_type": "code",
   "execution_count": null,
   "metadata": {},
   "outputs": [],
   "source": [
    "# scatter = 0.04\n",
    "# cov = (scatter**2)*cov/np.linalg.det(cov)\n",
    "# evals, evecs = eigh(cov)\n"
   ]
  },
  {
   "cell_type": "code",
   "execution_count": null,
   "metadata": {},
   "outputs": [],
   "source": [
    "from scipy.linalg import eigh\n",
    "\n",
    "cov = np.array([\n",
    "        [5.50, 1.50],\n",
    "        [1.50,  1.25]\n",
    "    ])\n",
    "\n",
    "evals, evecs = eigh(cov)\n",
    " \n",
    "\n",
    "# evals = np.array([0.77391849, 5.97608151])\n",
    "# evecs = np.array([[ 0.30251623, -0.95314423], [-0.95314423, -0.30251623]])\n",
    "\n",
    "# # evecs = np.array(((1, 0), (0, 1)))\n",
    "# # evals = np.array((3, 0.5))\n",
    "\n",
    "# # # Construct c, so c*c^T = cov.\n",
    "c = np.dot(evecs, np.diag(np.sqrt(evals)))\n",
    "\n",
    "cov2 = np.dot(c, c.T)\n",
    "\n",
    "print(cov)\n",
    "print(cov2)\n",
    "# evals2, evecs2 = eigh(cov2)\n",
    "# evals2b, evecs2b = eigh(cov2b)"
   ]
  },
  {
   "cell_type": "code",
   "execution_count": null,
   "metadata": {},
   "outputs": [],
   "source": []
  },
  {
   "cell_type": "code",
   "execution_count": null,
   "metadata": {},
   "outputs": [],
   "source": [
    "print(evecs)\n",
    "print(evecs2)"
   ]
  },
  {
   "cell_type": "code",
   "execution_count": null,
   "metadata": {},
   "outputs": [],
   "source": []
  },
  {
   "cell_type": "code",
   "execution_count": null,
   "metadata": {},
   "outputs": [],
   "source": []
  },
  {
   "cell_type": "code",
   "execution_count": null,
   "metadata": {},
   "outputs": [],
   "source": []
  },
  {
   "cell_type": "markdown",
   "metadata": {},
   "source": [
    "## Compare color-dependent clustering to Zehavi+11"
   ]
  },
  {
   "cell_type": "code",
   "execution_count": null,
   "metadata": {},
   "outputs": [],
   "source": [
    "from cosmodc2.sdss_colors import zehavi11_clustering\n",
    "from cosmodc2.sdss_colors.sdss_measurements import rp as rp_zehavi\n",
    "\n",
    "wp_blue18p5, wperr_blue18p5 = zehavi11_clustering(-18.5, subsample='blue')\n",
    "wp_red18p5, wperr_red18p5 = zehavi11_clustering(-18.5, subsample='red')\n",
    "\n",
    "wp_blue19p0, wperr_blue19p0 = zehavi11_clustering(-19, subsample='blue')\n",
    "wp_red19p0, wperr_red19p0 = zehavi11_clustering(-19, subsample='red')\n",
    "\n",
    "wp_blue19p5, wperr_blue19p5 = zehavi11_clustering(-19.5, subsample='blue')\n",
    "wp_red19p5, wperr_red19p5 = zehavi11_clustering(-19.5, subsample='red')\n",
    "\n",
    "wp_blue20p0, wperr_blue20p0 = zehavi11_clustering(-20, subsample='blue')\n",
    "wp_red20p0, wperr_red20p0 = zehavi11_clustering(-20, subsample='red')\n",
    "\n",
    "wp_blue20p5, wperr_blue20p5 = zehavi11_clustering(-20.5, subsample='blue')\n",
    "wp_red20p5, wperr_red20p5 = zehavi11_clustering(-20.5, subsample='red')\n",
    "\n",
    "wp_blue21p5, wperr_blue21p5 = zehavi11_clustering(-21.5, subsample='blue')\n",
    "wp_red21p5, wperr_red21p5 = zehavi11_clustering(-21.5, subsample='red')\n"
   ]
  },
  {
   "cell_type": "code",
   "execution_count": null,
   "metadata": {},
   "outputs": [],
   "source": [
    "from cosmodc2.mock_diagnostics import zehavi_wp\n",
    "\n",
    "protoDC2_littleh = 0.7\n",
    "\n",
    "period = mock.Lbox\n",
    "x, y, z, vz = mock['x'], mock['y'], mock['z'], mock['vz']\n",
    "magr = mock['restframe_extincted_sdss_abs_magr']\n",
    "\n",
    "rp_mids, wp_v4_18p5_blue = zehavi_wp(x, y, z, vz, \n",
    "            period, magr, -18.5, protoDC2_littleh, \n",
    "            subsample='blue', gr_colors=mock['gr'])\n",
    "\n",
    "rp_mids, wp_v4_18p5_red = zehavi_wp(x, y, z, vz, \n",
    "            period, magr, -18.5, protoDC2_littleh, \n",
    "            subsample='red', gr_colors=mock['gr'])\n",
    "\n",
    "rp_mids, wp_v4_19p0_blue = zehavi_wp(x, y, z, vz, \n",
    "            period, magr, -19.0, protoDC2_littleh, \n",
    "            subsample='blue', gr_colors=mock['gr'])\n",
    "\n",
    "rp_mids, wp_v4_19p0_red = zehavi_wp(x, y, z, vz, \n",
    "            period, magr, -19.0, protoDC2_littleh, \n",
    "            subsample='red', gr_colors=mock['gr'])\n",
    "\n",
    "rp_mids, wp_v4_19p5_blue = zehavi_wp(x, y, z, vz, \n",
    "            period, magr, -19.5, protoDC2_littleh, \n",
    "            subsample='blue', gr_colors=mock['gr'])\n",
    "\n",
    "rp_mids, wp_v4_19p5_red = zehavi_wp(x, y, z, vz, \n",
    "            period, magr, -19.5, protoDC2_littleh, \n",
    "            subsample='red', gr_colors=mock['gr'])\n",
    "\n",
    "rp_mids, wp_v4_20p5_blue = zehavi_wp(x, y, z, vz, \n",
    "            period, magr, -20.5, protoDC2_littleh, \n",
    "            subsample='blue', gr_colors=mock['gr'])\n",
    "\n",
    "rp_mids, wp_v4_20p5_red = zehavi_wp(x, y, z, vz, \n",
    "            period, magr, -20.5, protoDC2_littleh, \n",
    "            subsample='red', gr_colors=mock['gr'])\n",
    "\n",
    "rp_mids, wp_v4_21p5_blue = zehavi_wp(x, y, z, vz, \n",
    "            period, magr, -21.5, protoDC2_littleh, \n",
    "            subsample='blue', gr_colors=mock['gr'])\n",
    "\n",
    "rp_mids, wp_v4_21p5_red = zehavi_wp(x, y, z, vz, \n",
    "            period, magr, -21.5, protoDC2_littleh, \n",
    "            subsample='red', gr_colors=mock['gr'])\n"
   ]
  },
  {
   "cell_type": "code",
   "execution_count": null,
   "metadata": {},
   "outputs": [],
   "source": [
    "fig, _axes = plt.subplots(2, 2, figsize=(10, 8))\n",
    "((ax1, ax2), (ax3, ax4)) = _axes\n",
    "axes = ax1, ax2, ax3, ax4\n",
    "for ax in axes:\n",
    "    __=ax.loglog()\n",
    "\n",
    "__=ax1.errorbar(rp_zehavi, wp_blue19p0, np.sqrt(wperr_blue19p0), fmt='.', color='blue')\n",
    "__=ax1.errorbar(rp_zehavi, wp_red19p0, np.sqrt(wperr_red19p0), fmt='.', color='red')\n",
    "__=ax1.plot(rp_mids, wp_v4_19p0_blue, color='blue')\n",
    "__=ax1.plot(rp_mids, wp_v4_19p0_red, color='red')\n",
    "\n",
    "__=ax2.errorbar(rp_zehavi, wp_blue19p5, np.sqrt(wperr_blue19p5), fmt='.', color='blue')\n",
    "__=ax2.errorbar(rp_zehavi, wp_red19p5, np.sqrt(wperr_red19p5), fmt='.', color='red')\n",
    "__=ax2.plot(rp_mids, wp_v4_19p5_blue, color='blue')\n",
    "__=ax2.plot(rp_mids, wp_v4_19p5_red, color='red')\n",
    "\n",
    "__=ax3.errorbar(rp_zehavi, wp_blue20p5, np.sqrt(wperr_blue20p5), fmt='.', color='blue')\n",
    "__=ax3.errorbar(rp_zehavi, wp_red20p5, np.sqrt(wperr_red20p5), fmt='.', color='red')\n",
    "__=ax3.plot(rp_mids, wp_v4_20p5_blue, color='blue')\n",
    "__=ax3.plot(rp_mids, wp_v4_20p5_red, color='red')\n",
    "\n",
    "__=ax4.errorbar(rp_zehavi, wp_blue21p5, np.sqrt(wperr_blue21p5), fmt='.', color='blue')\n",
    "__=ax4.errorbar(rp_zehavi, wp_red21p5, np.sqrt(wperr_red21p5), fmt='.', color='red')\n",
    "__=ax4.plot(rp_mids, wp_v4_21p5_blue, color='blue')\n",
    "__=ax4.plot(rp_mids, wp_v4_21p5_red, color='red')\n",
    "\n",
    "\n"
   ]
  },
  {
   "cell_type": "code",
   "execution_count": null,
   "metadata": {},
   "outputs": [],
   "source": []
  },
  {
   "cell_type": "code",
   "execution_count": null,
   "metadata": {},
   "outputs": [],
   "source": []
  },
  {
   "cell_type": "code",
   "execution_count": null,
   "metadata": {},
   "outputs": [],
   "source": []
  },
  {
   "cell_type": "code",
   "execution_count": null,
   "metadata": {},
   "outputs": [],
   "source": []
  },
  {
   "cell_type": "code",
   "execution_count": null,
   "metadata": {},
   "outputs": [],
   "source": []
  },
  {
   "cell_type": "code",
   "execution_count": null,
   "metadata": {},
   "outputs": [],
   "source": []
  },
  {
   "cell_type": "code",
   "execution_count": null,
   "metadata": {},
   "outputs": [],
   "source": []
  },
  {
   "cell_type": "code",
   "execution_count": null,
   "metadata": {},
   "outputs": [],
   "source": []
  }
 ],
 "metadata": {
  "kernelspec": {
   "display_name": "Python [conda root]",
   "language": "python",
   "name": "conda-root-py"
  },
  "language_info": {
   "codemirror_mode": {
    "name": "ipython",
    "version": 2
   },
   "file_extension": ".py",
   "mimetype": "text/x-python",
   "name": "python",
   "nbconvert_exporter": "python",
   "pygments_lexer": "ipython2",
   "version": "2.7.14"
  }
 },
 "nbformat": 4,
 "nbformat_minor": 2
}
