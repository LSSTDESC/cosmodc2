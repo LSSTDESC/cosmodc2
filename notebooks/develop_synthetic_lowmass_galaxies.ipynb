{
 "cells": [
  {
   "cell_type": "code",
   "execution_count": 2,
   "metadata": {},
   "outputs": [
    {
     "name": "stdout",
     "output_type": "stream",
     "text": [
      "['ra', 'dec', 'z', 'sm', 'ssfr', 'nd', 'restframe_extincted_sdss_abs_magr', 'restframe_extincted_sdss_gr', 'restframe_extincted_sdss_ri', 'size_kpc', 'dr7_PhotoObj_Table_ID', 'sfr_percentile_fixed_sm', 'gr_percentile_fixed_magr']\n"
     ]
    }
   ],
   "source": [
    "%matplotlib inline\n",
    "morange = u'#ff7f0e'\n",
    "mblue = u'#1f77b4'\n",
    "mgreen = u'#2ca02c'\n",
    "mred = u'#d62728'\n",
    "mpurple = u'#9467bd'\n",
    "import h5py\n",
    "\n",
    "from cosmodc2.sdss_colors import load_umachine_processed_sdss_catalog\n",
    "sdss = load_umachine_processed_sdss_catalog()\n",
    "print(sdss.keys())\n",
    "sdss = sdss[sdss['z'] < 0.07]"
   ]
  },
  {
   "cell_type": "code",
   "execution_count": 3,
   "metadata": {},
   "outputs": [],
   "source": [
    "import os\n",
    "snapnum = 247\n",
    "dirname = \"/Volumes/simulation_data_2018/protoDC2_v4p11\"\n",
    "mpeak = np.load(os.path.join(dirname, 'mpeak_{0}_v4p11.npy'.format(snapnum)))\n",
    "mstar = np.load(os.path.join(dirname, 'obs_sm_{0}_v4p11.npy'.format(snapnum)))\n",
    "magr = np.load(os.path.join(dirname, 'magr_{0}_v4p11.npy'.format(snapnum)))\n"
   ]
  },
  {
   "cell_type": "markdown",
   "metadata": {},
   "source": [
    "## Extend $M_{\\rm peak}$ beyond resolution limit"
   ]
  },
  {
   "cell_type": "code",
   "execution_count": 4,
   "metadata": {},
   "outputs": [],
   "source": [
    "from cosmodc2.synthetic_subhalos import model_extended_mpeak\n",
    "corrected_mpeak, mpeak_extension = model_extended_mpeak(mpeak, 9.5)\n",
    "new_mpeak = np.concatenate((corrected_mpeak, mpeak_extension))"
   ]
  },
  {
   "cell_type": "markdown",
   "metadata": {},
   "source": [
    "## Remap $M_{\\star}$ based on new subhalo masses"
   ]
  },
  {
   "cell_type": "code",
   "execution_count": null,
   "metadata": {},
   "outputs": [],
   "source": [
    "low, high = 11, 11.5\n",
    "mid = 0.5*(low + high)\n",
    "mask = (mpeak >= 10**low) & (mpeak < 10**high)\n",
    "c1, c0 = np.polyfit(\n",
    "    np.random.normal(loc=np.log10(mpeak[mask])-mid, scale=0.002), np.log10(mstar[mask]), deg=1)\n",
    "\n",
    "low_mass_slope_boost = 0.25\n",
    "new_median_logsm = c0 + (c1-low_mass_slope_boost)*(np.log10(new_mpeak)-mid)\n",
    "new_mstar_lowmass = 10**np.random.normal(loc=new_median_logsm, scale=0.4)\n",
    "\n",
    "\n",
    "logmtrans_low, logmtrans_high = 10.8, 11.2\n",
    "reassign_mstar_prob = np.interp(np.log10(new_mpeak), [logmtrans_low, logmtrans_high], [1, 0])\n",
    "reassign_mstar_mask = np.random.rand(len(new_mpeak)) < reassign_mstar_prob\n",
    "new_mstar = np.zeros_like(new_mpeak)\n",
    "new_mstar[:len(mpeak)] = mstar\n",
    "new_mstar[reassign_mstar_mask] = new_mstar_lowmass[reassign_mstar_mask]\n"
   ]
  },
  {
   "cell_type": "code",
   "execution_count": 6,
   "metadata": {},
   "outputs": [
    {
     "data": {
      "image/png": "[encoded data removed]",
      "text/plain": [
       "<matplotlib.figure.Figure at 0x10e6c9990>"
      ]
     },
     "metadata": {},
     "output_type": "display_data"
    }
   ],
   "source": [
    "\n",
    "sm_bins = np.logspace(5.5, 12, 100)\n",
    "\n",
    "fig, ax = plt.subplots(1, 1)\n",
    "__=ax.loglog()\n",
    "__=ax.hist(mstar, bins=sm_bins, alpha=0.8, color=mblue)\n",
    "__=ax.hist(new_mstar, bins=sm_bins, alpha=0.8, color=morange)\n",
    "__=ax.plot(np.zeros(100) + 10**6, np.logspace(-2, 10, 100), ':', color='k')\n",
    "xlim = ax.set_xlim(1e5, 1e12)\n",
    "ylim = ax.set_ylim(1, 2e6)\n"
   ]
  },
  {
   "cell_type": "markdown",
   "metadata": {},
   "source": [
    "## Remap $M_{\\rm r}$ based on new $M_{\\star}$"
   ]
  },
  {
   "cell_type": "code",
   "execution_count": 15,
   "metadata": {},
   "outputs": [],
   "source": [
    "from cosmodc2.sdss_colors.sigmoid_magr_model import magr_monte_carlo\n",
    "\n",
    "new_magr_z0p0 = magr_monte_carlo(new_mstar, -np.ones_like(new_mstar), np.zeros_like(new_mstar) + 0)\n",
    "new_magr_z0p5 = magr_monte_carlo(new_mstar, -np.ones_like(new_mstar), np.zeros_like(new_mstar) + 0.5)\n",
    "new_magr_z0p75 = magr_monte_carlo(new_mstar, -np.ones_like(new_mstar), np.zeros_like(new_mstar) + 0.75)\n",
    "new_magr_z1p0 = magr_monte_carlo(new_mstar, -np.ones_like(new_mstar), np.zeros_like(new_mstar) + 1)"
   ]
  },
  {
   "cell_type": "code",
   "execution_count": 20,
   "metadata": {},
   "outputs": [
    {
     "data": {
      "image/png": "[encoded data removed]",
      "text/plain": [
       "<matplotlib.figure.Figure at 0x116722c90>"
      ]
     },
     "metadata": {},
     "output_type": "display_data"
    }
   ],
   "source": [
    "magr_bins = np.linspace(-24, -10, 100)\n",
    "\n",
    "fig, ax = plt.subplots(1, 1)\n",
    "yscale = ax.set_yscale('log')\n",
    "__=ax.hist(new_magr_z0p0, bins=magr_bins, alpha=0.8, color=mblue)\n",
    "__=ax.hist(new_magr_z0p5, bins=magr_bins, alpha=0.8, color=mgreen)\n",
    "__=ax.hist(new_magr_z0p75, bins=magr_bins, alpha=0.8, color=morange)\n",
    "__=ax.hist(new_magr_z1p0, bins=magr_bins, alpha=0.8, color=mred)\n",
    "__=ax.hist(magr, bins=magr_bins, alpha=0.8, color=mpurple)\n",
    "\n",
    "xlim = ax.set_xlim(-5, -25)\n",
    "ylim = ax.set_ylim(1, 1e7)\n",
    "\n",
    "xlabel = ax.set_xlabel(r'${\\rm M_r}$')"
   ]
  },
  {
   "cell_type": "code",
   "execution_count": 24,
   "metadata": {},
   "outputs": [
    {
     "data": {
      "text/plain": [
       "9.935691854137334"
      ]
     },
     "execution_count": 24,
     "metadata": {},
     "output_type": "execute_result"
    }
   ],
   "source": [
    "len(new_magr)/float(len(magr))"
   ]
  },
  {
   "cell_type": "code",
   "execution_count": null,
   "metadata": {},
   "outputs": [],
   "source": []
  },
  {
   "cell_type": "code",
   "execution_count": null,
   "metadata": {},
   "outputs": [],
   "source": [
    "from scipy.stats import binned_statistic\n",
    "logmpeak_bins = np.linspace(10, 14.5, 30)\n",
    "logmpeak_mids = 0.5*(logmpeak_bins[:-1] + logmpeak_bins[1:])\n",
    "median_logsm, __, __ = binned_statistic(np.log10(mpeak), np.log10(mstar), bins=logmpeak_bins, statistic='median')\n",
    "\n",
    "\n",
    "\n",
    "mask = (mpeak > 10**11) & (mpeak < 10**11.5)\n",
    "mask2 = (mpeak > 10**11) & (mpeak < 10**12)\n",
    "x = np.random.normal(loc=np.log10(mpeak[mask]), scale=0.002)\n",
    "y = np.log10(mstar[mask])\n",
    "c1, c0 = np.polyfit(x, y, deg=1)\n",
    "x2 = np.random.normal(loc=np.log10(mpeak[mask2]), scale=0.002)\n",
    "y2 = np.log10(mstar[mask2])\n",
    "b1, b0 = np.polyfit(x2, y2, deg=1)\n",
    "\n",
    "fig, ax = plt.subplots(1, 1)\n",
    "__=ax.scatter(np.log10(mpeak)[::300], np.log10(mstar)[::300], s=0.1)\n",
    "xarr = np.linspace(10, 12, 100)\n",
    "__=ax.plot(xarr, c0 + c1*xarr, color=mpurple)\n",
    "__=ax.plot(xarr, b0 + b1*xarr, color=mgreen)\n",
    "\n",
    "__=ax.plot(logmpeak_mids, median_logsm, color=mred)\n",
    "xlim = ax.set_xlim(10, 12)"
   ]
  },
  {
   "cell_type": "code",
   "execution_count": null,
   "metadata": {},
   "outputs": [],
   "source": [
    "low, high = 11, 11.5\n",
    "mid = 0.5*(low + high)\n",
    "mask = (mpeak >= 10**low) & (mpeak < 10**high)\n",
    "c1, c0 = np.polyfit(\n",
    "    np.random.normal(loc=np.log10(mpeak[mask])-mid, scale=0.002), np.log10(mstar[mask]), deg=1)\n",
    "\n",
    "new_median_logsm = c0 + c1*(np.log10(mpeak)-mid)\n",
    "new_mstar_lowmass = 10**np.random.normal(loc=new_median_logsm, scale=0.2)\n",
    "\n",
    "fig, ax = plt.subplots(1, 1)\n",
    "\n",
    "_x = np.random.normal(loc=np.log10(mpeak), scale=0.03)\n",
    "__=ax.scatter(_x[::300], np.log10(mstar)[::300], s=0.1, color='gray')\n",
    "xarr = np.linspace(9.75, 12, 100)\n",
    "\n",
    "__=ax.plot(xarr, c0 + c1*(xarr-mid), color=mred)\n",
    "__=ax.plot(xarr, c0 + (c1 - 0.5)*(xarr-mid), color=morange)\n",
    "\n",
    "# __=ax.plot(logmpeak_mids, median_logsm, color=mred)\n",
    "\n",
    "xlim = ax.set_xlim(9.75, 12)\n",
    "ylim = ax.set_ylim(5, 11)\n"
   ]
  },
  {
   "cell_type": "code",
   "execution_count": null,
   "metadata": {},
   "outputs": [],
   "source": [
    "low, high = 11, 11.5\n",
    "mid = 0.5*(low + high)\n",
    "mask = (mpeak >= 10**low) & (mpeak < 10**high)\n",
    "c1, c0 = np.polyfit(\n",
    "    np.random.normal(loc=np.log10(mpeak[mask])-mid, scale=0.002), np.log10(mstar[mask]), deg=1)\n",
    "\n",
    "low_mass_slope_boost = 0.5\n",
    "new_median_logsm = c0 + (c1-low_mass_slope_boost)*(np.log10(mpeak)-mid)\n",
    "new_mstar_lowmass = 10**np.random.normal(loc=new_median_logsm, scale=0.2)\n",
    "\n",
    "\n",
    "logmtrans_low, logmtrans_high = 10.8, 11.2\n",
    "reassign_mstar_prob = np.interp(np.log10(mpeak), [logmtrans_low, logmtrans_high], [1, 0])\n",
    "reassign_mstar_mask = np.random.rand(len(mpeak)) < reassign_mstar_prob\n",
    "new_mstar = np.copy(mstar)\n",
    "new_mstar[reassign_mstar_mask] = new_mstar_lowmass[reassign_mstar_mask]\n",
    "\n",
    "from scipy.stats import binned_statistic\n",
    "logmpeak_bins = np.linspace(10, 14.5, 30)\n",
    "logmpeak_mids = 0.5*(logmpeak_bins[:-1] + logmpeak_bins[1:])\n",
    "median_logsm, __, __ = binned_statistic(\n",
    "    np.log10(mpeak), np.log10(mstar), bins=logmpeak_bins, statistic='median')\n",
    "median_new_logsm, __, __ = binned_statistic(\n",
    "    np.log10(mpeak), np.log10(new_mstar), bins=logmpeak_bins, statistic='median')\n",
    "\n",
    "\n",
    "fig, ax = plt.subplots(1, 1)\n",
    "\n",
    "_x = np.random.normal(loc=np.log10(mpeak), scale=0.03)\n",
    "__=ax.scatter(_x[::300], np.log10(mstar)[::300], s=0.1, color='gray')\n",
    "__=ax.scatter(_x[::300], np.log10(new_mstar)[::300], s=0.1, color=mred)\n",
    "\n",
    "__=ax.plot(logmpeak_mids, median_logsm, color='k')\n",
    "__=ax.plot(logmpeak_mids, median_new_logsm, '--', color='k')\n",
    "\n",
    "xlim = ax.set_xlim(9.75, 13)\n",
    "xlabel = ax.set_xlabel(r'${\\log M_{\\rm peak}}$')\n",
    "ylabel = ax.set_ylabel(r'${\\log M_{\\star}}$')\n",
    "\n"
   ]
  },
  {
   "cell_type": "code",
   "execution_count": null,
   "metadata": {},
   "outputs": [],
   "source": []
  },
  {
   "cell_type": "code",
   "execution_count": null,
   "metadata": {},
   "outputs": [],
   "source": [
    "from cosmodc2.synthetic_subhalos import model_extended_mpeak\n",
    "corrected_mpeak, mpeak_extension = model_extended_mpeak(mpeak, 9.75)\n",
    "\n",
    "from cosmodc2.stellar_mass_remapping import remap_stellar_mass_in_snapshot\n",
    "new_real_mstar = remap_stellar_mass_in_snapshot(1., corrected_mpeak, mstar)\n",
    "\n",
    "mask = (mpeak > 10**11) & (mpeak < 10**11.25)\n",
    "x = np.log10(mpeak[mask]) + + np.random.normal(loc=0, scale=0.0025, size=np.count_nonzero(mask))\n",
    "y = np.log10(mstar[mask]) \n",
    "c1, c0 = np.polyfit(x, y, deg=1)\n",
    "\n",
    "new_mstar_extension = 10**np.random.normal(loc=(c0 + c1*np.log10(mpeak_extension)), scale=0.1)\n",
    "new_mstar = np.concatenate((new_real_mstar, new_mstar_extension))"
   ]
  },
  {
   "cell_type": "code",
   "execution_count": null,
   "metadata": {},
   "outputs": [],
   "source": []
  },
  {
   "cell_type": "code",
   "execution_count": null,
   "metadata": {},
   "outputs": [],
   "source": []
  },
  {
   "cell_type": "code",
   "execution_count": null,
   "metadata": {},
   "outputs": [],
   "source": []
  },
  {
   "cell_type": "code",
   "execution_count": null,
   "metadata": {},
   "outputs": [],
   "source": []
  },
  {
   "cell_type": "code",
   "execution_count": null,
   "metadata": {},
   "outputs": [],
   "source": []
  },
  {
   "cell_type": "code",
   "execution_count": null,
   "metadata": {},
   "outputs": [],
   "source": []
  },
  {
   "cell_type": "code",
   "execution_count": null,
   "metadata": {},
   "outputs": [],
   "source": []
  },
  {
   "cell_type": "code",
   "execution_count": null,
   "metadata": {},
   "outputs": [],
   "source": []
  },
  {
   "cell_type": "code",
   "execution_count": null,
   "metadata": {},
   "outputs": [],
   "source": []
  }
 ],
 "metadata": {
  "kernelspec": {
   "display_name": "Python [conda root]",
   "language": "python",
   "name": "conda-root-py"
  },
  "language_info": {
   "codemirror_mode": {
    "name": "ipython",
    "version": 2
   },
   "file_extension": ".py",
   "mimetype": "text/x-python",
   "name": "python",
   "nbconvert_exporter": "python",
   "pygments_lexer": "ipython2",
   "version": "2.7.14"
  }
 },
 "nbformat": 4,
 "nbformat_minor": 2
}
