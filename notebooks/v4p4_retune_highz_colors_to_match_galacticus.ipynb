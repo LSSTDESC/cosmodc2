{
 "cells": [
  {
   "cell_type": "code",
   "execution_count": 1,
   "metadata": {},
   "outputs": [],
   "source": [
    "%matplotlib inline\n",
    "\n",
    "morange = u'#ff7f0e'\n",
    "mblue = u'#1f77b4'\n",
    "mgreen = u'#2ca02c'\n",
    "mred = u'#d62728'\n",
    "mpurple = u'#9467bd'\n"
   ]
  },
  {
   "cell_type": "code",
   "execution_count": 2,
   "metadata": {},
   "outputs": [
    {
     "name": "stderr",
     "output_type": "stream",
     "text": [
      "/Users/aphearin/anaconda/lib/python2.7/site-packages/h5py/__init__.py:36: FutureWarning: Conversion of the second argument of issubdtype from `float` to `np.floating` is deprecated. In future, it will be treated as `np.float64 == np.dtype(float).type`.\n",
      "  from ._conv import register_converters as _register_converters\n"
     ]
    },
    {
     "name": "stdout",
     "output_type": "stream",
     "text": [
      "['isCentral', 'redshift', 'hostHaloMass', 'blackHoleMass', 'totalMassStellar', 'mag_u_rest', 'mag_u_obs', 'mag_g_rest', 'mag_g_obs', 'mag_r_rest', 'mag_r_obs', 'mag_i_rest', 'mag_i_obs', 'mag_z_rest', 'mag_z_obs']\n"
     ]
    }
   ],
   "source": [
    "simdisk_dirname = \"/Volumes/simulation_data_2018/reduced_snaps_v2\"\n",
    "nersc_dirname = \"/global/u1/a/aphearin/reduced_galacticus_snaps\"\n",
    "import os\n",
    "fname = os.path.join(simdisk_dirname, \"reduced_259_magr-16.hdf5\")\n",
    "\n",
    "from astropy.table import Table\n",
    "pdc2_v2_z1_snap = Table.read(fname, path='data')\n",
    "print(pdc2_v2_z1_snap.keys())"
   ]
  },
  {
   "cell_type": "code",
   "execution_count": null,
   "metadata": {},
   "outputs": [],
   "source": []
  },
  {
   "cell_type": "code",
   "execution_count": 3,
   "metadata": {},
   "outputs": [
    {
     "name": "stdout",
     "output_type": "stream",
     "text": [
      "['source_halo_id', 'target_halo_id', 'target_halo_x', 'target_halo_y', 'target_halo_z', 'target_halo_vx', 'target_halo_vy', 'target_halo_vz', 'target_halo_mass', 'host_halo_mvir', 'upid', 'mpeak', 'host_centric_x', 'host_centric_y', 'host_centric_z', 'host_centric_vx', 'host_centric_vy', 'host_centric_vz', 'obs_sm', 'obs_sfr', 'sfr_percentile', 'um_mag_r_rest', 'um_gr_rest', 'um_ri_rest', 'is_on_red_sequence_gr', 'is_on_red_sequence_ri', 'x', 'vx', 'y', 'vy', 'z', 'vz', 'lightcone_id', 'redshift', 'um_mag_g_rest']\n"
     ]
    }
   ],
   "source": [
    "from cosmodc2.sdss_colors import load_umachine_processed_sdss_catalog\n",
    "sdss = load_umachine_processed_sdss_catalog()\n",
    "# print(sdss.keys())\n",
    "\n",
    "import os\n",
    "dirname = \"/Volumes/simulation_data_2018/protoDC2_v4\"\n",
    "basename_z0p00 = \"umachine_color_mock_v4_m000-499.hdf5\"\n",
    "basename_z0p25 = \"umachine_color_mock_v4_m000-392.hdf5\"\n",
    "basename_z0p50 = \"umachine_color_mock_v4_m000-331.hdf5\"\n",
    "basename_z0p75 = \"umachine_color_mock_v4_m000-286.hdf5\"\n",
    "basename_z1p00 = \"umachine_color_mock_v4_m000-253.hdf5\"\n",
    "\n",
    "redshift = 1.0\n",
    "if redshift == 0.0:\n",
    "    basename = basename_z0p00\n",
    "elif redshift == 0.25:\n",
    "    basename = basename_z0p25\n",
    "elif redshift == 0.5:\n",
    "    basename = basename_z0p50\n",
    "elif redshift == 0.75:\n",
    "    basename = basename_z0p75\n",
    "elif redshift == 1.0:\n",
    "    basename = basename_z1p00\n",
    "\n",
    "\n",
    "Lbox = 256.\n",
    "Lbox_physical = Lbox/(1. + redshift)\n",
    "Veff = Lbox_physical**3.\n",
    "\n",
    "\n",
    "fname = os.path.join(dirname, basename)\n",
    "\n",
    "from astropy.table import Table\n",
    "pdc2_v4p3 = Table.read(fname, path='data')\n",
    "pdc2_v4p3['redshift'] = redshift\n",
    "pdc2_v4p3.rename_column('restframe_extincted_sdss_abs_magr', 'um_mag_r_rest')\n",
    "pdc2_v4p3.rename_column('restframe_extincted_sdss_gr', 'um_gr_rest')\n",
    "pdc2_v4p3.rename_column('restframe_extincted_sdss_ri', 'um_ri_rest')\n",
    "pdc2_v4p3['um_mag_g_rest'] = pdc2_v4p3['um_gr_rest'] + pdc2_v4p3['um_mag_r_rest']\n",
    "\n",
    "print(pdc2_v4p3.keys())"
   ]
  },
  {
   "cell_type": "code",
   "execution_count": null,
   "metadata": {},
   "outputs": [],
   "source": []
  },
  {
   "cell_type": "code",
   "execution_count": 4,
   "metadata": {},
   "outputs": [],
   "source": [
    "from cosmodc2.sdss_colors import v4_paint_colors_onto_umachine_snaps_temp as reassign_colors\n",
    "\n",
    "result = reassign_colors(\n",
    "    pdc2_v4p3['mpeak'], pdc2_v4p3['obs_sm'], \n",
    "    pdc2_v4p3['upid'], pdc2_v4p3['redshift'], \n",
    "    pdc2_v4p3['sfr_percentile'], pdc2_v4p3['host_halo_mvir'])\n",
    "\n",
    "new_mstar, new_magr_rest, gr_mock, ri_mock, is_red_ri_mock, is_red_gr_mock = result\n",
    "pdc2_v4p3['new_mag_r_rest'] = new_magr_rest\n",
    "pdc2_v4p3['new_gr_rest'] = gr_mock\n",
    "pdc2_v4p3['new_ri_rest'] = ri_mock\n",
    "pdc2_v4p3['new_is_red_ri_mock'] = is_red_ri_mock\n",
    "pdc2_v4p3['new_is_red_gr_mock'] = is_red_gr_mock\n",
    "\n"
   ]
  },
  {
   "cell_type": "code",
   "execution_count": 5,
   "metadata": {},
   "outputs": [],
   "source": [
    "result = reassign_colors(\n",
    "    pdc2_v4p3['mpeak'], pdc2_v4p3['obs_sm'], \n",
    "    pdc2_v4p3['upid'], pdc2_v4p3['redshift'], \n",
    "    pdc2_v4p3['sfr_percentile'], pdc2_v4p3['host_halo_mvir'],\n",
    "    ms_peak_gr_zevol_shift_table=[0.0, -0.10, -0.15, -0.2],\n",
    "    ms_peak_gr = [0.65, 0.65, 0.6, 0.4, 0.4, 0.35],\n",
    "    red_peak_gr_zevol_shift_table=[0, -0.05, -0.15, -0.2],\n",
    "    ms_peak_ri_zevol_shift_table=[0.0, -0.05, -0.075, -0.1])\n",
    "\n",
    "new_mstar, new_magr_rest, gr_mock, ri_mock, is_red_ri_mock, is_red_gr_mock = result\n",
    "pdc2_v4p3['new2_mag_r_rest'] = new_magr_rest\n",
    "pdc2_v4p3['new2_gr_rest'] = gr_mock\n",
    "pdc2_v4p3['new2_ri_rest'] = ri_mock\n",
    "pdc2_v4p3['new2_is_red_ri_mock'] = is_red_ri_mock\n",
    "pdc2_v4p3['new2_is_red_gr_mock'] = is_red_gr_mock\n"
   ]
  },
  {
   "cell_type": "code",
   "execution_count": 6,
   "metadata": {},
   "outputs": [
    {
     "data": {
      "image/png": "[encoded data removed]",
      "text/plain": [
       "<matplotlib.figure.Figure at 0x11bcd8c50>"
      ]
     },
     "metadata": {},
     "output_type": "display_data"
    }
   ],
   "source": [
    "faint, bright = -22, -25\n",
    "\n",
    "\n",
    "v2_mask = (pdc2_v2_z1_snap['mag_r_rest'] < faint)\n",
    "v2_mask *= (pdc2_v2_z1_snap['mag_r_rest'] >= bright)\n",
    "\n",
    "mask0 = (pdc2_v4p3['um_mag_r_rest'] < faint)\n",
    "mask0 *= (pdc2_v4p3['um_mag_r_rest'] >= bright)\n",
    "\n",
    "mask1 = (pdc2_v4p3['new_mag_r_rest'] < faint)\n",
    "mask1 *= (pdc2_v4p3['new_mag_r_rest'] >= bright)\n",
    "\n",
    "# mask2 = (pdc2_v4p3['new2_mag_r_rest'] < faint)\n",
    "# mask2 *= (pdc2_v4p3['new2_mag_r_rest'] >= bright)\n",
    "\n",
    "fig, (ax1, ax2) = plt.subplots(1, 2, figsize=(10, 4))\n",
    "\n",
    "gr_bins = np.linspace(-0.5, 1.25, 50)\n",
    "ri_bins = np.linspace(-0.5, 0.75, 50)\n",
    "\n",
    "__=ax1.hist(pdc2_v2_z1_snap['mag_g_rest'][v2_mask]-pdc2_v2_z1_snap['mag_r_rest'][v2_mask], \n",
    "           normed=True, bins=gr_bins, alpha=0.8, label=r'${\\rm v2}$', color='gray')\n",
    "# __=ax1.hist(pdc2_v4p3['um_gr_rest'][mask0], \n",
    "#            normed=True, bins=gr_bins, alpha=0.8, label=r'${\\rm v4.3}$', color=morange)\n",
    "# __=ax1.hist(pdc2_v4p3['new_gr_rest'][mask1], normed=True, bins=gr_bins, \n",
    "#            alpha=0.8, label=r'${\\rm v4.4}$', color=mblue)\n",
    "__=ax1.hist(pdc2_v4p3['new2_gr_rest'][mask1], normed=True, bins=gr_bins, \n",
    "           alpha=0.8, label=r'${\\rm v4.4b}$', color=mgreen)\n",
    "\n",
    "__=ax2.hist(pdc2_v2_z1_snap['mag_r_rest'][v2_mask]-pdc2_v2_z1_snap['mag_i_rest'][v2_mask], \n",
    "           normed=True, bins=ri_bins, alpha=0.8, label=r'${\\rm v2}$', color='gray')\n",
    "# __=ax2.hist(pdc2_v4p3['um_ri_rest'][mask0], \n",
    "#            normed=True, bins=ri_bins, alpha=0.8, label=r'${\\rm v4.3}$', color=morange)\n",
    "# __=ax2.hist(pdc2_v4p3['new_ri_rest'][mask1], normed=True, bins=ri_bins, \n",
    "#            alpha=0.8, label=r'${\\rm v4.4}$', color=mblue)\n",
    "__=ax2.hist(pdc2_v4p3['new2_ri_rest'][mask1], normed=True, bins=ri_bins, \n",
    "           alpha=0.8, label=r'${\\rm v4.4b}$', color=mgreen)\n",
    "\n",
    "leg1 = ax1.legend()\n",
    "leg2 = ax2.legend()\n",
    "\n",
    "xlim1 = ax1.set_xlim(-0.5, 1.1)\n",
    "xlim2 = ax2.set_xlim(-0.5, 0.75)\n",
    "ylim1 = ax1.set_ylim(0, 5)\n",
    "ylim2 = ax2.set_ylim(0, 8)\n",
    "\n",
    "xlabel1 = ax1.set_xlabel(r'${\\rm g-r}$')\n",
    "xlabel2 = ax2.set_xlabel(r'${\\rm r-i}$')"
   ]
  },
  {
   "cell_type": "code",
   "execution_count": null,
   "metadata": {},
   "outputs": [],
   "source": []
  },
  {
   "cell_type": "code",
   "execution_count": null,
   "metadata": {},
   "outputs": [],
   "source": []
  },
  {
   "cell_type": "code",
   "execution_count": null,
   "metadata": {},
   "outputs": [],
   "source": []
  },
  {
   "cell_type": "code",
   "execution_count": null,
   "metadata": {},
   "outputs": [],
   "source": []
  },
  {
   "cell_type": "code",
   "execution_count": null,
   "metadata": {},
   "outputs": [],
   "source": []
  },
  {
   "cell_type": "code",
   "execution_count": null,
   "metadata": {},
   "outputs": [],
   "source": []
  },
  {
   "cell_type": "code",
   "execution_count": null,
   "metadata": {},
   "outputs": [],
   "source": []
  },
  {
   "cell_type": "code",
   "execution_count": null,
   "metadata": {},
   "outputs": [],
   "source": [
    "# from cosmodc2.sdss_colors.analytical_colors import r_minus_i\n",
    "# from cosmodc2.sdss_colors.analytical_colors import g_minus_r\n",
    "\n",
    "# ri, is_red_ri = r_minus_i(pdc2_v4p3['um_restframe_extincted_sdss_abs_magr'], \n",
    "#                           pdc2_v4p3['redshift'])\n",
    "# gr, is_red_gr = g_minus_r(pdc2_v4p3['um_restframe_extincted_sdss_abs_magr'], \n",
    "#                pdc2_v4p3['redshift'])"
   ]
  },
  {
   "cell_type": "code",
   "execution_count": null,
   "metadata": {},
   "outputs": [],
   "source": []
  },
  {
   "cell_type": "code",
   "execution_count": null,
   "metadata": {},
   "outputs": [],
   "source": [
    "zlo, zhi = 0.85, 0.95\n",
    "zmask = (pdc2_v4p3['redshift'] < zhi) & (pdc2_v4p3['redshift'] >= zlo)\n",
    "\n",
    "galacticus_mock = pdc2_v2_z1_snap\n",
    "\n",
    "fig, _axes = plt.subplots(2, 2, figsize=(10, 8))\n",
    "((ax1, ax2), (ax3, ax4)) = _axes\n",
    "axes = ax1, ax2, ax3, ax4\n",
    "\n",
    "gr_bins = np.linspace(-0.25, 1, 150)\n",
    "ri_bins = np.linspace(-0.25, 1, 150)\n",
    "\n",
    "###  Upper left panel\n",
    "faint, bright = -18.5, -19.5\n",
    "abs_r_mask = (galacticus_mock['mag_r_rest'] < faint) & (galacticus_mock['mag_r_rest'] >= bright)\n",
    "abs_r_mask2 = (pdc2_v4p3['mag_r_rest'] < faint) & (pdc2_v4p3['mag_r_rest'] >= bright)\n",
    "abs_r_mask3 = (pdc2_v4p3['new_mag_r_rest'] < faint) & (pdc2_v4p3['new_mag_r_rest'] >= bright)\n",
    "\n",
    "__=ax1.hist(galacticus_mock['mag_g_rest'][abs_r_mask]-\n",
    "            galacticus_mock['mag_r_rest'][abs_r_mask], \n",
    "            bins=gr_bins, normed=True, alpha=0.8, label=r'${\\rm protoDC2\\ v2}$')\n",
    "__=ax1.hist(pdc2_v4p3['mag_g_rest'][abs_r_mask2 & zmask]-\n",
    "            pdc2_v4p3['mag_r_rest'][abs_r_mask2& zmask], \n",
    "            bins=gr_bins, normed=True, alpha=0.8, label=r'${\\rm protoDC2\\ v4.3}$')\n",
    "__=ax1.hist(pdc2_v4p3['new_gr_rest'][abs_r_mask3 & zmask], \n",
    "            bins=gr_bins, normed=True, alpha=0.8, label=r'${\\rm protoDC2\\ v4.4}$')\n",
    "\n",
    "###  Upper right panel\n",
    "faint, bright = -19.5, -20.5\n",
    "abs_r_mask = (galacticus_mock['mag_r_rest'] < faint)\n",
    "abs_r_mask *= (galacticus_mock['mag_r_rest'] >= bright)\n",
    "abs_r_mask2 = (pdc2_v4p3['mag_r_rest'] < faint) & (pdc2_v4p3['mag_r_rest'] >= bright)\n",
    "abs_r_mask3 = (pdc2_v4p3['new_mag_r_rest'] < faint) & (pdc2_v4p3['new_mag_r_rest'] >= bright)\n",
    "\n",
    "__=ax2.hist(galacticus_mock['mag_g_rest'][abs_r_mask]-\n",
    "            galacticus_mock['mag_r_rest'][abs_r_mask], \n",
    "            bins=gr_bins, normed=True, alpha=0.8, label=r'${\\rm protoDC2\\ v2}$')\n",
    "__=ax2.hist(pdc2_v4p3['mag_g_rest'][abs_r_mask2 & zmask]-\n",
    "            pdc2_v4p3['mag_r_rest'][abs_r_mask2 & zmask], \n",
    "            bins=gr_bins, normed=True, alpha=0.8, label=r'${\\rm protoDC2\\ v4.3}$')\n",
    "__=ax2.hist(pdc2_v4p3['new_gr_rest'][abs_r_mask3], \n",
    "            bins=gr_bins, normed=True, alpha=0.8, label=r'${\\rm protoDC2\\ v4.4}$')\n",
    "\n",
    "###  Lower right panel\n",
    "faint, bright = -20.5, -21.5\n",
    "abs_r_mask = (galacticus_mock['mag_r_rest'] < faint)\n",
    "abs_r_mask *= (galacticus_mock['mag_r_rest'] >= bright)\n",
    "abs_r_mask2 = (pdc2_v4p3['mag_r_rest'] < faint) & (pdc2_v4p3['mag_r_rest'] >= bright)\n",
    "abs_r_mask3 = (pdc2_v4p3['new_mag_r_rest'] < faint) & (pdc2_v4p3['new_mag_r_rest'] >= bright)\n",
    "__=ax3.hist(galacticus_mock['mag_g_rest'][abs_r_mask]-\n",
    "            galacticus_mock['mag_r_rest'][abs_r_mask], \n",
    "            bins=gr_bins, normed=True, alpha=0.8, label=r'${\\rm protoDC2\\ v2}$')\n",
    "__=ax3.hist(pdc2_v4p3['mag_g_rest'][abs_r_mask2 & zmask]-\n",
    "            pdc2_v4p3['mag_r_rest'][abs_r_mask2 & zmask], \n",
    "            bins=gr_bins, normed=True, alpha=0.8, label=r'${\\rm protoDC2\\ v4.3}$')\n",
    "__=ax3.hist(pdc2_v4p3['new_gr_rest'][abs_r_mask3 & zmask], \n",
    "            bins=gr_bins, normed=True, alpha=0.8, label=r'${\\rm protoDC2\\ v4.4}$')\n",
    "\n",
    "\n",
    "###  Lower right panel\n",
    "faint, bright = -21.5, -np.inf\n",
    "abs_r_mask = (galacticus_mock['mag_r_rest'] < faint)\n",
    "abs_r_mask *= (galacticus_mock['mag_r_rest'] >= bright)\n",
    "abs_r_mask2 = (pdc2_v4p3['mag_r_rest'] < faint) & (pdc2_v4p3['mag_r_rest'] >= bright)\n",
    "abs_r_mask3 = (pdc2_v4p3['new_mag_r_rest'] < faint) & (pdc2_v4p3['new_mag_r_rest'] >= bright)\n",
    "__=ax4.hist(galacticus_mock['mag_g_rest'][abs_r_mask]-\n",
    "            galacticus_mock['mag_r_rest'][abs_r_mask], \n",
    "            bins=gr_bins, normed=True, alpha=0.8, label=r'${\\rm protoDC2\\ v2}$')\n",
    "__=ax4.hist(pdc2_v4p3['mag_g_rest'][abs_r_mask2 & zmask]-\n",
    "            pdc2_v4p3['mag_r_rest'][abs_r_mask2 & zmask], \n",
    "            bins=gr_bins, normed=True, alpha=0.8, label=r'${\\rm protoDC2\\ v4.3}$')\n",
    "__=ax4.hist(pdc2_v4p3['new_gr_rest'][abs_r_mask3 & zmask], \n",
    "            bins=gr_bins, normed=True, alpha=0.8, label=r'${\\rm protoDC2\\ v4.4}$')\n",
    "\n",
    "leg1 = ax1.legend()\n",
    "leg2 = ax2.legend()\n",
    "leg3 = ax3.legend()\n",
    "leg4 = ax4.legend()\n",
    "\n",
    "title1 = ax1.set_title(r'${\\rm z=0.9}; -18.5 < M_{\\rm r} < -19.5$')\n",
    "title2 = ax2.set_title(r'${\\rm z=0.9}; -19.5 < M_{\\rm r} < -20.5$')\n",
    "title3 = ax3.set_title(r'${\\rm z=0.9}; -20.5 < M_{\\rm r} < -21.5$')\n",
    "title4 = ax4.set_title(r'${\\rm z=0.9}; M_{\\rm r} < -21.5$')\n",
    "\n",
    "\n",
    "xlabel1 = ax1.set_xlabel(r'${\\rm g-r\\ (restframe)}$')\n",
    "xlabel2 = ax2.set_xlabel(r'${\\rm g-r\\ (restframe)}$')\n",
    "xlabel3 = ax3.set_xlabel(r'${\\rm g-r\\ (restframe)}$')\n",
    "xlabel4 = ax4.set_xlabel(r'${\\rm g-r\\ (restframe)}$')\n",
    "\n",
    "ylabel1 = ax1.set_ylabel(r'${\\rm PDF}$')\n",
    "ylabel3 = ax3.set_ylabel(r'${\\rm PDF}$')\n",
    "\n",
    "ylim1 = ax1.set_ylim(0, 7)\n",
    "ylim2 = ax2.set_ylim(0, 7)\n",
    "ylim3 = ax3.set_ylim(0, 6)\n",
    "# ylim4 = ax4.set_ylim(0, 13)\n",
    "\n",
    "xmin, xmax = -0.25, 1.1\n",
    "xlim1 = ax1.set_xlim(xmin, xmax)\n",
    "xlim2 = ax2.set_xlim(xmin, xmax)\n",
    "xlim3 = ax3.set_xlim(xmin, xmax)\n",
    "xlim4 = ax4.set_xlim(xmin, xmax)\n",
    "\n",
    "plt.subplots_adjust(hspace=0.5)\n"
   ]
  },
  {
   "cell_type": "code",
   "execution_count": null,
   "metadata": {},
   "outputs": [],
   "source": []
  },
  {
   "cell_type": "code",
   "execution_count": null,
   "metadata": {},
   "outputs": [],
   "source": []
  },
  {
   "cell_type": "code",
   "execution_count": null,
   "metadata": {},
   "outputs": [],
   "source": []
  },
  {
   "cell_type": "code",
   "execution_count": null,
   "metadata": {},
   "outputs": [],
   "source": []
  },
  {
   "cell_type": "code",
   "execution_count": null,
   "metadata": {},
   "outputs": [],
   "source": [
    "faint, bright = -19.5, -20.5\n",
    "abs_r_mask3 = (pdc2_v4p3['new_mag_r_rest'] < faint)\n",
    "abs_r_mask3 *= (pdc2_v4p3['new_mag_r_rest'] >= bright)\n",
    "\n",
    "zlo, zhi = 0., 0.25\n",
    "zmask = (pdc2_v4p3['redshift'] < zhi) & (pdc2_v4p3['redshift'] >= zlo)\n",
    "\n",
    "mask = abs_r_mask3 & zmask\n",
    "num_red = np.count_nonzero(mask & is_red_gr_mock)\n",
    "num_total = np.count_nonzero(mask)\n",
    "print(\"Red fraction = {0:.2f}\".format(num_red/float(num_total)))\n",
    "\n",
    "# cluster_mask = pdc2_v4p3['um_host_halo_mvir'] > 10**13.5\n",
    "# num_cluster_red = np.count_nonzero(mask & is_red_gr_mock & cluster_mask)\n",
    "# num_total_cluster = np.count_nonzero(mask & cluster_mask)\n",
    "# print(\"Cluster red fraction = {0:.2f}\".format(num_cluster_red/float(num_total_cluster)))\n",
    "\n",
    "gr_bins = np.linspace(-0.25, 1, 150)\n",
    "\n",
    "fig, ax = plt.subplots(1, 1)\n",
    "\n",
    "__=ax.hist(pdc2_v4p3['new_gr_rest'][abs_r_mask3 & zmask], \n",
    "            bins=gr_bins, normed=True, alpha=0.8, label=r'${\\rm protoDC2\\ v4.4}$')\n",
    "\n",
    "__=ax.hist(pdc2_v4p3['new_gr_rest'][abs_r_mask3 & zmask & is_red_gr_mock], \n",
    "            bins=gr_bins, normed=True, alpha=0.8, label=r'${\\rm protoDC2\\ v4.4}$')\n",
    "\n",
    "__=ax.hist(pdc2_v4p3['new_gr_rest'][abs_r_mask3 & zmask & ~is_red_gr_mock], \n",
    "            bins=gr_bins, normed=True, alpha=0.8, label=r'${\\rm protoDC2\\ v4.4}$')\n"
   ]
  },
  {
   "cell_type": "code",
   "execution_count": null,
   "metadata": {},
   "outputs": [],
   "source": []
  },
  {
   "cell_type": "code",
   "execution_count": null,
   "metadata": {},
   "outputs": [],
   "source": [
    "print(pdc2_v4p3.keys())"
   ]
  },
  {
   "cell_type": "code",
   "execution_count": null,
   "metadata": {},
   "outputs": [],
   "source": [
    "faint, bright = -21.5, -np.inf\n",
    "abs_r_mask2 = (pdc2_v4p3['mag_r_rest'] < faint) & (pdc2_v4p3['mag_r_rest'] >= bright)\n",
    "\n",
    "zlo, zhi = 0., 0.25\n",
    "zmask = (pdc2_v4p3['redshift'] < zhi) & (pdc2_v4p3['redshift'] >= zlo)\n",
    "\n",
    "is_red_mask = pdc2_v4p3['um_is_on_red_sequence_gr'] == True\n",
    "\n",
    "mask = abs_r_mask2 & zmask\n",
    "num_red = np.count_nonzero(mask & is_red_mask)\n",
    "num_total = np.count_nonzero(mask)\n",
    "print(\"Red fraction = {0:.2f}\".format(num_red/float(num_total)))\n",
    "\n",
    "cluster_mask = pdc2_v4p3['um_host_halo_mvir'] > 10**14\n",
    "num_cluster_red = np.count_nonzero(mask & is_red_mask & cluster_mask)\n",
    "num_total_cluster = np.count_nonzero(mask & cluster_mask)\n",
    "print(\"Cluster red fraction = {0:.2f}\".format(num_cluster_red/float(num_total_cluster)))\n",
    "\n",
    "# gr_bins = np.linspace(-0.25, 1, 150)\n",
    "\n",
    "# fig, ax = plt.subplots(1, 1)\n",
    "\n",
    "# __=ax.hist(pdc2_v4p3['new_gr_rest'][abs_r_mask3 & zmask], \n",
    "#             bins=gr_bins, normed=True, alpha=0.8, label=r'${\\rm protoDC2\\ v4.4}$')\n",
    "\n",
    "# __=ax.hist(pdc2_v4p3['new_gr_rest'][abs_r_mask3 & zmask & is_red_gr_mock], \n",
    "#             bins=gr_bins, normed=True, alpha=0.8, label=r'${\\rm protoDC2\\ v4.4}$')\n",
    "\n",
    "# __=ax.hist(pdc2_v4p3['new_gr_rest'][abs_r_mask3 & zmask & ~is_red_gr_mock], \n",
    "#             bins=gr_bins, normed=True, alpha=0.8, label=r'${\\rm protoDC2\\ v4.4}$')\n"
   ]
  },
  {
   "cell_type": "code",
   "execution_count": null,
   "metadata": {},
   "outputs": [],
   "source": []
  },
  {
   "cell_type": "code",
   "execution_count": null,
   "metadata": {},
   "outputs": [],
   "source": [
    "print(pdc2_v4p3.keys())"
   ]
  },
  {
   "cell_type": "code",
   "execution_count": null,
   "metadata": {},
   "outputs": [],
   "source": [
    "zlo, zhi = 0., 0.3\n",
    "\n",
    "zmask = (pdc2_v4p3['redshift'] < zhi) & (pdc2_v4p3['redshift'] >= zlo)\n",
    "\n",
    "cluster_mask = pdc2_v4p3['um_host_halo_mvir'] > 10**13.75\n",
    "\n",
    "cenmask = pdc2_v4p3['um_upid'] == -1\n",
    "\n",
    "fig, ax = plt.subplots(1, 1)\n",
    "\n",
    "magr_bins = np.linspace(-25, -16, 30)\n",
    "__=ax.hist(pdc2_v4p3['um_restframe_extincted_sdss_abs_magr'][zmask], \n",
    "          normed=True, bins=magr_bins, alpha=0.8, label=r'${\\rm all\\ galaxies}$')\n",
    "# __=ax.hist(pdc2_v4p3['um_restframe_extincted_sdss_abs_magr'][zmask & cluster_mask], \n",
    "#           normed=True, bins=magr_bins, alpha=0.8)\n",
    "__=ax.hist(pdc2_v4p3['um_restframe_extincted_sdss_abs_magr'][zmask & cluster_mask & cenmask], \n",
    "          normed=True, bins=magr_bins, alpha=0.8, label=r'${\\rm cluster\\ centrals}$')\n",
    "__=ax.hist(pdc2_v4p3['um_restframe_extincted_sdss_abs_magr'][zmask & cluster_mask & ~cenmask], \n",
    "          normed=True, bins=magr_bins, alpha=0.8, label=r'${\\rm cluster\\ satellites}$')\n",
    "\n",
    "xlim = ax.set_xlim(-15, -25)\n",
    "xlabel = ax.set_xlabel(r'${\\rm M_r}$')\n",
    "ylabel = ax.set_ylabel(r'${\\rm PDF}$')\n",
    "legend = ax.legend()\n",
    "title = ax.set_title(r'${\\rm 0 < z < 0.3}$')\n",
    "\n",
    "figname = '_cluster_lf_v4p3_eli_test.png'\n",
    "fig.savefig(figname, bbox_extra_artists=[xlabel, ylabel], bbox_inches='tight')"
   ]
  },
  {
   "cell_type": "code",
   "execution_count": null,
   "metadata": {},
   "outputs": [],
   "source": [
    "pwd"
   ]
  },
  {
   "cell_type": "code",
   "execution_count": null,
   "metadata": {},
   "outputs": [],
   "source": []
  }
 ],
 "metadata": {
  "kernelspec": {
   "display_name": "Python [conda root]",
   "language": "python",
   "name": "conda-root-py"
  },
  "language_info": {
   "codemirror_mode": {
    "name": "ipython",
    "version": 2
   },
   "file_extension": ".py",
   "mimetype": "text/x-python",
   "name": "python",
   "nbconvert_exporter": "python",
   "pygments_lexer": "ipython2",
   "version": "2.7.14"
  }
 },
 "nbformat": 4,
 "nbformat_minor": 2
}
